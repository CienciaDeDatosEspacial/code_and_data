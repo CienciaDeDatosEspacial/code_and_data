{
 "cells": [
  {
   "cell_type": "markdown",
   "id": "402943b1",
   "metadata": {},
   "source": [
    "<center><img src=\"https://i.imgur.com/zRrFdsf.png\" width=\"700\"></center>\n",
    "\n",
    "\n",
    "# Formatting Data (dates)\n",
    "\n",
    "It is very common to find dates (some combination of year, month, day of week and time) in data that is collected in real time (and other that organize event information.\n",
    "\n",
    "Let's see a data frame that comes with dates from an API."
   ]
  },
  {
   "cell_type": "code",
   "execution_count": 1,
   "id": "75f3c948",
   "metadata": {},
   "outputs": [
    {
     "name": "stderr",
     "output_type": "stream",
     "text": [
      "WARNING:root:Requests made without an app_token will be subject to strict throttling limits.\n"
     ]
    }
   ],
   "source": [
    "import pandas as pd\n",
    "from sodapy import Socrata\n",
    "\n",
    "client = Socrata(\"data.seattle.gov\", None)\n",
    "\n",
    "results = client.get(\"kzjm-xkqj\", limit=2000)\n",
    "\n",
    "# Convert to pandas DataFrame\n",
    "calls911 = pd.DataFrame.from_records(results)"
   ]
  },
  {
   "cell_type": "markdown",
   "id": "33d1b686",
   "metadata": {},
   "source": [
    "Let's check some information:"
   ]
  },
  {
   "cell_type": "code",
   "execution_count": 2,
   "id": "8b6e8130",
   "metadata": {},
   "outputs": [
    {
     "name": "stdout",
     "output_type": "stream",
     "text": [
      "<class 'pandas.core.frame.DataFrame'>\n",
      "RangeIndex: 2000 entries, 0 to 1999\n",
      "Data columns (total 12 columns):\n",
      " #   Column                       Non-Null Count  Dtype \n",
      "---  ------                       --------------  ----- \n",
      " 0   address                      2000 non-null   object\n",
      " 1   type                         2000 non-null   object\n",
      " 2   datetime                     2000 non-null   object\n",
      " 3   latitude                     1998 non-null   object\n",
      " 4   longitude                    1998 non-null   object\n",
      " 5   report_location              1998 non-null   object\n",
      " 6   incident_number              2000 non-null   object\n",
      " 7   :@computed_region_ru88_fbhk  1991 non-null   object\n",
      " 8   :@computed_region_kuhn_3gp2  1991 non-null   object\n",
      " 9   :@computed_region_q256_3sug  1998 non-null   object\n",
      " 10  :@computed_region_2day_rhn5  175 non-null    object\n",
      " 11  :@computed_region_cyqu_gs94  168 non-null    object\n",
      "dtypes: object(12)\n",
      "memory usage: 187.6+ KB\n"
     ]
    }
   ],
   "source": [
    "calls911.info()"
   ]
  },
  {
   "cell_type": "markdown",
   "id": "411ee94b",
   "metadata": {},
   "source": [
    "Let's get rid of some columns:"
   ]
  },
  {
   "cell_type": "code",
   "execution_count": 3,
   "id": "ff87b95f",
   "metadata": {},
   "outputs": [],
   "source": [
    "calls911=calls911.iloc[:,:7]"
   ]
  },
  {
   "cell_type": "markdown",
   "id": "ea1b71f9",
   "metadata": {},
   "source": [
    "Let's check the column _datetime_:"
   ]
  },
  {
   "cell_type": "code",
   "execution_count": 4,
   "id": "c61dade2",
   "metadata": {},
   "outputs": [
    {
     "data": {
      "text/plain": [
       "0    2023-03-13T14:24:00.000\n",
       "1    2023-03-13T14:21:00.000\n",
       "2    2023-03-13T14:18:00.000\n",
       "3    2023-03-13T14:13:00.000\n",
       "4    2023-03-13T14:10:00.000\n",
       "Name: datetime, dtype: object"
      ]
     },
     "execution_count": 4,
     "metadata": {},
     "output_type": "execute_result"
    }
   ],
   "source": [
    "calls911.datetime.head()"
   ]
  },
  {
   "cell_type": "code",
   "execution_count": 5,
   "id": "0685a26d",
   "metadata": {},
   "outputs": [
    {
     "data": {
      "text/plain": [
       "str"
      ]
     },
     "execution_count": 5,
     "metadata": {},
     "output_type": "execute_result"
    }
   ],
   "source": [
    "# then\n",
    "type(calls911.datetime[0])"
   ]
  },
  {
   "cell_type": "markdown",
   "id": "bf7e8e20",
   "metadata": {},
   "source": [
    "The date and time information is not useful at this time, that is, the information it offers is of limited use, as it is just a string. \n",
    "\n",
    "Let's make it useful:"
   ]
  },
  {
   "cell_type": "code",
   "execution_count": 6,
   "id": "3e232c75",
   "metadata": {
    "scrolled": true
   },
   "outputs": [
    {
     "name": "stdout",
     "output_type": "stream",
     "text": [
      "<class 'pandas.core.frame.DataFrame'>\n",
      "RangeIndex: 2000 entries, 0 to 1999\n",
      "Data columns (total 7 columns):\n",
      " #   Column           Non-Null Count  Dtype         \n",
      "---  ------           --------------  -----         \n",
      " 0   address          2000 non-null   object        \n",
      " 1   type             2000 non-null   object        \n",
      " 2   datetime         2000 non-null   datetime64[ns]\n",
      " 3   latitude         1998 non-null   object        \n",
      " 4   longitude        1998 non-null   object        \n",
      " 5   report_location  1998 non-null   object        \n",
      " 6   incident_number  2000 non-null   object        \n",
      "dtypes: datetime64[ns](1), object(6)\n",
      "memory usage: 109.5+ KB\n"
     ]
    }
   ],
   "source": [
    "calls911.datetime=pd.to_datetime(calls911.datetime,format='%Y-%m-%d')\n",
    "calls911.info()"
   ]
  },
  {
   "cell_type": "markdown",
   "id": "b90004bf",
   "metadata": {},
   "source": [
    "Once you have this data type, you can retrieve important information:"
   ]
  },
  {
   "cell_type": "code",
   "execution_count": 7,
   "id": "0d7637b8",
   "metadata": {},
   "outputs": [],
   "source": [
    "calls911['date']=calls911.datetime.dt.date\n",
    "calls911['year']=calls911.datetime.dt.year\n",
    "calls911['month']=calls911.datetime.dt.month\n",
    "calls911['month_name']=calls911.datetime.dt.month_name()\n",
    "calls911['day']=calls911.datetime.dt.day\n",
    "calls911['weekday']=calls911.datetime.dt.day_name()\n",
    "calls911['hour']=calls911.datetime.dt.hour\n",
    "calls911['minute']=calls911.datetime.dt.minute"
   ]
  },
  {
   "cell_type": "code",
   "execution_count": 8,
   "id": "6c1581d8",
   "metadata": {},
   "outputs": [
    {
     "data": {
      "text/html": [
       "<div>\n",
       "<style scoped>\n",
       "    .dataframe tbody tr th:only-of-type {\n",
       "        vertical-align: middle;\n",
       "    }\n",
       "\n",
       "    .dataframe tbody tr th {\n",
       "        vertical-align: top;\n",
       "    }\n",
       "\n",
       "    .dataframe thead th {\n",
       "        text-align: right;\n",
       "    }\n",
       "</style>\n",
       "<table border=\"1\" class=\"dataframe\">\n",
       "  <thead>\n",
       "    <tr style=\"text-align: right;\">\n",
       "      <th></th>\n",
       "      <th>address</th>\n",
       "      <th>type</th>\n",
       "      <th>datetime</th>\n",
       "      <th>latitude</th>\n",
       "      <th>longitude</th>\n",
       "      <th>report_location</th>\n",
       "      <th>incident_number</th>\n",
       "      <th>date</th>\n",
       "      <th>year</th>\n",
       "      <th>month</th>\n",
       "      <th>month_name</th>\n",
       "      <th>day</th>\n",
       "      <th>weekday</th>\n",
       "      <th>hour</th>\n",
       "      <th>minute</th>\n",
       "    </tr>\n",
       "  </thead>\n",
       "  <tbody>\n",
       "    <tr>\n",
       "      <th>0</th>\n",
       "      <td>509 3rd Ave</td>\n",
       "      <td>Aid Response</td>\n",
       "      <td>2023-03-13 14:24:00</td>\n",
       "      <td>47.602114</td>\n",
       "      <td>-122.330809</td>\n",
       "      <td>{'type': 'Point', 'coordinates': [-122.330809,...</td>\n",
       "      <td>F230031084</td>\n",
       "      <td>2023-03-13</td>\n",
       "      <td>2023</td>\n",
       "      <td>3</td>\n",
       "      <td>March</td>\n",
       "      <td>13</td>\n",
       "      <td>Monday</td>\n",
       "      <td>14</td>\n",
       "      <td>24</td>\n",
       "    </tr>\n",
       "    <tr>\n",
       "      <th>1</th>\n",
       "      <td>937 N 96th St</td>\n",
       "      <td>Aid Response</td>\n",
       "      <td>2023-03-13 14:21:00</td>\n",
       "      <td>47.698721</td>\n",
       "      <td>-122.34681</td>\n",
       "      <td>{'type': 'Point', 'coordinates': [-122.34681, ...</td>\n",
       "      <td>F230031083</td>\n",
       "      <td>2023-03-13</td>\n",
       "      <td>2023</td>\n",
       "      <td>3</td>\n",
       "      <td>March</td>\n",
       "      <td>13</td>\n",
       "      <td>Monday</td>\n",
       "      <td>14</td>\n",
       "      <td>21</td>\n",
       "    </tr>\n",
       "    <tr>\n",
       "      <th>2</th>\n",
       "      <td>908 Jefferson St</td>\n",
       "      <td>Medic Response</td>\n",
       "      <td>2023-03-13 14:18:00</td>\n",
       "      <td>47.604879</td>\n",
       "      <td>-122.324007</td>\n",
       "      <td>{'type': 'Point', 'coordinates': [-122.324007,...</td>\n",
       "      <td>F230031081</td>\n",
       "      <td>2023-03-13</td>\n",
       "      <td>2023</td>\n",
       "      <td>3</td>\n",
       "      <td>March</td>\n",
       "      <td>13</td>\n",
       "      <td>Monday</td>\n",
       "      <td>14</td>\n",
       "      <td>18</td>\n",
       "    </tr>\n",
       "    <tr>\n",
       "      <th>3</th>\n",
       "      <td>4535 17th Ave Ne</td>\n",
       "      <td>Aid Response</td>\n",
       "      <td>2023-03-13 14:13:00</td>\n",
       "      <td>47.661569</td>\n",
       "      <td>-122.309717</td>\n",
       "      <td>{'type': 'Point', 'coordinates': [-122.309717,...</td>\n",
       "      <td>F230031080</td>\n",
       "      <td>2023-03-13</td>\n",
       "      <td>2023</td>\n",
       "      <td>3</td>\n",
       "      <td>March</td>\n",
       "      <td>13</td>\n",
       "      <td>Monday</td>\n",
       "      <td>14</td>\n",
       "      <td>13</td>\n",
       "    </tr>\n",
       "    <tr>\n",
       "      <th>4</th>\n",
       "      <td>724 26th Ave</td>\n",
       "      <td>Nurseline/AMR</td>\n",
       "      <td>2023-03-13 14:10:00</td>\n",
       "      <td>47.608238</td>\n",
       "      <td>-122.298865</td>\n",
       "      <td>{'type': 'Point', 'coordinates': [-122.298865,...</td>\n",
       "      <td>F230031079</td>\n",
       "      <td>2023-03-13</td>\n",
       "      <td>2023</td>\n",
       "      <td>3</td>\n",
       "      <td>March</td>\n",
       "      <td>13</td>\n",
       "      <td>Monday</td>\n",
       "      <td>14</td>\n",
       "      <td>10</td>\n",
       "    </tr>\n",
       "  </tbody>\n",
       "</table>\n",
       "</div>"
      ],
      "text/plain": [
       "            address            type            datetime   latitude  \\\n",
       "0       509 3rd Ave    Aid Response 2023-03-13 14:24:00  47.602114   \n",
       "1     937 N 96th St    Aid Response 2023-03-13 14:21:00  47.698721   \n",
       "2  908 Jefferson St  Medic Response 2023-03-13 14:18:00  47.604879   \n",
       "3  4535 17th Ave Ne    Aid Response 2023-03-13 14:13:00  47.661569   \n",
       "4      724 26th Ave   Nurseline/AMR 2023-03-13 14:10:00  47.608238   \n",
       "\n",
       "     longitude                                    report_location  \\\n",
       "0  -122.330809  {'type': 'Point', 'coordinates': [-122.330809,...   \n",
       "1   -122.34681  {'type': 'Point', 'coordinates': [-122.34681, ...   \n",
       "2  -122.324007  {'type': 'Point', 'coordinates': [-122.324007,...   \n",
       "3  -122.309717  {'type': 'Point', 'coordinates': [-122.309717,...   \n",
       "4  -122.298865  {'type': 'Point', 'coordinates': [-122.298865,...   \n",
       "\n",
       "  incident_number        date  year  month month_name  day weekday  hour  \\\n",
       "0      F230031084  2023-03-13  2023      3      March   13  Monday    14   \n",
       "1      F230031083  2023-03-13  2023      3      March   13  Monday    14   \n",
       "2      F230031081  2023-03-13  2023      3      March   13  Monday    14   \n",
       "3      F230031080  2023-03-13  2023      3      March   13  Monday    14   \n",
       "4      F230031079  2023-03-13  2023      3      March   13  Monday    14   \n",
       "\n",
       "   minute  \n",
       "0      24  \n",
       "1      21  \n",
       "2      18  \n",
       "3      13  \n",
       "4      10  "
      ]
     },
     "execution_count": 8,
     "metadata": {},
     "output_type": "execute_result"
    }
   ],
   "source": [
    "calls911.head()"
   ]
  },
  {
   "cell_type": "markdown",
   "id": "5aee7d81",
   "metadata": {},
   "source": [
    "Let's create a new column with what we have. In this case, a boolean where you tell if it is night time (after 8 pm before 6 am):"
   ]
  },
  {
   "cell_type": "code",
   "execution_count": 9,
   "id": "335b1a0f",
   "metadata": {},
   "outputs": [],
   "source": [
    "calls911['nightTime']=((calls911['hour']<=6) | (calls911['hour']>=20))"
   ]
  },
  {
   "cell_type": "markdown",
   "id": "28280f34",
   "metadata": {},
   "source": [
    "Can we use several columns to build a _datetime_?"
   ]
  },
  {
   "cell_type": "code",
   "execution_count": 10,
   "id": "3afa4a2d",
   "metadata": {},
   "outputs": [
    {
     "data": {
      "text/plain": [
       "0      2023-03-13 14:24:00\n",
       "1      2023-03-13 14:21:00\n",
       "2      2023-03-13 14:18:00\n",
       "3      2023-03-13 14:13:00\n",
       "4      2023-03-13 14:10:00\n",
       "               ...        \n",
       "1995   2023-03-07 09:17:00\n",
       "1996   2023-03-07 09:17:00\n",
       "1997   2023-03-07 09:08:00\n",
       "1998   2023-03-07 09:04:00\n",
       "1999   2023-03-07 08:54:00\n",
       "Length: 2000, dtype: datetime64[ns]"
      ]
     },
     "execution_count": 10,
     "metadata": {},
     "output_type": "execute_result"
    }
   ],
   "source": [
    "pd.to_datetime(calls911[['month', 'day','year','hour','minute']])"
   ]
  },
  {
   "cell_type": "markdown",
   "id": "39a40670",
   "metadata": {},
   "source": [
    "Notice that the columns about lat/long are non numeric, let's solve that:"
   ]
  },
  {
   "cell_type": "code",
   "execution_count": 11,
   "id": "97fc953d",
   "metadata": {},
   "outputs": [],
   "source": [
    "calls911[['longitude','latitude']]=calls911[['longitude','latitude']].apply(lambda x:pd.to_numeric(x))"
   ]
  },
  {
   "cell_type": "code",
   "execution_count": null,
   "id": "3d35347d",
   "metadata": {},
   "outputs": [],
   "source": [
    "calls911.info"
   ]
  },
  {
   "cell_type": "markdown",
   "id": "b60afa87",
   "metadata": {},
   "source": [
    "Let's save what we have:"
   ]
  },
  {
   "cell_type": "code",
   "execution_count": null,
   "id": "954e790c",
   "metadata": {},
   "outputs": [],
   "source": [
    "import os\n",
    "\n",
    "where=os.path.join('data','calls911.pkl')\n",
    "calls911.to_pickle(where)"
   ]
  },
  {
   "cell_type": "code",
   "execution_count": null,
   "id": "b3c281bc",
   "metadata": {},
   "outputs": [],
   "source": []
  }
 ],
 "metadata": {
  "kernelspec": {
   "display_name": "Python 3 (ipykernel)",
   "language": "python",
   "name": "python3"
  },
  "language_info": {
   "codemirror_mode": {
    "name": "ipython",
    "version": 3
   },
   "file_extension": ".py",
   "mimetype": "text/x-python",
   "name": "python",
   "nbconvert_exporter": "python",
   "pygments_lexer": "ipython3",
   "version": "3.11.0"
  }
 },
 "nbformat": 4,
 "nbformat_minor": 5
}
