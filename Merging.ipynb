{
 "cells": [
  {
   "cell_type": "markdown",
   "metadata": {},
   "source": [
    "<center><img src=\"https://i.imgur.com/zRrFdsf.png\" width=\"700\"></center> \n",
    "\n",
    "_____\n",
    "\n",
    "<a id='home'></a>\n",
    "\n",
    "# Merging"
   ]
  },
  {
   "cell_type": "markdown",
   "metadata": {},
   "source": [
    "Merging data sets need the following considerations:\n",
    "\n",
    "* Merging is done on two data frames.\n",
    "* You need a column in each data frame that share the same exact and unique values. The column names or titles need not be the same.\n",
    "* The merged table shows by default the mutual coincidences; but you can also request the values not matched, which will help you detect possible extra cleaning.\n",
    "* Pandas jargon uses a **left** and a **right** data frame: **left**.merge(**right**).\n",
    "\n",
    "At this stage, let me use other data frames we prepared previously:"
   ]
  },
  {
   "cell_type": "code",
   "execution_count": 2,
   "metadata": {},
   "outputs": [],
   "source": [
    "import pandas as pd\n",
    "\n",
    "co2Link='https://github.com/CienciaDeDatosEspacial/dataSets/raw/main/co2.csv'\n",
    "forestLink='https://github.com/CienciaDeDatosEspacial/dataSets/raw/main/forestRev.csv'\n",
    "\n",
    "co2=pd.read_csv(co2Link)\n",
    "forest=pd.read_csv(forestLink)"
   ]
  },
  {
   "cell_type": "markdown",
   "metadata": {},
   "source": [
    "Remember the amount of rows of each DF:"
   ]
  },
  {
   "cell_type": "code",
   "execution_count": 3,
   "metadata": {},
   "outputs": [
    {
     "data": {
      "text/plain": [
       "((218, 4), (204, 3))"
      ]
     },
     "execution_count": 3,
     "metadata": {},
     "output_type": "execute_result"
    }
   ],
   "source": [
    "co2.shape,forest.shape"
   ]
  },
  {
   "cell_type": "markdown",
   "metadata": {},
   "source": [
    "Also keep in mind the column names:"
   ]
  },
  {
   "cell_type": "code",
   "execution_count": 4,
   "metadata": {},
   "outputs": [
    {
     "data": {
      "text/plain": [
       "(Index(['Country', 'ForestRev_gdp', 'ForestRev_date'], dtype='object'),\n",
       " Index(['name', 'co2', 'co2_date', 'region'], dtype='object'))"
      ]
     },
     "execution_count": 4,
     "metadata": {},
     "output_type": "execute_result"
    }
   ],
   "source": [
    "forest.columns,co2.columns"
   ]
  },
  {
   "cell_type": "markdown",
   "metadata": {},
   "source": [
    "Let me show you some merge approaches, but I will only show the amount of columns produced:\n",
    "\n",
    "1. You keep only what is common in both key columns:\n",
    "\n",
    "This is the default. The final rows will be the ones where the key values in each data frame match exactly. In this case, your count of rows will be at most the amount of rows of the smallest data frame."
   ]
  },
  {
   "cell_type": "code",
   "execution_count": 5,
   "metadata": {},
   "outputs": [
    {
     "data": {
      "text/plain": [
       "(197, 7)"
      ]
     },
     "execution_count": 5,
     "metadata": {},
     "output_type": "execute_result"
    }
   ],
   "source": [
    "# how many resulting rows after inner merging\n",
    "co2.merge(forest,how='inner',left_on='name',right_on='Country').shape"
   ]
  },
  {
   "cell_type": "markdown",
   "metadata": {},
   "source": [
    "2. You keep all the keys from one data frame:\n",
    "\n",
    "The final rows will be all the rows from the dataframe (here from the _left_). If a key values does not find a match, the key value is kept, but the columns will have missing values. In this case, your count of rows will be equal to the amount of rows of the data frame to the left. You can also use **right** so the same logic applies to the data frame to the right.\n",
    "\n"
   ]
  },
  {
   "cell_type": "code",
   "execution_count": 6,
   "metadata": {},
   "outputs": [
    {
     "data": {
      "text/plain": [
       "(218, 7)"
      ]
     },
     "execution_count": 6,
     "metadata": {},
     "output_type": "execute_result"
    }
   ],
   "source": [
    "# how many resulting rows after left merging\n",
    "co2.merge(forest,how='left',left_on='name',right_on='Country').shape"
   ]
  },
  {
   "cell_type": "markdown",
   "metadata": {},
   "source": [
    "3. You keep all the rows from both data frames:\n",
    "\n",
    "In this case you will obtain all possible rows: the matched values, and the unmatched values from both data frames. You will also generate missing values. In this case, your count of rows will be at least the amount of rows of the data frame with the most rows.\n"
   ]
  },
  {
   "cell_type": "code",
   "execution_count": 7,
   "metadata": {},
   "outputs": [
    {
     "data": {
      "text/plain": [
       "(225, 7)"
      ]
     },
     "execution_count": 7,
     "metadata": {},
     "output_type": "execute_result"
    }
   ],
   "source": [
    "# how many resulting rows after outer merging\n",
    "co2.merge(forest,how='outer',left_on='name',right_on='Country').shape"
   ]
  },
  {
   "cell_type": "markdown",
   "metadata": {},
   "source": [
    "Why the different amount of rows? "
   ]
  },
  {
   "cell_type": "code",
   "execution_count": 8,
   "metadata": {},
   "outputs": [
    {
     "data": {
      "text/plain": [
       "{'ANTARCTICA',\n",
       " 'BERMUDA',\n",
       " 'BRITISH VIRGIN ISLANDS',\n",
       " 'COOK ISLANDS',\n",
       " 'ERITREA',\n",
       " 'FALKLAND ISLANDS (ISLAS MALVINAS)',\n",
       " 'FRENCH POLYNESIA',\n",
       " 'GIBRALTAR',\n",
       " 'JERSEY',\n",
       " 'KOREA, NORTH',\n",
       " 'MONTSERRAT',\n",
       " 'NEW CALEDONIA',\n",
       " 'NIUE',\n",
       " 'SAINT HELENA, ASCENSION, AND TRISTAN DA CUNHA',\n",
       " 'SAINT PIERRE AND MIQUELON',\n",
       " 'SOMALIA',\n",
       " 'SOUTH AFRICA',\n",
       " 'SYRIA',\n",
       " 'TAIWAN',\n",
       " 'VENEZUELA',\n",
       " 'WAKE ISLAND'}"
      ]
     },
     "execution_count": 8,
     "metadata": {},
     "output_type": "execute_result"
    }
   ],
   "source": [
    "set(co2.name)-set(forest.Country)"
   ]
  },
  {
   "cell_type": "code",
   "execution_count": 9,
   "metadata": {},
   "outputs": [
    {
     "data": {
      "text/plain": [
       "{'ANDORRA',\n",
       " 'CURACAO',\n",
       " 'ISLE OF MAN',\n",
       " 'LIECHTENSTEIN',\n",
       " 'MONACO',\n",
       " 'PALAU',\n",
       " 'SAN MARINO'}"
      ]
     },
     "execution_count": 9,
     "metadata": {},
     "output_type": "execute_result"
    }
   ],
   "source": [
    "set(forest.Country)-set(co2.name)"
   ]
  },
  {
   "cell_type": "markdown",
   "metadata": {},
   "source": [
    "Apparently, the data is not available from every country. So, let's just continue:"
   ]
  },
  {
   "cell_type": "code",
   "execution_count": 10,
   "metadata": {},
   "outputs": [
    {
     "data": {
      "text/html": [
       "<div>\n",
       "<style scoped>\n",
       "    .dataframe tbody tr th:only-of-type {\n",
       "        vertical-align: middle;\n",
       "    }\n",
       "\n",
       "    .dataframe tbody tr th {\n",
       "        vertical-align: top;\n",
       "    }\n",
       "\n",
       "    .dataframe thead th {\n",
       "        text-align: right;\n",
       "    }\n",
       "</style>\n",
       "<table border=\"1\" class=\"dataframe\">\n",
       "  <thead>\n",
       "    <tr style=\"text-align: right;\">\n",
       "      <th></th>\n",
       "      <th>name</th>\n",
       "      <th>co2</th>\n",
       "      <th>co2_date</th>\n",
       "      <th>region</th>\n",
       "      <th>Country</th>\n",
       "      <th>ForestRev_gdp</th>\n",
       "      <th>ForestRev_date</th>\n",
       "    </tr>\n",
       "  </thead>\n",
       "  <tbody>\n",
       "    <tr>\n",
       "      <th>0</th>\n",
       "      <td>CHINA</td>\n",
       "      <td>1.077325e+10</td>\n",
       "      <td>2019</td>\n",
       "      <td>EAST AND SOUTHEAST ASIA</td>\n",
       "      <td>CHINA</td>\n",
       "      <td>0.08</td>\n",
       "      <td>2018</td>\n",
       "    </tr>\n",
       "    <tr>\n",
       "      <th>1</th>\n",
       "      <td>UNITED STATES</td>\n",
       "      <td>5.144361e+09</td>\n",
       "      <td>2019</td>\n",
       "      <td>NORTH AMERICA</td>\n",
       "      <td>UNITED STATES</td>\n",
       "      <td>0.04</td>\n",
       "      <td>2018</td>\n",
       "    </tr>\n",
       "    <tr>\n",
       "      <th>2</th>\n",
       "      <td>INDIA</td>\n",
       "      <td>2.314738e+09</td>\n",
       "      <td>2019</td>\n",
       "      <td>SOUTH ASIA</td>\n",
       "      <td>INDIA</td>\n",
       "      <td>0.14</td>\n",
       "      <td>2018</td>\n",
       "    </tr>\n",
       "    <tr>\n",
       "      <th>3</th>\n",
       "      <td>RUSSIA</td>\n",
       "      <td>1.848070e+09</td>\n",
       "      <td>2019</td>\n",
       "      <td>CENTRAL ASIA</td>\n",
       "      <td>RUSSIA</td>\n",
       "      <td>0.29</td>\n",
       "      <td>2018</td>\n",
       "    </tr>\n",
       "    <tr>\n",
       "      <th>4</th>\n",
       "      <td>JAPAN</td>\n",
       "      <td>1.103234e+09</td>\n",
       "      <td>2019</td>\n",
       "      <td>EAST AND SOUTHEAST ASIA</td>\n",
       "      <td>JAPAN</td>\n",
       "      <td>0.02</td>\n",
       "      <td>2018</td>\n",
       "    </tr>\n",
       "    <tr>\n",
       "      <th>...</th>\n",
       "      <td>...</td>\n",
       "      <td>...</td>\n",
       "      <td>...</td>\n",
       "      <td>...</td>\n",
       "      <td>...</td>\n",
       "      <td>...</td>\n",
       "      <td>...</td>\n",
       "    </tr>\n",
       "    <tr>\n",
       "      <th>192</th>\n",
       "      <td>TONGA</td>\n",
       "      <td>1.710000e+05</td>\n",
       "      <td>2019</td>\n",
       "      <td>AUSTRALIA AND OCEANIA</td>\n",
       "      <td>TONGA</td>\n",
       "      <td>0.03</td>\n",
       "      <td>2018</td>\n",
       "    </tr>\n",
       "    <tr>\n",
       "      <th>193</th>\n",
       "      <td>KIRIBATI</td>\n",
       "      <td>7.600000e+04</td>\n",
       "      <td>2019</td>\n",
       "      <td>AUSTRALIA AND OCEANIA</td>\n",
       "      <td>KIRIBATI</td>\n",
       "      <td>0.04</td>\n",
       "      <td>2018</td>\n",
       "    </tr>\n",
       "    <tr>\n",
       "      <th>194</th>\n",
       "      <td>NAURU</td>\n",
       "      <td>6.600000e+04</td>\n",
       "      <td>2019</td>\n",
       "      <td>AUSTRALIA AND OCEANIA</td>\n",
       "      <td>NAURU</td>\n",
       "      <td>0.00</td>\n",
       "      <td>2018</td>\n",
       "    </tr>\n",
       "    <tr>\n",
       "      <th>195</th>\n",
       "      <td>NORTHERN MARIANA ISLANDS</td>\n",
       "      <td>0.000000e+00</td>\n",
       "      <td>2019</td>\n",
       "      <td>AUSTRALIA AND OCEANIA</td>\n",
       "      <td>NORTHERN MARIANA ISLANDS</td>\n",
       "      <td>0.00</td>\n",
       "      <td>2018</td>\n",
       "    </tr>\n",
       "    <tr>\n",
       "      <th>196</th>\n",
       "      <td>TUVALU</td>\n",
       "      <td>0.000000e+00</td>\n",
       "      <td>2019</td>\n",
       "      <td>AUSTRALIA AND OCEANIA</td>\n",
       "      <td>TUVALU</td>\n",
       "      <td>0.00</td>\n",
       "      <td>2018</td>\n",
       "    </tr>\n",
       "  </tbody>\n",
       "</table>\n",
       "<p>197 rows × 7 columns</p>\n",
       "</div>"
      ],
      "text/plain": [
       "                         name           co2  co2_date  \\\n",
       "0                       CHINA  1.077325e+10      2019   \n",
       "1               UNITED STATES  5.144361e+09      2019   \n",
       "2                       INDIA  2.314738e+09      2019   \n",
       "3                      RUSSIA  1.848070e+09      2019   \n",
       "4                       JAPAN  1.103234e+09      2019   \n",
       "..                        ...           ...       ...   \n",
       "192                     TONGA  1.710000e+05      2019   \n",
       "193                  KIRIBATI  7.600000e+04      2019   \n",
       "194                     NAURU  6.600000e+04      2019   \n",
       "195  NORTHERN MARIANA ISLANDS  0.000000e+00      2019   \n",
       "196                    TUVALU  0.000000e+00      2019   \n",
       "\n",
       "                      region                   Country  ForestRev_gdp  \\\n",
       "0    EAST AND SOUTHEAST ASIA                     CHINA           0.08   \n",
       "1              NORTH AMERICA             UNITED STATES           0.04   \n",
       "2                 SOUTH ASIA                     INDIA           0.14   \n",
       "3               CENTRAL ASIA                    RUSSIA           0.29   \n",
       "4    EAST AND SOUTHEAST ASIA                     JAPAN           0.02   \n",
       "..                       ...                       ...            ...   \n",
       "192    AUSTRALIA AND OCEANIA                     TONGA           0.03   \n",
       "193    AUSTRALIA AND OCEANIA                  KIRIBATI           0.04   \n",
       "194    AUSTRALIA AND OCEANIA                     NAURU           0.00   \n",
       "195    AUSTRALIA AND OCEANIA  NORTHERN MARIANA ISLANDS           0.00   \n",
       "196    AUSTRALIA AND OCEANIA                    TUVALU           0.00   \n",
       "\n",
       "     ForestRev_date  \n",
       "0              2018  \n",
       "1              2018  \n",
       "2              2018  \n",
       "3              2018  \n",
       "4              2018  \n",
       "..              ...  \n",
       "192            2018  \n",
       "193            2018  \n",
       "194            2018  \n",
       "195            2018  \n",
       "196            2018  \n",
       "\n",
       "[197 rows x 7 columns]"
      ]
     },
     "execution_count": 10,
     "metadata": {},
     "output_type": "execute_result"
    }
   ],
   "source": [
    "# the default is inner merge\n",
    "cia=co2.merge(forest,left_on='name',right_on='Country')\n",
    "cia"
   ]
  },
  {
   "cell_type": "markdown",
   "metadata": {},
   "source": [
    "Let's bring back the data on fragility, but just for the year 2019:"
   ]
  },
  {
   "cell_type": "code",
   "execution_count": 11,
   "metadata": {},
   "outputs": [
    {
     "data": {
      "text/html": [
       "<div>\n",
       "<style scoped>\n",
       "    .dataframe tbody tr th:only-of-type {\n",
       "        vertical-align: middle;\n",
       "    }\n",
       "\n",
       "    .dataframe tbody tr th {\n",
       "        vertical-align: top;\n",
       "    }\n",
       "\n",
       "    .dataframe thead th {\n",
       "        text-align: right;\n",
       "    }\n",
       "</style>\n",
       "<table border=\"1\" class=\"dataframe\">\n",
       "  <thead>\n",
       "    <tr style=\"text-align: right;\">\n",
       "      <th></th>\n",
       "      <th>Country</th>\n",
       "      <th>Year</th>\n",
       "      <th>Total</th>\n",
       "    </tr>\n",
       "  </thead>\n",
       "  <tbody>\n",
       "    <tr>\n",
       "      <th>1068</th>\n",
       "      <td>YEMEN</td>\n",
       "      <td>2019</td>\n",
       "      <td>113.5</td>\n",
       "    </tr>\n",
       "    <tr>\n",
       "      <th>1069</th>\n",
       "      <td>SOMALIA</td>\n",
       "      <td>2019</td>\n",
       "      <td>112.3</td>\n",
       "    </tr>\n",
       "    <tr>\n",
       "      <th>1070</th>\n",
       "      <td>SOUTH SUDAN</td>\n",
       "      <td>2019</td>\n",
       "      <td>112.2</td>\n",
       "    </tr>\n",
       "    <tr>\n",
       "      <th>1071</th>\n",
       "      <td>SYRIA</td>\n",
       "      <td>2019</td>\n",
       "      <td>111.5</td>\n",
       "    </tr>\n",
       "    <tr>\n",
       "      <th>1072</th>\n",
       "      <td>CONGO DEMOCRATIC REPUBLIC</td>\n",
       "      <td>2019</td>\n",
       "      <td>110.2</td>\n",
       "    </tr>\n",
       "    <tr>\n",
       "      <th>...</th>\n",
       "      <td>...</td>\n",
       "      <td>...</td>\n",
       "      <td>...</td>\n",
       "    </tr>\n",
       "    <tr>\n",
       "      <th>1241</th>\n",
       "      <td>AUSTRALIA</td>\n",
       "      <td>2019</td>\n",
       "      <td>19.7</td>\n",
       "    </tr>\n",
       "    <tr>\n",
       "      <th>1242</th>\n",
       "      <td>DENMARK</td>\n",
       "      <td>2019</td>\n",
       "      <td>19.5</td>\n",
       "    </tr>\n",
       "    <tr>\n",
       "      <th>1243</th>\n",
       "      <td>SWITZERLAND</td>\n",
       "      <td>2019</td>\n",
       "      <td>18.7</td>\n",
       "    </tr>\n",
       "    <tr>\n",
       "      <th>1244</th>\n",
       "      <td>NORWAY</td>\n",
       "      <td>2019</td>\n",
       "      <td>18.0</td>\n",
       "    </tr>\n",
       "    <tr>\n",
       "      <th>1245</th>\n",
       "      <td>FINLAND</td>\n",
       "      <td>2019</td>\n",
       "      <td>16.9</td>\n",
       "    </tr>\n",
       "  </tbody>\n",
       "</table>\n",
       "<p>178 rows × 3 columns</p>\n",
       "</div>"
      ],
      "text/plain": [
       "                        Country  Year  Total\n",
       "1068                      YEMEN  2019  113.5\n",
       "1069                    SOMALIA  2019  112.3\n",
       "1070                SOUTH SUDAN  2019  112.2\n",
       "1071                      SYRIA  2019  111.5\n",
       "1072  CONGO DEMOCRATIC REPUBLIC  2019  110.2\n",
       "...                         ...   ...    ...\n",
       "1241                  AUSTRALIA  2019   19.7\n",
       "1242                    DENMARK  2019   19.5\n",
       "1243                SWITZERLAND  2019   18.7\n",
       "1244                     NORWAY  2019   18.0\n",
       "1245                    FINLAND  2019   16.9\n",
       "\n",
       "[178 rows x 3 columns]"
      ]
     },
     "execution_count": 11,
     "metadata": {},
     "output_type": "execute_result"
    }
   ],
   "source": [
    "import os\n",
    "\n",
    "#read in:\n",
    "FragilityAll=pd.read_csv(os.path.join(\"data\",\"Fragility_corrected.csv\"))\n",
    "\n",
    "#subset\n",
    "fragile2019=FragilityAll.loc[FragilityAll.Year==2019,:\"Total\"].copy()\n",
    "\n",
    "# see\n",
    "fragile2019"
   ]
  },
  {
   "cell_type": "markdown",
   "metadata": {},
   "source": [
    "We will practice **fuzzy merging** now."
   ]
  },
  {
   "cell_type": "code",
   "execution_count": 12,
   "metadata": {},
   "outputs": [
    {
     "data": {
      "text/plain": [
       "{'AMERICAN SAMOA',\n",
       " 'ARUBA',\n",
       " 'BAHAMAS, THE',\n",
       " 'BRUNEI',\n",
       " 'BURMA',\n",
       " 'CABO VERDE',\n",
       " 'CAYMAN ISLANDS',\n",
       " 'CONGO, DEMOCRATIC REPUBLIC OF THE',\n",
       " 'CONGO, REPUBLIC OF THE',\n",
       " 'CZECHIA',\n",
       " 'DOMINICA',\n",
       " 'FAROE ISLANDS',\n",
       " 'GAMBIA, THE',\n",
       " 'GAZA STRIP',\n",
       " 'GREENLAND',\n",
       " 'GUAM',\n",
       " 'GUINEA-BISSAU',\n",
       " 'HONG KONG',\n",
       " 'KIRIBATI',\n",
       " 'KOREA, SOUTH',\n",
       " 'KOSOVO',\n",
       " 'KYRGYZSTAN',\n",
       " 'MACAU',\n",
       " 'MARSHALL ISLANDS',\n",
       " 'MICRONESIA, FEDERATED STATES OF',\n",
       " 'NAURU',\n",
       " 'NORTH MACEDONIA',\n",
       " 'NORTHERN MARIANA ISLANDS',\n",
       " 'PUERTO RICO',\n",
       " 'SAINT KITTS AND NEVIS',\n",
       " 'SAINT LUCIA',\n",
       " 'SAINT VINCENT AND THE GRENADINES',\n",
       " 'SLOVAKIA',\n",
       " 'TONGA',\n",
       " 'TURKEY (TURKIYE)',\n",
       " 'TURKS AND CAICOS ISLANDS',\n",
       " 'TUVALU',\n",
       " 'VANUATU',\n",
       " 'VIRGIN ISLANDS',\n",
       " 'WEST BANK'}"
      ]
     },
     "execution_count": 12,
     "metadata": {},
     "output_type": "execute_result"
    }
   ],
   "source": [
    "# Countries in 'cia' but NOT in 'fragile2019' \n",
    "OnlyCia=set(cia.Country)-set(fragile2019.Country)\n",
    "OnlyCia"
   ]
  },
  {
   "cell_type": "code",
   "execution_count": 13,
   "metadata": {},
   "outputs": [
    {
     "data": {
      "text/plain": [
       "{'BAHAMAS',\n",
       " 'BRUNEI DARUSSALAM',\n",
       " 'CAPE VERDE',\n",
       " 'CONGO DEMOCRATIC REPUBLIC',\n",
       " 'CONGO REPUBLIC',\n",
       " 'CZECH REPUBLIC',\n",
       " 'ERITREA',\n",
       " 'GAMBIA',\n",
       " 'GUINEA BISSAU',\n",
       " 'KYRGYZ REPUBLIC',\n",
       " 'MACEDONIA',\n",
       " 'MICRONESIA',\n",
       " 'MYANMAR',\n",
       " 'NORTH KOREA',\n",
       " 'SLOVAK REPUBLIC',\n",
       " 'SOMALIA',\n",
       " 'SOUTH AFRICA',\n",
       " 'SOUTH KOREA',\n",
       " 'SYRIA',\n",
       " 'TURKEY',\n",
       " 'VENEZUELA'}"
      ]
     },
     "execution_count": 13,
     "metadata": {},
     "output_type": "execute_result"
    }
   ],
   "source": [
    "# Countris in 'fragile2019' but NOT in 'cia' \n",
    "OnlyFragile=set(fragile2019.Country)-set(cia.Country)\n",
    "OnlyFragile"
   ]
  },
  {
   "cell_type": "markdown",
   "metadata": {},
   "source": [
    "Here, we should try to find the what countries in _OnlyFragile_ may match the ones in _OnlyCia_. We need to use the **fuzzy merge** approach (please install **thefuzz** if not previously installed):"
   ]
  },
  {
   "cell_type": "code",
   "execution_count": 14,
   "metadata": {},
   "outputs": [
    {
     "data": {
      "text/plain": [
       "[('BAHAMAS', ('BAHAMAS, THE', 90)),\n",
       " ('BRUNEI DARUSSALAM', ('BRUNEI', 90)),\n",
       " ('CAPE VERDE', ('CABO VERDE', 80)),\n",
       " ('CONGO DEMOCRATIC REPUBLIC', ('CONGO, DEMOCRATIC REPUBLIC OF THE', 95)),\n",
       " ('CONGO REPUBLIC', ('CONGO, REPUBLIC OF THE', 86)),\n",
       " ('CZECH REPUBLIC', ('CONGO, REPUBLIC OF THE', 86)),\n",
       " ('ERITREA', ('SAINT VINCENT AND THE GRENADINES', 51)),\n",
       " ('GAMBIA', ('GAMBIA, THE', 90)),\n",
       " ('GUINEA BISSAU', ('GUINEA-BISSAU', 100)),\n",
       " ('KYRGYZ REPUBLIC', ('CONGO, DEMOCRATIC REPUBLIC OF THE', 86)),\n",
       " ('MACEDONIA', ('NORTH MACEDONIA', 90)),\n",
       " ('MICRONESIA', ('MICRONESIA, FEDERATED STATES OF', 90)),\n",
       " ('MYANMAR', ('NORTHERN MARIANA ISLANDS', 51)),\n",
       " ('NORTH KOREA', ('KOREA, SOUTH', 78)),\n",
       " ('SLOVAK REPUBLIC', ('CONGO, DEMOCRATIC REPUBLIC OF THE', 86)),\n",
       " ('SOMALIA', ('SLOVAKIA', 67)),\n",
       " ('SOUTH AFRICA', ('KOREA, SOUTH', 66)),\n",
       " ('SOUTH KOREA', ('KOREA, SOUTH', 95)),\n",
       " ('SYRIA', ('NORTHERN MARIANA ISLANDS', 54)),\n",
       " ('TURKEY', ('TURKEY (TURKIYE)', 90)),\n",
       " ('VENEZUELA', ('VANUATU', 50))]"
      ]
     },
     "execution_count": 14,
     "metadata": {},
     "output_type": "execute_result"
    }
   ],
   "source": [
    "from thefuzz import process as fz\n",
    "\n",
    "# take a country from OnlyFragile\n",
    "# look for a country in OnlyCia and return the most similar\n",
    "[(f,fz.extractOne(f, OnlyCia)) for f in sorted(OnlyFragile)]"
   ]
  },
  {
   "cell_type": "markdown",
   "metadata": {},
   "source": [
    "Above you have found _some_ good matches. Let's keep the best ones:"
   ]
  },
  {
   "cell_type": "code",
   "execution_count": 15,
   "metadata": {},
   "outputs": [
    {
     "data": {
      "text/plain": [
       "[('BAHAMAS', ('BAHAMAS, THE', 90)),\n",
       " ('BRUNEI DARUSSALAM', ('BRUNEI', 90)),\n",
       " ('CONGO DEMOCRATIC REPUBLIC', ('CONGO, DEMOCRATIC REPUBLIC OF THE', 95)),\n",
       " ('GAMBIA', ('GAMBIA, THE', 90)),\n",
       " ('GUINEA BISSAU', ('GUINEA-BISSAU', 100)),\n",
       " ('MACEDONIA', ('NORTH MACEDONIA', 90)),\n",
       " ('MICRONESIA', ('MICRONESIA, FEDERATED STATES OF', 90)),\n",
       " ('SOUTH KOREA', ('KOREA, SOUTH', 95)),\n",
       " ('TURKEY', ('TURKEY (TURKIYE)', 90))]"
      ]
     },
     "execution_count": 15,
     "metadata": {},
     "output_type": "execute_result"
    }
   ],
   "source": [
    "[(f,fz.extractOne(f, OnlyCia)) for f in sorted(OnlyFragile)\n",
    " if fz.extractOne(f, OnlyCia)[1]>=87]"
   ]
  },
  {
   "cell_type": "markdown",
   "metadata": {},
   "source": [
    "Once you have good matches, you have to create dictionary like this:"
   ]
  },
  {
   "cell_type": "code",
   "execution_count": 16,
   "metadata": {},
   "outputs": [
    {
     "data": {
      "text/plain": [
       "{'BAHAMAS': 'BAHAMAS, THE',\n",
       " 'BRUNEI DARUSSALAM': 'BRUNEI',\n",
       " 'CONGO DEMOCRATIC REPUBLIC': 'CONGO, DEMOCRATIC REPUBLIC OF THE',\n",
       " 'GAMBIA': 'GAMBIA, THE',\n",
       " 'GUINEA BISSAU': 'GUINEA-BISSAU',\n",
       " 'MACEDONIA': 'NORTH MACEDONIA',\n",
       " 'MICRONESIA': 'MICRONESIA, FEDERATED STATES OF',\n",
       " 'SOUTH KOREA': 'KOREA, SOUTH',\n",
       " 'TURKEY': 'TURKEY (TURKIYE)'}"
      ]
     },
     "execution_count": 16,
     "metadata": {},
     "output_type": "execute_result"
    }
   ],
   "source": [
    "changesFragile1={f:fz.extractOne(f, OnlyCia)[0] \n",
    "                 for f in sorted(OnlyFragile)\n",
    "                 if fz.extractOne(f, OnlyCia)[1] >=87}\n",
    "#dict of matches\n",
    "changesFragile1"
   ]
  },
  {
   "cell_type": "markdown",
   "metadata": {},
   "source": [
    "You can use that dict for the replacements:"
   ]
  },
  {
   "cell_type": "code",
   "execution_count": 17,
   "metadata": {},
   "outputs": [],
   "source": [
    "fragile2019.Country.replace(to_replace=changesFragile1,inplace=True)"
   ]
  },
  {
   "cell_type": "markdown",
   "metadata": {},
   "source": [
    "Now the countries in fragile2019 have more matches. \n",
    "\n",
    "This process can be done a few more times, and you can recover more rows for the merging process. Let's see:"
   ]
  },
  {
   "cell_type": "code",
   "execution_count": 18,
   "metadata": {},
   "outputs": [
    {
     "data": {
      "text/plain": [
       "[('CAPE VERDE', ('CABO VERDE', 80)),\n",
       " ('CONGO REPUBLIC', ('CONGO, REPUBLIC OF THE', 86)),\n",
       " ('CZECH REPUBLIC', ('CONGO, REPUBLIC OF THE', 86)),\n",
       " ('ERITREA', ('SAINT VINCENT AND THE GRENADINES', 51)),\n",
       " ('KYRGYZ REPUBLIC', ('CONGO, REPUBLIC OF THE', 66)),\n",
       " ('MYANMAR', ('NORTHERN MARIANA ISLANDS', 51)),\n",
       " ('NORTH KOREA', ('NORTHERN MARIANA ISLANDS', 62)),\n",
       " ('SLOVAK REPUBLIC', ('SLOVAKIA', 74)),\n",
       " ('SOMALIA', ('SLOVAKIA', 67)),\n",
       " ('SOUTH AFRICA', ('AMERICAN SAMOA', 59)),\n",
       " ('SYRIA', ('NORTHERN MARIANA ISLANDS', 54)),\n",
       " ('VENEZUELA', ('VANUATU', 50))]"
      ]
     },
     "execution_count": 18,
     "metadata": {},
     "output_type": "execute_result"
    }
   ],
   "source": [
    "# second try\n",
    "OnlyCia=set(cia.Country)-set(fragile2019.Country)\n",
    "OnlyFragile=set(fragile2019.Country)-set(cia.Country)\n",
    "[(f,fz.extractOne(f, OnlyCia)) for f in sorted(OnlyFragile)]"
   ]
  },
  {
   "cell_type": "code",
   "execution_count": 19,
   "metadata": {},
   "outputs": [
    {
     "data": {
      "text/plain": [
       "{'CAPE VERDE': 'CABO VERDE', 'SLOVAK REPUBLIC': 'SLOVAKIA'}"
      ]
     },
     "execution_count": 19,
     "metadata": {},
     "output_type": "execute_result"
    }
   ],
   "source": [
    "# second dict of changes\n",
    "# select a different threshold\n",
    "changesFragile2={f:fz.extractOne(f, OnlyCia)[0] \n",
    "                 for f in sorted(OnlyFragile)\n",
    "                 if 74<=fz.extractOne(f, OnlyCia)[1]<=80}\n",
    "\n",
    "#dict of matches\n",
    "changesFragile2"
   ]
  },
  {
   "cell_type": "code",
   "execution_count": 20,
   "metadata": {},
   "outputs": [
    {
     "data": {
      "text/plain": [
       "{'CAPE VERDE': 'CABO VERDE',\n",
       " 'SLOVAK REPUBLIC': 'SLOVAKIA',\n",
       " 'CONGO REPUBLIC': 'CONGO, REPUBLIC OF THE'}"
      ]
     },
     "execution_count": 20,
     "metadata": {},
     "output_type": "execute_result"
    }
   ],
   "source": [
    "# add manually\n",
    "changesFragile2.update({'CONGO REPUBLIC':'CONGO, REPUBLIC OF THE'})\n",
    "changesFragile2"
   ]
  },
  {
   "cell_type": "code",
   "execution_count": 21,
   "metadata": {},
   "outputs": [],
   "source": [
    "# make the changes\n",
    "fragile2019.Country.replace(to_replace=changesFragile2,inplace=True)"
   ]
  },
  {
   "cell_type": "code",
   "execution_count": 22,
   "metadata": {},
   "outputs": [
    {
     "data": {
      "text/plain": [
       "[('CZECH REPUBLIC', ('CZECHIA', 64)),\n",
       " ('ERITREA', ('SAINT VINCENT AND THE GRENADINES', 51)),\n",
       " ('KYRGYZ REPUBLIC', ('KYRGYZSTAN', 54)),\n",
       " ('MYANMAR', ('NORTHERN MARIANA ISLANDS', 51)),\n",
       " ('NORTH KOREA', ('NORTHERN MARIANA ISLANDS', 62)),\n",
       " ('SOMALIA', ('NORTHERN MARIANA ISLANDS', 61)),\n",
       " ('SOUTH AFRICA', ('AMERICAN SAMOA', 59)),\n",
       " ('SYRIA', ('NORTHERN MARIANA ISLANDS', 54)),\n",
       " ('VENEZUELA', ('VANUATU', 50))]"
      ]
     },
     "execution_count": 22,
     "metadata": {},
     "output_type": "execute_result"
    }
   ],
   "source": [
    "# third try\n",
    "OnlyCia=set(cia.Country)-set(fragile2019.Country)\n",
    "OnlyFragile=set(fragile2019.Country)-set(cia.Country)\n",
    "[(f,fz.extractOne(f, OnlyCia)) for f in sorted(OnlyFragile)]"
   ]
  },
  {
   "cell_type": "code",
   "execution_count": 23,
   "metadata": {},
   "outputs": [
    {
     "data": {
      "text/plain": [
       "{'CZECH REPUBLIC': 'CZECHIA', 'KYRGYZ REPUBLIC': 'KYRGYZSTAN'}"
      ]
     },
     "execution_count": 23,
     "metadata": {},
     "output_type": "execute_result"
    }
   ],
   "source": [
    "# third dict of changes\n",
    "# new threshold\n",
    "changesFragile3={f:fz.extractOne(f, OnlyCia)[0] \n",
    "                 for f in sorted(OnlyFragile)\n",
    "                 if 64==fz.extractOne(f, OnlyCia)[1]}\n",
    "\n",
    "changesFragile3.update({'KYRGYZ REPUBLIC':'KYRGYZSTAN'})\n",
    "#dict of matches\n",
    "changesFragile3"
   ]
  },
  {
   "cell_type": "code",
   "execution_count": 24,
   "metadata": {},
   "outputs": [],
   "source": [
    "# make changes\n",
    "fragile2019.Country.replace(to_replace=changesFragile3,inplace=True)\n",
    "\n",
    "# also error in CIA\n",
    "cia.Country.replace(to_replace={'BURMA':'MYANMAR'},inplace=True)"
   ]
  },
  {
   "cell_type": "code",
   "execution_count": 25,
   "metadata": {},
   "outputs": [
    {
     "data": {
      "text/plain": [
       "[('ERITREA', ('SAINT VINCENT AND THE GRENADINES', 51)),\n",
       " ('NORTH KOREA', ('NORTHERN MARIANA ISLANDS', 62)),\n",
       " ('SOMALIA', ('NORTHERN MARIANA ISLANDS', 61)),\n",
       " ('SOUTH AFRICA', ('AMERICAN SAMOA', 59)),\n",
       " ('SYRIA', ('NORTHERN MARIANA ISLANDS', 54)),\n",
       " ('VENEZUELA', ('VANUATU', 50))]"
      ]
     },
     "execution_count": 25,
     "metadata": {},
     "output_type": "execute_result"
    }
   ],
   "source": [
    "# fourth try\n",
    "\n",
    "OnlyCia=set(cia.Country)-set(fragile2019.Country)\n",
    "OnlyFragile=set(fragile2019.Country)-set(cia.Country)\n",
    "[(f,fz.extractOne(f, OnlyCia)) for f in sorted(OnlyFragile)]"
   ]
  },
  {
   "cell_type": "markdown",
   "metadata": {},
   "source": [
    "The fourth attempt did not offer good results. So we are ready:"
   ]
  },
  {
   "cell_type": "code",
   "execution_count": 26,
   "metadata": {},
   "outputs": [
    {
     "data": {
      "text/html": [
       "<div>\n",
       "<style scoped>\n",
       "    .dataframe tbody tr th:only-of-type {\n",
       "        vertical-align: middle;\n",
       "    }\n",
       "\n",
       "    .dataframe tbody tr th {\n",
       "        vertical-align: top;\n",
       "    }\n",
       "\n",
       "    .dataframe thead th {\n",
       "        text-align: right;\n",
       "    }\n",
       "</style>\n",
       "<table border=\"1\" class=\"dataframe\">\n",
       "  <thead>\n",
       "    <tr style=\"text-align: right;\">\n",
       "      <th></th>\n",
       "      <th>Country</th>\n",
       "      <th>Year</th>\n",
       "      <th>Total</th>\n",
       "      <th>name</th>\n",
       "      <th>co2</th>\n",
       "      <th>co2_date</th>\n",
       "      <th>region</th>\n",
       "      <th>ForestRev_gdp</th>\n",
       "      <th>ForestRev_date</th>\n",
       "    </tr>\n",
       "  </thead>\n",
       "  <tbody>\n",
       "    <tr>\n",
       "      <th>0</th>\n",
       "      <td>YEMEN</td>\n",
       "      <td>2019</td>\n",
       "      <td>113.5</td>\n",
       "      <td>YEMEN</td>\n",
       "      <td>10158000.0</td>\n",
       "      <td>2019</td>\n",
       "      <td>MIDDLE EAST</td>\n",
       "      <td>0.04</td>\n",
       "      <td>2018</td>\n",
       "    </tr>\n",
       "    <tr>\n",
       "      <th>1</th>\n",
       "      <td>SOUTH SUDAN</td>\n",
       "      <td>2019</td>\n",
       "      <td>112.2</td>\n",
       "      <td>SOUTH SUDAN</td>\n",
       "      <td>1778000.0</td>\n",
       "      <td>2019</td>\n",
       "      <td>AFRICA</td>\n",
       "      <td>2.65</td>\n",
       "      <td>2015</td>\n",
       "    </tr>\n",
       "    <tr>\n",
       "      <th>2</th>\n",
       "      <td>CONGO, DEMOCRATIC REPUBLIC OF THE</td>\n",
       "      <td>2019</td>\n",
       "      <td>110.2</td>\n",
       "      <td>CONGO, DEMOCRATIC REPUBLIC OF THE</td>\n",
       "      <td>2653000.0</td>\n",
       "      <td>2019</td>\n",
       "      <td>AFRICA</td>\n",
       "      <td>8.72</td>\n",
       "      <td>2018</td>\n",
       "    </tr>\n",
       "    <tr>\n",
       "      <th>3</th>\n",
       "      <td>CENTRAL AFRICAN REPUBLIC</td>\n",
       "      <td>2019</td>\n",
       "      <td>108.9</td>\n",
       "      <td>CENTRAL AFRICAN REPUBLIC</td>\n",
       "      <td>285000.0</td>\n",
       "      <td>2019</td>\n",
       "      <td>AFRICA</td>\n",
       "      <td>8.99</td>\n",
       "      <td>2018</td>\n",
       "    </tr>\n",
       "    <tr>\n",
       "      <th>4</th>\n",
       "      <td>CHAD</td>\n",
       "      <td>2019</td>\n",
       "      <td>108.5</td>\n",
       "      <td>CHAD</td>\n",
       "      <td>1771000.0</td>\n",
       "      <td>2019</td>\n",
       "      <td>AFRICA</td>\n",
       "      <td>3.81</td>\n",
       "      <td>2018</td>\n",
       "    </tr>\n",
       "    <tr>\n",
       "      <th>...</th>\n",
       "      <td>...</td>\n",
       "      <td>...</td>\n",
       "      <td>...</td>\n",
       "      <td>...</td>\n",
       "      <td>...</td>\n",
       "      <td>...</td>\n",
       "      <td>...</td>\n",
       "      <td>...</td>\n",
       "      <td>...</td>\n",
       "    </tr>\n",
       "    <tr>\n",
       "      <th>167</th>\n",
       "      <td>AUSTRALIA</td>\n",
       "      <td>2019</td>\n",
       "      <td>19.7</td>\n",
       "      <td>AUSTRALIA</td>\n",
       "      <td>417870000.0</td>\n",
       "      <td>2019</td>\n",
       "      <td>AUSTRALIA AND OCEANIA</td>\n",
       "      <td>0.13</td>\n",
       "      <td>2018</td>\n",
       "    </tr>\n",
       "    <tr>\n",
       "      <th>168</th>\n",
       "      <td>DENMARK</td>\n",
       "      <td>2019</td>\n",
       "      <td>19.5</td>\n",
       "      <td>DENMARK</td>\n",
       "      <td>33850000.0</td>\n",
       "      <td>2019</td>\n",
       "      <td>EUROPE</td>\n",
       "      <td>0.02</td>\n",
       "      <td>2018</td>\n",
       "    </tr>\n",
       "    <tr>\n",
       "      <th>169</th>\n",
       "      <td>SWITZERLAND</td>\n",
       "      <td>2019</td>\n",
       "      <td>18.7</td>\n",
       "      <td>SWITZERLAND</td>\n",
       "      <td>38739000.0</td>\n",
       "      <td>2019</td>\n",
       "      <td>EUROPE</td>\n",
       "      <td>0.01</td>\n",
       "      <td>2018</td>\n",
       "    </tr>\n",
       "    <tr>\n",
       "      <th>170</th>\n",
       "      <td>NORWAY</td>\n",
       "      <td>2019</td>\n",
       "      <td>18.0</td>\n",
       "      <td>NORWAY</td>\n",
       "      <td>36731000.0</td>\n",
       "      <td>2019</td>\n",
       "      <td>EUROPE</td>\n",
       "      <td>0.05</td>\n",
       "      <td>2018</td>\n",
       "    </tr>\n",
       "    <tr>\n",
       "      <th>171</th>\n",
       "      <td>FINLAND</td>\n",
       "      <td>2019</td>\n",
       "      <td>16.9</td>\n",
       "      <td>FINLAND</td>\n",
       "      <td>41996000.0</td>\n",
       "      <td>2019</td>\n",
       "      <td>EUROPE</td>\n",
       "      <td>0.36</td>\n",
       "      <td>2018</td>\n",
       "    </tr>\n",
       "  </tbody>\n",
       "</table>\n",
       "<p>172 rows × 9 columns</p>\n",
       "</div>"
      ],
      "text/plain": [
       "                               Country  Year  Total  \\\n",
       "0                                YEMEN  2019  113.5   \n",
       "1                          SOUTH SUDAN  2019  112.2   \n",
       "2    CONGO, DEMOCRATIC REPUBLIC OF THE  2019  110.2   \n",
       "3             CENTRAL AFRICAN REPUBLIC  2019  108.9   \n",
       "4                                 CHAD  2019  108.5   \n",
       "..                                 ...   ...    ...   \n",
       "167                          AUSTRALIA  2019   19.7   \n",
       "168                            DENMARK  2019   19.5   \n",
       "169                        SWITZERLAND  2019   18.7   \n",
       "170                             NORWAY  2019   18.0   \n",
       "171                            FINLAND  2019   16.9   \n",
       "\n",
       "                                  name          co2  co2_date  \\\n",
       "0                                YEMEN   10158000.0      2019   \n",
       "1                          SOUTH SUDAN    1778000.0      2019   \n",
       "2    CONGO, DEMOCRATIC REPUBLIC OF THE    2653000.0      2019   \n",
       "3             CENTRAL AFRICAN REPUBLIC     285000.0      2019   \n",
       "4                                 CHAD    1771000.0      2019   \n",
       "..                                 ...          ...       ...   \n",
       "167                          AUSTRALIA  417870000.0      2019   \n",
       "168                            DENMARK   33850000.0      2019   \n",
       "169                        SWITZERLAND   38739000.0      2019   \n",
       "170                             NORWAY   36731000.0      2019   \n",
       "171                            FINLAND   41996000.0      2019   \n",
       "\n",
       "                    region  ForestRev_gdp  ForestRev_date  \n",
       "0              MIDDLE EAST           0.04            2018  \n",
       "1                   AFRICA           2.65            2015  \n",
       "2                   AFRICA           8.72            2018  \n",
       "3                   AFRICA           8.99            2018  \n",
       "4                   AFRICA           3.81            2018  \n",
       "..                     ...            ...             ...  \n",
       "167  AUSTRALIA AND OCEANIA           0.13            2018  \n",
       "168                 EUROPE           0.02            2018  \n",
       "169                 EUROPE           0.01            2018  \n",
       "170                 EUROPE           0.05            2018  \n",
       "171                 EUROPE           0.36            2018  \n",
       "\n",
       "[172 rows x 9 columns]"
      ]
     },
     "execution_count": 26,
     "metadata": {},
     "output_type": "execute_result"
    }
   ],
   "source": [
    "fragilecia=fragile2019.merge(cia) #merge on Country\n",
    "fragilecia"
   ]
  },
  {
   "cell_type": "code",
   "execution_count": 27,
   "metadata": {},
   "outputs": [
    {
     "name": "stdout",
     "output_type": "stream",
     "text": [
      "<class 'pandas.core.frame.DataFrame'>\n",
      "Int64Index: 172 entries, 0 to 171\n",
      "Data columns (total 9 columns):\n",
      " #   Column          Non-Null Count  Dtype  \n",
      "---  ------          --------------  -----  \n",
      " 0   Country         172 non-null    object \n",
      " 1   Year            172 non-null    int64  \n",
      " 2   Total           172 non-null    float64\n",
      " 3   name            172 non-null    object \n",
      " 4   co2             172 non-null    float64\n",
      " 5   co2_date        172 non-null    int64  \n",
      " 6   region          172 non-null    object \n",
      " 7   ForestRev_gdp   172 non-null    float64\n",
      " 8   ForestRev_date  172 non-null    int64  \n",
      "dtypes: float64(3), int64(3), object(3)\n",
      "memory usage: 13.4+ KB\n"
     ]
    }
   ],
   "source": [
    "#checking:\n",
    "fragilecia.info()"
   ]
  },
  {
   "cell_type": "markdown",
   "metadata": {},
   "source": [
    "Merging is a key process for producing analytics. So, it is always good to add some 'standard' information to avoid the need of fuzzy merging. See this data table\n"
   ]
  },
  {
   "cell_type": "code",
   "execution_count": 28,
   "metadata": {},
   "outputs": [
    {
     "data": {
      "text/html": [
       "<div>\n",
       "<style scoped>\n",
       "    .dataframe tbody tr th:only-of-type {\n",
       "        vertical-align: middle;\n",
       "    }\n",
       "\n",
       "    .dataframe tbody tr th {\n",
       "        vertical-align: top;\n",
       "    }\n",
       "\n",
       "    .dataframe thead th {\n",
       "        text-align: right;\n",
       "    }\n",
       "</style>\n",
       "<table border=\"1\" class=\"dataframe\">\n",
       "  <thead>\n",
       "    <tr style=\"text-align: right;\">\n",
       "      <th></th>\n",
       "      <th>Countryname</th>\n",
       "      <th>Officialstatename</th>\n",
       "      <th>InternetccTLD</th>\n",
       "      <th>iso2</th>\n",
       "      <th>iso3</th>\n",
       "    </tr>\n",
       "  </thead>\n",
       "  <tbody>\n",
       "    <tr>\n",
       "      <th>0</th>\n",
       "      <td>Afghanistan</td>\n",
       "      <td>The Islamic Republic of Afghanistan</td>\n",
       "      <td>.af</td>\n",
       "      <td>AF</td>\n",
       "      <td>AFG</td>\n",
       "    </tr>\n",
       "    <tr>\n",
       "      <th>1</th>\n",
       "      <td>Åland Islands</td>\n",
       "      <td>Åland</td>\n",
       "      <td>.ax</td>\n",
       "      <td>AX</td>\n",
       "      <td>ALA</td>\n",
       "    </tr>\n",
       "    <tr>\n",
       "      <th>2</th>\n",
       "      <td>Albania</td>\n",
       "      <td>The Republic of Albania</td>\n",
       "      <td>.al</td>\n",
       "      <td>AL</td>\n",
       "      <td>ALB</td>\n",
       "    </tr>\n",
       "    <tr>\n",
       "      <th>3</th>\n",
       "      <td>Algeria</td>\n",
       "      <td>The People's Democratic Republic of Algeria</td>\n",
       "      <td>.dz</td>\n",
       "      <td>DZ</td>\n",
       "      <td>DZA</td>\n",
       "    </tr>\n",
       "    <tr>\n",
       "      <th>4</th>\n",
       "      <td>American Samoa</td>\n",
       "      <td>The Territory of American Samoa</td>\n",
       "      <td>.as</td>\n",
       "      <td>AS</td>\n",
       "      <td>ASM</td>\n",
       "    </tr>\n",
       "  </tbody>\n",
       "</table>\n",
       "</div>"
      ],
      "text/plain": [
       "      Countryname                            Officialstatename InternetccTLD  \\\n",
       "0     Afghanistan          The Islamic Republic of Afghanistan           .af   \n",
       "1   Åland Islands                                        Åland           .ax   \n",
       "2         Albania                      The Republic of Albania           .al   \n",
       "3         Algeria  The People's Democratic Republic of Algeria           .dz   \n",
       "4  American Samoa              The Territory of American Samoa           .as   \n",
       "\n",
       "  iso2 iso3  \n",
       "0   AF  AFG  \n",
       "1   AX  ALA  \n",
       "2   AL  ALB  \n",
       "3   DZ  DZA  \n",
       "4   AS  ASM  "
      ]
     },
     "execution_count": 28,
     "metadata": {},
     "output_type": "execute_result"
    }
   ],
   "source": [
    "isoLink='https://github.com/CienciaDeDatosEspacial/dataSets/raw/main/isodata.csv'\n",
    "isoCodes=pd.read_csv(isoLink)\n",
    "isoCodes.head()"
   ]
  },
  {
   "cell_type": "markdown",
   "metadata": {},
   "source": [
    "We should add the **ISO** columns to our recent merged data frame:"
   ]
  },
  {
   "cell_type": "code",
   "execution_count": 29,
   "metadata": {},
   "outputs": [
    {
     "data": {
      "text/html": [
       "<div>\n",
       "<style scoped>\n",
       "    .dataframe tbody tr th:only-of-type {\n",
       "        vertical-align: middle;\n",
       "    }\n",
       "\n",
       "    .dataframe tbody tr th {\n",
       "        vertical-align: top;\n",
       "    }\n",
       "\n",
       "    .dataframe thead th {\n",
       "        text-align: right;\n",
       "    }\n",
       "</style>\n",
       "<table border=\"1\" class=\"dataframe\">\n",
       "  <thead>\n",
       "    <tr style=\"text-align: right;\">\n",
       "      <th></th>\n",
       "      <th>Countryname</th>\n",
       "      <th>Officialstatename</th>\n",
       "      <th>InternetccTLD</th>\n",
       "      <th>iso2</th>\n",
       "      <th>iso3</th>\n",
       "      <th>Country</th>\n",
       "      <th>Year</th>\n",
       "      <th>Total</th>\n",
       "      <th>name</th>\n",
       "      <th>co2</th>\n",
       "      <th>co2_date</th>\n",
       "      <th>region</th>\n",
       "      <th>ForestRev_gdp</th>\n",
       "      <th>ForestRev_date</th>\n",
       "    </tr>\n",
       "  </thead>\n",
       "  <tbody>\n",
       "    <tr>\n",
       "      <th>0</th>\n",
       "      <td>AFGHANISTAN</td>\n",
       "      <td>The Islamic Republic of Afghanistan</td>\n",
       "      <td>.af</td>\n",
       "      <td>AF</td>\n",
       "      <td>AFG</td>\n",
       "      <td>AFGHANISTAN</td>\n",
       "      <td>2019</td>\n",
       "      <td>105.0</td>\n",
       "      <td>AFGHANISTAN</td>\n",
       "      <td>7893000.0</td>\n",
       "      <td>2019</td>\n",
       "      <td>SOUTH ASIA</td>\n",
       "      <td>0.20</td>\n",
       "      <td>2018</td>\n",
       "    </tr>\n",
       "    <tr>\n",
       "      <th>1</th>\n",
       "      <td>ALBANIA</td>\n",
       "      <td>The Republic of Albania</td>\n",
       "      <td>.al</td>\n",
       "      <td>AL</td>\n",
       "      <td>ALB</td>\n",
       "      <td>ALBANIA</td>\n",
       "      <td>2019</td>\n",
       "      <td>58.9</td>\n",
       "      <td>ALBANIA</td>\n",
       "      <td>3794000.0</td>\n",
       "      <td>2019</td>\n",
       "      <td>EUROPE</td>\n",
       "      <td>0.18</td>\n",
       "      <td>2018</td>\n",
       "    </tr>\n",
       "    <tr>\n",
       "      <th>2</th>\n",
       "      <td>ALGERIA</td>\n",
       "      <td>The People's Democratic Republic of Algeria</td>\n",
       "      <td>.dz</td>\n",
       "      <td>DZ</td>\n",
       "      <td>DZA</td>\n",
       "      <td>ALGERIA</td>\n",
       "      <td>2019</td>\n",
       "      <td>75.4</td>\n",
       "      <td>ALGERIA</td>\n",
       "      <td>151633000.0</td>\n",
       "      <td>2019</td>\n",
       "      <td>AFRICA</td>\n",
       "      <td>0.10</td>\n",
       "      <td>2018</td>\n",
       "    </tr>\n",
       "    <tr>\n",
       "      <th>3</th>\n",
       "      <td>ANGOLA</td>\n",
       "      <td>The Republic of Angola</td>\n",
       "      <td>.ao</td>\n",
       "      <td>AO</td>\n",
       "      <td>AGO</td>\n",
       "      <td>ANGOLA</td>\n",
       "      <td>2019</td>\n",
       "      <td>87.8</td>\n",
       "      <td>ANGOLA</td>\n",
       "      <td>19362000.0</td>\n",
       "      <td>2019</td>\n",
       "      <td>AFRICA</td>\n",
       "      <td>0.36</td>\n",
       "      <td>2018</td>\n",
       "    </tr>\n",
       "    <tr>\n",
       "      <th>4</th>\n",
       "      <td>ANTIGUA AND BARBUDA</td>\n",
       "      <td>Antigua and Barbuda</td>\n",
       "      <td>.ag</td>\n",
       "      <td>AG</td>\n",
       "      <td>ATG</td>\n",
       "      <td>ANTIGUA AND BARBUDA</td>\n",
       "      <td>2019</td>\n",
       "      <td>54.4</td>\n",
       "      <td>ANTIGUA AND BARBUDA</td>\n",
       "      <td>729000.0</td>\n",
       "      <td>2019</td>\n",
       "      <td>CENTRAL AMERICA AND THE CARIBBEAN</td>\n",
       "      <td>0.00</td>\n",
       "      <td>2018</td>\n",
       "    </tr>\n",
       "    <tr>\n",
       "      <th>...</th>\n",
       "      <td>...</td>\n",
       "      <td>...</td>\n",
       "      <td>...</td>\n",
       "      <td>...</td>\n",
       "      <td>...</td>\n",
       "      <td>...</td>\n",
       "      <td>...</td>\n",
       "      <td>...</td>\n",
       "      <td>...</td>\n",
       "      <td>...</td>\n",
       "      <td>...</td>\n",
       "      <td>...</td>\n",
       "      <td>...</td>\n",
       "      <td>...</td>\n",
       "    </tr>\n",
       "    <tr>\n",
       "      <th>141</th>\n",
       "      <td>URUGUAY</td>\n",
       "      <td>The Oriental Republic of Uruguay</td>\n",
       "      <td>.uy</td>\n",
       "      <td>UY</td>\n",
       "      <td>URY</td>\n",
       "      <td>URUGUAY</td>\n",
       "      <td>2019</td>\n",
       "      <td>34.0</td>\n",
       "      <td>URUGUAY</td>\n",
       "      <td>6450000.0</td>\n",
       "      <td>2019</td>\n",
       "      <td>SOUTH AMERICA</td>\n",
       "      <td>1.56</td>\n",
       "      <td>2018</td>\n",
       "    </tr>\n",
       "    <tr>\n",
       "      <th>142</th>\n",
       "      <td>UZBEKISTAN</td>\n",
       "      <td>The Republic of Uzbekistan</td>\n",
       "      <td>.uz</td>\n",
       "      <td>UZ</td>\n",
       "      <td>UZB</td>\n",
       "      <td>UZBEKISTAN</td>\n",
       "      <td>2019</td>\n",
       "      <td>75.7</td>\n",
       "      <td>UZBEKISTAN</td>\n",
       "      <td>102965000.0</td>\n",
       "      <td>2019</td>\n",
       "      <td>CENTRAL ASIA</td>\n",
       "      <td>0.00</td>\n",
       "      <td>2018</td>\n",
       "    </tr>\n",
       "    <tr>\n",
       "      <th>143</th>\n",
       "      <td>YEMEN</td>\n",
       "      <td>The Republic of Yemen</td>\n",
       "      <td>.ye</td>\n",
       "      <td>YE</td>\n",
       "      <td>YEM</td>\n",
       "      <td>YEMEN</td>\n",
       "      <td>2019</td>\n",
       "      <td>113.5</td>\n",
       "      <td>YEMEN</td>\n",
       "      <td>10158000.0</td>\n",
       "      <td>2019</td>\n",
       "      <td>MIDDLE EAST</td>\n",
       "      <td>0.04</td>\n",
       "      <td>2018</td>\n",
       "    </tr>\n",
       "    <tr>\n",
       "      <th>144</th>\n",
       "      <td>ZAMBIA</td>\n",
       "      <td>The Republic of Zambia</td>\n",
       "      <td>.zm</td>\n",
       "      <td>ZM</td>\n",
       "      <td>ZMB</td>\n",
       "      <td>ZAMBIA</td>\n",
       "      <td>2019</td>\n",
       "      <td>85.7</td>\n",
       "      <td>ZAMBIA</td>\n",
       "      <td>6798000.0</td>\n",
       "      <td>2019</td>\n",
       "      <td>AFRICA</td>\n",
       "      <td>4.45</td>\n",
       "      <td>2018</td>\n",
       "    </tr>\n",
       "    <tr>\n",
       "      <th>145</th>\n",
       "      <td>ZIMBABWE</td>\n",
       "      <td>The Republic of Zimbabwe</td>\n",
       "      <td>.zw</td>\n",
       "      <td>ZW</td>\n",
       "      <td>ZWE</td>\n",
       "      <td>ZIMBABWE</td>\n",
       "      <td>2019</td>\n",
       "      <td>99.5</td>\n",
       "      <td>ZIMBABWE</td>\n",
       "      <td>7902000.0</td>\n",
       "      <td>2019</td>\n",
       "      <td>AFRICA</td>\n",
       "      <td>1.61</td>\n",
       "      <td>2018</td>\n",
       "    </tr>\n",
       "  </tbody>\n",
       "</table>\n",
       "<p>146 rows × 14 columns</p>\n",
       "</div>"
      ],
      "text/plain": [
       "             Countryname                            Officialstatename  \\\n",
       "0            AFGHANISTAN          The Islamic Republic of Afghanistan   \n",
       "1                ALBANIA                      The Republic of Albania   \n",
       "2                ALGERIA  The People's Democratic Republic of Algeria   \n",
       "3                 ANGOLA                       The Republic of Angola   \n",
       "4    ANTIGUA AND BARBUDA                          Antigua and Barbuda   \n",
       "..                   ...                                          ...   \n",
       "141              URUGUAY             The Oriental Republic of Uruguay   \n",
       "142           UZBEKISTAN                   The Republic of Uzbekistan   \n",
       "143                YEMEN                        The Republic of Yemen   \n",
       "144               ZAMBIA                       The Republic of Zambia   \n",
       "145             ZIMBABWE                     The Republic of Zimbabwe   \n",
       "\n",
       "    InternetccTLD iso2 iso3              Country  Year  Total  \\\n",
       "0             .af   AF  AFG          AFGHANISTAN  2019  105.0   \n",
       "1             .al   AL  ALB              ALBANIA  2019   58.9   \n",
       "2             .dz   DZ  DZA              ALGERIA  2019   75.4   \n",
       "3             .ao   AO  AGO               ANGOLA  2019   87.8   \n",
       "4             .ag   AG  ATG  ANTIGUA AND BARBUDA  2019   54.4   \n",
       "..            ...  ...  ...                  ...   ...    ...   \n",
       "141           .uy   UY  URY              URUGUAY  2019   34.0   \n",
       "142           .uz   UZ  UZB           UZBEKISTAN  2019   75.7   \n",
       "143           .ye   YE  YEM                YEMEN  2019  113.5   \n",
       "144           .zm   ZM  ZMB               ZAMBIA  2019   85.7   \n",
       "145           .zw   ZW  ZWE             ZIMBABWE  2019   99.5   \n",
       "\n",
       "                    name          co2  co2_date  \\\n",
       "0            AFGHANISTAN    7893000.0      2019   \n",
       "1                ALBANIA    3794000.0      2019   \n",
       "2                ALGERIA  151633000.0      2019   \n",
       "3                 ANGOLA   19362000.0      2019   \n",
       "4    ANTIGUA AND BARBUDA     729000.0      2019   \n",
       "..                   ...          ...       ...   \n",
       "141              URUGUAY    6450000.0      2019   \n",
       "142           UZBEKISTAN  102965000.0      2019   \n",
       "143                YEMEN   10158000.0      2019   \n",
       "144               ZAMBIA    6798000.0      2019   \n",
       "145             ZIMBABWE    7902000.0      2019   \n",
       "\n",
       "                                region  ForestRev_gdp  ForestRev_date  \n",
       "0                           SOUTH ASIA           0.20            2018  \n",
       "1                               EUROPE           0.18            2018  \n",
       "2                               AFRICA           0.10            2018  \n",
       "3                               AFRICA           0.36            2018  \n",
       "4    CENTRAL AMERICA AND THE CARIBBEAN           0.00            2018  \n",
       "..                                 ...            ...             ...  \n",
       "141                      SOUTH AMERICA           1.56            2018  \n",
       "142                       CENTRAL ASIA           0.00            2018  \n",
       "143                        MIDDLE EAST           0.04            2018  \n",
       "144                             AFRICA           4.45            2018  \n",
       "145                             AFRICA           1.61            2018  \n",
       "\n",
       "[146 rows x 14 columns]"
      ]
     },
     "execution_count": 29,
     "metadata": {},
     "output_type": "execute_result"
    }
   ],
   "source": [
    "# key columns are not spelled the same:\n",
    "isoCodes.Countryname=isoCodes.Countryname.str.upper()\n",
    "isoCodes.merge(fragilecia,left_on='Countryname',right_on='Country')"
   ]
  },
  {
   "cell_type": "markdown",
   "metadata": {},
   "source": [
    "We have lost several countries, then we redo the fuzzy merge:"
   ]
  },
  {
   "cell_type": "code",
   "execution_count": 30,
   "metadata": {},
   "outputs": [
    {
     "data": {
      "text/plain": [
       "[('BAHAMAS, THE', ('BAHAMAS (THE)', 100)),\n",
       " ('BOLIVIA', ('BOLIVIA (PLURINATIONAL STATE OF)', 90)),\n",
       " ('BRUNEI', ('BRUNEI DARUSSALAM', 90)),\n",
       " ('CENTRAL AFRICAN REPUBLIC', ('CENTRAL AFRICAN REPUBLIC (THE)', 95)),\n",
       " ('COMOROS', ('COMOROS (THE)', 90)),\n",
       " ('CONGO, DEMOCRATIC REPUBLIC OF THE',\n",
       "  ('CONGO (THE DEMOCRATIC REPUBLIC OF THE)', 95)),\n",
       " ('CONGO, REPUBLIC OF THE', ('BRITISH INDIAN OCEAN TERRITORY (THE)', 86)),\n",
       " (\"COTE D'IVOIRE\", (\"CÔTE D'IVOIRE\", 96)),\n",
       " ('DOMINICAN REPUBLIC', ('DOMINICAN REPUBLIC (THE)', 95)),\n",
       " ('GAMBIA, THE', ('GAMBIA (THE)', 100)),\n",
       " ('IRAN', ('IRAN (ISLAMIC REPUBLIC OF)', 90)),\n",
       " ('KOREA, SOUTH', (\"KOREA (THE DEMOCRATIC PEOPLE'S REPUBLIC OF)\", 86)),\n",
       " ('LAOS', ('ANGUILLA', 60)),\n",
       " ('MICRONESIA, FEDERATED STATES OF',\n",
       "  ('MICRONESIA (FEDERATED STATES OF)', 100)),\n",
       " ('MOLDOVA', ('MOLDOVA (THE REPUBLIC OF)', 90)),\n",
       " ('NETHERLANDS', ('NETHERLANDS (THE)', 95)),\n",
       " ('NIGER', ('NIGER (THE)', 90)),\n",
       " ('PHILIPPINES', ('PHILIPPINES (THE)', 95)),\n",
       " ('RUSSIA', ('RUSSIAN FEDERATION (THE)', 90)),\n",
       " ('SUDAN', ('SUDAN (THE)', 90)),\n",
       " ('TANZANIA', ('TANZANIA, THE UNITED REPUBLIC OF', 90)),\n",
       " ('TURKEY (TURKIYE)', ('TURKEY', 90)),\n",
       " ('UNITED ARAB EMIRATES', ('UNITED ARAB EMIRATES (THE)', 95)),\n",
       " ('UNITED KINGDOM',\n",
       "  ('UNITED KINGDOM OF GREAT BRITAIN AND NORTHERN IRELAND (THE)', 90)),\n",
       " ('UNITED STATES', ('UNITED STATES OF AMERICA (THE)', 90)),\n",
       " ('VIETNAM', ('VIET NAM', 93))]"
      ]
     },
     "execution_count": 30,
     "metadata": {},
     "output_type": "execute_result"
    }
   ],
   "source": [
    "onlyFrcia=set(fragilecia.Country)-set(isoCodes.Countryname)\n",
    "onlyISO=set(isoCodes.Countryname)-set(fragilecia.Country)\n",
    "\n",
    "[(f,fz.extractOne(f, onlyISO)) for f in sorted(onlyFrcia)]"
   ]
  },
  {
   "cell_type": "markdown",
   "metadata": {},
   "source": [
    "Prepare changes:"
   ]
  },
  {
   "cell_type": "code",
   "execution_count": 31,
   "metadata": {},
   "outputs": [
    {
     "data": {
      "text/plain": [
       "{'BAHAMAS, THE': 'BAHAMAS (THE)',\n",
       " 'BOLIVIA': 'BOLIVIA (PLURINATIONAL STATE OF)',\n",
       " 'BRUNEI': 'BRUNEI DARUSSALAM',\n",
       " 'CENTRAL AFRICAN REPUBLIC': 'CENTRAL AFRICAN REPUBLIC (THE)',\n",
       " 'COMOROS': 'COMOROS (THE)',\n",
       " 'CONGO, DEMOCRATIC REPUBLIC OF THE': 'CONGO (THE DEMOCRATIC REPUBLIC OF THE)',\n",
       " \"COTE D'IVOIRE\": \"CÔTE D'IVOIRE\",\n",
       " 'DOMINICAN REPUBLIC': 'DOMINICAN REPUBLIC (THE)',\n",
       " 'GAMBIA, THE': 'GAMBIA (THE)',\n",
       " 'IRAN': 'IRAN (ISLAMIC REPUBLIC OF)',\n",
       " 'MICRONESIA, FEDERATED STATES OF': 'MICRONESIA (FEDERATED STATES OF)',\n",
       " 'MOLDOVA': 'MOLDOVA (THE REPUBLIC OF)',\n",
       " 'NETHERLANDS': 'NETHERLANDS (THE)',\n",
       " 'NIGER': 'NIGER (THE)',\n",
       " 'PHILIPPINES': 'PHILIPPINES (THE)',\n",
       " 'RUSSIA': 'RUSSIAN FEDERATION (THE)',\n",
       " 'SUDAN': 'SUDAN (THE)',\n",
       " 'TANZANIA': 'TANZANIA, THE UNITED REPUBLIC OF',\n",
       " 'TURKEY (TURKIYE)': 'TURKEY',\n",
       " 'UNITED ARAB EMIRATES': 'UNITED ARAB EMIRATES (THE)',\n",
       " 'UNITED KINGDOM': 'UNITED KINGDOM OF GREAT BRITAIN AND NORTHERN IRELAND (THE)',\n",
       " 'UNITED STATES': 'UNITED STATES OF AMERICA (THE)',\n",
       " 'VIETNAM': 'VIET NAM'}"
      ]
     },
     "execution_count": 31,
     "metadata": {},
     "output_type": "execute_result"
    }
   ],
   "source": [
    "# first change\n",
    "changesFrcia1={f:fz.extractOne(f, onlyISO)[0] \n",
    "                 for f in sorted(onlyFrcia)\n",
    "                 if fz.extractOne(f, onlyISO)[1] >=87}\n",
    "#dict of matches\n",
    "changesFrcia1"
   ]
  },
  {
   "cell_type": "code",
   "execution_count": 32,
   "metadata": {},
   "outputs": [],
   "source": [
    "# make changes\n",
    "fragilecia.Country.replace(to_replace=changesFrcia1,inplace=True)"
   ]
  },
  {
   "cell_type": "markdown",
   "metadata": {},
   "source": [
    "Second iteration"
   ]
  },
  {
   "cell_type": "code",
   "execution_count": 33,
   "metadata": {},
   "outputs": [
    {
     "data": {
      "text/plain": [
       "[('CONGO, REPUBLIC OF THE', ('BRITISH INDIAN OCEAN TERRITORY (THE)', 86)),\n",
       " ('KOREA, SOUTH', (\"KOREA (THE DEMOCRATIC PEOPLE'S REPUBLIC OF)\", 86)),\n",
       " ('LAOS', ('ANGUILLA', 60))]"
      ]
     },
     "execution_count": 33,
     "metadata": {},
     "output_type": "execute_result"
    }
   ],
   "source": [
    "onlyFrcia=set(fragilecia.Country)-set(isoCodes.Countryname)\n",
    "onlyISO=set(isoCodes.Countryname)-set(fragilecia.Country)\n",
    "\n",
    "[(f,fz.extractOne(f, onlyISO)) for f in sorted(onlyFrcia)]"
   ]
  },
  {
   "cell_type": "markdown",
   "metadata": {},
   "source": [
    "This second iteration gives weird results. Let's use a different function to get more than one result:"
   ]
  },
  {
   "cell_type": "code",
   "execution_count": 34,
   "metadata": {},
   "outputs": [
    {
     "data": {
      "text/plain": [
       "[('CONGO, REPUBLIC OF THE',\n",
       "  [('BRITISH INDIAN OCEAN TERRITORY (THE)', 86),\n",
       "   ('HOLY SEE (THE)', 86),\n",
       "   ('VENEZUELA (BOLIVARIAN REPUBLIC OF)', 86),\n",
       "   (\"KOREA (THE DEMOCRATIC PEOPLE'S REPUBLIC OF)\", 86),\n",
       "   ('SOUTH GEORGIA AND THE SOUTH SANDWICH ISLANDS', 86)]),\n",
       " ('KOREA, SOUTH',\n",
       "  [(\"KOREA (THE DEMOCRATIC PEOPLE'S REPUBLIC OF)\", 86),\n",
       "   ('SOUTH GEORGIA AND THE SOUTH SANDWICH ISLANDS', 86),\n",
       "   ('KOREA (THE REPUBLIC OF)', 86),\n",
       "   ('SOUTH AFRICA', 66),\n",
       "   ('FRENCH SOUTHERN TERRITORIES (THE)', 62)]),\n",
       " ('LAOS',\n",
       "  [('ANGUILLA', 60),\n",
       "   ('CURAÇAO', 51),\n",
       "   ('MONACO', 51),\n",
       "   ('TOKELAU', 51),\n",
       "   ('HOLY SEE (THE)', 45)])]"
      ]
     },
     "execution_count": 34,
     "metadata": {},
     "output_type": "execute_result"
    }
   ],
   "source": [
    "onlyFrcia=set(fragilecia.Country)-set(isoCodes.Countryname)\n",
    "onlyISO=set(isoCodes.Countryname)-set(fragilecia.Country)\n",
    "\n",
    "[(f,fz.extract(f, onlyISO)) for f in sorted(onlyFrcia)]"
   ]
  },
  {
   "cell_type": "code",
   "execution_count": 35,
   "metadata": {},
   "outputs": [
    {
     "data": {
      "text/html": [
       "<div>\n",
       "<style scoped>\n",
       "    .dataframe tbody tr th:only-of-type {\n",
       "        vertical-align: middle;\n",
       "    }\n",
       "\n",
       "    .dataframe tbody tr th {\n",
       "        vertical-align: top;\n",
       "    }\n",
       "\n",
       "    .dataframe thead th {\n",
       "        text-align: right;\n",
       "    }\n",
       "</style>\n",
       "<table border=\"1\" class=\"dataframe\">\n",
       "  <thead>\n",
       "    <tr style=\"text-align: right;\">\n",
       "      <th></th>\n",
       "      <th>Countryname</th>\n",
       "      <th>Officialstatename</th>\n",
       "      <th>InternetccTLD</th>\n",
       "      <th>iso2</th>\n",
       "      <th>iso3</th>\n",
       "    </tr>\n",
       "  </thead>\n",
       "  <tbody>\n",
       "    <tr>\n",
       "      <th>122</th>\n",
       "      <td>LAO PEOPLE'S DEMOCRATIC REPUBLIC (THE)</td>\n",
       "      <td>The Lao People's Democratic Republic</td>\n",
       "      <td>.la</td>\n",
       "      <td>LA</td>\n",
       "      <td>LAO</td>\n",
       "    </tr>\n",
       "  </tbody>\n",
       "</table>\n",
       "</div>"
      ],
      "text/plain": [
       "                                Countryname  \\\n",
       "122  LAO PEOPLE'S DEMOCRATIC REPUBLIC (THE)   \n",
       "\n",
       "                        Officialstatename InternetccTLD iso2 iso3  \n",
       "122  The Lao People's Democratic Republic           .la   LA  LAO  "
      ]
     },
     "execution_count": 35,
     "metadata": {},
     "output_type": "execute_result"
    }
   ],
   "source": [
    "# remember you can use this for a particular case:\n",
    "isoCodes.loc[isoCodes.Countryname.str.contains('LAO')]"
   ]
  },
  {
   "cell_type": "markdown",
   "metadata": {},
   "source": [
    "Then, just prepare manual changes:"
   ]
  },
  {
   "cell_type": "code",
   "execution_count": 36,
   "metadata": {},
   "outputs": [],
   "source": [
    "lastChanges={'CONGO, REPUBLIC OF THE':'CONGO (THE)',\n",
    " 'KOREA, SOUTH':'KOREA (THE REPUBLIC OF)',\n",
    "'LAOS':\"LAO PEOPLE'S DEMOCRATIC REPUBLIC (THE)\"}\n",
    "\n",
    "fragilecia.Country.replace(to_replace=lastChanges,inplace=True)"
   ]
  },
  {
   "cell_type": "markdown",
   "metadata": {},
   "source": [
    "Then,"
   ]
  },
  {
   "cell_type": "code",
   "execution_count": 37,
   "metadata": {},
   "outputs": [
    {
     "data": {
      "text/html": [
       "<div>\n",
       "<style scoped>\n",
       "    .dataframe tbody tr th:only-of-type {\n",
       "        vertical-align: middle;\n",
       "    }\n",
       "\n",
       "    .dataframe tbody tr th {\n",
       "        vertical-align: top;\n",
       "    }\n",
       "\n",
       "    .dataframe thead th {\n",
       "        text-align: right;\n",
       "    }\n",
       "</style>\n",
       "<table border=\"1\" class=\"dataframe\">\n",
       "  <thead>\n",
       "    <tr style=\"text-align: right;\">\n",
       "      <th></th>\n",
       "      <th>Countryname</th>\n",
       "      <th>Officialstatename</th>\n",
       "      <th>InternetccTLD</th>\n",
       "      <th>iso2</th>\n",
       "      <th>iso3</th>\n",
       "      <th>Country</th>\n",
       "      <th>Year</th>\n",
       "      <th>Total</th>\n",
       "      <th>name</th>\n",
       "      <th>co2</th>\n",
       "      <th>co2_date</th>\n",
       "      <th>region</th>\n",
       "      <th>ForestRev_gdp</th>\n",
       "      <th>ForestRev_date</th>\n",
       "    </tr>\n",
       "  </thead>\n",
       "  <tbody>\n",
       "    <tr>\n",
       "      <th>0</th>\n",
       "      <td>AFGHANISTAN</td>\n",
       "      <td>The Islamic Republic of Afghanistan</td>\n",
       "      <td>.af</td>\n",
       "      <td>AF</td>\n",
       "      <td>AFG</td>\n",
       "      <td>AFGHANISTAN</td>\n",
       "      <td>2019</td>\n",
       "      <td>105.0</td>\n",
       "      <td>AFGHANISTAN</td>\n",
       "      <td>7893000.0</td>\n",
       "      <td>2019</td>\n",
       "      <td>SOUTH ASIA</td>\n",
       "      <td>0.20</td>\n",
       "      <td>2018</td>\n",
       "    </tr>\n",
       "    <tr>\n",
       "      <th>1</th>\n",
       "      <td>ALBANIA</td>\n",
       "      <td>The Republic of Albania</td>\n",
       "      <td>.al</td>\n",
       "      <td>AL</td>\n",
       "      <td>ALB</td>\n",
       "      <td>ALBANIA</td>\n",
       "      <td>2019</td>\n",
       "      <td>58.9</td>\n",
       "      <td>ALBANIA</td>\n",
       "      <td>3794000.0</td>\n",
       "      <td>2019</td>\n",
       "      <td>EUROPE</td>\n",
       "      <td>0.18</td>\n",
       "      <td>2018</td>\n",
       "    </tr>\n",
       "    <tr>\n",
       "      <th>2</th>\n",
       "      <td>ALGERIA</td>\n",
       "      <td>The People's Democratic Republic of Algeria</td>\n",
       "      <td>.dz</td>\n",
       "      <td>DZ</td>\n",
       "      <td>DZA</td>\n",
       "      <td>ALGERIA</td>\n",
       "      <td>2019</td>\n",
       "      <td>75.4</td>\n",
       "      <td>ALGERIA</td>\n",
       "      <td>151633000.0</td>\n",
       "      <td>2019</td>\n",
       "      <td>AFRICA</td>\n",
       "      <td>0.10</td>\n",
       "      <td>2018</td>\n",
       "    </tr>\n",
       "    <tr>\n",
       "      <th>3</th>\n",
       "      <td>ANGOLA</td>\n",
       "      <td>The Republic of Angola</td>\n",
       "      <td>.ao</td>\n",
       "      <td>AO</td>\n",
       "      <td>AGO</td>\n",
       "      <td>ANGOLA</td>\n",
       "      <td>2019</td>\n",
       "      <td>87.8</td>\n",
       "      <td>ANGOLA</td>\n",
       "      <td>19362000.0</td>\n",
       "      <td>2019</td>\n",
       "      <td>AFRICA</td>\n",
       "      <td>0.36</td>\n",
       "      <td>2018</td>\n",
       "    </tr>\n",
       "    <tr>\n",
       "      <th>4</th>\n",
       "      <td>ANTIGUA AND BARBUDA</td>\n",
       "      <td>Antigua and Barbuda</td>\n",
       "      <td>.ag</td>\n",
       "      <td>AG</td>\n",
       "      <td>ATG</td>\n",
       "      <td>ANTIGUA AND BARBUDA</td>\n",
       "      <td>2019</td>\n",
       "      <td>54.4</td>\n",
       "      <td>ANTIGUA AND BARBUDA</td>\n",
       "      <td>729000.0</td>\n",
       "      <td>2019</td>\n",
       "      <td>CENTRAL AMERICA AND THE CARIBBEAN</td>\n",
       "      <td>0.00</td>\n",
       "      <td>2018</td>\n",
       "    </tr>\n",
       "  </tbody>\n",
       "</table>\n",
       "</div>"
      ],
      "text/plain": [
       "           Countryname                            Officialstatename  \\\n",
       "0          AFGHANISTAN          The Islamic Republic of Afghanistan   \n",
       "1              ALBANIA                      The Republic of Albania   \n",
       "2              ALGERIA  The People's Democratic Republic of Algeria   \n",
       "3               ANGOLA                       The Republic of Angola   \n",
       "4  ANTIGUA AND BARBUDA                          Antigua and Barbuda   \n",
       "\n",
       "  InternetccTLD iso2 iso3              Country  Year  Total  \\\n",
       "0           .af   AF  AFG          AFGHANISTAN  2019  105.0   \n",
       "1           .al   AL  ALB              ALBANIA  2019   58.9   \n",
       "2           .dz   DZ  DZA              ALGERIA  2019   75.4   \n",
       "3           .ao   AO  AGO               ANGOLA  2019   87.8   \n",
       "4           .ag   AG  ATG  ANTIGUA AND BARBUDA  2019   54.4   \n",
       "\n",
       "                  name          co2  co2_date  \\\n",
       "0          AFGHANISTAN    7893000.0      2019   \n",
       "1              ALBANIA    3794000.0      2019   \n",
       "2              ALGERIA  151633000.0      2019   \n",
       "3               ANGOLA   19362000.0      2019   \n",
       "4  ANTIGUA AND BARBUDA     729000.0      2019   \n",
       "\n",
       "                              region  ForestRev_gdp  ForestRev_date  \n",
       "0                         SOUTH ASIA           0.20            2018  \n",
       "1                             EUROPE           0.18            2018  \n",
       "2                             AFRICA           0.10            2018  \n",
       "3                             AFRICA           0.36            2018  \n",
       "4  CENTRAL AMERICA AND THE CARIBBEAN           0.00            2018  "
      ]
     },
     "execution_count": 37,
     "metadata": {},
     "output_type": "execute_result"
    }
   ],
   "source": [
    "fragciaiso=isoCodes.merge(fragilecia,left_on='Countryname',right_on='Country')\n",
    "fragciaiso.head()"
   ]
  },
  {
   "cell_type": "code",
   "execution_count": 38,
   "metadata": {},
   "outputs": [
    {
     "data": {
      "text/html": [
       "<div>\n",
       "<style scoped>\n",
       "    .dataframe tbody tr th:only-of-type {\n",
       "        vertical-align: middle;\n",
       "    }\n",
       "\n",
       "    .dataframe tbody tr th {\n",
       "        vertical-align: top;\n",
       "    }\n",
       "\n",
       "    .dataframe thead th {\n",
       "        text-align: right;\n",
       "    }\n",
       "</style>\n",
       "<table border=\"1\" class=\"dataframe\">\n",
       "  <thead>\n",
       "    <tr style=\"text-align: right;\">\n",
       "      <th></th>\n",
       "      <th>Country</th>\n",
       "      <th>Officialstatename</th>\n",
       "      <th>InternetccTLD</th>\n",
       "      <th>iso2</th>\n",
       "      <th>iso3</th>\n",
       "      <th>fragility_date</th>\n",
       "      <th>fragility</th>\n",
       "      <th>co2</th>\n",
       "      <th>co2_date</th>\n",
       "      <th>region</th>\n",
       "      <th>ForestRev_gdp</th>\n",
       "      <th>ForestRev_date</th>\n",
       "    </tr>\n",
       "  </thead>\n",
       "  <tbody>\n",
       "    <tr>\n",
       "      <th>0</th>\n",
       "      <td>AFGHANISTAN</td>\n",
       "      <td>The Islamic Republic of Afghanistan</td>\n",
       "      <td>.af</td>\n",
       "      <td>AF</td>\n",
       "      <td>AFG</td>\n",
       "      <td>2019</td>\n",
       "      <td>105.0</td>\n",
       "      <td>7893000.0</td>\n",
       "      <td>2019</td>\n",
       "      <td>SOUTH ASIA</td>\n",
       "      <td>0.20</td>\n",
       "      <td>2018</td>\n",
       "    </tr>\n",
       "    <tr>\n",
       "      <th>1</th>\n",
       "      <td>ALBANIA</td>\n",
       "      <td>The Republic of Albania</td>\n",
       "      <td>.al</td>\n",
       "      <td>AL</td>\n",
       "      <td>ALB</td>\n",
       "      <td>2019</td>\n",
       "      <td>58.9</td>\n",
       "      <td>3794000.0</td>\n",
       "      <td>2019</td>\n",
       "      <td>EUROPE</td>\n",
       "      <td>0.18</td>\n",
       "      <td>2018</td>\n",
       "    </tr>\n",
       "    <tr>\n",
       "      <th>2</th>\n",
       "      <td>ALGERIA</td>\n",
       "      <td>The People's Democratic Republic of Algeria</td>\n",
       "      <td>.dz</td>\n",
       "      <td>DZ</td>\n",
       "      <td>DZA</td>\n",
       "      <td>2019</td>\n",
       "      <td>75.4</td>\n",
       "      <td>151633000.0</td>\n",
       "      <td>2019</td>\n",
       "      <td>AFRICA</td>\n",
       "      <td>0.10</td>\n",
       "      <td>2018</td>\n",
       "    </tr>\n",
       "    <tr>\n",
       "      <th>3</th>\n",
       "      <td>ANGOLA</td>\n",
       "      <td>The Republic of Angola</td>\n",
       "      <td>.ao</td>\n",
       "      <td>AO</td>\n",
       "      <td>AGO</td>\n",
       "      <td>2019</td>\n",
       "      <td>87.8</td>\n",
       "      <td>19362000.0</td>\n",
       "      <td>2019</td>\n",
       "      <td>AFRICA</td>\n",
       "      <td>0.36</td>\n",
       "      <td>2018</td>\n",
       "    </tr>\n",
       "    <tr>\n",
       "      <th>4</th>\n",
       "      <td>ANTIGUA AND BARBUDA</td>\n",
       "      <td>Antigua and Barbuda</td>\n",
       "      <td>.ag</td>\n",
       "      <td>AG</td>\n",
       "      <td>ATG</td>\n",
       "      <td>2019</td>\n",
       "      <td>54.4</td>\n",
       "      <td>729000.0</td>\n",
       "      <td>2019</td>\n",
       "      <td>CENTRAL AMERICA AND THE CARIBBEAN</td>\n",
       "      <td>0.00</td>\n",
       "      <td>2018</td>\n",
       "    </tr>\n",
       "    <tr>\n",
       "      <th>...</th>\n",
       "      <td>...</td>\n",
       "      <td>...</td>\n",
       "      <td>...</td>\n",
       "      <td>...</td>\n",
       "      <td>...</td>\n",
       "      <td>...</td>\n",
       "      <td>...</td>\n",
       "      <td>...</td>\n",
       "      <td>...</td>\n",
       "      <td>...</td>\n",
       "      <td>...</td>\n",
       "      <td>...</td>\n",
       "    </tr>\n",
       "    <tr>\n",
       "      <th>167</th>\n",
       "      <td>UZBEKISTAN</td>\n",
       "      <td>The Republic of Uzbekistan</td>\n",
       "      <td>.uz</td>\n",
       "      <td>UZ</td>\n",
       "      <td>UZB</td>\n",
       "      <td>2019</td>\n",
       "      <td>75.7</td>\n",
       "      <td>102965000.0</td>\n",
       "      <td>2019</td>\n",
       "      <td>CENTRAL ASIA</td>\n",
       "      <td>0.00</td>\n",
       "      <td>2018</td>\n",
       "    </tr>\n",
       "    <tr>\n",
       "      <th>168</th>\n",
       "      <td>VIET NAM</td>\n",
       "      <td>The Socialist Republic of Viet Nam</td>\n",
       "      <td>.vn</td>\n",
       "      <td>VN</td>\n",
       "      <td>VNM</td>\n",
       "      <td>2019</td>\n",
       "      <td>66.1</td>\n",
       "      <td>249929000.0</td>\n",
       "      <td>2019</td>\n",
       "      <td>EAST AND SOUTHEAST ASIA</td>\n",
       "      <td>1.49</td>\n",
       "      <td>2018</td>\n",
       "    </tr>\n",
       "    <tr>\n",
       "      <th>169</th>\n",
       "      <td>YEMEN</td>\n",
       "      <td>The Republic of Yemen</td>\n",
       "      <td>.ye</td>\n",
       "      <td>YE</td>\n",
       "      <td>YEM</td>\n",
       "      <td>2019</td>\n",
       "      <td>113.5</td>\n",
       "      <td>10158000.0</td>\n",
       "      <td>2019</td>\n",
       "      <td>MIDDLE EAST</td>\n",
       "      <td>0.04</td>\n",
       "      <td>2018</td>\n",
       "    </tr>\n",
       "    <tr>\n",
       "      <th>170</th>\n",
       "      <td>ZAMBIA</td>\n",
       "      <td>The Republic of Zambia</td>\n",
       "      <td>.zm</td>\n",
       "      <td>ZM</td>\n",
       "      <td>ZMB</td>\n",
       "      <td>2019</td>\n",
       "      <td>85.7</td>\n",
       "      <td>6798000.0</td>\n",
       "      <td>2019</td>\n",
       "      <td>AFRICA</td>\n",
       "      <td>4.45</td>\n",
       "      <td>2018</td>\n",
       "    </tr>\n",
       "    <tr>\n",
       "      <th>171</th>\n",
       "      <td>ZIMBABWE</td>\n",
       "      <td>The Republic of Zimbabwe</td>\n",
       "      <td>.zw</td>\n",
       "      <td>ZW</td>\n",
       "      <td>ZWE</td>\n",
       "      <td>2019</td>\n",
       "      <td>99.5</td>\n",
       "      <td>7902000.0</td>\n",
       "      <td>2019</td>\n",
       "      <td>AFRICA</td>\n",
       "      <td>1.61</td>\n",
       "      <td>2018</td>\n",
       "    </tr>\n",
       "  </tbody>\n",
       "</table>\n",
       "<p>172 rows × 12 columns</p>\n",
       "</div>"
      ],
      "text/plain": [
       "                 Country                            Officialstatename  \\\n",
       "0            AFGHANISTAN          The Islamic Republic of Afghanistan   \n",
       "1                ALBANIA                      The Republic of Albania   \n",
       "2                ALGERIA  The People's Democratic Republic of Algeria   \n",
       "3                 ANGOLA                       The Republic of Angola   \n",
       "4    ANTIGUA AND BARBUDA                          Antigua and Barbuda   \n",
       "..                   ...                                          ...   \n",
       "167           UZBEKISTAN                   The Republic of Uzbekistan   \n",
       "168             VIET NAM           The Socialist Republic of Viet Nam   \n",
       "169                YEMEN                        The Republic of Yemen   \n",
       "170               ZAMBIA                       The Republic of Zambia   \n",
       "171             ZIMBABWE                     The Republic of Zimbabwe   \n",
       "\n",
       "    InternetccTLD iso2 iso3  fragility_date  fragility          co2  co2_date  \\\n",
       "0             .af   AF  AFG            2019      105.0    7893000.0      2019   \n",
       "1             .al   AL  ALB            2019       58.9    3794000.0      2019   \n",
       "2             .dz   DZ  DZA            2019       75.4  151633000.0      2019   \n",
       "3             .ao   AO  AGO            2019       87.8   19362000.0      2019   \n",
       "4             .ag   AG  ATG            2019       54.4     729000.0      2019   \n",
       "..            ...  ...  ...             ...        ...          ...       ...   \n",
       "167           .uz   UZ  UZB            2019       75.7  102965000.0      2019   \n",
       "168           .vn   VN  VNM            2019       66.1  249929000.0      2019   \n",
       "169           .ye   YE  YEM            2019      113.5   10158000.0      2019   \n",
       "170           .zm   ZM  ZMB            2019       85.7    6798000.0      2019   \n",
       "171           .zw   ZW  ZWE            2019       99.5    7902000.0      2019   \n",
       "\n",
       "                                region  ForestRev_gdp  ForestRev_date  \n",
       "0                           SOUTH ASIA           0.20            2018  \n",
       "1                               EUROPE           0.18            2018  \n",
       "2                               AFRICA           0.10            2018  \n",
       "3                               AFRICA           0.36            2018  \n",
       "4    CENTRAL AMERICA AND THE CARIBBEAN           0.00            2018  \n",
       "..                                 ...            ...             ...  \n",
       "167                       CENTRAL ASIA           0.00            2018  \n",
       "168            EAST AND SOUTHEAST ASIA           1.49            2018  \n",
       "169                        MIDDLE EAST           0.04            2018  \n",
       "170                             AFRICA           4.45            2018  \n",
       "171                             AFRICA           1.61            2018  \n",
       "\n",
       "[172 rows x 12 columns]"
      ]
     },
     "execution_count": 38,
     "metadata": {},
     "output_type": "execute_result"
    }
   ],
   "source": [
    "fragciaiso.drop(columns=['Country','name'],inplace=True)\n",
    "fragciaiso.rename(columns={'Countryname':\"Country\",'Year':'fragility_date','Total':'fragility'},inplace=True)\n",
    "fragciaiso"
   ]
  },
  {
   "cell_type": "markdown",
   "metadata": {},
   "source": [
    "Let's save what we have:"
   ]
  },
  {
   "cell_type": "code",
   "execution_count": 40,
   "metadata": {},
   "outputs": [],
   "source": [
    "fragciaiso.to_csv(os.path.join(\"data\",\"FragilityCia_isos.csv\"), index=False)"
   ]
  },
  {
   "cell_type": "markdown",
   "metadata": {},
   "source": [
    "A next step will be to merge _fragciaiso_ into an actual map.\n",
    "Let's bring the map:"
   ]
  },
  {
   "cell_type": "code",
   "execution_count": 41,
   "metadata": {},
   "outputs": [],
   "source": [
    "import geopandas as gpd\n",
    "import os\n",
    "\n",
    "#read in:\n",
    "mapWorld=gpd.read_file(os.path.join(\"maps\",\"mapWorld.gpkg\"),layer=\"countries_valid\")"
   ]
  },
  {
   "cell_type": "code",
   "execution_count": 42,
   "metadata": {},
   "outputs": [
    {
     "data": {
      "text/plain": [
       "((251, 14), (172, 12))"
      ]
     },
     "execution_count": 42,
     "metadata": {},
     "output_type": "execute_result"
    }
   ],
   "source": [
    "# as usual check dimensions:\n",
    "mapWorld.shape, fragciaiso.shape"
   ]
  },
  {
   "cell_type": "markdown",
   "metadata": {},
   "source": [
    "The merge **can not** give you more than the amount of rows *fragciaiso* has:"
   ]
  },
  {
   "cell_type": "code",
   "execution_count": 43,
   "metadata": {},
   "outputs": [],
   "source": [
    "fragciaiso_geo=mapWorld.merge(fragciaiso,left_on='ISO_A3', right_on='iso3')"
   ]
  },
  {
   "cell_type": "code",
   "execution_count": 44,
   "metadata": {},
   "outputs": [
    {
     "data": {
      "text/plain": [
       "(172, 26)"
      ]
     },
     "execution_count": 44,
     "metadata": {},
     "output_type": "execute_result"
    }
   ],
   "source": [
    "fragciaiso_geo.shape"
   ]
  },
  {
   "cell_type": "markdown",
   "metadata": {},
   "source": [
    "With ISO codes, this step was easy. Let's save our map with added columns:"
   ]
  },
  {
   "cell_type": "code",
   "execution_count": 45,
   "metadata": {},
   "outputs": [],
   "source": [
    "fragciaiso_geo.to_file(os.path.join(\"maps\",\"mapWorld.gpkg\"), layer='countries_valid_data', driver=\"GPKG\")"
   ]
  },
  {
   "cell_type": "code",
   "execution_count": null,
   "metadata": {},
   "outputs": [],
   "source": []
  }
 ],
 "metadata": {
  "hide_input": false,
  "kernelspec": {
   "display_name": "Python 3 (ipykernel)",
   "language": "python",
   "name": "python3"
  },
  "language_info": {
   "codemirror_mode": {
    "name": "ipython",
    "version": 3
   },
   "file_extension": ".py",
   "mimetype": "text/x-python",
   "name": "python",
   "nbconvert_exporter": "python",
   "pygments_lexer": "ipython3",
   "version": "3.11.0"
  }
 },
 "nbformat": 4,
 "nbformat_minor": 4
}
