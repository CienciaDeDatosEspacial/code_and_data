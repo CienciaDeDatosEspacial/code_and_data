{
 "cells": [
  {
   "cell_type": "markdown",
   "id": "2e39e0eb",
   "metadata": {},
   "source": [
    "<center><img src=\"https://i.imgur.com/zRrFdsf.png\" width=\"700\"></center> \n",
    "\n",
    "\n",
    "<a id='home'></a>\n",
    "_____\n",
    "\n",
    "\n",
    "# Rescaling\n"
   ]
  },
  {
   "cell_type": "code",
   "execution_count": 2,
   "id": "da3838ed",
   "metadata": {},
   "outputs": [
    {
     "name": "stdout",
     "output_type": "stream",
     "text": [
      "<class 'pandas.core.frame.DataFrame'>\n",
      "RangeIndex: 171 entries, 0 to 170\n",
      "Data columns (total 12 columns):\n",
      " #   Column             Non-Null Count  Dtype  \n",
      "---  ------             --------------  -----  \n",
      " 0   Country            171 non-null    object \n",
      " 1   Officialstatename  171 non-null    object \n",
      " 2   InternetccTLD      170 non-null    object \n",
      " 3   iso2               170 non-null    object \n",
      " 4   iso3               171 non-null    object \n",
      " 5   fragility_date     171 non-null    int64  \n",
      " 6   fragility          171 non-null    float64\n",
      " 7   co2                171 non-null    float64\n",
      " 8   co2_date           171 non-null    int64  \n",
      " 9   region             171 non-null    object \n",
      " 10  ForestRev_gdp      171 non-null    float64\n",
      " 11  ForestRev_date     171 non-null    int64  \n",
      "dtypes: float64(3), int64(3), object(6)\n",
      "memory usage: 16.2+ KB\n"
     ]
    }
   ],
   "source": [
    "import os, pandas as pd\n",
    "fragcia=pd.read_csv(os.path.join(\"data\",\"FragilityCia_isos.csv\"))\n",
    "fragcia.info()"
   ]
  },
  {
   "cell_type": "code",
   "execution_count": null,
   "id": "670aeab4",
   "metadata": {},
   "outputs": [],
   "source": [
    "# sum of cases by estado\n",
    "fragcia.groupby('region')[['fragility','co2','ForestRev_gdp']].agg('mean')"
   ]
  },
  {
   "cell_type": "code",
   "execution_count": null,
   "id": "3b031585",
   "metadata": {},
   "outputs": [],
   "source": [
    "# more complex\n",
    "fragciaAGG=fragcia.groupby('region')[['fragility','co2','ForestRev_gdp']].agg(['min','max'],)\n",
    "\n",
    "fragciaAGG"
   ]
  },
  {
   "cell_type": "markdown",
   "id": "0400694a",
   "metadata": {},
   "source": [
    "Notice that we have multi-index in the columns"
   ]
  },
  {
   "cell_type": "code",
   "execution_count": null,
   "id": "5904f075",
   "metadata": {},
   "outputs": [],
   "source": [
    "fragciaAGG.columns"
   ]
  },
  {
   "cell_type": "markdown",
   "id": "6ed61339",
   "metadata": {},
   "source": [
    "Even though pandas can work well, when exporting files to another application, you may prefer just simple indexes. So, let me show you how to **flat** the indexes:"
   ]
  },
  {
   "cell_type": "code",
   "execution_count": null,
   "id": "b84c017a",
   "metadata": {},
   "outputs": [],
   "source": [
    "fragciaAGG.columns.to_flat_index()"
   ]
  },
  {
   "cell_type": "markdown",
   "id": "179c6d4e",
   "metadata": {},
   "source": [
    "Then,"
   ]
  },
  {
   "cell_type": "code",
   "execution_count": null,
   "id": "58c6c360",
   "metadata": {},
   "outputs": [],
   "source": [
    "fragciaAGG.columns=fragciaAGG.columns.to_flat_index()\n",
    "fragciaAGG"
   ]
  },
  {
   "cell_type": "markdown",
   "id": "7d572145",
   "metadata": {},
   "source": [
    "Now you have tuples as column names!... we solve it like this:"
   ]
  },
  {
   "cell_type": "code",
   "execution_count": null,
   "id": "f877eba2",
   "metadata": {},
   "outputs": [],
   "source": [
    "['_'.join(col) for col in fragciaAGG.columns]"
   ]
  },
  {
   "cell_type": "markdown",
   "id": "a3816a79",
   "metadata": {},
   "source": [
    "So,"
   ]
  },
  {
   "cell_type": "code",
   "execution_count": null,
   "id": "51c2cf44",
   "metadata": {},
   "outputs": [],
   "source": [
    "fragciaAGG.columns=['_'.join(col) for col in fragciaAGG.columns]\n",
    "fragciaAGG"
   ]
  },
  {
   "cell_type": "markdown",
   "id": "831686cb",
   "metadata": {},
   "source": [
    "The last step would be to have _region_ as a column, not as the row index:"
   ]
  },
  {
   "cell_type": "code",
   "execution_count": null,
   "id": "49d2cc6b",
   "metadata": {},
   "outputs": [],
   "source": [
    "fragciaAGG.reset_index(inplace=True) #you don't drop it!!\n",
    "fragciaAGG"
   ]
  },
  {
   "cell_type": "markdown",
   "id": "699edfda",
   "metadata": {},
   "source": [
    "Different columns have different value ranges. That is normal. However, some times, you need to manipulate the actual values so they have a particular scale or range. Let's see statistical summary:"
   ]
  },
  {
   "cell_type": "code",
   "execution_count": 3,
   "id": "d4cc79cf",
   "metadata": {},
   "outputs": [
    {
     "data": {
      "text/html": [
       "<div>\n",
       "<style scoped>\n",
       "    .dataframe tbody tr th:only-of-type {\n",
       "        vertical-align: middle;\n",
       "    }\n",
       "\n",
       "    .dataframe tbody tr th {\n",
       "        vertical-align: top;\n",
       "    }\n",
       "\n",
       "    .dataframe thead th {\n",
       "        text-align: right;\n",
       "    }\n",
       "</style>\n",
       "<table border=\"1\" class=\"dataframe\">\n",
       "  <thead>\n",
       "    <tr style=\"text-align: right;\">\n",
       "      <th></th>\n",
       "      <th>Country</th>\n",
       "      <th>Officialstatename</th>\n",
       "      <th>InternetccTLD</th>\n",
       "      <th>iso2</th>\n",
       "      <th>iso3</th>\n",
       "      <th>fragility_date</th>\n",
       "      <th>fragility</th>\n",
       "      <th>co2</th>\n",
       "      <th>co2_date</th>\n",
       "      <th>region</th>\n",
       "      <th>ForestRev_gdp</th>\n",
       "      <th>ForestRev_date</th>\n",
       "    </tr>\n",
       "  </thead>\n",
       "  <tbody>\n",
       "    <tr>\n",
       "      <th>count</th>\n",
       "      <td>171</td>\n",
       "      <td>171</td>\n",
       "      <td>170</td>\n",
       "      <td>170</td>\n",
       "      <td>171</td>\n",
       "      <td>171.0</td>\n",
       "      <td>171.000000</td>\n",
       "      <td>1.710000e+02</td>\n",
       "      <td>171.0</td>\n",
       "      <td>171</td>\n",
       "      <td>171.000000</td>\n",
       "      <td>171.000000</td>\n",
       "    </tr>\n",
       "    <tr>\n",
       "      <th>unique</th>\n",
       "      <td>171</td>\n",
       "      <td>171</td>\n",
       "      <td>170</td>\n",
       "      <td>170</td>\n",
       "      <td>171</td>\n",
       "      <td>NaN</td>\n",
       "      <td>NaN</td>\n",
       "      <td>NaN</td>\n",
       "      <td>NaN</td>\n",
       "      <td>10</td>\n",
       "      <td>NaN</td>\n",
       "      <td>NaN</td>\n",
       "    </tr>\n",
       "    <tr>\n",
       "      <th>top</th>\n",
       "      <td>AFGHANISTAN</td>\n",
       "      <td>The Islamic Republic of Afghanistan</td>\n",
       "      <td>.af</td>\n",
       "      <td>AF</td>\n",
       "      <td>AFG</td>\n",
       "      <td>NaN</td>\n",
       "      <td>NaN</td>\n",
       "      <td>NaN</td>\n",
       "      <td>NaN</td>\n",
       "      <td>AFRICA</td>\n",
       "      <td>NaN</td>\n",
       "      <td>NaN</td>\n",
       "    </tr>\n",
       "    <tr>\n",
       "      <th>freq</th>\n",
       "      <td>1</td>\n",
       "      <td>1</td>\n",
       "      <td>1</td>\n",
       "      <td>1</td>\n",
       "      <td>1</td>\n",
       "      <td>NaN</td>\n",
       "      <td>NaN</td>\n",
       "      <td>NaN</td>\n",
       "      <td>NaN</td>\n",
       "      <td>51</td>\n",
       "      <td>NaN</td>\n",
       "      <td>NaN</td>\n",
       "    </tr>\n",
       "    <tr>\n",
       "      <th>mean</th>\n",
       "      <td>NaN</td>\n",
       "      <td>NaN</td>\n",
       "      <td>NaN</td>\n",
       "      <td>NaN</td>\n",
       "      <td>NaN</td>\n",
       "      <td>2019.0</td>\n",
       "      <td>66.206433</td>\n",
       "      <td>2.012250e+08</td>\n",
       "      <td>2019.0</td>\n",
       "      <td>NaN</td>\n",
       "      <td>1.332222</td>\n",
       "      <td>2017.959064</td>\n",
       "    </tr>\n",
       "    <tr>\n",
       "      <th>std</th>\n",
       "      <td>NaN</td>\n",
       "      <td>NaN</td>\n",
       "      <td>NaN</td>\n",
       "      <td>NaN</td>\n",
       "      <td>NaN</td>\n",
       "      <td>0.0</td>\n",
       "      <td>23.836492</td>\n",
       "      <td>9.400228e+08</td>\n",
       "      <td>0.0</td>\n",
       "      <td>NaN</td>\n",
       "      <td>2.616312</td>\n",
       "      <td>0.294193</td>\n",
       "    </tr>\n",
       "    <tr>\n",
       "      <th>min</th>\n",
       "      <td>NaN</td>\n",
       "      <td>NaN</td>\n",
       "      <td>NaN</td>\n",
       "      <td>NaN</td>\n",
       "      <td>NaN</td>\n",
       "      <td>2019.0</td>\n",
       "      <td>16.900000</td>\n",
       "      <td>1.730000e+05</td>\n",
       "      <td>2019.0</td>\n",
       "      <td>NaN</td>\n",
       "      <td>0.000000</td>\n",
       "      <td>2015.000000</td>\n",
       "    </tr>\n",
       "    <tr>\n",
       "      <th>25%</th>\n",
       "      <td>NaN</td>\n",
       "      <td>NaN</td>\n",
       "      <td>NaN</td>\n",
       "      <td>NaN</td>\n",
       "      <td>NaN</td>\n",
       "      <td>2019.0</td>\n",
       "      <td>48.400000</td>\n",
       "      <td>4.331000e+06</td>\n",
       "      <td>2019.0</td>\n",
       "      <td>NaN</td>\n",
       "      <td>0.045000</td>\n",
       "      <td>2018.000000</td>\n",
       "    </tr>\n",
       "    <tr>\n",
       "      <th>50%</th>\n",
       "      <td>NaN</td>\n",
       "      <td>NaN</td>\n",
       "      <td>NaN</td>\n",
       "      <td>NaN</td>\n",
       "      <td>NaN</td>\n",
       "      <td>2019.0</td>\n",
       "      <td>70.400000</td>\n",
       "      <td>1.647800e+07</td>\n",
       "      <td>2019.0</td>\n",
       "      <td>NaN</td>\n",
       "      <td>0.260000</td>\n",
       "      <td>2018.000000</td>\n",
       "    </tr>\n",
       "    <tr>\n",
       "      <th>75%</th>\n",
       "      <td>NaN</td>\n",
       "      <td>NaN</td>\n",
       "      <td>NaN</td>\n",
       "      <td>NaN</td>\n",
       "      <td>NaN</td>\n",
       "      <td>2019.0</td>\n",
       "      <td>83.600000</td>\n",
       "      <td>8.467000e+07</td>\n",
       "      <td>2019.0</td>\n",
       "      <td>NaN</td>\n",
       "      <td>1.485000</td>\n",
       "      <td>2018.000000</td>\n",
       "    </tr>\n",
       "    <tr>\n",
       "      <th>max</th>\n",
       "      <td>NaN</td>\n",
       "      <td>NaN</td>\n",
       "      <td>NaN</td>\n",
       "      <td>NaN</td>\n",
       "      <td>NaN</td>\n",
       "      <td>2019.0</td>\n",
       "      <td>113.500000</td>\n",
       "      <td>1.077325e+10</td>\n",
       "      <td>2019.0</td>\n",
       "      <td>NaN</td>\n",
       "      <td>20.270000</td>\n",
       "      <td>2018.000000</td>\n",
       "    </tr>\n",
       "  </tbody>\n",
       "</table>\n",
       "</div>"
      ],
      "text/plain": [
       "            Country                    Officialstatename InternetccTLD iso2  \\\n",
       "count           171                                  171           170  170   \n",
       "unique          171                                  171           170  170   \n",
       "top     AFGHANISTAN  The Islamic Republic of Afghanistan           .af   AF   \n",
       "freq              1                                    1             1    1   \n",
       "mean            NaN                                  NaN           NaN  NaN   \n",
       "std             NaN                                  NaN           NaN  NaN   \n",
       "min             NaN                                  NaN           NaN  NaN   \n",
       "25%             NaN                                  NaN           NaN  NaN   \n",
       "50%             NaN                                  NaN           NaN  NaN   \n",
       "75%             NaN                                  NaN           NaN  NaN   \n",
       "max             NaN                                  NaN           NaN  NaN   \n",
       "\n",
       "       iso3  fragility_date   fragility           co2  co2_date  region  \\\n",
       "count   171           171.0  171.000000  1.710000e+02     171.0     171   \n",
       "unique  171             NaN         NaN           NaN       NaN      10   \n",
       "top     AFG             NaN         NaN           NaN       NaN  AFRICA   \n",
       "freq      1             NaN         NaN           NaN       NaN      51   \n",
       "mean    NaN          2019.0   66.206433  2.012250e+08    2019.0     NaN   \n",
       "std     NaN             0.0   23.836492  9.400228e+08       0.0     NaN   \n",
       "min     NaN          2019.0   16.900000  1.730000e+05    2019.0     NaN   \n",
       "25%     NaN          2019.0   48.400000  4.331000e+06    2019.0     NaN   \n",
       "50%     NaN          2019.0   70.400000  1.647800e+07    2019.0     NaN   \n",
       "75%     NaN          2019.0   83.600000  8.467000e+07    2019.0     NaN   \n",
       "max     NaN          2019.0  113.500000  1.077325e+10    2019.0     NaN   \n",
       "\n",
       "        ForestRev_gdp  ForestRev_date  \n",
       "count      171.000000      171.000000  \n",
       "unique            NaN             NaN  \n",
       "top               NaN             NaN  \n",
       "freq              NaN             NaN  \n",
       "mean         1.332222     2017.959064  \n",
       "std          2.616312        0.294193  \n",
       "min          0.000000     2015.000000  \n",
       "25%          0.045000     2018.000000  \n",
       "50%          0.260000     2018.000000  \n",
       "75%          1.485000     2018.000000  \n",
       "max         20.270000     2018.000000  "
      ]
     },
     "execution_count": 3,
     "metadata": {},
     "output_type": "execute_result"
    }
   ],
   "source": [
    "fragcia.describe(include='all')"
   ]
  },
  {
   "cell_type": "markdown",
   "id": "bc3e1c4d",
   "metadata": {},
   "source": [
    "The **describe** will only show numerical stats by default, so you need the parameter _include_ set to *all*. However, for our case, we should just request the range:"
   ]
  },
  {
   "cell_type": "code",
   "execution_count": 4,
   "id": "b5855a74",
   "metadata": {},
   "outputs": [
    {
     "data": {
      "text/html": [
       "<div>\n",
       "<style scoped>\n",
       "    .dataframe tbody tr th:only-of-type {\n",
       "        vertical-align: middle;\n",
       "    }\n",
       "\n",
       "    .dataframe tbody tr th {\n",
       "        vertical-align: top;\n",
       "    }\n",
       "\n",
       "    .dataframe thead th {\n",
       "        text-align: right;\n",
       "    }\n",
       "</style>\n",
       "<table border=\"1\" class=\"dataframe\">\n",
       "  <thead>\n",
       "    <tr style=\"text-align: right;\">\n",
       "      <th></th>\n",
       "      <th>min</th>\n",
       "      <th>max</th>\n",
       "    </tr>\n",
       "  </thead>\n",
       "  <tbody>\n",
       "    <tr>\n",
       "      <th>fragility_date</th>\n",
       "      <td>2019.0</td>\n",
       "      <td>2.019000e+03</td>\n",
       "    </tr>\n",
       "    <tr>\n",
       "      <th>fragility</th>\n",
       "      <td>16.9</td>\n",
       "      <td>1.135000e+02</td>\n",
       "    </tr>\n",
       "    <tr>\n",
       "      <th>co2</th>\n",
       "      <td>173000.0</td>\n",
       "      <td>1.077325e+10</td>\n",
       "    </tr>\n",
       "    <tr>\n",
       "      <th>co2_date</th>\n",
       "      <td>2019.0</td>\n",
       "      <td>2.019000e+03</td>\n",
       "    </tr>\n",
       "    <tr>\n",
       "      <th>ForestRev_gdp</th>\n",
       "      <td>0.0</td>\n",
       "      <td>2.027000e+01</td>\n",
       "    </tr>\n",
       "    <tr>\n",
       "      <th>ForestRev_date</th>\n",
       "      <td>2015.0</td>\n",
       "      <td>2.018000e+03</td>\n",
       "    </tr>\n",
       "  </tbody>\n",
       "</table>\n",
       "</div>"
      ],
      "text/plain": [
       "                     min           max\n",
       "fragility_date    2019.0  2.019000e+03\n",
       "fragility           16.9  1.135000e+02\n",
       "co2             173000.0  1.077325e+10\n",
       "co2_date          2019.0  2.019000e+03\n",
       "ForestRev_gdp        0.0  2.027000e+01\n",
       "ForestRev_date    2015.0  2.018000e+03"
      ]
     },
     "execution_count": 4,
     "metadata": {},
     "output_type": "execute_result"
    }
   ],
   "source": [
    "fragcia.describe().loc[['min','max']].T # notice the transposing:"
   ]
  },
  {
   "cell_type": "markdown",
   "id": "cf6d5a63",
   "metadata": {},
   "source": [
    "A boxplot may also be helpful:"
   ]
  },
  {
   "cell_type": "code",
   "execution_count": null,
   "id": "e1559fbc",
   "metadata": {},
   "outputs": [],
   "source": [
    "import matplotlib.pyplot as plt\n",
    "\n",
    "fragcia.plot(kind='box', rot=90);"
   ]
  },
  {
   "cell_type": "code",
   "execution_count": null,
   "id": "414c893f",
   "metadata": {},
   "outputs": [],
   "source": [
    "#alternatively\n",
    "\n",
    "fragcia.plot(kind='box', rot=90)\n",
    "plt.semilogy();"
   ]
  },
  {
   "cell_type": "markdown",
   "id": "fe16991b",
   "metadata": {},
   "source": [
    "As you see above, the ranges are very different (except the years).  Let's do some re scaling.\n",
    "\n",
    "## Min-Max Scaling"
   ]
  },
  {
   "cell_type": "code",
   "execution_count": null,
   "id": "63947e8e",
   "metadata": {},
   "outputs": [],
   "source": [
    "columnsToScale=['fragility','co2','ForestRev_gdp'] \n",
    "\n",
    "from sklearn import preprocessing #installed?\n",
    "\n",
    "# prepare the process\n",
    "mnMx_Scaler = preprocessing.MinMaxScaler(feature_range=(0, 10))# default is 0,1\n",
    "\n",
    "# apply process\n",
    "mnMx_Result = mnMx_Scaler.fit_transform(fragcia[columnsToScale])\n",
    "\n",
    "# result\n",
    "mnMx_Result"
   ]
  },
  {
   "cell_type": "markdown",
   "id": "999a1a62",
   "metadata": {},
   "source": [
    "## Standard Scaling\n",
    "\n",
    "In thi case, we will turn the data unitless. Their mean will be 0 and their standard deviation will be one:"
   ]
  },
  {
   "cell_type": "code",
   "execution_count": null,
   "id": "6b2076df",
   "metadata": {},
   "outputs": [],
   "source": [
    "# prepare the process\n",
    "std_Scaler = preprocessing.StandardScaler()\n",
    "\n",
    "# apply process\n",
    "std_Result = std_Scaler.fit_transform(fragcia[columnsToScale])\n",
    "\n",
    "# result\n",
    "std_Result"
   ]
  },
  {
   "cell_type": "markdown",
   "id": "0df3f1dc",
   "metadata": {},
   "source": [
    "You just got:"
   ]
  },
  {
   "cell_type": "code",
   "execution_count": null,
   "id": "1653d9aa",
   "metadata": {},
   "outputs": [],
   "source": [
    "type(mnMx_Result), type(std_Result)"
   ]
  },
  {
   "cell_type": "markdown",
   "id": "855959be",
   "metadata": {},
   "source": [
    "Let's prepare the new columns:"
   ]
  },
  {
   "cell_type": "code",
   "execution_count": null,
   "id": "619c95a8",
   "metadata": {},
   "outputs": [],
   "source": [
    "newNames_mM=[name+'_mM' for name in columnsToScale]\n",
    "newNames_sd=[name+'_sd' for name in columnsToScale]\n",
    "newNames_mM,newNames_sd"
   ]
  },
  {
   "cell_type": "markdown",
   "id": "433676fd",
   "metadata": {},
   "source": [
    "Let me use that array to replace my values in the pandas _Series_:"
   ]
  },
  {
   "cell_type": "code",
   "execution_count": null,
   "id": "8094b154",
   "metadata": {},
   "outputs": [],
   "source": [
    "mMDF=pd.DataFrame(mnMx_Result,columns=newNames_mM)\n",
    "stDF=pd.DataFrame(std_Result,columns=newNames_sd)"
   ]
  },
  {
   "cell_type": "code",
   "execution_count": null,
   "id": "85773fa2",
   "metadata": {},
   "outputs": [],
   "source": [
    "fragcia=pd.concat([fragcia,mMDF,stDF],axis=1)\n",
    "\n",
    "fragcia.info()"
   ]
  },
  {
   "cell_type": "markdown",
   "id": "ef7c0d24",
   "metadata": {},
   "source": [
    "Now, these are my new data values:"
   ]
  },
  {
   "cell_type": "code",
   "execution_count": null,
   "id": "17997b1c",
   "metadata": {},
   "outputs": [],
   "source": [
    "fragcia[newNames_mM].plot(kind='box', rot=90);"
   ]
  },
  {
   "cell_type": "code",
   "execution_count": null,
   "id": "9a05c39c",
   "metadata": {},
   "outputs": [],
   "source": [
    "fragcia[newNames_sd].plot(kind='box', rot=90);"
   ]
  },
  {
   "cell_type": "markdown",
   "id": "c0498bb4",
   "metadata": {},
   "source": [
    "The data is ready to be exported."
   ]
  },
  {
   "cell_type": "markdown",
   "id": "26c427d1",
   "metadata": {},
   "source": [
    "\n",
    "[Home](#home)\n",
    "\n",
    "\n",
    "______\n",
    "\n",
    "<a id='exporting'></a>\n",
    "\n",
    "\n",
    "# Exporting file\n",
    "\n",
    "The current *fragcia* data frame is clean and formatted. It is time to send it to a format that will keep all our work for future use."
   ]
  },
  {
   "cell_type": "markdown",
   "id": "d37e6d4c",
   "metadata": {},
   "source": [
    "#### For future use in Python:"
   ]
  },
  {
   "cell_type": "code",
   "execution_count": null,
   "id": "dbebde19",
   "metadata": {},
   "outputs": [],
   "source": [
    "fragcia.to_csv(os.path.join(\"data\",\"fragcia_transformed.csv\"))"
   ]
  },
  {
   "cell_type": "markdown",
   "id": "c01891b6",
   "metadata": {},
   "source": [
    "#### For future  use in R:"
   ]
  },
  {
   "cell_type": "code",
   "execution_count": null,
   "id": "151e5b4a",
   "metadata": {},
   "outputs": [],
   "source": [
    "#try the following before starting Python:\n",
    "#export LD_LIBRARY_PATH=\"$(python -m rpy2.situation LD_LIBRARY_PATH)\":${LD_LIBRARY_PATH}\n",
    "\n",
    "from rpy2.robjects import pandas2ri\n",
    "pandas2ri.activate()\n",
    "\n",
    "from rpy2.robjects.packages import importr\n",
    "\n",
    "base = importr('base')\n",
    "base.saveRDS(fragcia,file=\"fragcia_transformed.RDS\")\n",
    "\n",
    "\n",
    "#In R, you call it with: DF = readRDS(\"fragcia.RDS\")\n",
    "#or, if iyou read from cloud: DF = readRDS(url(\"https://..../fragcia.RDS\")"
   ]
  },
  {
   "cell_type": "code",
   "execution_count": null,
   "id": "89a7d931",
   "metadata": {},
   "outputs": [],
   "source": []
  }
 ],
 "metadata": {
  "kernelspec": {
   "display_name": "Python 3 (ipykernel)",
   "language": "python",
   "name": "python3"
  },
  "language_info": {
   "codemirror_mode": {
    "name": "ipython",
    "version": 3
   },
   "file_extension": ".py",
   "mimetype": "text/x-python",
   "name": "python",
   "nbconvert_exporter": "python",
   "pygments_lexer": "ipython3",
   "version": "3.11.5"
  }
 },
 "nbformat": 4,
 "nbformat_minor": 5
}
