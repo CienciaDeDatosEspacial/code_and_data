{
 "cells": [
  {
   "cell_type": "markdown",
   "metadata": {},
   "source": [
    "<center><img src=\"https://i.imgur.com/zRrFdsf.png\" width=\"700\"></center>"
   ]
  },
  {
   "cell_type": "markdown",
   "metadata": {},
   "source": [
    "## The Geo Dataframe\n",
    "\n",
    "Let's see a  case of **maps represented by polygons**. Let me visit this page from the [World Bank](https://datacatalog.worldbank.org/search/dataset/0038272/World-Bank-Official-Boundaries). I have download the World Boundaries Low Resolution in GeoJSON format."
   ]
  },
  {
   "cell_type": "code",
   "execution_count": null,
   "metadata": {},
   "outputs": [],
   "source": [
    "import os, geopandas as gpd\n",
    "\n",
    "worldmap=gpd.read_file(os.path.join(\"maps\",\"WB_countries_Admin0_lowres.geojson\"))"
   ]
  },
  {
   "cell_type": "code",
   "execution_count": null,
   "metadata": {},
   "outputs": [],
   "source": [
    "worldmap.plot()"
   ]
  },
  {
   "cell_type": "code",
   "execution_count": null,
   "metadata": {},
   "outputs": [],
   "source": [
    "# see the structure\n",
    "worldmap.info()"
   ]
  },
  {
   "cell_type": "markdown",
   "metadata": {},
   "source": [
    "You know you have a geodataframe when you have a **geometry column type**."
   ]
  },
  {
   "cell_type": "code",
   "execution_count": null,
   "metadata": {},
   "outputs": [],
   "source": [
    "worldmap.geometry"
   ]
  },
  {
   "cell_type": "markdown",
   "metadata": {},
   "source": [
    "This data frame has several columns. Using **head()** is important to detect salient problems, but pandas or geopandas may hide some columns:"
   ]
  },
  {
   "cell_type": "code",
   "execution_count": null,
   "metadata": {},
   "outputs": [],
   "source": [
    "worldmap.head()"
   ]
  },
  {
   "cell_type": "markdown",
   "metadata": {},
   "source": [
    "An strategy would be to see the head as an **html**:"
   ]
  },
  {
   "cell_type": "code",
   "execution_count": null,
   "metadata": {},
   "outputs": [],
   "source": [
    "from IPython.core.display import HTML\n",
    "\n",
    "display(HTML(worldmap.head().to_html()))"
   ]
  },
  {
   "cell_type": "markdown",
   "metadata": {},
   "source": [
    "The geometry column does not allow a clean visual of the data. Let's omit it and redo the previous code:"
   ]
  },
  {
   "cell_type": "code",
   "execution_count": null,
   "metadata": {},
   "outputs": [],
   "source": [
    "display(HTML(worldmap.drop(columns='geometry').to_html())) #omit, NOT Dropping"
   ]
  },
  {
   "cell_type": "markdown",
   "metadata": {},
   "source": [
    "There are so many columns, it may be very hard to check each one for particular problems. In general, you need a clean map where you can add other data to it. The most important imformation will be in the data you add.\n",
    "Then, in this case, you will pay attention to the columns that are needed to combine this map and other data; that is, verify that the **key** or **identifiers** are clean. Let's see:"
   ]
  },
  {
   "cell_type": "code",
   "execution_count": null,
   "metadata": {},
   "outputs": [],
   "source": [
    "# any missing values?\n",
    "worldmap[worldmap.isna().any(axis=1)]"
   ]
  },
  {
   "cell_type": "markdown",
   "metadata": {},
   "source": [
    "From the data frame head, you may use these as identifiers of the rows:"
   ]
  },
  {
   "cell_type": "code",
   "execution_count": null,
   "metadata": {},
   "outputs": [],
   "source": [
    "identifiers=['TYPE','FORMAL_EN','FIPS_10_','ISO_A2', 'ISO_A3',\"ISO_A3_EH\"]\n",
    "worldmap.loc[:,identifiers]"
   ]
  },
  {
   "cell_type": "code",
   "execution_count": null,
   "metadata": {},
   "outputs": [],
   "source": [
    "# any repeated values in country name ('FORMAL_EN')?\n",
    "\n",
    "worldmap[worldmap.duplicated(subset=['FORMAL_EN'],keep=False)].drop(columns='geometry')"
   ]
  },
  {
   "cell_type": "markdown",
   "metadata": {},
   "source": [
    "This is a nice case of repeated values. Why would a map of countries repeat country names? \n",
    "Our first **guess** is that each row represents a polygon (a surface on the planet), so maybe a country may be composed of several polygons. But, we already saw the presence of **multipolygons** in a row. Then, it is possible that some polygons are differentiated for some international politics reason.\n",
    "\n",
    "In order to find out the nature of these findings we might need a closer look to the data. Let's use [dtale](https://github.com/man-group/dtale)"
   ]
  },
  {
   "cell_type": "code",
   "execution_count": null,
   "metadata": {
    "scrolled": true
   },
   "outputs": [],
   "source": [
    "from dtale import show as dtshow\n",
    "\n",
    "\n",
    "dtshow(worldmap[worldmap.duplicated(subset=['FORMAL_EN'],keep=False)].drop(columns='geometry'))"
   ]
  },
  {
   "cell_type": "markdown",
   "metadata": {},
   "source": [
    "As you see, the map data is not perfect because of the complexity of international laws and the like. Notice the presence of \"-99\" and \"-099\". Those are representing a missing value. You may want to keep it that way as some map formats may not work as expected with missing values.\n",
    "\n",
    "Let's update our identifiers and create a new map:"
   ]
  },
  {
   "cell_type": "code",
   "execution_count": null,
   "metadata": {},
   "outputs": [],
   "source": [
    "identifiers=['TYPE','FORMAL_EN','WB_NAME','NAME_EN','FIPS_10_','ISO_A2', 'ISO_A3',\"ISO_A3_EH\",'ISO_N3','UN_A3',\"WB_A2\",'WB_A3','REGION_UN','geometry']\n",
    "mapWorld=worldmap.loc[:,identifiers]\n",
    "\n",
    "#then\n",
    "mapWorld[mapWorld.duplicated(subset=['FORMAL_EN'],keep=False)].drop(columns='geometry')"
   ]
  },
  {
   "cell_type": "markdown",
   "metadata": {},
   "source": [
    "Now that we have a simpler map, it would be good to have a column with no repeated values in the ISO codes (that requires some research):"
   ]
  },
  {
   "cell_type": "code",
   "execution_count": null,
   "metadata": {},
   "outputs": [],
   "source": [
    "mapWorld.loc[[234,235,236,249],'ISO_A2']=['BQ','BQ','BQ','TK']\n",
    "mapWorld.loc[[234,235,236,249],'ISO_A3']=['BQ1','BQ2','BQ3','TKL']\n",
    "mapWorld.loc[[234,235,236,249],'ISO_A3_EH']=['BQ1','BQ2','BQ3','TKL']"
   ]
  },
  {
   "cell_type": "markdown",
   "metadata": {},
   "source": [
    "It seems **WB_NAME** would be the best candidate for unique names. Let's verify:"
   ]
  },
  {
   "cell_type": "code",
   "execution_count": null,
   "metadata": {},
   "outputs": [],
   "source": [
    "mapWorld[mapWorld.duplicated(subset=['WB_NAME'],keep=False)].drop(columns='geometry')"
   ]
  },
  {
   "cell_type": "markdown",
   "metadata": {},
   "source": [
    "Let's check the missing values:"
   ]
  },
  {
   "cell_type": "code",
   "execution_count": null,
   "metadata": {
    "scrolled": true
   },
   "outputs": [],
   "source": [
    "# on the missing ISOs?\n",
    "mapWorld[(mapWorld.loc[:,['ISO_A2','ISO_A3','ISO_A3_EH']].isin([\"-99\",\"-099\"])).any(axis=1)]"
   ]
  },
  {
   "cell_type": "markdown",
   "metadata": {},
   "source": [
    "It may call your attention the case of France, Norway and Kosovo.  This is clearly a mistake we need to solve (The Kosovo ISO3 came from [here](https://knowledgecenter.zuora.com/Quick_References/Country%2C_State%2C_and_Province_Codes/A_Country_Names_and_Their_ISO_Codes)):"
   ]
  },
  {
   "cell_type": "code",
   "execution_count": null,
   "metadata": {},
   "outputs": [],
   "source": [
    "mapWorld.loc[[20,50,232,238,239],'ISO_A2']=['FR','NO','CP','CC','CX']\n",
    "mapWorld.loc[[20,50,62,232,238,239],'ISO_A3']=['FRA','NOR','XKX','CPT','CCK','CXR']\n",
    "mapWorld.loc[[50,62,232,238,239],'ISO_A3_EH']=['NOR','XKX','CPT','CCK','CXR']"
   ]
  },
  {
   "cell_type": "markdown",
   "metadata": {},
   "source": [
    "Let's recheck the repeated ISOs:"
   ]
  },
  {
   "cell_type": "code",
   "execution_count": null,
   "metadata": {},
   "outputs": [],
   "source": [
    "mapWorld[mapWorld.duplicated(subset=['ISO_A3'],keep=False)].drop(columns='geometry')"
   ]
  },
  {
   "cell_type": "markdown",
   "metadata": {},
   "source": [
    "Notice that what is left are the **UMI**. Are these polygons neighbors?"
   ]
  },
  {
   "cell_type": "code",
   "execution_count": null,
   "metadata": {},
   "outputs": [],
   "source": [
    "mapWorld[mapWorld.ISO_A3.isin(['UMI'])].explore(location=[10, -130],\n",
    "                                                zoom_start=3,tiles='CartoDB positron',\n",
    "                                                color='red',style_kwds={'weight':5})"
   ]
  },
  {
   "cell_type": "markdown",
   "metadata": {},
   "source": [
    "This is good they each have a different polygon. If they were neighbors you may try to *glue* them into one geometry, but this is not the case.\n",
    "\n",
    "We know there are no empty cells, but there might be cells with just one space (or more):"
   ]
  },
  {
   "cell_type": "code",
   "execution_count": null,
   "metadata": {},
   "outputs": [],
   "source": [
    "CellOnlySpaces=lambda x:x.str.match(r'\\s+')\n",
    "where=['TYPE','FORMAL_EN','WB_NAME','NAME_EN']\n",
    "mapWorld[(mapWorld.loc[:,where].apply(CellOnlySpaces)).any(axis=1)]"
   ]
  },
  {
   "cell_type": "markdown",
   "metadata": {},
   "source": [
    "We have a column that could be used to replace those values:"
   ]
  },
  {
   "cell_type": "code",
   "execution_count": null,
   "metadata": {},
   "outputs": [],
   "source": [
    "mapWorld.loc[worldmap.FORMAL_EN.str.match(r'\\s+'),'WB_NAME']"
   ]
  },
  {
   "cell_type": "markdown",
   "metadata": {},
   "source": [
    "We can complete those cells with:"
   ]
  },
  {
   "cell_type": "code",
   "execution_count": null,
   "metadata": {},
   "outputs": [],
   "source": [
    "# getting rid of any text \\w+. within parentheses \\(\\), with one space before, and possibly one after\n",
    "mapWorld.loc[worldmap.FORMAL_EN.str.match(r'\\s+'),'WB_NAME'].str.replace('\\s\\(\\w+.\\)\\s*',\"\",regex=True)"
   ]
  },
  {
   "cell_type": "code",
   "execution_count": null,
   "metadata": {},
   "outputs": [],
   "source": [
    "# then,\n",
    "newNames=mapWorld.loc[worldmap.FORMAL_EN.str.match(r'\\s+'),'WB_NAME'].str.replace('\\s\\(\\w+.\\)\\s*',\"\",regex=True)\n",
    "mapWorld.loc[worldmap.FORMAL_EN.str.match(r'\\s+'),'FORMAL_EN']=newNames"
   ]
  },
  {
   "cell_type": "code",
   "execution_count": null,
   "metadata": {},
   "outputs": [],
   "source": [
    "# confirming\n",
    "mapWorld[(mapWorld.loc[:,where].apply(CellOnlySpaces)).any(axis=1)]"
   ]
  },
  {
   "cell_type": "markdown",
   "metadata": {},
   "source": [
    "Let's save the file:"
   ]
  },
  {
   "cell_type": "code",
   "execution_count": null,
   "metadata": {},
   "outputs": [],
   "source": [
    "mapWorld.to_file(os.path.join(\"maps\",\"mapWorld.gpkg\"), layer='countries', driver=\"GPKG\")"
   ]
  },
  {
   "cell_type": "code",
   "execution_count": null,
   "metadata": {},
   "outputs": [],
   "source": []
  }
 ],
 "metadata": {
  "anaconda-cloud": {
   "attach-environment": true,
   "summary": "test"
  },
  "hide_input": false,
  "kernelspec": {
   "display_name": "Python 3 (ipykernel)",
   "language": "python",
   "name": "python3"
  },
  "language_info": {
   "codemirror_mode": {
    "name": "ipython",
    "version": 3
   },
   "file_extension": ".py",
   "mimetype": "text/x-python",
   "name": "python",
   "nbconvert_exporter": "python",
   "pygments_lexer": "ipython3",
   "version": "3.11.0"
  },
  "toc-autonumbering": false
 },
 "nbformat": 4,
 "nbformat_minor": 4
}
