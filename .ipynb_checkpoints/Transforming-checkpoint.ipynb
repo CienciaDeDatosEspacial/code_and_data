{
 "cells": [
  {
   "cell_type": "markdown",
   "id": "2e39e0eb",
   "metadata": {},
   "source": [
    "<center><img src=\"https://i.imgur.com/zRrFdsf.png\" width=\"700\"></center> \n",
    "\n",
    "\n",
    "<a id='home'></a>\n",
    "_____\n",
    "\n",
    "\n",
    "# Transforming\n",
    "\n",
    "Most of the time you need to transform the data you have prepared. I will show the main mathematical transformations that data goes through, namely, aggregating and re scaling.\n",
    "\n",
    "Let me get a data set familiar to us:"
   ]
  },
  {
   "cell_type": "code",
   "execution_count": null,
   "id": "da3838ed",
   "metadata": {},
   "outputs": [],
   "source": [
    "import os, pandas as pd\n",
    "fragcia=pd.read_csv(os.path.join(\"data\",\"FragilityCia_isos.csv\"))\n",
    "fragcia.info()"
   ]
  },
  {
   "cell_type": "markdown",
   "id": "68b85389",
   "metadata": {},
   "source": [
    "## Aggregation\n",
    "\n",
    "Sometimes, we need to reorganize the data by groups. One of those columns is the category that represents the group. In the previous table, region is an attribute of country; but we can turn the table from a table countries to a table of regions:"
   ]
  },
  {
   "cell_type": "code",
   "execution_count": null,
   "id": "670aeab4",
   "metadata": {},
   "outputs": [],
   "source": [
    "# sum of cases by estado\n",
    "fragcia.groupby('region')[['fragility','co2','ForestRev_gdp']].agg('mean')"
   ]
  },
  {
   "cell_type": "code",
   "execution_count": null,
   "id": "3b031585",
   "metadata": {},
   "outputs": [],
   "source": [
    "# more complex\n",
    "fragciaAGG=fragcia.groupby('region')[['fragility','co2','ForestRev_gdp']].agg(['min','max'],)\n",
    "\n",
    "fragciaAGG"
   ]
  },
  {
   "cell_type": "markdown",
   "id": "0400694a",
   "metadata": {},
   "source": [
    "Notice that we have multi-index in the columns"
   ]
  },
  {
   "cell_type": "code",
   "execution_count": null,
   "id": "5904f075",
   "metadata": {},
   "outputs": [],
   "source": [
    "fragciaAGG.columns"
   ]
  },
  {
   "cell_type": "markdown",
   "id": "6ed61339",
   "metadata": {},
   "source": [
    "Even though pandas can work well, when exporting files to another application, you may prefer just simple indexes. So, let me show you how to **flat** the indexes:"
   ]
  },
  {
   "cell_type": "code",
   "execution_count": null,
   "id": "b84c017a",
   "metadata": {},
   "outputs": [],
   "source": [
    "fragciaAGG.columns.to_flat_index()"
   ]
  },
  {
   "cell_type": "markdown",
   "id": "179c6d4e",
   "metadata": {},
   "source": [
    "Then,"
   ]
  },
  {
   "cell_type": "code",
   "execution_count": null,
   "id": "58c6c360",
   "metadata": {},
   "outputs": [],
   "source": [
    "fragciaAGG.columns=fragciaAGG.columns.to_flat_index()\n",
    "fragciaAGG"
   ]
  },
  {
   "cell_type": "markdown",
   "id": "7d572145",
   "metadata": {},
   "source": [
    "Now you have tuples as column names!... we solve it like this:"
   ]
  },
  {
   "cell_type": "code",
   "execution_count": null,
   "id": "f877eba2",
   "metadata": {},
   "outputs": [],
   "source": [
    "['_'.join(col) for col in fragciaAGG.columns]"
   ]
  },
  {
   "cell_type": "markdown",
   "id": "a3816a79",
   "metadata": {},
   "source": [
    "So,"
   ]
  },
  {
   "cell_type": "code",
   "execution_count": null,
   "id": "51c2cf44",
   "metadata": {},
   "outputs": [],
   "source": [
    "fragciaAGG.columns=['_'.join(col) for col in fragciaAGG.columns]\n",
    "fragciaAGG"
   ]
  },
  {
   "cell_type": "markdown",
   "id": "831686cb",
   "metadata": {},
   "source": [
    "The last step would be to have _region_ as a column, not as the row index:"
   ]
  },
  {
   "cell_type": "code",
   "execution_count": null,
   "id": "49d2cc6b",
   "metadata": {},
   "outputs": [],
   "source": [
    "fragciaAGG.reset_index(inplace=True) #you don't drop it!!\n",
    "fragciaAGG"
   ]
  },
  {
   "cell_type": "markdown",
   "id": "7a1e56aa",
   "metadata": {},
   "source": [
    "## Spatial aggregation\n",
    "\n",
    "\n",
    "We can do similar aggregations once the data is in a map. Let me open what we have:"
   ]
  },
  {
   "cell_type": "code",
   "execution_count": null,
   "id": "822293f5",
   "metadata": {},
   "outputs": [],
   "source": [
    "import os, geopandas as gpd\n",
    "\n",
    "mapWorld=gpd.read_file(os.path.join(\"maps\",\"mapWorld.gpkg\"),layer='countries')\n",
    "mapWorldV=gpd.read_file(os.path.join(\"maps\",\"mapWorld.gpkg\"),layer='countries_valid')\n",
    "mapWorldV_data=gpd.read_file(os.path.join(\"maps\",\"mapWorld.gpkg\"),layer='countries_valid_data')"
   ]
  },
  {
   "cell_type": "code",
   "execution_count": null,
   "id": "f8b4ab94",
   "metadata": {},
   "outputs": [],
   "source": [
    "mapWorld.plot(linewidth=0.5, edgecolor='k')"
   ]
  },
  {
   "cell_type": "markdown",
   "id": "bad2f491",
   "metadata": {},
   "source": [
    "This map has invalid geometries, so the aggregation (**dissolve**) will not work:"
   ]
  },
  {
   "cell_type": "code",
   "execution_count": null,
   "id": "114042c7",
   "metadata": {},
   "outputs": [],
   "source": [
    "#mapWorld.dissolve().plot(linewidth=0.5, edgecolor='k')"
   ]
  },
  {
   "cell_type": "markdown",
   "id": "19e18e96",
   "metadata": {},
   "source": [
    "This map has valid geometries, so the aggregation (**dissolve**) will work:"
   ]
  },
  {
   "cell_type": "code",
   "execution_count": null,
   "id": "9a7e4aeb",
   "metadata": {},
   "outputs": [],
   "source": [
    "mapWorldV.dissolve().plot(linewidth=0.5, edgecolor='k')"
   ]
  },
  {
   "cell_type": "code",
   "execution_count": null,
   "id": "fef644f3",
   "metadata": {},
   "outputs": [],
   "source": [
    "mapWorldV.columns"
   ]
  },
  {
   "cell_type": "markdown",
   "id": "7c73da83",
   "metadata": {},
   "source": [
    "The previous aggregation has only grouped geometries, let;s use the map with data to get stats:"
   ]
  },
  {
   "cell_type": "code",
   "execution_count": null,
   "id": "3dcefe1e",
   "metadata": {},
   "outputs": [],
   "source": [
    "mapWorldV_data.columns"
   ]
  },
  {
   "cell_type": "code",
   "execution_count": null,
   "id": "077ccdb5",
   "metadata": {},
   "outputs": [],
   "source": [
    "cv=lambda x:x.std()/x.mean() # custom function\n",
    "\n",
    "someCols=['fragility','co2','ForestRev_gdp','REGION_UN','geometry']\n",
    "\n",
    "mapAgg=mapWorldV_data.loc[:,someCols].dissolve(by='REGION_UN',aggfunc={'co2':['mean',cv]})\n",
    "\n",
    "mapAgg"
   ]
  },
  {
   "cell_type": "code",
   "execution_count": null,
   "id": "89348a8b",
   "metadata": {},
   "outputs": [],
   "source": [
    "# column names\n",
    "mapAgg.columns"
   ]
  },
  {
   "cell_type": "markdown",
   "id": "25ef8d57",
   "metadata": {},
   "source": [
    "See the map colored by a column:"
   ]
  },
  {
   "cell_type": "code",
   "execution_count": null,
   "id": "db7e5b9a",
   "metadata": {},
   "outputs": [],
   "source": [
    "mapAgg.plot(column =('co2', 'mean'), scheme='quantiles', cmap='YlOrRd')"
   ]
  },
  {
   "cell_type": "markdown",
   "id": "4d88cd0d",
   "metadata": {},
   "source": [
    "Compare:"
   ]
  },
  {
   "cell_type": "code",
   "execution_count": null,
   "id": "aa12f295",
   "metadata": {},
   "outputs": [],
   "source": [
    "mapWorldV_data.plot(column ='co2', scheme='quantiles', cmap='YlOrRd')"
   ]
  },
  {
   "cell_type": "markdown",
   "id": "d0662d4c",
   "metadata": {},
   "source": [
    "## Re Scaling"
   ]
  },
  {
   "cell_type": "markdown",
   "id": "699edfda",
   "metadata": {},
   "source": [
    "Different columns have different value ranges. That is normal. However, some time, you need to manipulate the actual values so they have a particular scale or range. Let's see statistical summary:"
   ]
  },
  {
   "cell_type": "code",
   "execution_count": null,
   "id": "d4cc79cf",
   "metadata": {},
   "outputs": [],
   "source": [
    "fragcia.describe(include='all')"
   ]
  },
  {
   "cell_type": "markdown",
   "id": "bc3e1c4d",
   "metadata": {},
   "source": [
    "The **describe** will only show numerical stats by default, so you need the parameter _include_ set to *all*. However, for our case, we should just request the range:"
   ]
  },
  {
   "cell_type": "code",
   "execution_count": null,
   "id": "b5855a74",
   "metadata": {},
   "outputs": [],
   "source": [
    "fragcia.describe().loc[['min','max']].T # notice the transposing:"
   ]
  },
  {
   "cell_type": "markdown",
   "id": "cf6d5a63",
   "metadata": {},
   "source": [
    "A boxplot may also be helpful:"
   ]
  },
  {
   "cell_type": "code",
   "execution_count": null,
   "id": "e1559fbc",
   "metadata": {},
   "outputs": [],
   "source": [
    "import matplotlib.pyplot as plt\n",
    "\n",
    "fragcia.plot(kind='box', rot=90);"
   ]
  },
  {
   "cell_type": "code",
   "execution_count": null,
   "id": "414c893f",
   "metadata": {},
   "outputs": [],
   "source": [
    "#alternatively\n",
    "\n",
    "fragcia.plot(kind='box', rot=90)\n",
    "plt.semilogy();"
   ]
  },
  {
   "cell_type": "markdown",
   "id": "fe16991b",
   "metadata": {},
   "source": [
    "As you see above, the ranges are very different (except the years).  Let's do some re scaling.\n",
    "\n",
    "## Min-Max Scaling"
   ]
  },
  {
   "cell_type": "code",
   "execution_count": null,
   "id": "63947e8e",
   "metadata": {},
   "outputs": [],
   "source": [
    "columnsToScale=['fragility','co2','ForestRev_gdp'] \n",
    "\n",
    "from sklearn import preprocessing #installed?\n",
    "\n",
    "# prepare the process\n",
    "mnMx_Scaler = preprocessing.MinMaxScaler(feature_range=(0, 10))# default is 0,1\n",
    "\n",
    "# apply process\n",
    "mnMx_Result = mnMx_Scaler.fit_transform(fragcia[columnsToScale])\n",
    "\n",
    "# result\n",
    "mnMx_Result"
   ]
  },
  {
   "cell_type": "markdown",
   "id": "999a1a62",
   "metadata": {},
   "source": [
    "## Standard Scaling\n",
    "\n",
    "In thi case, we will turn the data unitless. Their mean will be 0 and their standard deviation will be one:"
   ]
  },
  {
   "cell_type": "code",
   "execution_count": null,
   "id": "6b2076df",
   "metadata": {},
   "outputs": [],
   "source": [
    "# prepare the process\n",
    "std_Scaler = preprocessing.StandardScaler()\n",
    "\n",
    "# apply process\n",
    "std_Result = std_Scaler.fit_transform(fragcia[columnsToScale])\n",
    "\n",
    "# result\n",
    "std_Result"
   ]
  },
  {
   "cell_type": "markdown",
   "id": "0df3f1dc",
   "metadata": {},
   "source": [
    "You just got:"
   ]
  },
  {
   "cell_type": "code",
   "execution_count": null,
   "id": "1653d9aa",
   "metadata": {},
   "outputs": [],
   "source": [
    "type(mnMx_Result), type(std_Result)"
   ]
  },
  {
   "cell_type": "markdown",
   "id": "855959be",
   "metadata": {},
   "source": [
    "Let's prepare the new columns:"
   ]
  },
  {
   "cell_type": "code",
   "execution_count": null,
   "id": "619c95a8",
   "metadata": {},
   "outputs": [],
   "source": [
    "newNames_mM=[name+'_mM' for name in columnsToScale]\n",
    "newNames_sd=[name+'_sd' for name in columnsToScale]\n",
    "newNames_mM,newNames_sd"
   ]
  },
  {
   "cell_type": "markdown",
   "id": "433676fd",
   "metadata": {},
   "source": [
    "Let me use that array to replace my values in the pandas _Series_:"
   ]
  },
  {
   "cell_type": "code",
   "execution_count": null,
   "id": "8094b154",
   "metadata": {},
   "outputs": [],
   "source": [
    "mMDF=pd.DataFrame(mnMx_Result,columns=newNames_mM)\n",
    "stDF=pd.DataFrame(std_Result,columns=newNames_sd)"
   ]
  },
  {
   "cell_type": "code",
   "execution_count": null,
   "id": "85773fa2",
   "metadata": {},
   "outputs": [],
   "source": [
    "fragcia=pd.concat([fragcia,mMDF,stDF],axis=1)\n",
    "\n",
    "fragcia.info()"
   ]
  },
  {
   "cell_type": "markdown",
   "id": "ef7c0d24",
   "metadata": {},
   "source": [
    "Now, these are my new data values:"
   ]
  },
  {
   "cell_type": "code",
   "execution_count": null,
   "id": "17997b1c",
   "metadata": {},
   "outputs": [],
   "source": [
    "fragcia[newNames_mM].plot(kind='box', rot=90);"
   ]
  },
  {
   "cell_type": "code",
   "execution_count": null,
   "id": "9a05c39c",
   "metadata": {},
   "outputs": [],
   "source": [
    "fragcia[newNames_sd].plot(kind='box', rot=90);"
   ]
  },
  {
   "cell_type": "markdown",
   "id": "c0498bb4",
   "metadata": {},
   "source": [
    "The data is ready to be exported."
   ]
  },
  {
   "cell_type": "markdown",
   "id": "26c427d1",
   "metadata": {},
   "source": [
    "\n",
    "[Home](#home)\n",
    "\n",
    "\n",
    "______\n",
    "\n",
    "<a id='exporting'></a>\n",
    "\n",
    "\n",
    "# Exporting file\n",
    "\n",
    "The current *fragcia* data frame is clean and formatted. It is time to send it to a format that will keep all our work for future use."
   ]
  },
  {
   "cell_type": "markdown",
   "id": "d37e6d4c",
   "metadata": {},
   "source": [
    "#### For future use in Python:"
   ]
  },
  {
   "cell_type": "code",
   "execution_count": null,
   "id": "dbebde19",
   "metadata": {},
   "outputs": [],
   "source": [
    "fragcia.to_csv(os.path.join(\"data\",\"fragcia.csv\"))"
   ]
  },
  {
   "cell_type": "markdown",
   "id": "c01891b6",
   "metadata": {},
   "source": [
    "#### For future  use in R:"
   ]
  },
  {
   "cell_type": "code",
   "execution_count": null,
   "id": "151e5b4a",
   "metadata": {},
   "outputs": [],
   "source": [
    "#try the following before starting Python:\n",
    "#export LD_LIBRARY_PATH=\"$(python -m rpy2.situation LD_LIBRARY_PATH)\":${LD_LIBRARY_PATH}\n",
    "\n",
    "from rpy2.robjects import pandas2ri\n",
    "pandas2ri.activate()\n",
    "\n",
    "from rpy2.robjects.packages import importr\n",
    "\n",
    "base = importr('base')\n",
    "base.saveRDS(fragcia,file=\"fragcia.RDS\")\n",
    "\n",
    "\n",
    "#In R, you call it with: DF = readRDS(\"fragcia.RDS\")\n",
    "#or, if iyou read from cloud: DF = readRDS(url(\"https://..../fragcia.RDS\")"
   ]
  },
  {
   "cell_type": "code",
   "execution_count": null,
   "id": "89a7d931",
   "metadata": {},
   "outputs": [],
   "source": []
  }
 ],
 "metadata": {
  "kernelspec": {
   "display_name": "Python 3 (ipykernel)",
   "language": "python",
   "name": "python3"
  },
  "language_info": {
   "codemirror_mode": {
    "name": "ipython",
    "version": 3
   },
   "file_extension": ".py",
   "mimetype": "text/x-python",
   "name": "python",
   "nbconvert_exporter": "python",
   "pygments_lexer": "ipython3",
   "version": "3.11.0"
  }
 },
 "nbformat": 4,
 "nbformat_minor": 5
}
