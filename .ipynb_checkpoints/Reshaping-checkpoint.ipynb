{
 "cells": [
  {
   "cell_type": "markdown",
   "metadata": {},
   "source": [
    "<center><img src=\"https://i.imgur.com/zRrFdsf.png\" width=\"700\"></center> \n",
    "\n",
    "_____\n",
    "\n",
    "<a id='home'></a>\n",
    "\n",
    "# Reshaping\n",
    "\n",
    "<a target=\"_blank\" href=\"https://colab.research.google.com/github/CienciaDeDatosEspacial/code_and_data/blob/main/Reshaping.ipynb\">\n",
    "  <img src=\"https://colab.research.google.com/assets/colab-badge.svg\" alt=\"Open In Colab\"/>\n",
    "</a>"
   ]
  },
  {
   "cell_type": "markdown",
   "metadata": {},
   "source": [
    "\n",
    "\n",
    "Data frames have have different shapes. Let me use some columns from the data on fragility:"
   ]
  },
  {
   "cell_type": "code",
   "execution_count": null,
   "metadata": {},
   "outputs": [],
   "source": [
    "import os, pandas as pd\n",
    "\n",
    "FragilityAll=pd.read_csv(os.path.join(\"data\",\"Fragility.csv\"))\n",
    "\n",
    "# seeing long shape\n",
    "fragileLong=FragilityAll.iloc[:,:3]\n",
    "fragileLong"
   ]
  },
  {
   "cell_type": "markdown",
   "metadata": {},
   "source": [
    "You notice a DF is in long shape when you see the unit of analysis repeated in more than one cell accross the rows."
   ]
  },
  {
   "cell_type": "markdown",
   "metadata": {},
   "source": [
    "Let me turn our **long** into **wide** shape:"
   ]
  },
  {
   "cell_type": "code",
   "execution_count": null,
   "metadata": {},
   "outputs": [],
   "source": [
    "# to wide\n",
    "fragileWide=pd.pivot_table(fragileLong,\n",
    "               values='Total', # values to use\n",
    "               index=['Country'], # unit of analysis\n",
    "               columns=['Year']) # the values for NEW column\n",
    "# see wide\n",
    "fragileWide.head()"
   ]
  },
  {
   "cell_type": "markdown",
   "metadata": {},
   "source": [
    "The **wide** shape from a **pivot_table** function looks great, but pay attention:"
   ]
  },
  {
   "cell_type": "code",
   "execution_count": null,
   "metadata": {},
   "outputs": [],
   "source": [
    "fragileWide.columns"
   ]
  },
  {
   "cell_type": "markdown",
   "metadata": {},
   "source": [
    "As you see above, the country is the row _index_ (row name), not a column. You may want this:"
   ]
  },
  {
   "cell_type": "code",
   "execution_count": null,
   "metadata": {},
   "outputs": [],
   "source": [
    "# resetting index, keeping last index as a column\n",
    "fragileWide= fragileWide.reset_index(drop=False).\\\n",
    "             rename_axis(index=None, columns=None) # no name for indexes\n",
    "\n",
    "# result:\n",
    "fragileWide.head()"
   ]
  },
  {
   "cell_type": "markdown",
   "metadata": {},
   "source": [
    "Long shape is efficient in the presence of missing values:"
   ]
  },
  {
   "cell_type": "code",
   "execution_count": null,
   "metadata": {},
   "outputs": [],
   "source": [
    "# missing values in long format\n",
    "fragileLong[fragileLong.isna().any(axis=1)]"
   ]
  },
  {
   "cell_type": "markdown",
   "metadata": {},
   "source": [
    "Wide shape will create missing values when needed:"
   ]
  },
  {
   "cell_type": "code",
   "execution_count": null,
   "metadata": {},
   "outputs": [],
   "source": [
    "# what cells have missing values?\n",
    "fragileWide[fragileWide.isna().any(axis=1)]"
   ]
  },
  {
   "cell_type": "markdown",
   "metadata": {},
   "source": [
    "This last request shows us problems.\n",
    "As you can see, even though the data DFs were prepared by the same organization, the DFs have country names that differ among them. Here we need some **manual** changes: "
   ]
  },
  {
   "cell_type": "code",
   "execution_count": null,
   "metadata": {},
   "outputs": [],
   "source": [
    "# prepare changes as dict:\n",
    "changes={\"CABO VERDE\": \"CAPE VERDE\",\n",
    "\"CZECHIA\":\"CZECH REPUBLIC\",\n",
    "\"SWAZILAND\":\"ESWATINI\",\n",
    "\"ISRAEL AND WEST BANK\":\"ISRAEL\",\n",
    "\"KYRGYZSTAN\":\"KYRGYZ REPUBLIC\",\n",
    "\"NORTH MACEDONIA\":\"MACEDONIA\",\n",
    "\"SLOVAKIA\": \"SLOVAK REPUBLIC\"}"
   ]
  },
  {
   "cell_type": "markdown",
   "metadata": {},
   "source": [
    "Notice I am making the changes in the long shape of the DF, so that the wide shape will work fine:"
   ]
  },
  {
   "cell_type": "code",
   "execution_count": null,
   "metadata": {},
   "outputs": [],
   "source": [
    "# make changes using 'replace':\n",
    "FragilityAll.Country.replace(to_replace=changes,inplace=True)\n",
    "#then\n",
    "\n",
    "fragileLong=FragilityAll.iloc[:,:3]"
   ]
  },
  {
   "cell_type": "markdown",
   "metadata": {},
   "source": [
    "Let's redo the wide reshape:"
   ]
  },
  {
   "cell_type": "code",
   "execution_count": null,
   "metadata": {},
   "outputs": [],
   "source": [
    "# to wide shape again\n",
    "fragileWide=pd.pivot_table(fragileLong,\n",
    "               values='Total',\n",
    "               index=['Country'],\n",
    "               columns=['Year']).\\\n",
    "            reset_index(drop=False).\\\n",
    "            rename_axis(index=None, columns=None)\n",
    "\n",
    "# verify missing\n",
    "fragileWide[fragileWide.isna().any(axis=1)]"
   ]
  },
  {
   "cell_type": "markdown",
   "metadata": {},
   "source": [
    "You have to be very careful when working with countries, specially when you are including or excluding countries; which may cause you hurting someone else's feelings. \n",
    "\n",
    "For instance, here I am just keeping **rows** with no missing values:"
   ]
  },
  {
   "cell_type": "code",
   "execution_count": null,
   "metadata": {},
   "outputs": [],
   "source": [
    "fragileWide.dropna(inplace=True) "
   ]
  },
  {
   "cell_type": "markdown",
   "metadata": {},
   "source": [
    "After dropping rows, I recommend you reset the indexes:"
   ]
  },
  {
   "cell_type": "code",
   "execution_count": null,
   "metadata": {},
   "outputs": [],
   "source": [
    "fragileWide.reset_index(drop=True,inplace=True) "
   ]
  },
  {
   "cell_type": "markdown",
   "metadata": {},
   "source": [
    "For sure, we can turn this wide shape into a long one, using the function **melt**:"
   ]
  },
  {
   "cell_type": "code",
   "execution_count": null,
   "metadata": {},
   "outputs": [],
   "source": [
    "pd.melt(fragileWide, id_vars=['Country'])"
   ]
  },
  {
   "cell_type": "markdown",
   "metadata": {},
   "source": [
    "This would be more explicit:"
   ]
  },
  {
   "cell_type": "code",
   "execution_count": null,
   "metadata": {},
   "outputs": [],
   "source": [
    "fragileLong=pd.melt(fragileWide, #DF\n",
    "        id_vars=['Country'], #key\n",
    "        value_vars=list(range(2013,2022)), # columns in wide\n",
    "        var_name='Year', # new name for long column\n",
    "        value_name='Total')# new name for values\n",
    "\n",
    "# verifying\n",
    "fragileLong.head()"
   ]
  }
 ],
 "metadata": {
  "hide_input": false,
  "kernelspec": {
   "display_name": "Python 3 (ipykernel)",
   "language": "python",
   "name": "python3"
  },
  "language_info": {
   "codemirror_mode": {
    "name": "ipython",
    "version": 3
   },
   "file_extension": ".py",
   "mimetype": "text/x-python",
   "name": "python",
   "nbconvert_exporter": "python",
   "pygments_lexer": "ipython3",
   "version": "3.11.5"
  }
 },
 "nbformat": 4,
 "nbformat_minor": 4
}
