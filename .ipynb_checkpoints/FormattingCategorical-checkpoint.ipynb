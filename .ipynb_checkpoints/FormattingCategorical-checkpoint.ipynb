{
 "cells": [
  {
   "cell_type": "markdown",
   "id": "9f156965",
   "metadata": {},
   "source": [
    "<center><img src=\"https://i.imgur.com/zRrFdsf.png\" width=\"700\"></center>\n",
    "\n",
    "# Data Formatting (categorical)\n",
    "\n",
    "\n",
    "In this formatting tutorial we will see the categorical case.\n",
    "\n",
    "\n",
    "Let's get [some data](https://en.wikipedia.org/wiki/List_of_freedom_indices):"
   ]
  },
  {
   "cell_type": "code",
   "execution_count": 4,
   "id": "1923bc8b",
   "metadata": {},
   "outputs": [],
   "source": [
    "import pandas as pd\n",
    "\n",
    "link='https://en.wikipedia.org/wiki/List_of_freedom_indices'\n",
    "freeDFs=pd.read_html(link,flavor='bs4',match='w',attrs={'class':\"wikitable\"})"
   ]
  },
  {
   "cell_type": "code",
   "execution_count": 5,
   "id": "865fb2f4",
   "metadata": {},
   "outputs": [
    {
     "data": {
      "text/plain": [
       "2"
      ]
     },
     "execution_count": 5,
     "metadata": {},
     "output_type": "execute_result"
    }
   ],
   "source": [
    "len(freeDFs)"
   ]
  },
  {
   "cell_type": "code",
   "execution_count": 6,
   "id": "ea63ec2f",
   "metadata": {},
   "outputs": [
    {
     "data": {
      "text/html": [
       "<div>\n",
       "<style scoped>\n",
       "    .dataframe tbody tr th:only-of-type {\n",
       "        vertical-align: middle;\n",
       "    }\n",
       "\n",
       "    .dataframe tbody tr th {\n",
       "        vertical-align: top;\n",
       "    }\n",
       "\n",
       "    .dataframe thead tr th {\n",
       "        text-align: left;\n",
       "    }\n",
       "</style>\n",
       "<table border=\"1\" class=\"dataframe\">\n",
       "  <thead>\n",
       "    <tr>\n",
       "      <th></th>\n",
       "      <th>Index</th>\n",
       "      <th colspan=\"15\" halign=\"left\">Scale</th>\n",
       "    </tr>\n",
       "    <tr>\n",
       "      <th></th>\n",
       "      <th>Index</th>\n",
       "      <th>Unnamed: 1_level_1</th>\n",
       "      <th>Unnamed: 2_level_1</th>\n",
       "      <th>Unnamed: 3_level_1</th>\n",
       "      <th>Unnamed: 4_level_1</th>\n",
       "      <th>Unnamed: 5_level_1</th>\n",
       "      <th>Unnamed: 6_level_1</th>\n",
       "      <th>Unnamed: 7_level_1</th>\n",
       "      <th>Unnamed: 8_level_1</th>\n",
       "      <th>Unnamed: 9_level_1</th>\n",
       "      <th>Unnamed: 10_level_1</th>\n",
       "      <th>Unnamed: 11_level_1</th>\n",
       "      <th>Unnamed: 12_level_1</th>\n",
       "      <th>Unnamed: 13_level_1</th>\n",
       "      <th>Unnamed: 14_level_1</th>\n",
       "      <th>Unnamed: 15_level_1</th>\n",
       "    </tr>\n",
       "  </thead>\n",
       "  <tbody>\n",
       "    <tr>\n",
       "      <th>0</th>\n",
       "      <td>Freedom in the World</td>\n",
       "      <td>free</td>\n",
       "      <td>free</td>\n",
       "      <td>free</td>\n",
       "      <td>free</td>\n",
       "      <td>free</td>\n",
       "      <td>partly free</td>\n",
       "      <td>partly free</td>\n",
       "      <td>partly free</td>\n",
       "      <td>partly free</td>\n",
       "      <td>partly free</td>\n",
       "      <td>not free</td>\n",
       "      <td>not free</td>\n",
       "      <td>not free</td>\n",
       "      <td>not free</td>\n",
       "      <td>not free</td>\n",
       "    </tr>\n",
       "    <tr>\n",
       "      <th>1</th>\n",
       "      <td>Index of Economic Freedom</td>\n",
       "      <td>free</td>\n",
       "      <td>free</td>\n",
       "      <td>free</td>\n",
       "      <td>mostly free</td>\n",
       "      <td>mostly free</td>\n",
       "      <td>mostly free</td>\n",
       "      <td>moderately free</td>\n",
       "      <td>moderately free</td>\n",
       "      <td>moderately free</td>\n",
       "      <td>mostly unfree</td>\n",
       "      <td>mostly unfree</td>\n",
       "      <td>mostly unfree</td>\n",
       "      <td>repressed</td>\n",
       "      <td>repressed</td>\n",
       "      <td>repressed</td>\n",
       "    </tr>\n",
       "    <tr>\n",
       "      <th>2</th>\n",
       "      <td>Press Freedom Index</td>\n",
       "      <td>good situation</td>\n",
       "      <td>good situation</td>\n",
       "      <td>good situation</td>\n",
       "      <td>satisfactory situation</td>\n",
       "      <td>satisfactory situation</td>\n",
       "      <td>satisfactory situation</td>\n",
       "      <td>noticeable problems</td>\n",
       "      <td>noticeable problems</td>\n",
       "      <td>noticeable problems</td>\n",
       "      <td>difficult situation</td>\n",
       "      <td>difficult situation</td>\n",
       "      <td>difficult situation</td>\n",
       "      <td>very serious situation</td>\n",
       "      <td>very serious situation</td>\n",
       "      <td>very serious situation</td>\n",
       "    </tr>\n",
       "    <tr>\n",
       "      <th>3</th>\n",
       "      <td>Democracy Index</td>\n",
       "      <td>full democracy</td>\n",
       "      <td>full democracy</td>\n",
       "      <td>full democracy</td>\n",
       "      <td>flawed democracy</td>\n",
       "      <td>flawed democracy</td>\n",
       "      <td>flawed democracy</td>\n",
       "      <td>hybrid regime</td>\n",
       "      <td>hybrid regime</td>\n",
       "      <td>hybrid regime</td>\n",
       "      <td>authoritarian regime</td>\n",
       "      <td>authoritarian regime</td>\n",
       "      <td>authoritarian regime</td>\n",
       "      <td>authoritarian regime</td>\n",
       "      <td>authoritarian regime</td>\n",
       "      <td>authoritarian regime</td>\n",
       "    </tr>\n",
       "  </tbody>\n",
       "</table>\n",
       "</div>"
      ],
      "text/plain": [
       "                       Index              Scale                     \\\n",
       "                       Index Unnamed: 1_level_1 Unnamed: 2_level_1   \n",
       "0       Freedom in the World               free               free   \n",
       "1  Index of Economic Freedom               free               free   \n",
       "2        Press Freedom Index     good situation     good situation   \n",
       "3            Democracy Index     full democracy     full democracy   \n",
       "\n",
       "                                                                      \\\n",
       "  Unnamed: 3_level_1      Unnamed: 4_level_1      Unnamed: 5_level_1   \n",
       "0               free                    free                    free   \n",
       "1               free             mostly free             mostly free   \n",
       "2     good situation  satisfactory situation  satisfactory situation   \n",
       "3     full democracy        flawed democracy        flawed democracy   \n",
       "\n",
       "                                                                     \\\n",
       "       Unnamed: 6_level_1   Unnamed: 7_level_1   Unnamed: 8_level_1   \n",
       "0             partly free          partly free          partly free   \n",
       "1             mostly free      moderately free      moderately free   \n",
       "2  satisfactory situation  noticeable problems  noticeable problems   \n",
       "3        flawed democracy        hybrid regime        hybrid regime   \n",
       "\n",
       "                                                                    \\\n",
       "    Unnamed: 9_level_1   Unnamed: 10_level_1   Unnamed: 11_level_1   \n",
       "0          partly free           partly free              not free   \n",
       "1      moderately free         mostly unfree         mostly unfree   \n",
       "2  noticeable problems   difficult situation   difficult situation   \n",
       "3        hybrid regime  authoritarian regime  authoritarian regime   \n",
       "\n",
       "                                                                         \\\n",
       "    Unnamed: 12_level_1     Unnamed: 13_level_1     Unnamed: 14_level_1   \n",
       "0              not free                not free                not free   \n",
       "1         mostly unfree               repressed               repressed   \n",
       "2   difficult situation  very serious situation  very serious situation   \n",
       "3  authoritarian regime    authoritarian regime    authoritarian regime   \n",
       "\n",
       "                           \n",
       "      Unnamed: 15_level_1  \n",
       "0                not free  \n",
       "1               repressed  \n",
       "2  very serious situation  \n",
       "3    authoritarian regime  "
      ]
     },
     "execution_count": 6,
     "metadata": {},
     "output_type": "execute_result"
    }
   ],
   "source": [
    "freeDFs[0]"
   ]
  },
  {
   "cell_type": "markdown",
   "id": "7b58c223",
   "metadata": {},
   "source": [
    "We need the second table:"
   ]
  },
  {
   "cell_type": "code",
   "execution_count": 8,
   "id": "d9b41db7",
   "metadata": {
    "scrolled": true
   },
   "outputs": [
    {
     "data": {
      "text/html": [
       "<div>\n",
       "<style scoped>\n",
       "    .dataframe tbody tr th:only-of-type {\n",
       "        vertical-align: middle;\n",
       "    }\n",
       "\n",
       "    .dataframe tbody tr th {\n",
       "        vertical-align: top;\n",
       "    }\n",
       "\n",
       "    .dataframe thead th {\n",
       "        text-align: right;\n",
       "    }\n",
       "</style>\n",
       "<table border=\"1\" class=\"dataframe\">\n",
       "  <thead>\n",
       "    <tr style=\"text-align: right;\">\n",
       "      <th></th>\n",
       "      <th>Country</th>\n",
       "      <th>Freedom in the World 2022[13]</th>\n",
       "      <th>2022 Index of Economic Freedom[14]</th>\n",
       "      <th>2022 Press Freedom Index[3]</th>\n",
       "      <th>2021 Democracy Index[9]</th>\n",
       "    </tr>\n",
       "  </thead>\n",
       "  <tbody>\n",
       "    <tr>\n",
       "      <th>0</th>\n",
       "      <td>Afghanistan</td>\n",
       "      <td>not free</td>\n",
       "      <td>NaN</td>\n",
       "      <td>very serious situation</td>\n",
       "      <td>authoritarian regime</td>\n",
       "    </tr>\n",
       "    <tr>\n",
       "      <th>1</th>\n",
       "      <td>Albania</td>\n",
       "      <td>partly free</td>\n",
       "      <td>moderately free</td>\n",
       "      <td>noticeable problems</td>\n",
       "      <td>flawed democracy</td>\n",
       "    </tr>\n",
       "    <tr>\n",
       "      <th>2</th>\n",
       "      <td>Algeria</td>\n",
       "      <td>not free</td>\n",
       "      <td>repressed</td>\n",
       "      <td>difficult situation</td>\n",
       "      <td>authoritarian regime</td>\n",
       "    </tr>\n",
       "    <tr>\n",
       "      <th>3</th>\n",
       "      <td>Andorra</td>\n",
       "      <td>free</td>\n",
       "      <td>NaN</td>\n",
       "      <td>noticeable problems</td>\n",
       "      <td>NaN</td>\n",
       "    </tr>\n",
       "    <tr>\n",
       "      <th>4</th>\n",
       "      <td>Angola</td>\n",
       "      <td>not free</td>\n",
       "      <td>mostly unfree</td>\n",
       "      <td>noticeable problems</td>\n",
       "      <td>authoritarian regime</td>\n",
       "    </tr>\n",
       "  </tbody>\n",
       "</table>\n",
       "</div>"
      ],
      "text/plain": [
       "       Country Freedom in the World 2022[13]  \\\n",
       "0  Afghanistan                      not free   \n",
       "1      Albania                   partly free   \n",
       "2      Algeria                      not free   \n",
       "3      Andorra                          free   \n",
       "4       Angola                      not free   \n",
       "\n",
       "  2022 Index of Economic Freedom[14] 2022 Press Freedom Index[3]  \\\n",
       "0                                NaN      very serious situation   \n",
       "1                    moderately free         noticeable problems   \n",
       "2                          repressed         difficult situation   \n",
       "3                                NaN         noticeable problems   \n",
       "4                      mostly unfree         noticeable problems   \n",
       "\n",
       "  2021 Democracy Index[9]  \n",
       "0    authoritarian regime  \n",
       "1        flawed democracy  \n",
       "2    authoritarian regime  \n",
       "3                     NaN  \n",
       "4    authoritarian regime  "
      ]
     },
     "execution_count": 8,
     "metadata": {},
     "output_type": "execute_result"
    }
   ],
   "source": [
    "allFree=freeDFs[1]\n",
    "allFree.head()"
   ]
  },
  {
   "cell_type": "markdown",
   "id": "6442b690",
   "metadata": {},
   "source": [
    "Cleaning column names:"
   ]
  },
  {
   "cell_type": "code",
   "execution_count": 9,
   "id": "0f614a66",
   "metadata": {},
   "outputs": [
    {
     "data": {
      "text/plain": [
       "Index(['Country', 'Freedom in the World 2022[13]',\n",
       "       '2022 Index of Economic Freedom[14]', '2022 Press Freedom Index[3]',\n",
       "       '2021 Democracy Index[9]'],\n",
       "      dtype='object')"
      ]
     },
     "execution_count": 9,
     "metadata": {},
     "output_type": "execute_result"
    }
   ],
   "source": [
    "allFree.columns"
   ]
  },
  {
   "cell_type": "markdown",
   "id": "a6f48526",
   "metadata": {},
   "source": [
    "This is a good alternative:"
   ]
  },
  {
   "cell_type": "code",
   "execution_count": 13,
   "id": "8baaa5dc",
   "metadata": {},
   "outputs": [
    {
     "data": {
      "text/plain": [
       "Index(['Country', 'FreedomintheWorld', 'IndexofEconomicFreedom',\n",
       "       'PressFreedomIndex', 'DemocracyIndex'],\n",
       "      dtype='object')"
      ]
     },
     "execution_count": 13,
     "metadata": {},
     "output_type": "execute_result"
    }
   ],
   "source": [
    "allFree.columns.str.replace(r\"\\W|\\d\",\"\",regex=True)"
   ]
  },
  {
   "cell_type": "code",
   "execution_count": 14,
   "id": "83b2aa30",
   "metadata": {},
   "outputs": [],
   "source": [
    "#then\n",
    "allFree.columns=allFree.columns.str.replace(r\"\\W|\\d\",\"\",regex=True)"
   ]
  },
  {
   "cell_type": "markdown",
   "id": "f35512e0",
   "metadata": {},
   "source": [
    "Let's clean all the leading/trailing space in every cell:"
   ]
  },
  {
   "cell_type": "code",
   "execution_count": 18,
   "id": "51ba6646",
   "metadata": {},
   "outputs": [],
   "source": [
    "allFree=allFree.apply(lambda x: x.str.strip())"
   ]
  },
  {
   "cell_type": "markdown",
   "id": "a7ade228",
   "metadata": {},
   "source": [
    "Do we have unique country names?"
   ]
  },
  {
   "cell_type": "code",
   "execution_count": 19,
   "id": "62f8de26",
   "metadata": {},
   "outputs": [
    {
     "data": {
      "text/plain": [
       "True"
      ]
     },
     "execution_count": 19,
     "metadata": {},
     "output_type": "execute_result"
    }
   ],
   "source": [
    "len(allFree.Country)==len(pd.unique(allFree.Country))"
   ]
  },
  {
   "cell_type": "markdown",
   "id": "68cad36e",
   "metadata": {},
   "source": [
    "Let's start formatting:"
   ]
  },
  {
   "cell_type": "code",
   "execution_count": 21,
   "id": "e9c7a73d",
   "metadata": {},
   "outputs": [
    {
     "name": "stdout",
     "output_type": "stream",
     "text": [
      "<class 'pandas.core.frame.DataFrame'>\n",
      "RangeIndex: 197 entries, 0 to 196\n",
      "Data columns (total 5 columns):\n",
      " #   Column                  Non-Null Count  Dtype \n",
      "---  ------                  --------------  ----- \n",
      " 0   Country                 197 non-null    object\n",
      " 1   FreedomintheWorld       197 non-null    object\n",
      " 2   IndexofEconomicFreedom  177 non-null    object\n",
      " 3   PressFreedomIndex       184 non-null    object\n",
      " 4   DemocracyIndex          167 non-null    object\n",
      "dtypes: object(5)\n",
      "memory usage: 7.8+ KB\n"
     ]
    }
   ],
   "source": [
    "allFree.info()"
   ]
  },
  {
   "cell_type": "markdown",
   "id": "e720cf7c",
   "metadata": {},
   "source": [
    "We see every column is just of the object type. Let's ask frequecies and keep the categories:"
   ]
  },
  {
   "cell_type": "code",
   "execution_count": 43,
   "id": "1ceaecce",
   "metadata": {},
   "outputs": [
    {
     "data": {
      "text/plain": [
       "[['free', 'not free', 'partly free'],\n",
       " ['free', 'moderately free', 'mostly free', 'mostly unfree', 'repressed', nan],\n",
       " ['difficult situation',\n",
       "  'good situation',\n",
       "  'noticeable problems',\n",
       "  'satisfactory situation',\n",
       "  'very serious situation',\n",
       "  nan],\n",
       " ['authoritarian regime',\n",
       "  'flawed democracy',\n",
       "  'full democracy',\n",
       "  'hybrid regime',\n",
       "  nan]]"
      ]
     },
     "execution_count": 43,
     "metadata": {},
     "output_type": "execute_result"
    }
   ],
   "source": [
    "[allFree[c].value_counts(sort=False, dropna=False).index.sort_values().to_list()  for c in allFree.columns[1:]]"
   ]
  },
  {
   "cell_type": "markdown",
   "id": "6dceca51",
   "metadata": {},
   "source": [
    "We could request unique values to shorten the code:"
   ]
  },
  {
   "cell_type": "code",
   "execution_count": 76,
   "id": "3e76ff8a",
   "metadata": {},
   "outputs": [],
   "source": [
    "cars = ['Ford', 'BMW', 'Volvo']\n",
    "\n",
    "cars.sort(reverse=True)"
   ]
  },
  {
   "cell_type": "code",
   "execution_count": 81,
   "id": "e553e725",
   "metadata": {},
   "outputs": [
    {
     "data": {
      "text/plain": [
       "[['free', 'not free', 'partly free'],\n",
       " ['free', 'moderately free', 'mostly free', 'mostly unfree', 'repressed', nan],\n",
       " ['difficult situation',\n",
       "  'good situation',\n",
       "  'noticeable problems',\n",
       "  'satisfactory situation',\n",
       "  'very serious situation',\n",
       "  nan],\n",
       " ['authoritarian regime',\n",
       "  'flawed democracy',\n",
       "  'full democracy',\n",
       "  'hybrid regime',\n",
       "  nan]]"
      ]
     },
     "execution_count": 81,
     "metadata": {},
     "output_type": "execute_result"
    }
   ],
   "source": [
    "[list(allFree[c].sort_values().unique()) for c in allFree.columns[1:]]"
   ]
  },
  {
   "cell_type": "markdown",
   "id": "7edddb17",
   "metadata": {},
   "source": [
    "It is very important to verify that the strings that represent categories do not need _cleaning_ (i.e. 'free' instead of 'freee')"
   ]
  },
  {
   "cell_type": "markdown",
   "id": "f2fa0d53",
   "metadata": {},
   "source": [
    "Let me assign the dataframe to a new object:"
   ]
  },
  {
   "cell_type": "code",
   "execution_count": 13,
   "id": "ce6df9ca",
   "metadata": {},
   "outputs": [],
   "source": [
    "allFree=allFree.copy()"
   ]
  },
  {
   "cell_type": "markdown",
   "id": "432a81b5",
   "metadata": {},
   "source": [
    "Now, let's turn the values into **ordinal** categories. Remember that the worst, best and middle values should be comparable:"
   ]
  },
  {
   "cell_type": "code",
   "execution_count": 82,
   "id": "0ea93452",
   "metadata": {},
   "outputs": [],
   "source": [
    "mapper1 = {'free':5 , 'partly free': 3, 'not free': 1}\n",
    "allFree.FreedomintheWorld.replace(mapper1,inplace=True)\n",
    "\n",
    "mapper2 = {'moderately free':3, 'repressed':1, 'mostly unfree':2,\n",
    "       'mostly free':4, 'free':5}\n",
    "allFree.IndexofEconomicFreedom.replace(mapper2,inplace=True)\n",
    "\n",
    "\n",
    "mapper3 = {'very serious situation':1, 'noticeable problems':3,\n",
    "       'difficult situation':2, 'satisfactory situation':4,\n",
    "       'good situation':5}\n",
    "allFree.PressFreedomIndex.replace(mapper3,inplace=True)\n",
    "\n",
    "mapper4 = {'authoritarian regime':1, 'flawed democracy':3,'hybrid regime':2,\n",
    "       'full democracy':5}\n",
    "allFree.DemocracyIndex.replace(mapper4,inplace=True)\n"
   ]
  },
  {
   "cell_type": "code",
   "execution_count": 83,
   "id": "742de9d3",
   "metadata": {},
   "outputs": [
    {
     "data": {
      "text/html": [
       "<div>\n",
       "<style scoped>\n",
       "    .dataframe tbody tr th:only-of-type {\n",
       "        vertical-align: middle;\n",
       "    }\n",
       "\n",
       "    .dataframe tbody tr th {\n",
       "        vertical-align: top;\n",
       "    }\n",
       "\n",
       "    .dataframe thead th {\n",
       "        text-align: right;\n",
       "    }\n",
       "</style>\n",
       "<table border=\"1\" class=\"dataframe\">\n",
       "  <thead>\n",
       "    <tr style=\"text-align: right;\">\n",
       "      <th></th>\n",
       "      <th>Country</th>\n",
       "      <th>FreedomintheWorld</th>\n",
       "      <th>IndexofEconomicFreedom</th>\n",
       "      <th>PressFreedomIndex</th>\n",
       "      <th>DemocracyIndex</th>\n",
       "    </tr>\n",
       "  </thead>\n",
       "  <tbody>\n",
       "    <tr>\n",
       "      <th>0</th>\n",
       "      <td>Afghanistan</td>\n",
       "      <td>1</td>\n",
       "      <td>NaN</td>\n",
       "      <td>1.0</td>\n",
       "      <td>1.0</td>\n",
       "    </tr>\n",
       "    <tr>\n",
       "      <th>1</th>\n",
       "      <td>Albania</td>\n",
       "      <td>3</td>\n",
       "      <td>3.0</td>\n",
       "      <td>3.0</td>\n",
       "      <td>3.0</td>\n",
       "    </tr>\n",
       "    <tr>\n",
       "      <th>2</th>\n",
       "      <td>Algeria</td>\n",
       "      <td>1</td>\n",
       "      <td>1.0</td>\n",
       "      <td>2.0</td>\n",
       "      <td>1.0</td>\n",
       "    </tr>\n",
       "    <tr>\n",
       "      <th>3</th>\n",
       "      <td>Andorra</td>\n",
       "      <td>5</td>\n",
       "      <td>NaN</td>\n",
       "      <td>3.0</td>\n",
       "      <td>NaN</td>\n",
       "    </tr>\n",
       "    <tr>\n",
       "      <th>4</th>\n",
       "      <td>Angola</td>\n",
       "      <td>1</td>\n",
       "      <td>2.0</td>\n",
       "      <td>3.0</td>\n",
       "      <td>1.0</td>\n",
       "    </tr>\n",
       "    <tr>\n",
       "      <th>...</th>\n",
       "      <td>...</td>\n",
       "      <td>...</td>\n",
       "      <td>...</td>\n",
       "      <td>...</td>\n",
       "      <td>...</td>\n",
       "    </tr>\n",
       "    <tr>\n",
       "      <th>192</th>\n",
       "      <td>Venezuela</td>\n",
       "      <td>1</td>\n",
       "      <td>1.0</td>\n",
       "      <td>1.0</td>\n",
       "      <td>1.0</td>\n",
       "    </tr>\n",
       "    <tr>\n",
       "      <th>193</th>\n",
       "      <td>Vietnam</td>\n",
       "      <td>1</td>\n",
       "      <td>3.0</td>\n",
       "      <td>1.0</td>\n",
       "      <td>1.0</td>\n",
       "    </tr>\n",
       "    <tr>\n",
       "      <th>194</th>\n",
       "      <td>Yemen</td>\n",
       "      <td>1</td>\n",
       "      <td>NaN</td>\n",
       "      <td>1.0</td>\n",
       "      <td>1.0</td>\n",
       "    </tr>\n",
       "    <tr>\n",
       "      <th>195</th>\n",
       "      <td>Zambia</td>\n",
       "      <td>3</td>\n",
       "      <td>1.0</td>\n",
       "      <td>3.0</td>\n",
       "      <td>2.0</td>\n",
       "    </tr>\n",
       "    <tr>\n",
       "      <th>196</th>\n",
       "      <td>Zimbabwe</td>\n",
       "      <td>1</td>\n",
       "      <td>1.0</td>\n",
       "      <td>2.0</td>\n",
       "      <td>1.0</td>\n",
       "    </tr>\n",
       "  </tbody>\n",
       "</table>\n",
       "<p>197 rows × 5 columns</p>\n",
       "</div>"
      ],
      "text/plain": [
       "         Country  FreedomintheWorld  IndexofEconomicFreedom  \\\n",
       "0    Afghanistan                  1                     NaN   \n",
       "1        Albania                  3                     3.0   \n",
       "2        Algeria                  1                     1.0   \n",
       "3        Andorra                  5                     NaN   \n",
       "4         Angola                  1                     2.0   \n",
       "..           ...                ...                     ...   \n",
       "192    Venezuela                  1                     1.0   \n",
       "193      Vietnam                  1                     3.0   \n",
       "194        Yemen                  1                     NaN   \n",
       "195       Zambia                  3                     1.0   \n",
       "196     Zimbabwe                  1                     1.0   \n",
       "\n",
       "     PressFreedomIndex  DemocracyIndex  \n",
       "0                  1.0             1.0  \n",
       "1                  3.0             3.0  \n",
       "2                  2.0             1.0  \n",
       "3                  3.0             NaN  \n",
       "4                  3.0             1.0  \n",
       "..                 ...             ...  \n",
       "192                1.0             1.0  \n",
       "193                1.0             1.0  \n",
       "194                1.0             1.0  \n",
       "195                3.0             2.0  \n",
       "196                2.0             1.0  \n",
       "\n",
       "[197 rows x 5 columns]"
      ]
     },
     "execution_count": 83,
     "metadata": {},
     "output_type": "execute_result"
    }
   ],
   "source": [
    "allFree"
   ]
  },
  {
   "cell_type": "markdown",
   "id": "0dc96aaa",
   "metadata": {},
   "source": [
    "Let's explore:"
   ]
  },
  {
   "cell_type": "code",
   "execution_count": 84,
   "id": "720b58c4",
   "metadata": {},
   "outputs": [
    {
     "name": "stdout",
     "output_type": "stream",
     "text": [
      "<class 'pandas.core.frame.DataFrame'>\n",
      "RangeIndex: 197 entries, 0 to 196\n",
      "Data columns (total 5 columns):\n",
      " #   Column                  Non-Null Count  Dtype  \n",
      "---  ------                  --------------  -----  \n",
      " 0   Country                 197 non-null    object \n",
      " 1   FreedomintheWorld       197 non-null    int64  \n",
      " 2   IndexofEconomicFreedom  177 non-null    float64\n",
      " 3   PressFreedomIndex       184 non-null    float64\n",
      " 4   DemocracyIndex          167 non-null    float64\n",
      "dtypes: float64(3), int64(1), object(1)\n",
      "memory usage: 7.8+ KB\n"
     ]
    }
   ],
   "source": [
    "#check types:\n",
    "allFree.info()"
   ]
  },
  {
   "cell_type": "code",
   "execution_count": 85,
   "id": "0a14a21e",
   "metadata": {},
   "outputs": [
    {
     "name": "stdout",
     "output_type": "stream",
     "text": [
      "<class 'pandas.core.frame.DataFrame'>\n",
      "RangeIndex: 197 entries, 0 to 196\n",
      "Data columns (total 4 columns):\n",
      " #   Column                  Non-Null Count  Dtype\n",
      "---  ------                  --------------  -----\n",
      " 0   FreedomintheWorld       197 non-null    Int32\n",
      " 1   IndexofEconomicFreedom  177 non-null    Int32\n",
      " 2   PressFreedomIndex       184 non-null    Int32\n",
      " 3   DemocracyIndex          167 non-null    Int32\n",
      "dtypes: Int32(4)\n",
      "memory usage: 4.0 KB\n"
     ]
    }
   ],
   "source": [
    "# what about\n",
    "\n",
    "# finally\n",
    "\n",
    "allFree.iloc[:,1:].apply(lambda x: x.astype('Int32')).info()"
   ]
  },
  {
   "cell_type": "code",
   "execution_count": 24,
   "id": "220174f3",
   "metadata": {},
   "outputs": [],
   "source": [
    "# this will fail:\n",
    "#allFree.iloc[:,1:].apply(lambda x: x.astype('int32')).info()"
   ]
  },
  {
   "cell_type": "code",
   "execution_count": 86,
   "id": "61e892c9",
   "metadata": {},
   "outputs": [
    {
     "name": "stdout",
     "output_type": "stream",
     "text": [
      "IndexofEconomicFreedom\n",
      "nan\n",
      "PressFreedomIndex\n",
      "nan\n",
      "DemocracyIndex\n",
      "nan\n"
     ]
    }
   ],
   "source": [
    "for col in allFree.iloc[:,1:].columns:\n",
    "    try:\n",
    "        allFree[col].astype('int32')\n",
    "    except:\n",
    "        print(col)\n",
    "        try: \n",
    "            for cell in allFree[col]:\n",
    "                int(cell)\n",
    "        except:\n",
    "            print(cell)\n",
    "                "
   ]
  },
  {
   "cell_type": "code",
   "execution_count": 87,
   "id": "4828ffc8",
   "metadata": {},
   "outputs": [
    {
     "data": {
      "text/html": [
       "<div>\n",
       "<style scoped>\n",
       "    .dataframe tbody tr th:only-of-type {\n",
       "        vertical-align: middle;\n",
       "    }\n",
       "\n",
       "    .dataframe tbody tr th {\n",
       "        vertical-align: top;\n",
       "    }\n",
       "\n",
       "    .dataframe thead th {\n",
       "        text-align: right;\n",
       "    }\n",
       "</style>\n",
       "<table border=\"1\" class=\"dataframe\">\n",
       "  <thead>\n",
       "    <tr style=\"text-align: right;\">\n",
       "      <th></th>\n",
       "      <th>Country</th>\n",
       "      <th>FreedomintheWorld</th>\n",
       "      <th>IndexofEconomicFreedom</th>\n",
       "      <th>PressFreedomIndex</th>\n",
       "      <th>DemocracyIndex</th>\n",
       "    </tr>\n",
       "  </thead>\n",
       "  <tbody>\n",
       "    <tr>\n",
       "      <th>0</th>\n",
       "      <td>Afghanistan</td>\n",
       "      <td>1</td>\n",
       "      <td>NaN</td>\n",
       "      <td>1.0</td>\n",
       "      <td>1.0</td>\n",
       "    </tr>\n",
       "    <tr>\n",
       "      <th>1</th>\n",
       "      <td>Albania</td>\n",
       "      <td>3</td>\n",
       "      <td>3.0</td>\n",
       "      <td>3.0</td>\n",
       "      <td>3.0</td>\n",
       "    </tr>\n",
       "    <tr>\n",
       "      <th>2</th>\n",
       "      <td>Algeria</td>\n",
       "      <td>1</td>\n",
       "      <td>1.0</td>\n",
       "      <td>2.0</td>\n",
       "      <td>1.0</td>\n",
       "    </tr>\n",
       "    <tr>\n",
       "      <th>3</th>\n",
       "      <td>Andorra</td>\n",
       "      <td>5</td>\n",
       "      <td>NaN</td>\n",
       "      <td>3.0</td>\n",
       "      <td>NaN</td>\n",
       "    </tr>\n",
       "    <tr>\n",
       "      <th>4</th>\n",
       "      <td>Angola</td>\n",
       "      <td>1</td>\n",
       "      <td>2.0</td>\n",
       "      <td>3.0</td>\n",
       "      <td>1.0</td>\n",
       "    </tr>\n",
       "  </tbody>\n",
       "</table>\n",
       "</div>"
      ],
      "text/plain": [
       "       Country  FreedomintheWorld  IndexofEconomicFreedom  PressFreedomIndex  \\\n",
       "0  Afghanistan                  1                     NaN                1.0   \n",
       "1      Albania                  3                     3.0                3.0   \n",
       "2      Algeria                  1                     1.0                2.0   \n",
       "3      Andorra                  5                     NaN                3.0   \n",
       "4       Angola                  1                     2.0                3.0   \n",
       "\n",
       "   DemocracyIndex  \n",
       "0             1.0  \n",
       "1             3.0  \n",
       "2             1.0  \n",
       "3             NaN  \n",
       "4             1.0  "
      ]
     },
     "execution_count": 87,
     "metadata": {},
     "output_type": "execute_result"
    }
   ],
   "source": [
    "allFree.head()"
   ]
  },
  {
   "cell_type": "markdown",
   "id": "89342f19",
   "metadata": {},
   "source": [
    "However, these are not yet ordinal. Let's do it:"
   ]
  },
  {
   "cell_type": "code",
   "execution_count": 88,
   "id": "e21f045b",
   "metadata": {},
   "outputs": [
    {
     "name": "stdout",
     "output_type": "stream",
     "text": [
      "<class 'pandas.core.frame.DataFrame'>\n",
      "RangeIndex: 197 entries, 0 to 196\n",
      "Data columns (total 4 columns):\n",
      " #   Column                  Non-Null Count  Dtype   \n",
      "---  ------                  --------------  -----   \n",
      " 0   FreedomintheWorld       197 non-null    category\n",
      " 1   IndexofEconomicFreedom  177 non-null    category\n",
      " 2   PressFreedomIndex       184 non-null    category\n",
      " 3   DemocracyIndex          167 non-null    category\n",
      "dtypes: category(4)\n",
      "memory usage: 1.7 KB\n"
     ]
    }
   ],
   "source": [
    "from pandas.api.types import CategoricalDtype\n",
    "\n",
    "order = CategoricalDtype(categories=[1,2,3,4,5], ordered=True)\n",
    "allFree.iloc[:,1:].apply(lambda x:x.astype(order)).info()"
   ]
  },
  {
   "cell_type": "code",
   "execution_count": 89,
   "id": "71af28f8",
   "metadata": {},
   "outputs": [
    {
     "data": {
      "text/plain": [
       "Index(['FreedomintheWorld_or', 'IndexofEconomicFreedom_or',\n",
       "       'PressFreedomIndex_or', 'DemocracyIndex_or'],\n",
       "      dtype='object')"
      ]
     },
     "execution_count": 89,
     "metadata": {},
     "output_type": "execute_result"
    }
   ],
   "source": [
    "allFree.columns[1:]+'_or'"
   ]
  },
  {
   "cell_type": "code",
   "execution_count": 90,
   "id": "80aff81e",
   "metadata": {},
   "outputs": [],
   "source": [
    "newNames=allFree.columns[1:]+'_or'\n",
    "allFree[newNames]=allFree.iloc[:,1:].apply(lambda x:x.astype(order))"
   ]
  },
  {
   "cell_type": "code",
   "execution_count": 36,
   "id": "82046fb5",
   "metadata": {},
   "outputs": [
    {
     "name": "stdout",
     "output_type": "stream",
     "text": [
      "<class 'pandas.core.frame.DataFrame'>\n",
      "RangeIndex: 197 entries, 0 to 196\n",
      "Data columns (total 9 columns):\n",
      " #   Column                     Non-Null Count  Dtype   \n",
      "---  ------                     --------------  -----   \n",
      " 0   Country                    197 non-null    object  \n",
      " 1   FreedomintheWorld          197 non-null    int64   \n",
      " 2   IndexofEconomicFreedom     177 non-null    float64 \n",
      " 3   PressFreedomIndex          184 non-null    float64 \n",
      " 4   DemocracyIndex             167 non-null    float64 \n",
      " 5   FreedomintheWorld_or       197 non-null    category\n",
      " 6   IndexofEconomicFreedom_or  177 non-null    category\n",
      " 7   PressFreedomIndex_or       184 non-null    category\n",
      " 8   DemocracyIndex_or          167 non-null    category\n",
      "dtypes: category(4), float64(3), int64(1), object(1)\n",
      "memory usage: 9.4+ KB\n"
     ]
    }
   ],
   "source": [
    "allFree.info()"
   ]
  },
  {
   "cell_type": "code",
   "execution_count": 38,
   "id": "df5a5224",
   "metadata": {},
   "outputs": [
    {
     "data": {
      "text/plain": [
       "0      NaN\n",
       "1        3\n",
       "2        1\n",
       "3      NaN\n",
       "4        2\n",
       "      ... \n",
       "192      1\n",
       "193      3\n",
       "194    NaN\n",
       "195      1\n",
       "196      1\n",
       "Name: IndexofEconomicFreedom_or, Length: 197, dtype: category\n",
       "Categories (5, int64): [1 < 2 < 3 < 4 < 5]"
      ]
     },
     "execution_count": 38,
     "metadata": {},
     "output_type": "execute_result"
    }
   ],
   "source": [
    "allFree.IndexofEconomicFreedom_or"
   ]
  },
  {
   "cell_type": "markdown",
   "id": "7bddfe25",
   "metadata": {},
   "source": [
    "You may want to rename them:"
   ]
  },
  {
   "cell_type": "code",
   "execution_count": 91,
   "id": "98024763",
   "metadata": {},
   "outputs": [
    {
     "data": {
      "text/html": [
       "<div>\n",
       "<style scoped>\n",
       "    .dataframe tbody tr th:only-of-type {\n",
       "        vertical-align: middle;\n",
       "    }\n",
       "\n",
       "    .dataframe tbody tr th {\n",
       "        vertical-align: top;\n",
       "    }\n",
       "\n",
       "    .dataframe thead th {\n",
       "        text-align: right;\n",
       "    }\n",
       "</style>\n",
       "<table border=\"1\" class=\"dataframe\">\n",
       "  <thead>\n",
       "    <tr style=\"text-align: right;\">\n",
       "      <th></th>\n",
       "      <th>FreedomintheWorld_or</th>\n",
       "      <th>IndexofEconomicFreedom_or</th>\n",
       "      <th>PressFreedomIndex_or</th>\n",
       "      <th>DemocracyIndex_or</th>\n",
       "    </tr>\n",
       "  </thead>\n",
       "  <tbody>\n",
       "    <tr>\n",
       "      <th>0</th>\n",
       "      <td>veryLow</td>\n",
       "      <td>NaN</td>\n",
       "      <td>veryLow</td>\n",
       "      <td>veryLow</td>\n",
       "    </tr>\n",
       "    <tr>\n",
       "      <th>1</th>\n",
       "      <td>medium</td>\n",
       "      <td>medium</td>\n",
       "      <td>medium</td>\n",
       "      <td>medium</td>\n",
       "    </tr>\n",
       "    <tr>\n",
       "      <th>2</th>\n",
       "      <td>veryLow</td>\n",
       "      <td>veryLow</td>\n",
       "      <td>low</td>\n",
       "      <td>veryLow</td>\n",
       "    </tr>\n",
       "    <tr>\n",
       "      <th>3</th>\n",
       "      <td>veryGood</td>\n",
       "      <td>NaN</td>\n",
       "      <td>medium</td>\n",
       "      <td>NaN</td>\n",
       "    </tr>\n",
       "    <tr>\n",
       "      <th>4</th>\n",
       "      <td>veryLow</td>\n",
       "      <td>low</td>\n",
       "      <td>medium</td>\n",
       "      <td>veryLow</td>\n",
       "    </tr>\n",
       "    <tr>\n",
       "      <th>...</th>\n",
       "      <td>...</td>\n",
       "      <td>...</td>\n",
       "      <td>...</td>\n",
       "      <td>...</td>\n",
       "    </tr>\n",
       "    <tr>\n",
       "      <th>192</th>\n",
       "      <td>veryLow</td>\n",
       "      <td>veryLow</td>\n",
       "      <td>veryLow</td>\n",
       "      <td>veryLow</td>\n",
       "    </tr>\n",
       "    <tr>\n",
       "      <th>193</th>\n",
       "      <td>veryLow</td>\n",
       "      <td>medium</td>\n",
       "      <td>veryLow</td>\n",
       "      <td>veryLow</td>\n",
       "    </tr>\n",
       "    <tr>\n",
       "      <th>194</th>\n",
       "      <td>veryLow</td>\n",
       "      <td>NaN</td>\n",
       "      <td>veryLow</td>\n",
       "      <td>veryLow</td>\n",
       "    </tr>\n",
       "    <tr>\n",
       "      <th>195</th>\n",
       "      <td>medium</td>\n",
       "      <td>veryLow</td>\n",
       "      <td>medium</td>\n",
       "      <td>low</td>\n",
       "    </tr>\n",
       "    <tr>\n",
       "      <th>196</th>\n",
       "      <td>veryLow</td>\n",
       "      <td>veryLow</td>\n",
       "      <td>low</td>\n",
       "      <td>veryLow</td>\n",
       "    </tr>\n",
       "  </tbody>\n",
       "</table>\n",
       "<p>197 rows × 4 columns</p>\n",
       "</div>"
      ],
      "text/plain": [
       "    FreedomintheWorld_or IndexofEconomicFreedom_or PressFreedomIndex_or  \\\n",
       "0                veryLow                       NaN              veryLow   \n",
       "1                 medium                    medium               medium   \n",
       "2                veryLow                   veryLow                  low   \n",
       "3               veryGood                       NaN               medium   \n",
       "4                veryLow                       low               medium   \n",
       "..                   ...                       ...                  ...   \n",
       "192              veryLow                   veryLow              veryLow   \n",
       "193              veryLow                    medium              veryLow   \n",
       "194              veryLow                       NaN              veryLow   \n",
       "195               medium                   veryLow               medium   \n",
       "196              veryLow                   veryLow                  low   \n",
       "\n",
       "    DemocracyIndex_or  \n",
       "0             veryLow  \n",
       "1              medium  \n",
       "2             veryLow  \n",
       "3                 NaN  \n",
       "4             veryLow  \n",
       "..                ...  \n",
       "192           veryLow  \n",
       "193           veryLow  \n",
       "194           veryLow  \n",
       "195               low  \n",
       "196           veryLow  \n",
       "\n",
       "[197 rows x 4 columns]"
      ]
     },
     "execution_count": 91,
     "metadata": {},
     "output_type": "execute_result"
    }
   ],
   "source": [
    "ordCats={1:'veryLow',2:'low',3:'medium',4:'good',5:'veryGood'}\n",
    "\n",
    "turnToOrdinal= lambda x:x.cat.rename_categories(ordCats)\n",
    "\n",
    "allFree.iloc[:,5:].apply(turnToOrdinal)"
   ]
  },
  {
   "cell_type": "code",
   "execution_count": 92,
   "id": "f916d049",
   "metadata": {},
   "outputs": [
    {
     "name": "stderr",
     "output_type": "stream",
     "text": [
      "/var/folders/2n/bkfhfqq16r78g3hf7pdj56y40000gn/T/ipykernel_33945/3277645326.py:1: DeprecationWarning: In a future version, `df.iloc[:, i] = newvals` will attempt to set the values inplace instead of always setting a new array. To retain the old behavior, use either `df[df.columns[i]] = newvals` or, if columns are non-unique, `df.isetitem(i, newvals)`\n",
      "  allFree.iloc[:,5:]=allFree.iloc[:,5:].apply(turnToOrdinal)\n"
     ]
    }
   ],
   "source": [
    "allFree.iloc[:,5:]=allFree.iloc[:,5:].apply(turnToOrdinal)"
   ]
  },
  {
   "cell_type": "markdown",
   "id": "a42df45e",
   "metadata": {},
   "source": [
    "Let's keep this last result, but this let me show you the use of **pickle** format:"
   ]
  },
  {
   "cell_type": "code",
   "execution_count": 94,
   "id": "161406d7",
   "metadata": {},
   "outputs": [],
   "source": [
    "#saving\n",
    "\n",
    "import os \n",
    "\n",
    "allFree.to_csv(os.path.join(\"data\",\"allFree.csv\"),index=False )\n",
    "allFree.to_pickle(os.path.join(\"data\",\"allFree.pkl\") )"
   ]
  },
  {
   "cell_type": "code",
   "execution_count": 95,
   "id": "43d07085",
   "metadata": {},
   "outputs": [],
   "source": [
    "#reading\n",
    "\n",
    "dfPickle=pd.read_pickle(os.path.join(\"data\",\"allFree.pkl\") )  \n",
    "dfCSV=pd.read_csv(os.path.join(\"data\",\"allFree.csv\") )  "
   ]
  },
  {
   "cell_type": "markdown",
   "id": "cce1b3a2",
   "metadata": {},
   "source": [
    "Now, notice the difference when you have categorical data:"
   ]
  },
  {
   "cell_type": "code",
   "execution_count": 96,
   "id": "6cefa4b8",
   "metadata": {},
   "outputs": [
    {
     "name": "stdout",
     "output_type": "stream",
     "text": [
      "<class 'pandas.core.frame.DataFrame'>\n",
      "RangeIndex: 197 entries, 0 to 196\n",
      "Data columns (total 9 columns):\n",
      " #   Column                     Non-Null Count  Dtype   \n",
      "---  ------                     --------------  -----   \n",
      " 0   Country                    197 non-null    object  \n",
      " 1   FreedomintheWorld          197 non-null    int64   \n",
      " 2   IndexofEconomicFreedom     177 non-null    float64 \n",
      " 3   PressFreedomIndex          184 non-null    float64 \n",
      " 4   DemocracyIndex             167 non-null    float64 \n",
      " 5   FreedomintheWorld_or       197 non-null    category\n",
      " 6   IndexofEconomicFreedom_or  177 non-null    category\n",
      " 7   PressFreedomIndex_or       184 non-null    category\n",
      " 8   DemocracyIndex_or          167 non-null    category\n",
      "dtypes: category(4), float64(3), int64(1), object(1)\n",
      "memory usage: 8.7+ KB\n"
     ]
    }
   ],
   "source": [
    "dfPickle.info()"
   ]
  },
  {
   "cell_type": "code",
   "execution_count": 97,
   "id": "1d27a302",
   "metadata": {},
   "outputs": [
    {
     "name": "stdout",
     "output_type": "stream",
     "text": [
      "<class 'pandas.core.frame.DataFrame'>\n",
      "RangeIndex: 197 entries, 0 to 196\n",
      "Data columns (total 9 columns):\n",
      " #   Column                     Non-Null Count  Dtype  \n",
      "---  ------                     --------------  -----  \n",
      " 0   Country                    197 non-null    object \n",
      " 1   FreedomintheWorld          197 non-null    int64  \n",
      " 2   IndexofEconomicFreedom     177 non-null    float64\n",
      " 3   PressFreedomIndex          184 non-null    float64\n",
      " 4   DemocracyIndex             167 non-null    float64\n",
      " 5   FreedomintheWorld_or       197 non-null    object \n",
      " 6   IndexofEconomicFreedom_or  177 non-null    object \n",
      " 7   PressFreedomIndex_or       184 non-null    object \n",
      " 8   DemocracyIndex_or          167 non-null    object \n",
      "dtypes: float64(3), int64(1), object(5)\n",
      "memory usage: 14.0+ KB\n"
     ]
    }
   ],
   "source": [
    "dfCSV.info()"
   ]
  },
  {
   "cell_type": "code",
   "execution_count": 98,
   "id": "3def84ae",
   "metadata": {},
   "outputs": [
    {
     "data": {
      "text/plain": [
       "0      veryLow\n",
       "1       medium\n",
       "2      veryLow\n",
       "3          NaN\n",
       "4      veryLow\n",
       "        ...   \n",
       "192    veryLow\n",
       "193    veryLow\n",
       "194    veryLow\n",
       "195        low\n",
       "196    veryLow\n",
       "Name: DemocracyIndex_or, Length: 197, dtype: category\n",
       "Categories (5, object): ['veryLow' < 'low' < 'medium' < 'good' < 'veryGood']"
      ]
     },
     "execution_count": 98,
     "metadata": {},
     "output_type": "execute_result"
    }
   ],
   "source": [
    "# the file kept the data type\n",
    "dfPickle.DemocracyIndex_or"
   ]
  },
  {
   "cell_type": "code",
   "execution_count": 99,
   "id": "182bd92b",
   "metadata": {},
   "outputs": [
    {
     "data": {
      "text/plain": [
       "0      veryLow\n",
       "1       medium\n",
       "2      veryLow\n",
       "3          NaN\n",
       "4      veryLow\n",
       "        ...   \n",
       "192    veryLow\n",
       "193    veryLow\n",
       "194    veryLow\n",
       "195        low\n",
       "196    veryLow\n",
       "Name: DemocracyIndex_or, Length: 197, dtype: object"
      ]
     },
     "execution_count": 99,
     "metadata": {},
     "output_type": "execute_result"
    }
   ],
   "source": [
    "# the file did not keep the data type\n",
    "dfCSV.DemocracyIndex_or"
   ]
  },
  {
   "cell_type": "code",
   "execution_count": null,
   "id": "6b17842d",
   "metadata": {},
   "outputs": [],
   "source": []
  }
 ],
 "metadata": {
  "kernelspec": {
   "display_name": "Python 3 (ipykernel)",
   "language": "python",
   "name": "python3"
  },
  "language_info": {
   "codemirror_mode": {
    "name": "ipython",
    "version": 3
   },
   "file_extension": ".py",
   "mimetype": "text/x-python",
   "name": "python",
   "nbconvert_exporter": "python",
   "pygments_lexer": "ipython3",
   "version": "3.11.0"
  }
 },
 "nbformat": 4,
 "nbformat_minor": 5
}
