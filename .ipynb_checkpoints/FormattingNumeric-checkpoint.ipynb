{
 "cells": [
  {
   "cell_type": "markdown",
   "id": "114e2eb6",
   "metadata": {},
   "source": [
    "<center><img src=\"https://i.imgur.com/zRrFdsf.png\" width=\"700\"></center>\n",
    "\n",
    "\n",
    "# Data Formatting (numeric)\n",
    "\n",
    "This is a process where we make sure we have the right data type.\n",
    "\n",
    "It is important to realize that while you do formatting you may need some messiness in the values may appear that again again require a cleaning of the column.\n",
    "\n",
    "\n",
    "# Numeric case\n",
    "\n",
    "Let's start by reading in some data:"
   ]
  },
  {
   "cell_type": "code",
   "execution_count": null,
   "id": "0ce9ee1c",
   "metadata": {},
   "outputs": [],
   "source": [
    "from IPython.display import IFrame  \n",
    "wikiLink1=\"https://en.wikipedia.org/wiki/List_of_ongoing_armed_conflicts#Deaths_by_country\"\n",
    "IFrame(wikiLink1, width=900, height=500)"
   ]
  },
  {
   "cell_type": "markdown",
   "id": "cac7382a",
   "metadata": {},
   "source": [
    "That table is showing the top 20 countries with deaths per year from 2016 to 2021. Let's bring it:"
   ]
  },
  {
   "cell_type": "code",
   "execution_count": null,
   "id": "2be3927e",
   "metadata": {},
   "outputs": [],
   "source": [
    "import pandas as pd\n",
    "badCountries = pd.read_html(wikiLink1,flavor='bs4',\n",
    "                        attrs = {'class': 'wikitable sortable'})\n",
    "len(badCountries)"
   ]
  },
  {
   "cell_type": "markdown",
   "id": "1e5e92c6",
   "metadata": {},
   "source": [
    "The table of interest is here:"
   ]
  },
  {
   "cell_type": "code",
   "execution_count": null,
   "id": "3efbdfe8",
   "metadata": {
    "scrolled": true
   },
   "outputs": [],
   "source": [
    "theTable=badCountries[4]\n",
    "theTable"
   ]
  },
  {
   "cell_type": "markdown",
   "id": "b0135fd0",
   "metadata": {},
   "source": [
    "The first thing to notice is the column names, which is a multi index:"
   ]
  },
  {
   "cell_type": "code",
   "execution_count": null,
   "id": "9ba55c7b",
   "metadata": {},
   "outputs": [],
   "source": [
    "theTable.columns"
   ]
  },
  {
   "cell_type": "markdown",
   "id": "4c318a9c",
   "metadata": {},
   "source": [
    "What about these new names?"
   ]
  },
  {
   "cell_type": "code",
   "execution_count": null,
   "id": "33fe0057",
   "metadata": {},
   "outputs": [],
   "source": [
    "# concatenate elements\n",
    "\n",
    "newNames=[\"_\".join((b,a)) for a,b in theTable.columns]\n",
    "newNames"
   ]
  },
  {
   "cell_type": "code",
   "execution_count": null,
   "id": "79ae7638",
   "metadata": {},
   "outputs": [],
   "source": [
    "# looks better?\n",
    "betterNames=[n.split('[')[0] for n in newNames]\n",
    "betterNames"
   ]
  },
  {
   "cell_type": "code",
   "execution_count": null,
   "id": "1a1d6409",
   "metadata": {},
   "outputs": [],
   "source": [
    "#Then:\n",
    "theTable.columns=betterNames\n",
    "# see\n",
    "theTable.head()"
   ]
  },
  {
   "cell_type": "markdown",
   "id": "0e61294f",
   "metadata": {},
   "source": [
    "We do not have multi index anymore. Let's get rid of the first column too: "
   ]
  },
  {
   "cell_type": "code",
   "execution_count": null,
   "id": "4c5320eb",
   "metadata": {},
   "outputs": [],
   "source": [
    "theTable=theTable.iloc[:,1:] # keep all but the first one"
   ]
  },
  {
   "cell_type": "markdown",
   "id": "31bcd775",
   "metadata": {},
   "source": [
    "Let's check data types:"
   ]
  },
  {
   "cell_type": "code",
   "execution_count": null,
   "id": "7061c541",
   "metadata": {},
   "outputs": [],
   "source": [
    "theTable.info()"
   ]
  },
  {
   "cell_type": "markdown",
   "id": "cbe2ec81",
   "metadata": {},
   "source": [
    "Notice that only two columns that inform the count of deaths have been recognised as numeric. If you leave the table as it is, you will not be able to apply statistical functios to other numeric columns:"
   ]
  },
  {
   "cell_type": "code",
   "execution_count": null,
   "id": "a72b57ef",
   "metadata": {},
   "outputs": [],
   "source": [
    "theTable.describe()"
   ]
  },
  {
   "cell_type": "markdown",
   "id": "22b7919b",
   "metadata": {},
   "source": [
    "Let's explore attention to 2018:"
   ]
  },
  {
   "cell_type": "code",
   "execution_count": null,
   "id": "4869d782",
   "metadata": {},
   "outputs": [],
   "source": [
    "# where you have non numeric characters:\n",
    "theTable.Deaths_2018[theTable.Deaths_2018.str.contains(r'\\D')]"
   ]
  },
  {
   "cell_type": "markdown",
   "id": "0239df5d",
   "metadata": {},
   "source": [
    "Check all of them:"
   ]
  },
  {
   "cell_type": "code",
   "execution_count": null,
   "id": "2a30eb28",
   "metadata": {},
   "outputs": [],
   "source": [
    "numericColumns=theTable.columns[theTable.columns.str.startswith('Deat')]\n",
    "numericColumns"
   ]
  },
  {
   "cell_type": "code",
   "execution_count": null,
   "id": "bb7d5502",
   "metadata": {},
   "outputs": [],
   "source": []
  },
  {
   "cell_type": "code",
   "execution_count": null,
   "id": "c5bf622f",
   "metadata": {},
   "outputs": [],
   "source": [
    "badSymbols=[]\n",
    "for colname in numericColumns:\n",
    "    try:\n",
    "        print(theTable[colname][theTable[colname].str.contains(r'\\D')])\n",
    "    except:\n",
    "        pass #when numeric columns are found\n"
   ]
  },
  {
   "cell_type": "markdown",
   "id": "40f2dd4a",
   "metadata": {},
   "source": [
    "Let's clean:"
   ]
  },
  {
   "cell_type": "code",
   "execution_count": null,
   "id": "db0a4367",
   "metadata": {},
   "outputs": [],
   "source": [
    "byeStrings=r'\\[\\d+\\]|\\*|,|\\~|\\+'\n",
    "replaceAllBad=lambda x: x.str.replace(pat=byeStrings,repl=\"\",regex=True)"
   ]
  },
  {
   "cell_type": "code",
   "execution_count": null,
   "id": "c4ac1aa4",
   "metadata": {},
   "outputs": [],
   "source": [
    "#where to apply\n",
    "theTable[numericColumns].select_dtypes(include='object')"
   ]
  },
  {
   "cell_type": "code",
   "execution_count": null,
   "id": "091f6af6",
   "metadata": {},
   "outputs": [],
   "source": [
    "#then\n",
    "whereChange=theTable[numericColumns].select_dtypes(include='object').columns\n",
    "theTable[whereChange]=theTable[whereChange].apply(replaceAllBad)"
   ]
  },
  {
   "cell_type": "markdown",
   "id": "af902d48",
   "metadata": {},
   "source": [
    "This should look better:"
   ]
  },
  {
   "cell_type": "code",
   "execution_count": null,
   "id": "dd01fc95",
   "metadata": {},
   "outputs": [],
   "source": [
    "theTable"
   ]
  },
  {
   "cell_type": "markdown",
   "id": "750c69e3",
   "metadata": {},
   "source": [
    "We have a clean version, but:"
   ]
  },
  {
   "cell_type": "code",
   "execution_count": null,
   "id": "3211ddea",
   "metadata": {},
   "outputs": [],
   "source": [
    "theTable.info()"
   ]
  },
  {
   "cell_type": "markdown",
   "id": "8665f96b",
   "metadata": {},
   "source": [
    "We need to set those columns as numeric:"
   ]
  },
  {
   "cell_type": "code",
   "execution_count": null,
   "id": "9bf54d95",
   "metadata": {},
   "outputs": [],
   "source": [
    "toNumeric=lambda x:x.astype('Int64')\n",
    "theTable[whereChange]=theTable[whereChange].apply(toNumeric)"
   ]
  },
  {
   "cell_type": "code",
   "execution_count": null,
   "id": "426a568b",
   "metadata": {},
   "outputs": [],
   "source": [
    "theTable.info()"
   ]
  },
  {
   "cell_type": "markdown",
   "id": "93569216",
   "metadata": {},
   "source": [
    "Statistics can be obtained when data is in the rigth type:"
   ]
  },
  {
   "cell_type": "code",
   "execution_count": null,
   "id": "02f6e76a",
   "metadata": {},
   "outputs": [],
   "source": [
    "theTable.describe()"
   ]
  }
 ],
 "metadata": {
  "kernelspec": {
   "display_name": "Python 3 (ipykernel)",
   "language": "python",
   "name": "python3"
  },
  "language_info": {
   "codemirror_mode": {
    "name": "ipython",
    "version": 3
   },
   "file_extension": ".py",
   "mimetype": "text/x-python",
   "name": "python",
   "nbconvert_exporter": "python",
   "pygments_lexer": "ipython3",
   "version": "3.11.0"
  }
 },
 "nbformat": 4,
 "nbformat_minor": 5
}
