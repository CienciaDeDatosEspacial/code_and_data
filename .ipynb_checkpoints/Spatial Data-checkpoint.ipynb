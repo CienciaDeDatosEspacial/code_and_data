{
 "cells": [
  {
   "cell_type": "markdown",
   "id": "978deb17",
   "metadata": {},
   "source": [
    "<center><img src=\"https://i.imgur.com/zRrFdsf.png\" width=\"700\"></center> \n",
    "\n",
    "_____\n"
   ]
  },
  {
   "cell_type": "markdown",
   "id": "0234e3ca",
   "metadata": {},
   "source": [
    "# Creating Functions"
   ]
  },
  {
   "cell_type": "code",
   "execution_count": null,
   "id": "cba63b1c",
   "metadata": {},
   "outputs": [],
   "source": [
    "# for some cells to run R\n",
    "%load_ext rpy2.ipython "
   ]
  },
  {
   "cell_type": "markdown",
   "id": "ca7f9dfd",
   "metadata": {},
   "source": [
    "Functions in **Python** are created with **def**:"
   ]
  },
  {
   "cell_type": "code",
   "execution_count": null,
   "id": "78513933",
   "metadata": {},
   "outputs": [],
   "source": [
    "# function name: 'commaToNumP1'\n",
    "\n",
    "def byCommaP1(some_String): # function input: 'xString'\n",
    "    import re              # locally calling a library (unavailable outside)\n",
    "    some_String_changed=re.sub(\",\",\"\",some_String) # substituting part of the string\n",
    "    someNumber=float(some_String_changed)          # converting previous result into a number type\n",
    "    return someNumber            # function output"
   ]
  },
  {
   "cell_type": "code",
   "execution_count": null,
   "id": "3699af46",
   "metadata": {},
   "outputs": [],
   "source": [
    "# use function name, and input a string\n",
    "byCommaP1(\"1,200\")"
   ]
  },
  {
   "cell_type": "markdown",
   "id": "708b7127",
   "metadata": {},
   "source": [
    "When functions are very simple, you may use the **lambda style**:"
   ]
  },
  {
   "cell_type": "code",
   "execution_count": null,
   "id": "39bfe828",
   "metadata": {},
   "outputs": [],
   "source": [
    "import re\n",
    "\n",
    "byCommaP2=lambda some_String:float(re.sub(\",\",\"\",some_String))\n",
    "\n",
    "byCommaP2('1,250.9')"
   ]
  },
  {
   "cell_type": "markdown",
   "id": "9ca5114c",
   "metadata": {},
   "source": [
    "Functions in **R** are created with **function**:"
   ]
  },
  {
   "cell_type": "code",
   "execution_count": null,
   "id": "c6ef21b1",
   "metadata": {},
   "outputs": [],
   "source": [
    "%%R\n",
    "byCommaR=function(some_String){\n",
    "some_String_changed=gsub(\",\",\"\",some_String)\n",
    "someNumber=as.numeric(some_String_changed)\n",
    "return (someNumber)\n",
    "}"
   ]
  },
  {
   "cell_type": "code",
   "execution_count": null,
   "id": "62eade0d",
   "metadata": {},
   "outputs": [],
   "source": [
    "%%R\n",
    "byCommaR('2,400')"
   ]
  },
  {
   "cell_type": "markdown",
   "id": "11b39536",
   "metadata": {},
   "source": [
    "# Applying Functions to data simple structures\n",
    "\n",
    "Most of the time, you need that the function be applied to several values. Let's use the previously defined **byCommaP2** function:"
   ]
  },
  {
   "cell_type": "code",
   "execution_count": null,
   "id": "b4822595",
   "metadata": {},
   "outputs": [],
   "source": [
    "# convert values in a list\n",
    "valuesInList=['1','2','3','5,500']\n",
    "byCommaP2(valuesInList)"
   ]
  },
  {
   "cell_type": "code",
   "execution_count": null,
   "id": "b581145a",
   "metadata": {},
   "outputs": [],
   "source": [
    "# traverse the list\n",
    "[byCommaP2(x) for x in valuesInList]"
   ]
  },
  {
   "cell_type": "code",
   "execution_count": null,
   "id": "663ffa05",
   "metadata": {},
   "outputs": [],
   "source": [
    "# apply function to list\n",
    "list(map(byCommaP2,valuesInList))"
   ]
  },
  {
   "cell_type": "markdown",
   "id": "45133100",
   "metadata": {},
   "source": [
    "It is very similar in R: "
   ]
  },
  {
   "cell_type": "code",
   "execution_count": null,
   "id": "254f3695",
   "metadata": {},
   "outputs": [],
   "source": [
    "%%R\n",
    "valuesInList=list('1','2','3','5,500')"
   ]
  },
  {
   "cell_type": "markdown",
   "id": "b98fed6e",
   "metadata": {},
   "source": [
    "Notice that R applies the function to a data structure with neither error nor warning:"
   ]
  },
  {
   "cell_type": "code",
   "execution_count": null,
   "id": "c8e47e05",
   "metadata": {},
   "outputs": [],
   "source": [
    "%%R\n",
    "byCommaR(valuesInList)"
   ]
  },
  {
   "cell_type": "markdown",
   "id": "2cbd6a8a",
   "metadata": {},
   "source": [
    "# Applying Functions to Data Frames\n"
   ]
  },
  {
   "cell_type": "code",
   "execution_count": null,
   "id": "8a74dadf",
   "metadata": {},
   "outputs": [],
   "source": [
    "import pandas as pd\n",
    "\n",
    "linkGH=\"https://github.com/CienciaDeDatosEspacial/code_and_data/raw/main/data/dataFrame_example.csv\"\n",
    "testDataP=pd.read_csv(linkGH)\n",
    "testDataP"
   ]
  },
  {
   "cell_type": "code",
   "execution_count": null,
   "id": "dcf8d539",
   "metadata": {},
   "outputs": [],
   "source": [
    "testDataP.info()"
   ]
  },
  {
   "cell_type": "markdown",
   "id": "858d7bcc",
   "metadata": {},
   "source": [
    "Here, we need something different:"
   ]
  },
  {
   "cell_type": "code",
   "execution_count": null,
   "id": "200b6429",
   "metadata": {},
   "outputs": [],
   "source": [
    "commaToDot=lambda some_String:float(re.sub(\",\",\".\",some_String))"
   ]
  },
  {
   "cell_type": "code",
   "execution_count": null,
   "id": "81b74fec",
   "metadata": {},
   "outputs": [],
   "source": [
    "#would this work?\n",
    "\n",
    "commaToDot(testDataP.measure1)"
   ]
  },
  {
   "cell_type": "markdown",
   "id": "8a9d8c12",
   "metadata": {},
   "source": [
    "Let's apply the function to one column:"
   ]
  },
  {
   "cell_type": "code",
   "execution_count": null,
   "id": "abae8a3e",
   "metadata": {},
   "outputs": [],
   "source": [
    "testDataP.measure1.apply(commaToDot) # 'apply' belongs to 'pandas'"
   ]
  },
  {
   "cell_type": "markdown",
   "id": "be3dd2bf",
   "metadata": {},
   "source": [
    "Now, apply it to two columns:"
   ]
  },
  {
   "cell_type": "code",
   "execution_count": null,
   "id": "be0385f6",
   "metadata": {},
   "outputs": [],
   "source": [
    "testDataP.loc[:,['measure1','measure2']].apply(commaToDot)"
   ]
  },
  {
   "cell_type": "markdown",
   "id": "a83049a0",
   "metadata": {},
   "source": [
    "When teh function makes changes cell by cell, you will need **applymap**:"
   ]
  },
  {
   "cell_type": "code",
   "execution_count": null,
   "id": "52325891",
   "metadata": {},
   "outputs": [],
   "source": [
    "testDataP.loc[:,['measure1','measure2']].applymap(commaToDot)"
   ]
  },
  {
   "cell_type": "code",
   "execution_count": null,
   "id": "24f9ca34",
   "metadata": {},
   "outputs": [],
   "source": [
    "# notice no changes yet:\n",
    "testDataP"
   ]
  },
  {
   "cell_type": "code",
   "execution_count": null,
   "id": "e00c24bf",
   "metadata": {},
   "outputs": [],
   "source": [
    "# now:\n",
    "testDataP.loc[:,['measure1','measure2']]=testDataP.loc[:,['measure1','measure2']].applymap(commaToDot)\n",
    "testDataP"
   ]
  },
  {
   "cell_type": "markdown",
   "id": "e3620597",
   "metadata": {},
   "source": [
    "It would be similar in R:"
   ]
  },
  {
   "cell_type": "code",
   "execution_count": null,
   "id": "e4d1c937",
   "metadata": {},
   "outputs": [],
   "source": [
    "%%R\n",
    "linkGH=\"https://github.com/CienciaDeDatosEspacial/code_and_data/raw/main/data/dataFrame_example.csv\"\n",
    "testDataR=read.csv(linkGH)\n",
    "testDataR"
   ]
  },
  {
   "cell_type": "code",
   "execution_count": null,
   "id": "0b27a589",
   "metadata": {},
   "outputs": [],
   "source": [
    "%%R\n",
    "str(testDataR)"
   ]
  },
  {
   "cell_type": "code",
   "execution_count": null,
   "id": "14f93c49",
   "metadata": {},
   "outputs": [],
   "source": [
    "%%R\n",
    "commaToDot=function(some_String){\n",
    "some_String_changed=gsub(\",\",\".\",some_String)\n",
    "someNumber=as.numeric(some_String_changed)\n",
    "return (someNumber)\n",
    "}"
   ]
  },
  {
   "cell_type": "code",
   "execution_count": null,
   "id": "86821dc5",
   "metadata": {},
   "outputs": [],
   "source": [
    "%%R\n",
    "commaToDot(testDataR$measure1)"
   ]
  },
  {
   "cell_type": "markdown",
   "id": "546165ca",
   "metadata": {},
   "source": [
    "This will not work:"
   ]
  },
  {
   "cell_type": "code",
   "execution_count": null,
   "id": "c03654da",
   "metadata": {},
   "outputs": [],
   "source": [
    "%%R\n",
    "commaToDot(testDataR[,c('measure1','measure2')])"
   ]
  },
  {
   "cell_type": "markdown",
   "id": "95d264be",
   "metadata": {},
   "source": [
    "You may need **lapply**:"
   ]
  },
  {
   "cell_type": "code",
   "execution_count": null,
   "id": "c817136b",
   "metadata": {},
   "outputs": [],
   "source": [
    "%%R\n",
    "\n",
    "lapply(testDataR[,c('measure1','measure2')],commaToDot)"
   ]
  },
  {
   "cell_type": "code",
   "execution_count": null,
   "id": "62b98119",
   "metadata": {},
   "outputs": [],
   "source": [
    "%%R\n",
    "# no changes\n",
    "testDataR"
   ]
  },
  {
   "cell_type": "code",
   "execution_count": null,
   "id": "699e92d9",
   "metadata": {},
   "outputs": [],
   "source": [
    "%%R\n",
    "# changes\n",
    "testDataR[,c('measure1','measure2')]=lapply(testDataR[,c('measure1','measure2')],commaToDot)\n",
    "\n",
    "testDataR"
   ]
  },
  {
   "cell_type": "code",
   "execution_count": null,
   "id": "dd960add",
   "metadata": {},
   "outputs": [],
   "source": []
  }
 ],
 "metadata": {
  "kernelspec": {
   "display_name": "Python 3 (ipykernel)",
   "language": "python",
   "name": "python3"
  },
  "language_info": {
   "codemirror_mode": {
    "name": "ipython",
    "version": 3
   },
   "file_extension": ".py",
   "mimetype": "text/x-python",
   "name": "python",
   "nbconvert_exporter": "python",
   "pygments_lexer": "ipython3",
   "version": "3.11.0"
  }
 },
 "nbformat": 4,
 "nbformat_minor": 5
}
