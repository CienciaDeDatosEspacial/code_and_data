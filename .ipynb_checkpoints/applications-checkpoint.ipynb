{
 "cells": [
  {
   "cell_type": "code",
   "execution_count": null,
   "id": "1f99cb46",
   "metadata": {},
   "outputs": [],
   "source": [
    "brazil_cities.iloc[[0,1],:]"
   ]
  },
  {
   "cell_type": "code",
   "execution_count": null,
   "id": "d035f11e",
   "metadata": {},
   "outputs": [],
   "source": []
  },
  {
   "cell_type": "code",
   "execution_count": null,
   "id": "cc2a2e20",
   "metadata": {},
   "outputs": [],
   "source": [
    "brazil_cities.geometry[285].distance(brazil_cities.geometry[279])"
   ]
  },
  {
   "cell_type": "code",
   "execution_count": null,
   "id": "3487dd4b",
   "metadata": {},
   "outputs": [],
   "source": [
    "brazil_rivers[brazil_rivers.isna().any(axis=1)]"
   ]
  },
  {
   "cell_type": "code",
   "execution_count": null,
   "id": "13ac82ad",
   "metadata": {},
   "outputs": [],
   "source": [
    "brazil_rivers_nosystem=brazil_rivers[brazil_rivers.isna().any(axis=1)]\n",
    "brazil_rivers_nosystem.plot()"
   ]
  },
  {
   "cell_type": "code",
   "execution_count": null,
   "id": "7748f3b1",
   "metadata": {},
   "outputs": [],
   "source": [
    "brazil_rivers_nosystem=brazil_rivers_nosystem[brazil_rivers_nosystem.NAME=='San Francisco']\n",
    "brazil_rivers_nosystem.plot()"
   ]
  },
  {
   "cell_type": "code",
   "execution_count": null,
   "id": "5afaa86f",
   "metadata": {},
   "outputs": [],
   "source": [
    "\n",
    "\n",
    "base = brazil.plot(facecolor=\"greenyellow\", edgecolor='white', linewidth=0.4,figsize=(5,5))\n",
    "brazil_rivers_nosystem.plot(edgecolor='blue', linewidth=2,ax=base)\n",
    "brazil_cities.plot(marker='+', color='red', markersize=15,ax=base)\n"
   ]
  },
  {
   "cell_type": "code",
   "execution_count": null,
   "id": "2e764d12",
   "metadata": {},
   "outputs": [],
   "source": []
  },
  {
   "cell_type": "code",
   "execution_count": null,
   "id": "65c044c4",
   "metadata": {},
   "outputs": [],
   "source": [
    "groceries_w_communities = brazil_rivers.sjoin_nearest(brazil_cities,distance_col=\"distances\")\n",
    "\n",
    "groceries_w_communities"
   ]
  },
  {
   "cell_type": "code",
   "execution_count": null,
   "id": "faf2db1b",
   "metadata": {},
   "outputs": [],
   "source": [
    "base = brazil.plot(facecolor=\"greenyellow\", edgecolor='white', linewidth=0.4,figsize=(5,5))\n",
    "brazil_rivers_nosystem.plot(edgecolor='blue', linewidth=2,ax=base)\n",
    "brazil_cities[brazil_cities.NAME=='Belo Horizonte'].plot(marker='+', color='red', markersize=15,ax=base)\n"
   ]
  },
  {
   "cell_type": "code",
   "execution_count": null,
   "id": "58fe71c6",
   "metadata": {},
   "outputs": [],
   "source": [
    "base = brazil.plot(facecolor=\"greenyellow\", edgecolor='white', linewidth=0.4,figsize=(5,5))\n",
    "brazil_rivers_nosystem.plot(edgecolor='blue', linewidth=2,ax=base)\n",
    "brazil_cities.plot(marker='+', color='red', markersize=15,ax=base)\n"
   ]
  },
  {
   "cell_type": "code",
   "execution_count": null,
   "id": "85bb8ba2",
   "metadata": {},
   "outputs": [],
   "source": [
    "df_n = gpd.sjoin_nearest(brazil_rivers_nosystem, cities).merge(cities, left_on=\"index_right\", right_index=True)\n",
    "\n",
    "df_n[\"distance\"] = df_n.apply(lambda r: r[\"geometry_x\"].distance(r[\"geometry_y\"]), axis=1)\n",
    "\n",
    "df_n"
   ]
  },
  {
   "cell_type": "code",
   "execution_count": null,
   "id": "9ff5eb58",
   "metadata": {},
   "outputs": [],
   "source": [
    "gpd.sjoin_nearest(brazil_rivers_nosystem, cities,distance_col=True)"
   ]
  },
  {
   "cell_type": "markdown",
   "id": "dc8f2e94",
   "metadata": {},
   "source": [
    "The interactive alternative for this last case could require to set the **folium** map to a particular coordinate. Let's finde the one for Brazil here: [https://www.geodatos.net/en/coordinates](https://www.geodatos.net/en/coordinates):"
   ]
  },
  {
   "cell_type": "code",
   "execution_count": null,
   "id": "47747cd0",
   "metadata": {},
   "outputs": [],
   "source": [
    "brazilCoord=[-14.235004, -51.92528]"
   ]
  },
  {
   "cell_type": "code",
   "execution_count": null,
   "id": "174b7569",
   "metadata": {},
   "outputs": [],
   "source": [
    "m = cities.explore(location=brazilCoord,\n",
    "                   zoom_start=4.5,\n",
    "                   tiles='CartoDB positron',\n",
    "                   color='red',\n",
    "                   name=\"cities\") #optional\n",
    "m = rivers.explore(m=m, color=\"blue\",\n",
    "                   name=\"rivers\")#optional\n",
    "# folium.LayerControl().add_to(m) #optional\n",
    "m"
   ]
  },
  {
   "cell_type": "markdown",
   "id": "f7b97670",
   "metadata": {},
   "source": [
    "You can ask what layers are present:"
   ]
  },
  {
   "cell_type": "code",
   "execution_count": null,
   "id": "448f1ebd",
   "metadata": {},
   "outputs": [],
   "source": []
  },
  {
   "cell_type": "code",
   "execution_count": null,
   "id": "a54e02ad",
   "metadata": {},
   "outputs": [],
   "source": []
  }
 ],
 "metadata": {
  "kernelspec": {
   "display_name": "Python 3 (ipykernel)",
   "language": "python",
   "name": "python3"
  },
  "language_info": {
   "codemirror_mode": {
    "name": "ipython",
    "version": 3
   },
   "file_extension": ".py",
   "mimetype": "text/x-python",
   "name": "python",
   "nbconvert_exporter": "python",
   "pygments_lexer": "ipython3",
   "version": "3.11.0"
  }
 },
 "nbformat": 4,
 "nbformat_minor": 5
}
