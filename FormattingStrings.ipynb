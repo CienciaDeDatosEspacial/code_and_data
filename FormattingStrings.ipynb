{
 "cells": [
  {
   "cell_type": "markdown",
   "id": "114e2eb6",
   "metadata": {},
   "source": [
    "<center><img src=\"https://i.imgur.com/zRrFdsf.png\" width=\"700\"></center>\n",
    "\n",
    "# Data Formatting (strings)\n",
    "\n",
    "This is a process where we make sure we have the right data type.\n",
    "\n",
    "It is important to realize that while you do formatting you may find again the need for cleaning.\n"
   ]
  },
  {
   "cell_type": "markdown",
   "id": "48c61d43",
   "metadata": {},
   "source": [
    "# String case"
   ]
  },
  {
   "cell_type": "code",
   "execution_count": null,
   "id": "bc3b2c61",
   "metadata": {},
   "outputs": [],
   "source": [
    "from IPython.display import IFrame  \n",
    "wikiLink2=\"https://en.wikipedia.org/wiki/List_of_active_rebel_groups\" \n",
    "IFrame(wikiLink2, width=900, height=500)"
   ]
  },
  {
   "cell_type": "code",
   "execution_count": null,
   "id": "9e038365",
   "metadata": {},
   "outputs": [],
   "source": [
    "import pandas as pd\n",
    "\n",
    "rebels = pd.read_html(wikiLink2,flavor='bs4',\n",
    "                        attrs = {'class': 'wikitable sortable'})\n",
    "# how many did you get?\n",
    "len(rebels)"
   ]
  },
  {
   "cell_type": "markdown",
   "id": "b793de51",
   "metadata": {},
   "source": [
    "So, this is our table:"
   ]
  },
  {
   "cell_type": "code",
   "execution_count": null,
   "id": "87ed6d40",
   "metadata": {},
   "outputs": [],
   "source": [
    "theRebels=rebels[0].copy()\n",
    "theRebels"
   ]
  },
  {
   "cell_type": "code",
   "execution_count": null,
   "id": "f9223f1f",
   "metadata": {},
   "outputs": [],
   "source": [
    "# check names in columns\n",
    "\n",
    "theRebels.columns"
   ]
  },
  {
   "cell_type": "markdown",
   "id": "1a3b0238",
   "metadata": {},
   "source": [
    "Simpler names"
   ]
  },
  {
   "cell_type": "code",
   "execution_count": null,
   "id": "ff2dd90d",
   "metadata": {},
   "outputs": [],
   "source": [
    "theRebels.columns=theRebels.columns.str.replace(r'\\W',\"\",regex=True)"
   ]
  },
  {
   "cell_type": "markdown",
   "id": "4dc82e8f",
   "metadata": {},
   "source": [
    "Keeping what you need:"
   ]
  },
  {
   "cell_type": "code",
   "execution_count": null,
   "id": "61300fe9",
   "metadata": {},
   "outputs": [],
   "source": [
    "theRebels.drop(columns=['References'],inplace=True)"
   ]
  },
  {
   "cell_type": "markdown",
   "id": "506dae36",
   "metadata": {},
   "source": [
    "Let's check the first column:"
   ]
  },
  {
   "cell_type": "code",
   "execution_count": null,
   "id": "7803bd1e",
   "metadata": {},
   "outputs": [],
   "source": [
    "theRebels.iloc[:,0]"
   ]
  },
  {
   "cell_type": "markdown",
   "id": "96fed6fd",
   "metadata": {},
   "source": [
    "That gave me an idea, creat a column multinational for the rebel group. You have two ways:"
   ]
  },
  {
   "cell_type": "code",
   "execution_count": null,
   "id": "1ad52c20",
   "metadata": {},
   "outputs": [],
   "source": [
    "theRebels[theRebels.Withinstate.str.startswith('Multinational')]"
   ]
  },
  {
   "cell_type": "code",
   "execution_count": null,
   "id": "e9f76dc2",
   "metadata": {},
   "outputs": [],
   "source": [
    "theRebels[theRebels.Withinstate.str.contains('Multinational',case=False)] # not case sensitive"
   ]
  },
  {
   "cell_type": "code",
   "execution_count": null,
   "id": "e03a3783",
   "metadata": {},
   "outputs": [],
   "source": [
    "theRebels['multinational']=theRebels.Withinstate.str.contains('Multinational',case=False)"
   ]
  },
  {
   "cell_type": "markdown",
   "id": "e7ab76f1",
   "metadata": {},
   "source": [
    "The first should only keep country names. \n",
    "Remmeber that we had **country flags**. Take a look:"
   ]
  },
  {
   "cell_type": "code",
   "execution_count": null,
   "id": "1d585d90",
   "metadata": {},
   "outputs": [],
   "source": [
    "theRebels.Withinstate[0]"
   ]
  },
  {
   "cell_type": "markdown",
   "id": "588f1787",
   "metadata": {},
   "source": [
    "When you see unicode You must find about the presence of those symbols:"
   ]
  },
  {
   "cell_type": "code",
   "execution_count": null,
   "id": "418b0766",
   "metadata": {},
   "outputs": [],
   "source": [
    "# extract unicode sequence, do not show missing values, just unique strings\n",
    "theRebels.Withinstate.str.extract(r'([^\\x00-\\x7F]+)')[0].dropna().unique()\n"
   ]
  },
  {
   "cell_type": "markdown",
   "id": "c36e456a",
   "metadata": {},
   "source": [
    "Then, this code will take care of the first part:"
   ]
  },
  {
   "cell_type": "code",
   "execution_count": null,
   "id": "9db5ff06",
   "metadata": {},
   "outputs": [],
   "source": [
    "theRebels.Withinstate=theRebels.Withinstate.str.replace(pat=r'Multinational:\\s*\\xa0', #with spaces before unicode\n",
    "                                                        repl=\"\",case=False,\n",
    "                                                        regex=True)"
   ]
  },
  {
   "cell_type": "markdown",
   "id": "c2340705",
   "metadata": {},
   "source": [
    "We can replace the unicode by commas now:"
   ]
  },
  {
   "cell_type": "code",
   "execution_count": null,
   "id": "916ac4bb",
   "metadata": {},
   "outputs": [],
   "source": [
    "theRebels.Withinstate[1]"
   ]
  },
  {
   "cell_type": "code",
   "execution_count": null,
   "id": "58d975d7",
   "metadata": {},
   "outputs": [],
   "source": [
    "theRebels.Withinstate.str.replace(r'\\s*\\xa0',\",\",regex=True)#with spaces before unicode"
   ]
  },
  {
   "cell_type": "code",
   "execution_count": null,
   "id": "750327d9",
   "metadata": {},
   "outputs": [],
   "source": [
    "theRebels.Withinstate=theRebels.Withinstate.str.replace(r'\\s*\\xa0',\",\",regex=True)"
   ]
  },
  {
   "cell_type": "markdown",
   "id": "18837c55",
   "metadata": {},
   "source": [
    "The capitalization is an important decision:\n",
    "\n",
    "* str.lower(): all to lowercase.\n",
    "\n",
    "* str.upper(): ALL TO UPPERCASE.\n",
    "\n",
    "* str.title(): First Character Of Each Word To Uppercase. \n",
    "\n",
    "* str.capitalize(): First character to uppercase and remaining to lowercase.\n",
    "\n",
    "**You can only apply this if the cells are strings.**\n",
    "\n",
    "For example:"
   ]
  },
  {
   "cell_type": "code",
   "execution_count": null,
   "id": "3c9f6b40",
   "metadata": {},
   "outputs": [],
   "source": [
    "theRebels['state']=theRebels.Withinstate.str.lower()\n",
    "theRebels['STATE']=theRebels.Withinstate.str.upper()\n",
    "theRebels['StateName']=theRebels.Withinstate.str.title()"
   ]
  },
  {
   "cell_type": "code",
   "execution_count": null,
   "id": "37cae2c6",
   "metadata": {},
   "outputs": [],
   "source": [
    "theRebels[['Withinstate','state','STATE','StateName']].head()"
   ]
  },
  {
   "cell_type": "markdown",
   "id": "2374000f",
   "metadata": {},
   "source": [
    "Let's keep the upper case:"
   ]
  },
  {
   "cell_type": "code",
   "execution_count": null,
   "id": "dcc279ea",
   "metadata": {},
   "outputs": [],
   "source": [
    "theRebels.drop(columns=['Withinstate','state','StateName'],inplace=True)"
   ]
  },
  {
   "cell_type": "code",
   "execution_count": null,
   "id": "d558d510",
   "metadata": {},
   "outputs": [],
   "source": [
    "theRebels"
   ]
  },
  {
   "cell_type": "code",
   "execution_count": null,
   "id": "45a5dc73",
   "metadata": {},
   "outputs": [],
   "source": [
    "# we can save this:\n",
    "import os\n",
    "\n",
    "theRebels.to_csv(os.path.join(\"data\",\"theRebelsCleaned.csv\"),index=False)"
   ]
  },
  {
   "cell_type": "markdown",
   "id": "2a30fabc",
   "metadata": {},
   "source": [
    "Exercise:\n",
    "\n",
    "Create a column that informs in how many states is a rebel group present."
   ]
  }
 ],
 "metadata": {
  "kernelspec": {
   "display_name": "Python 3 (ipykernel)",
   "language": "python",
   "name": "python3"
  },
  "language_info": {
   "codemirror_mode": {
    "name": "ipython",
    "version": 3
   },
   "file_extension": ".py",
   "mimetype": "text/x-python",
   "name": "python",
   "nbconvert_exporter": "python",
   "pygments_lexer": "ipython3",
   "version": "3.11.0"
  }
 },
 "nbformat": 4,
 "nbformat_minor": 5
}
