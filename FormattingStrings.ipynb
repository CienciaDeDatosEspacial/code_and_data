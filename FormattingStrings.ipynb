{
 "cells": [
  {
   "cell_type": "markdown",
   "id": "114e2eb6",
   "metadata": {},
   "source": [
    "<center><img src=\"https://i.imgur.com/zRrFdsf.png\" width=\"700\"></center>\n",
    "\n",
    "# Data Formatting (strings)\n",
    "\n",
    "This is a process where we make sure we have the right data type.\n",
    "\n",
    "It is important to realize that while you do formatting you may find again the need for cleaning.\n"
   ]
  },
  {
   "cell_type": "markdown",
   "id": "48c61d43",
   "metadata": {},
   "source": [
    "# String case"
   ]
  },
  {
   "cell_type": "code",
   "execution_count": 1,
   "id": "bc3b2c61",
   "metadata": {},
   "outputs": [
    {
     "data": {
      "text/html": [
       "\n",
       "        <iframe\n",
       "            width=\"900\"\n",
       "            height=\"500\"\n",
       "            src=\"https://en.wikipedia.org/wiki/List_of_active_rebel_groups\"\n",
       "            frameborder=\"0\"\n",
       "            allowfullscreen\n",
       "            \n",
       "        ></iframe>\n",
       "        "
      ],
      "text/plain": [
       "<IPython.lib.display.IFrame at 0x104247ed0>"
      ]
     },
     "execution_count": 1,
     "metadata": {},
     "output_type": "execute_result"
    }
   ],
   "source": [
    "from IPython.display import IFrame  \n",
    "wikiLink2=\"https://en.wikipedia.org/wiki/List_of_active_rebel_groups\" \n",
    "IFrame(wikiLink2, width=900, height=500)"
   ]
  },
  {
   "cell_type": "code",
   "execution_count": 2,
   "id": "9e038365",
   "metadata": {},
   "outputs": [
    {
     "data": {
      "text/plain": [
       "1"
      ]
     },
     "execution_count": 2,
     "metadata": {},
     "output_type": "execute_result"
    }
   ],
   "source": [
    "import pandas as pd\n",
    "\n",
    "rebels = pd.read_html(wikiLink2,flavor='bs4',\n",
    "                        attrs = {'class': 'wikitable sortable'})\n",
    "len(rebels)"
   ]
  },
  {
   "cell_type": "markdown",
   "id": "b793de51",
   "metadata": {},
   "source": [
    "This is our table:"
   ]
  },
  {
   "cell_type": "code",
   "execution_count": 3,
   "id": "87ed6d40",
   "metadata": {},
   "outputs": [
    {
     "data": {
      "text/html": [
       "<div>\n",
       "<style scoped>\n",
       "    .dataframe tbody tr th:only-of-type {\n",
       "        vertical-align: middle;\n",
       "    }\n",
       "\n",
       "    .dataframe tbody tr th {\n",
       "        vertical-align: top;\n",
       "    }\n",
       "\n",
       "    .dataframe thead th {\n",
       "        text-align: right;\n",
       "    }\n",
       "</style>\n",
       "<table border=\"1\" class=\"dataframe\">\n",
       "  <thead>\n",
       "    <tr style=\"text-align: right;\">\n",
       "      <th></th>\n",
       "      <th>Within state</th>\n",
       "      <th>Rebel group</th>\n",
       "      <th>Subgroups / Affiliates</th>\n",
       "      <th>Conflict</th>\n",
       "      <th>Year Established</th>\n",
       "      <th>Leader</th>\n",
       "      <th>References</th>\n",
       "    </tr>\n",
       "  </thead>\n",
       "  <tbody>\n",
       "    <tr>\n",
       "      <th>0</th>\n",
       "      <td>Multinational:  Democratic Republic of the Con...</td>\n",
       "      <td>Allied Democratic Forces (ADF)</td>\n",
       "      <td>None</td>\n",
       "      <td>Allied Democratic Forces insurgency Kivu confl...</td>\n",
       "      <td>1996</td>\n",
       "      <td>Musa Baluku</td>\n",
       "      <td>[1]</td>\n",
       "    </tr>\n",
       "    <tr>\n",
       "      <th>1</th>\n",
       "      <td>Multinational:  Algeria  Bangladesh  Burkina F...</td>\n",
       "      <td>Al-Qaeda</td>\n",
       "      <td>Abdullah Azzam Brigades Aden-Abyan Islamic Arm...</td>\n",
       "      <td>Afghanistan conflict Al-Qaeda insurgency in Ye...</td>\n",
       "      <td>1988</td>\n",
       "      <td>None</td>\n",
       "      <td>[2][3][4]</td>\n",
       "    </tr>\n",
       "    <tr>\n",
       "      <th>2</th>\n",
       "      <td>Multinational:  Afghanistan  Algeria  Banglade...</td>\n",
       "      <td>Islamic State of Iraq and the Levant</td>\n",
       "      <td>Abu Sayyaf (ASG) Al-Khansaa Brigade Algeria Pr...</td>\n",
       "      <td>Islamic State–Taliban conflict Yemeni Civil Wa...</td>\n",
       "      <td>1999</td>\n",
       "      <td>Abu al-Hasan al-Hashimi al-Qurashi</td>\n",
       "      <td>[5][6][7][8][9]</td>\n",
       "    </tr>\n",
       "    <tr>\n",
       "      <th>3</th>\n",
       "      <td>Multinational:  Afghanistan  Iran  Pakistan  S...</td>\n",
       "      <td>Jama'at al-Jihad al-Islami</td>\n",
       "      <td>None</td>\n",
       "      <td>Afghanistan conflict War in North-West Pakista...</td>\n",
       "      <td>2002</td>\n",
       "      <td>NaN</td>\n",
       "      <td>NaN</td>\n",
       "    </tr>\n",
       "    <tr>\n",
       "      <th>4</th>\n",
       "      <td>Multinational:  Indonesia  Malaysia  Philippin...</td>\n",
       "      <td>Jemaah Islamiyah</td>\n",
       "      <td>None</td>\n",
       "      <td>NaN</td>\n",
       "      <td>1993</td>\n",
       "      <td>Abu Bakar Baasyir</td>\n",
       "      <td>NaN</td>\n",
       "    </tr>\n",
       "    <tr>\n",
       "      <th>...</th>\n",
       "      <td>...</td>\n",
       "      <td>...</td>\n",
       "      <td>...</td>\n",
       "      <td>...</td>\n",
       "      <td>...</td>\n",
       "      <td>...</td>\n",
       "      <td>...</td>\n",
       "    </tr>\n",
       "    <tr>\n",
       "      <th>178</th>\n",
       "      <td>United Kingdom</td>\n",
       "      <td>Red Hand Defenders</td>\n",
       "      <td>None</td>\n",
       "      <td>Dissident Irish republican campaign</td>\n",
       "      <td>1998</td>\n",
       "      <td>NaN</td>\n",
       "      <td>NaN</td>\n",
       "    </tr>\n",
       "    <tr>\n",
       "      <th>179</th>\n",
       "      <td>United Kingdom</td>\n",
       "      <td>Real Irish Republican Army (RIRA)</td>\n",
       "      <td>None</td>\n",
       "      <td>Dissident Irish republican campaign</td>\n",
       "      <td>1997</td>\n",
       "      <td>Army Council</td>\n",
       "      <td>NaN</td>\n",
       "    </tr>\n",
       "    <tr>\n",
       "      <th>180</th>\n",
       "      <td>United Kingdom</td>\n",
       "      <td>Real Ulster Freedom Fighters</td>\n",
       "      <td>None</td>\n",
       "      <td>Dissident Irish republican campaign</td>\n",
       "      <td>2007</td>\n",
       "      <td>NaN</td>\n",
       "      <td>NaN</td>\n",
       "    </tr>\n",
       "    <tr>\n",
       "      <th>181</th>\n",
       "      <td>Yemen</td>\n",
       "      <td>Houthi movement</td>\n",
       "      <td>Supreme Political Council</td>\n",
       "      <td>Yemeni Civil War (2014–present) Yemeni Crisis ...</td>\n",
       "      <td>1994</td>\n",
       "      <td>Abdul-Malik Badreddin al-Houthi</td>\n",
       "      <td>NaN</td>\n",
       "    </tr>\n",
       "    <tr>\n",
       "      <th>182</th>\n",
       "      <td>Yemen</td>\n",
       "      <td>Southern Movement</td>\n",
       "      <td>Southern Transitional Council</td>\n",
       "      <td>Yemeni Civil War (2014–present) Yemeni Crisis ...</td>\n",
       "      <td>2007</td>\n",
       "      <td>Aidarus al-Zoubaidi</td>\n",
       "      <td>NaN</td>\n",
       "    </tr>\n",
       "  </tbody>\n",
       "</table>\n",
       "<p>183 rows × 7 columns</p>\n",
       "</div>"
      ],
      "text/plain": [
       "                                          Within state  \\\n",
       "0    Multinational:  Democratic Republic of the Con...   \n",
       "1    Multinational:  Algeria  Bangladesh  Burkina F...   \n",
       "2    Multinational:  Afghanistan  Algeria  Banglade...   \n",
       "3    Multinational:  Afghanistan  Iran  Pakistan  S...   \n",
       "4    Multinational:  Indonesia  Malaysia  Philippin...   \n",
       "..                                                 ...   \n",
       "178                                     United Kingdom   \n",
       "179                                     United Kingdom   \n",
       "180                                     United Kingdom   \n",
       "181                                              Yemen   \n",
       "182                                              Yemen   \n",
       "\n",
       "                              Rebel group  \\\n",
       "0          Allied Democratic Forces (ADF)   \n",
       "1                                Al-Qaeda   \n",
       "2    Islamic State of Iraq and the Levant   \n",
       "3              Jama'at al-Jihad al-Islami   \n",
       "4                        Jemaah Islamiyah   \n",
       "..                                    ...   \n",
       "178                    Red Hand Defenders   \n",
       "179     Real Irish Republican Army (RIRA)   \n",
       "180          Real Ulster Freedom Fighters   \n",
       "181                       Houthi movement   \n",
       "182                     Southern Movement   \n",
       "\n",
       "                                Subgroups / Affiliates  \\\n",
       "0                                                 None   \n",
       "1    Abdullah Azzam Brigades Aden-Abyan Islamic Arm...   \n",
       "2    Abu Sayyaf (ASG) Al-Khansaa Brigade Algeria Pr...   \n",
       "3                                                 None   \n",
       "4                                                 None   \n",
       "..                                                 ...   \n",
       "178                                               None   \n",
       "179                                               None   \n",
       "180                                               None   \n",
       "181                          Supreme Political Council   \n",
       "182                      Southern Transitional Council   \n",
       "\n",
       "                                              Conflict Year Established  \\\n",
       "0    Allied Democratic Forces insurgency Kivu confl...             1996   \n",
       "1    Afghanistan conflict Al-Qaeda insurgency in Ye...             1988   \n",
       "2    Islamic State–Taliban conflict Yemeni Civil Wa...             1999   \n",
       "3    Afghanistan conflict War in North-West Pakista...             2002   \n",
       "4                                                  NaN             1993   \n",
       "..                                                 ...              ...   \n",
       "178                Dissident Irish republican campaign             1998   \n",
       "179                Dissident Irish republican campaign             1997   \n",
       "180                Dissident Irish republican campaign             2007   \n",
       "181  Yemeni Civil War (2014–present) Yemeni Crisis ...             1994   \n",
       "182  Yemeni Civil War (2014–present) Yemeni Crisis ...             2007   \n",
       "\n",
       "                                 Leader       References  \n",
       "0                           Musa Baluku              [1]  \n",
       "1                                  None        [2][3][4]  \n",
       "2    Abu al-Hasan al-Hashimi al-Qurashi  [5][6][7][8][9]  \n",
       "3                                   NaN              NaN  \n",
       "4                     Abu Bakar Baasyir              NaN  \n",
       "..                                  ...              ...  \n",
       "178                                 NaN              NaN  \n",
       "179                        Army Council              NaN  \n",
       "180                                 NaN              NaN  \n",
       "181     Abdul-Malik Badreddin al-Houthi              NaN  \n",
       "182                 Aidarus al-Zoubaidi              NaN  \n",
       "\n",
       "[183 rows x 7 columns]"
      ]
     },
     "execution_count": 3,
     "metadata": {},
     "output_type": "execute_result"
    }
   ],
   "source": [
    "theRebels=rebels[0].copy()\n",
    "theRebels"
   ]
  },
  {
   "cell_type": "code",
   "execution_count": 4,
   "id": "f9223f1f",
   "metadata": {},
   "outputs": [
    {
     "data": {
      "text/plain": [
       "Index(['Within state', 'Rebel group', 'Subgroups / Affiliates', 'Conflict',\n",
       "       'Year Established', 'Leader', 'References'],\n",
       "      dtype='object')"
      ]
     },
     "execution_count": 4,
     "metadata": {},
     "output_type": "execute_result"
    }
   ],
   "source": [
    "# check names in columns\n",
    "\n",
    "theRebels.columns"
   ]
  },
  {
   "cell_type": "markdown",
   "id": "1a3b0238",
   "metadata": {},
   "source": [
    "Simpler names"
   ]
  },
  {
   "cell_type": "code",
   "execution_count": 6,
   "id": "ff2dd90d",
   "metadata": {},
   "outputs": [],
   "source": [
    "theRebels.columns=theRebels.columns.str.replace(r'\\W',\"\",regex=True)"
   ]
  },
  {
   "cell_type": "markdown",
   "id": "4dc82e8f",
   "metadata": {},
   "source": [
    "Keeping what you need:"
   ]
  },
  {
   "cell_type": "code",
   "execution_count": 7,
   "id": "61300fe9",
   "metadata": {},
   "outputs": [],
   "source": [
    "theRebels.drop(columns=['References'],inplace=True)"
   ]
  },
  {
   "cell_type": "markdown",
   "id": "506dae36",
   "metadata": {},
   "source": [
    "Let's check the first column:"
   ]
  },
  {
   "cell_type": "code",
   "execution_count": 8,
   "id": "7803bd1e",
   "metadata": {},
   "outputs": [
    {
     "data": {
      "text/plain": [
       "0      Multinational:  Democratic Republic of the Con...\n",
       "1      Multinational:  Algeria  Bangladesh  Burkina F...\n",
       "2      Multinational:  Afghanistan  Algeria  Banglade...\n",
       "3      Multinational:  Afghanistan  Iran  Pakistan  S...\n",
       "4      Multinational:  Indonesia  Malaysia  Philippin...\n",
       "                             ...                        \n",
       "178                                       United Kingdom\n",
       "179                                       United Kingdom\n",
       "180                                       United Kingdom\n",
       "181                                                Yemen\n",
       "182                                                Yemen\n",
       "Name: Withinstate, Length: 183, dtype: object"
      ]
     },
     "execution_count": 8,
     "metadata": {},
     "output_type": "execute_result"
    }
   ],
   "source": [
    "theRebels.iloc[:,0]"
   ]
  },
  {
   "cell_type": "markdown",
   "id": "96fed6fd",
   "metadata": {},
   "source": [
    "That gave me an idea:"
   ]
  },
  {
   "cell_type": "code",
   "execution_count": 17,
   "id": "1ad52c20",
   "metadata": {},
   "outputs": [
    {
     "data": {
      "text/html": [
       "<div>\n",
       "<style scoped>\n",
       "    .dataframe tbody tr th:only-of-type {\n",
       "        vertical-align: middle;\n",
       "    }\n",
       "\n",
       "    .dataframe tbody tr th {\n",
       "        vertical-align: top;\n",
       "    }\n",
       "\n",
       "    .dataframe thead th {\n",
       "        text-align: right;\n",
       "    }\n",
       "</style>\n",
       "<table border=\"1\" class=\"dataframe\">\n",
       "  <thead>\n",
       "    <tr style=\"text-align: right;\">\n",
       "      <th></th>\n",
       "      <th>Withinstate</th>\n",
       "      <th>Rebelgroup</th>\n",
       "      <th>SubgroupsAffiliates</th>\n",
       "      <th>Conflict</th>\n",
       "      <th>YearEstablished</th>\n",
       "      <th>Leader</th>\n",
       "    </tr>\n",
       "  </thead>\n",
       "  <tbody>\n",
       "    <tr>\n",
       "      <th>0</th>\n",
       "      <td>Multinational:  Democratic Republic of the Con...</td>\n",
       "      <td>Allied Democratic Forces (ADF)</td>\n",
       "      <td>None</td>\n",
       "      <td>Allied Democratic Forces insurgency Kivu confl...</td>\n",
       "      <td>1996</td>\n",
       "      <td>Musa Baluku</td>\n",
       "    </tr>\n",
       "    <tr>\n",
       "      <th>1</th>\n",
       "      <td>Multinational:  Algeria  Bangladesh  Burkina F...</td>\n",
       "      <td>Al-Qaeda</td>\n",
       "      <td>Abdullah Azzam Brigades Aden-Abyan Islamic Arm...</td>\n",
       "      <td>Afghanistan conflict Al-Qaeda insurgency in Ye...</td>\n",
       "      <td>1988</td>\n",
       "      <td>None</td>\n",
       "    </tr>\n",
       "    <tr>\n",
       "      <th>2</th>\n",
       "      <td>Multinational:  Afghanistan  Algeria  Banglade...</td>\n",
       "      <td>Islamic State of Iraq and the Levant</td>\n",
       "      <td>Abu Sayyaf (ASG) Al-Khansaa Brigade Algeria Pr...</td>\n",
       "      <td>Islamic State–Taliban conflict Yemeni Civil Wa...</td>\n",
       "      <td>1999</td>\n",
       "      <td>Abu al-Hasan al-Hashimi al-Qurashi</td>\n",
       "    </tr>\n",
       "    <tr>\n",
       "      <th>3</th>\n",
       "      <td>Multinational:  Afghanistan  Iran  Pakistan  S...</td>\n",
       "      <td>Jama'at al-Jihad al-Islami</td>\n",
       "      <td>None</td>\n",
       "      <td>Afghanistan conflict War in North-West Pakista...</td>\n",
       "      <td>2002</td>\n",
       "      <td>NaN</td>\n",
       "    </tr>\n",
       "    <tr>\n",
       "      <th>4</th>\n",
       "      <td>Multinational:  Indonesia  Malaysia  Philippin...</td>\n",
       "      <td>Jemaah Islamiyah</td>\n",
       "      <td>None</td>\n",
       "      <td>NaN</td>\n",
       "      <td>1993</td>\n",
       "      <td>Abu Bakar Baasyir</td>\n",
       "    </tr>\n",
       "    <tr>\n",
       "      <th>5</th>\n",
       "      <td>Multinational:  Iraq  Iran  Syria  Turkey</td>\n",
       "      <td>Kurdistan Workers' Party</td>\n",
       "      <td>People's Defence Forces  Free Women's Units YDG-H</td>\n",
       "      <td>Kurdish–Turkish conflict Syrian Civil War</td>\n",
       "      <td>1978</td>\n",
       "      <td>Abdullah Öcalan</td>\n",
       "    </tr>\n",
       "    <tr>\n",
       "      <th>6</th>\n",
       "      <td>Multinational:  Central African Republic  Demo...</td>\n",
       "      <td>Lord's Resistance Army</td>\n",
       "      <td>None</td>\n",
       "      <td>Lord's Resistance Army insurgency Central Afri...</td>\n",
       "      <td>1987</td>\n",
       "      <td>Joseph Kony</td>\n",
       "    </tr>\n",
       "  </tbody>\n",
       "</table>\n",
       "</div>"
      ],
      "text/plain": [
       "                                         Withinstate  \\\n",
       "0  Multinational:  Democratic Republic of the Con...   \n",
       "1  Multinational:  Algeria  Bangladesh  Burkina F...   \n",
       "2  Multinational:  Afghanistan  Algeria  Banglade...   \n",
       "3  Multinational:  Afghanistan  Iran  Pakistan  S...   \n",
       "4  Multinational:  Indonesia  Malaysia  Philippin...   \n",
       "5          Multinational:  Iraq  Iran  Syria  Turkey   \n",
       "6  Multinational:  Central African Republic  Demo...   \n",
       "\n",
       "                             Rebelgroup  \\\n",
       "0        Allied Democratic Forces (ADF)   \n",
       "1                              Al-Qaeda   \n",
       "2  Islamic State of Iraq and the Levant   \n",
       "3            Jama'at al-Jihad al-Islami   \n",
       "4                      Jemaah Islamiyah   \n",
       "5              Kurdistan Workers' Party   \n",
       "6                Lord's Resistance Army   \n",
       "\n",
       "                                 SubgroupsAffiliates  \\\n",
       "0                                               None   \n",
       "1  Abdullah Azzam Brigades Aden-Abyan Islamic Arm...   \n",
       "2  Abu Sayyaf (ASG) Al-Khansaa Brigade Algeria Pr...   \n",
       "3                                               None   \n",
       "4                                               None   \n",
       "5  People's Defence Forces  Free Women's Units YDG-H   \n",
       "6                                               None   \n",
       "\n",
       "                                            Conflict YearEstablished  \\\n",
       "0  Allied Democratic Forces insurgency Kivu confl...            1996   \n",
       "1  Afghanistan conflict Al-Qaeda insurgency in Ye...            1988   \n",
       "2  Islamic State–Taliban conflict Yemeni Civil Wa...            1999   \n",
       "3  Afghanistan conflict War in North-West Pakista...            2002   \n",
       "4                                                NaN            1993   \n",
       "5          Kurdish–Turkish conflict Syrian Civil War            1978   \n",
       "6  Lord's Resistance Army insurgency Central Afri...            1987   \n",
       "\n",
       "                               Leader  \n",
       "0                         Musa Baluku  \n",
       "1                                None  \n",
       "2  Abu al-Hasan al-Hashimi al-Qurashi  \n",
       "3                                 NaN  \n",
       "4                   Abu Bakar Baasyir  \n",
       "5                     Abdullah Öcalan  \n",
       "6                         Joseph Kony  "
      ]
     },
     "execution_count": 17,
     "metadata": {},
     "output_type": "execute_result"
    }
   ],
   "source": [
    "theRebels[theRebels.Withinstate.str.startswith('Multinational')]"
   ]
  },
  {
   "cell_type": "code",
   "execution_count": 18,
   "id": "e9f76dc2",
   "metadata": {},
   "outputs": [
    {
     "data": {
      "text/html": [
       "<div>\n",
       "<style scoped>\n",
       "    .dataframe tbody tr th:only-of-type {\n",
       "        vertical-align: middle;\n",
       "    }\n",
       "\n",
       "    .dataframe tbody tr th {\n",
       "        vertical-align: top;\n",
       "    }\n",
       "\n",
       "    .dataframe thead th {\n",
       "        text-align: right;\n",
       "    }\n",
       "</style>\n",
       "<table border=\"1\" class=\"dataframe\">\n",
       "  <thead>\n",
       "    <tr style=\"text-align: right;\">\n",
       "      <th></th>\n",
       "      <th>Withinstate</th>\n",
       "      <th>Rebelgroup</th>\n",
       "      <th>SubgroupsAffiliates</th>\n",
       "      <th>Conflict</th>\n",
       "      <th>YearEstablished</th>\n",
       "      <th>Leader</th>\n",
       "    </tr>\n",
       "  </thead>\n",
       "  <tbody>\n",
       "    <tr>\n",
       "      <th>0</th>\n",
       "      <td>Multinational:  Democratic Republic of the Con...</td>\n",
       "      <td>Allied Democratic Forces (ADF)</td>\n",
       "      <td>None</td>\n",
       "      <td>Allied Democratic Forces insurgency Kivu confl...</td>\n",
       "      <td>1996</td>\n",
       "      <td>Musa Baluku</td>\n",
       "    </tr>\n",
       "    <tr>\n",
       "      <th>1</th>\n",
       "      <td>Multinational:  Algeria  Bangladesh  Burkina F...</td>\n",
       "      <td>Al-Qaeda</td>\n",
       "      <td>Abdullah Azzam Brigades Aden-Abyan Islamic Arm...</td>\n",
       "      <td>Afghanistan conflict Al-Qaeda insurgency in Ye...</td>\n",
       "      <td>1988</td>\n",
       "      <td>None</td>\n",
       "    </tr>\n",
       "    <tr>\n",
       "      <th>2</th>\n",
       "      <td>Multinational:  Afghanistan  Algeria  Banglade...</td>\n",
       "      <td>Islamic State of Iraq and the Levant</td>\n",
       "      <td>Abu Sayyaf (ASG) Al-Khansaa Brigade Algeria Pr...</td>\n",
       "      <td>Islamic State–Taliban conflict Yemeni Civil Wa...</td>\n",
       "      <td>1999</td>\n",
       "      <td>Abu al-Hasan al-Hashimi al-Qurashi</td>\n",
       "    </tr>\n",
       "    <tr>\n",
       "      <th>3</th>\n",
       "      <td>Multinational:  Afghanistan  Iran  Pakistan  S...</td>\n",
       "      <td>Jama'at al-Jihad al-Islami</td>\n",
       "      <td>None</td>\n",
       "      <td>Afghanistan conflict War in North-West Pakista...</td>\n",
       "      <td>2002</td>\n",
       "      <td>NaN</td>\n",
       "    </tr>\n",
       "    <tr>\n",
       "      <th>4</th>\n",
       "      <td>Multinational:  Indonesia  Malaysia  Philippin...</td>\n",
       "      <td>Jemaah Islamiyah</td>\n",
       "      <td>None</td>\n",
       "      <td>NaN</td>\n",
       "      <td>1993</td>\n",
       "      <td>Abu Bakar Baasyir</td>\n",
       "    </tr>\n",
       "    <tr>\n",
       "      <th>5</th>\n",
       "      <td>Multinational:  Iraq  Iran  Syria  Turkey</td>\n",
       "      <td>Kurdistan Workers' Party</td>\n",
       "      <td>People's Defence Forces  Free Women's Units YDG-H</td>\n",
       "      <td>Kurdish–Turkish conflict Syrian Civil War</td>\n",
       "      <td>1978</td>\n",
       "      <td>Abdullah Öcalan</td>\n",
       "    </tr>\n",
       "    <tr>\n",
       "      <th>6</th>\n",
       "      <td>Multinational:  Central African Republic  Demo...</td>\n",
       "      <td>Lord's Resistance Army</td>\n",
       "      <td>None</td>\n",
       "      <td>Lord's Resistance Army insurgency Central Afri...</td>\n",
       "      <td>1987</td>\n",
       "      <td>Joseph Kony</td>\n",
       "    </tr>\n",
       "  </tbody>\n",
       "</table>\n",
       "</div>"
      ],
      "text/plain": [
       "                                         Withinstate  \\\n",
       "0  Multinational:  Democratic Republic of the Con...   \n",
       "1  Multinational:  Algeria  Bangladesh  Burkina F...   \n",
       "2  Multinational:  Afghanistan  Algeria  Banglade...   \n",
       "3  Multinational:  Afghanistan  Iran  Pakistan  S...   \n",
       "4  Multinational:  Indonesia  Malaysia  Philippin...   \n",
       "5          Multinational:  Iraq  Iran  Syria  Turkey   \n",
       "6  Multinational:  Central African Republic  Demo...   \n",
       "\n",
       "                             Rebelgroup  \\\n",
       "0        Allied Democratic Forces (ADF)   \n",
       "1                              Al-Qaeda   \n",
       "2  Islamic State of Iraq and the Levant   \n",
       "3            Jama'at al-Jihad al-Islami   \n",
       "4                      Jemaah Islamiyah   \n",
       "5              Kurdistan Workers' Party   \n",
       "6                Lord's Resistance Army   \n",
       "\n",
       "                                 SubgroupsAffiliates  \\\n",
       "0                                               None   \n",
       "1  Abdullah Azzam Brigades Aden-Abyan Islamic Arm...   \n",
       "2  Abu Sayyaf (ASG) Al-Khansaa Brigade Algeria Pr...   \n",
       "3                                               None   \n",
       "4                                               None   \n",
       "5  People's Defence Forces  Free Women's Units YDG-H   \n",
       "6                                               None   \n",
       "\n",
       "                                            Conflict YearEstablished  \\\n",
       "0  Allied Democratic Forces insurgency Kivu confl...            1996   \n",
       "1  Afghanistan conflict Al-Qaeda insurgency in Ye...            1988   \n",
       "2  Islamic State–Taliban conflict Yemeni Civil Wa...            1999   \n",
       "3  Afghanistan conflict War in North-West Pakista...            2002   \n",
       "4                                                NaN            1993   \n",
       "5          Kurdish–Turkish conflict Syrian Civil War            1978   \n",
       "6  Lord's Resistance Army insurgency Central Afri...            1987   \n",
       "\n",
       "                               Leader  \n",
       "0                         Musa Baluku  \n",
       "1                                None  \n",
       "2  Abu al-Hasan al-Hashimi al-Qurashi  \n",
       "3                                 NaN  \n",
       "4                   Abu Bakar Baasyir  \n",
       "5                     Abdullah Öcalan  \n",
       "6                         Joseph Kony  "
      ]
     },
     "execution_count": 18,
     "metadata": {},
     "output_type": "execute_result"
    }
   ],
   "source": [
    "theRebels[theRebels.Withinstate.str.contains('Multinational')]"
   ]
  },
  {
   "cell_type": "code",
   "execution_count": 21,
   "id": "e03a3783",
   "metadata": {},
   "outputs": [],
   "source": [
    "theRebels['multinational']=theRebels.Withinstate.str.contains('Multinational')"
   ]
  },
  {
   "cell_type": "code",
   "execution_count": 25,
   "id": "9db5ff06",
   "metadata": {},
   "outputs": [
    {
     "data": {
      "text/plain": [
       "0      Multinational:  Democratic Republic of the Con...\n",
       "1      Multinational:  Algeria  Bangladesh  Burkina F...\n",
       "2      Multinational:  Afghanistan  Algeria  Banglade...\n",
       "3      Multinational:  Afghanistan  Iran  Pakistan  S...\n",
       "4      Multinational:  Indonesia  Malaysia  Philippin...\n",
       "                             ...                        \n",
       "178                                       United Kingdom\n",
       "179                                       United Kingdom\n",
       "180                                       United Kingdom\n",
       "181                                                Yemen\n",
       "182                                                Yemen\n",
       "Name: Withinstate, Length: 183, dtype: object"
      ]
     },
     "execution_count": 25,
     "metadata": {},
     "output_type": "execute_result"
    }
   ],
   "source": [
    "theRebels.Withinstate.str.replace(pat=r'Multinational:\\W',\n",
    "                                            repl=\"\",\n",
    "                                            case=False,\n",
    "                                            regex=False)"
   ]
  },
  {
   "cell_type": "code",
   "execution_count": 26,
   "id": "916ac4bb",
   "metadata": {},
   "outputs": [
    {
     "data": {
      "text/plain": [
       "'Multinational: \\xa0Democratic Republic of the Congo \\xa0Uganda'"
      ]
     },
     "execution_count": 26,
     "metadata": {},
     "output_type": "execute_result"
    }
   ],
   "source": [
    "theRebels.Withinstate[0]"
   ]
  },
  {
   "cell_type": "code",
   "execution_count": 31,
   "id": "58d975d7",
   "metadata": {},
   "outputs": [
    {
     "data": {
      "text/plain": [
       "0      Multinational: ,Democratic Republic of the Con...\n",
       "1      Multinational: ,Algeria ,Bangladesh ,Burkina F...\n",
       "2      Multinational: ,Afghanistan ,Algeria ,Banglade...\n",
       "3      Multinational: ,Afghanistan ,Iran ,Pakistan ,S...\n",
       "4      Multinational: ,Indonesia ,Malaysia ,Philippin...\n",
       "                             ...                        \n",
       "178                                       United Kingdom\n",
       "179                                       United Kingdom\n",
       "180                                       United Kingdom\n",
       "181                                                Yemen\n",
       "182                                                Yemen\n",
       "Name: Withinstate, Length: 183, dtype: object"
      ]
     },
     "execution_count": 31,
     "metadata": {},
     "output_type": "execute_result"
    }
   ],
   "source": [
    "theRebels.Withinstate.str.replace(r'\\xa0',\",\",regex=True)"
   ]
  },
  {
   "cell_type": "code",
   "execution_count": 32,
   "id": "750327d9",
   "metadata": {},
   "outputs": [],
   "source": [
    "theRebels.Withinstate=theRebels.Withinstate.str.replace(r'\\xa0',\",\",regex=True)"
   ]
  },
  {
   "cell_type": "code",
   "execution_count": 42,
   "id": "40c1a72e",
   "metadata": {},
   "outputs": [
    {
     "data": {
      "text/plain": [
       "0               Democratic Republic of the Congo ,Uganda\n",
       "1      Algeria ,Bangladesh ,Burkina Faso ,Chad ,Egypt...\n",
       "2      Afghanistan ,Algeria ,Bangladesh ,Burkina Faso...\n",
       "3         Afghanistan ,Iran ,Pakistan ,Syria ,Tajikistan\n",
       "4      Indonesia ,Malaysia ,Philippines ,Singapore ,T...\n",
       "                             ...                        \n",
       "178                                       United Kingdom\n",
       "179                                       United Kingdom\n",
       "180                                       United Kingdom\n",
       "181                                                Yemen\n",
       "182                                                Yemen\n",
       "Name: Withinstate, Length: 183, dtype: object"
      ]
     },
     "execution_count": 42,
     "metadata": {},
     "output_type": "execute_result"
    }
   ],
   "source": [
    "theRebels.Withinstate.str.replace(r'^Multinational:\\s*,',\"\",regex=True)"
   ]
  },
  {
   "cell_type": "code",
   "execution_count": 43,
   "id": "0c5146aa",
   "metadata": {},
   "outputs": [],
   "source": [
    "theRebels.Withinstate=theRebels.Withinstate.str.replace(r'^Multinational:\\s*,',\"\",regex=True)"
   ]
  },
  {
   "cell_type": "markdown",
   "id": "18837c55",
   "metadata": {},
   "source": [
    "The capitalization is an important decision:\n",
    "\n",
    "* str.lower(): all to lowercase.\n",
    "\n",
    "* str.upper(): ALL TO UPPERCASE.\n",
    "\n",
    "* str.title(): First Character Of Each Word To Uppercase. \n",
    "\n",
    "* str.capitalize(): First character to uppercase and remaining to lowercase.\n",
    "\n",
    "**You can only apply this if the cells are strings.**\n",
    "\n",
    "For example:"
   ]
  },
  {
   "cell_type": "code",
   "execution_count": 44,
   "id": "3c9f6b40",
   "metadata": {},
   "outputs": [],
   "source": [
    "theRebels['state']=theRebels.Withinstate.str.lower()\n",
    "theRebels['STATE']=theRebels.Withinstate.str.upper()\n",
    "theRebels['StateName']=theRebels.Withinstate.str.title()"
   ]
  },
  {
   "cell_type": "code",
   "execution_count": 45,
   "id": "37cae2c6",
   "metadata": {},
   "outputs": [
    {
     "data": {
      "text/html": [
       "<div>\n",
       "<style scoped>\n",
       "    .dataframe tbody tr th:only-of-type {\n",
       "        vertical-align: middle;\n",
       "    }\n",
       "\n",
       "    .dataframe tbody tr th {\n",
       "        vertical-align: top;\n",
       "    }\n",
       "\n",
       "    .dataframe thead th {\n",
       "        text-align: right;\n",
       "    }\n",
       "</style>\n",
       "<table border=\"1\" class=\"dataframe\">\n",
       "  <thead>\n",
       "    <tr style=\"text-align: right;\">\n",
       "      <th></th>\n",
       "      <th>Withinstate</th>\n",
       "      <th>state</th>\n",
       "      <th>STATE</th>\n",
       "      <th>StateName</th>\n",
       "    </tr>\n",
       "  </thead>\n",
       "  <tbody>\n",
       "    <tr>\n",
       "      <th>0</th>\n",
       "      <td>Democratic Republic of the Congo ,Uganda</td>\n",
       "      <td>democratic republic of the congo ,uganda</td>\n",
       "      <td>DEMOCRATIC REPUBLIC OF THE CONGO ,UGANDA</td>\n",
       "      <td>Democratic Republic Of The Congo ,Uganda</td>\n",
       "    </tr>\n",
       "    <tr>\n",
       "      <th>1</th>\n",
       "      <td>Algeria ,Bangladesh ,Burkina Faso ,Chad ,Egypt...</td>\n",
       "      <td>algeria ,bangladesh ,burkina faso ,chad ,egypt...</td>\n",
       "      <td>ALGERIA ,BANGLADESH ,BURKINA FASO ,CHAD ,EGYPT...</td>\n",
       "      <td>Algeria ,Bangladesh ,Burkina Faso ,Chad ,Egypt...</td>\n",
       "    </tr>\n",
       "    <tr>\n",
       "      <th>2</th>\n",
       "      <td>Afghanistan ,Algeria ,Bangladesh ,Burkina Faso...</td>\n",
       "      <td>afghanistan ,algeria ,bangladesh ,burkina faso...</td>\n",
       "      <td>AFGHANISTAN ,ALGERIA ,BANGLADESH ,BURKINA FASO...</td>\n",
       "      <td>Afghanistan ,Algeria ,Bangladesh ,Burkina Faso...</td>\n",
       "    </tr>\n",
       "    <tr>\n",
       "      <th>3</th>\n",
       "      <td>Afghanistan ,Iran ,Pakistan ,Syria ,Tajikistan</td>\n",
       "      <td>afghanistan ,iran ,pakistan ,syria ,tajikistan</td>\n",
       "      <td>AFGHANISTAN ,IRAN ,PAKISTAN ,SYRIA ,TAJIKISTAN</td>\n",
       "      <td>Afghanistan ,Iran ,Pakistan ,Syria ,Tajikistan</td>\n",
       "    </tr>\n",
       "    <tr>\n",
       "      <th>4</th>\n",
       "      <td>Indonesia ,Malaysia ,Philippines ,Singapore ,T...</td>\n",
       "      <td>indonesia ,malaysia ,philippines ,singapore ,t...</td>\n",
       "      <td>INDONESIA ,MALAYSIA ,PHILIPPINES ,SINGAPORE ,T...</td>\n",
       "      <td>Indonesia ,Malaysia ,Philippines ,Singapore ,T...</td>\n",
       "    </tr>\n",
       "  </tbody>\n",
       "</table>\n",
       "</div>"
      ],
      "text/plain": [
       "                                         Withinstate  \\\n",
       "0           Democratic Republic of the Congo ,Uganda   \n",
       "1  Algeria ,Bangladesh ,Burkina Faso ,Chad ,Egypt...   \n",
       "2  Afghanistan ,Algeria ,Bangladesh ,Burkina Faso...   \n",
       "3     Afghanistan ,Iran ,Pakistan ,Syria ,Tajikistan   \n",
       "4  Indonesia ,Malaysia ,Philippines ,Singapore ,T...   \n",
       "\n",
       "                                               state  \\\n",
       "0           democratic republic of the congo ,uganda   \n",
       "1  algeria ,bangladesh ,burkina faso ,chad ,egypt...   \n",
       "2  afghanistan ,algeria ,bangladesh ,burkina faso...   \n",
       "3     afghanistan ,iran ,pakistan ,syria ,tajikistan   \n",
       "4  indonesia ,malaysia ,philippines ,singapore ,t...   \n",
       "\n",
       "                                               STATE  \\\n",
       "0           DEMOCRATIC REPUBLIC OF THE CONGO ,UGANDA   \n",
       "1  ALGERIA ,BANGLADESH ,BURKINA FASO ,CHAD ,EGYPT...   \n",
       "2  AFGHANISTAN ,ALGERIA ,BANGLADESH ,BURKINA FASO...   \n",
       "3     AFGHANISTAN ,IRAN ,PAKISTAN ,SYRIA ,TAJIKISTAN   \n",
       "4  INDONESIA ,MALAYSIA ,PHILIPPINES ,SINGAPORE ,T...   \n",
       "\n",
       "                                           StateName  \n",
       "0           Democratic Republic Of The Congo ,Uganda  \n",
       "1  Algeria ,Bangladesh ,Burkina Faso ,Chad ,Egypt...  \n",
       "2  Afghanistan ,Algeria ,Bangladesh ,Burkina Faso...  \n",
       "3     Afghanistan ,Iran ,Pakistan ,Syria ,Tajikistan  \n",
       "4  Indonesia ,Malaysia ,Philippines ,Singapore ,T...  "
      ]
     },
     "execution_count": 45,
     "metadata": {},
     "output_type": "execute_result"
    }
   ],
   "source": [
    "theRebels[['Withinstate','state','STATE','StateName']].head()"
   ]
  }
 ],
 "metadata": {
  "kernelspec": {
   "display_name": "Python 3 (ipykernel)",
   "language": "python",
   "name": "python3"
  },
  "language_info": {
   "codemirror_mode": {
    "name": "ipython",
    "version": 3
   },
   "file_extension": ".py",
   "mimetype": "text/x-python",
   "name": "python",
   "nbconvert_exporter": "python",
   "pygments_lexer": "ipython3",
   "version": "3.11.0"
  }
 },
 "nbformat": 4,
 "nbformat_minor": 5
}
