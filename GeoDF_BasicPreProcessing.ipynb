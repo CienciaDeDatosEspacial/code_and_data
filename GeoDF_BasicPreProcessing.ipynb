{
 "cells": [
  {
   "cell_type": "markdown",
   "metadata": {},
   "source": [
    "<center><img src=\"https://i.imgur.com/zRrFdsf.png\" width=\"700\"></center>"
   ]
  },
  {
   "cell_type": "markdown",
   "metadata": {},
   "source": [
    "## Basic Formatting operations in  Geo Dataframes\n",
    "\n",
    "We will review some important formatting processes for geodataframes. As usual, let's do this: \n",
    "\n",
    "1. Create a repository named: formatgeodf.\n",
    "2. Clone that repo to a local folder in your computer.\n",
    "3. In that local folder in your computer, create a folder named **maps** and **data**.\n",
    "4. Put the **geopackage** file that contains the three maps prepared last class into the map folder.\n",
    "5. Commit and push: get the link for the **worldMaps.gpkg** from **formatgeodf** repo in GitHub cloud."
   ]
  },
  {
   "cell_type": "markdown",
   "metadata": {},
   "source": [
    "Let's read the file with the help of **geopandas**:"
   ]
  },
  {
   "cell_type": "code",
   "execution_count": null,
   "metadata": {},
   "outputs": [],
   "source": [
    "import os\n",
    "os.environ['USE_PYGEOS'] = '0'\n",
    "\n",
    "import geopandas as gpd\n",
    "from  fiona import listlayers\n",
    "\n",
    "#maps\n",
    "worldMaps='https://github.com/CienciaDeDatosEspacial/code_and_data/raw/main/maps/worldMaps.gpkg'\n",
    "\n",
    "#layers in maps\n",
    "listlayers(worldMaps)"
   ]
  },
  {
   "cell_type": "markdown",
   "metadata": {},
   "source": [
    "Retrieving each map (layer):"
   ]
  },
  {
   "cell_type": "code",
   "execution_count": null,
   "metadata": {},
   "outputs": [],
   "source": [
    "countries=gpd.read_file(worldMaps,layer='countries')\n",
    "cities=gpd.read_file(worldMaps,layer='cities')\n",
    "rivers=gpd.read_file(worldMaps,layer='rivers')"
   ]
  },
  {
   "cell_type": "markdown",
   "metadata": {},
   "source": [
    "Making sure they have the same CRS:"
   ]
  },
  {
   "cell_type": "code",
   "execution_count": null,
   "metadata": {},
   "outputs": [],
   "source": [
    "countries.crs.to_epsg(),cities.crs.to_epsg(),rivers.crs.to_epsg()"
   ]
  },
  {
   "cell_type": "markdown",
   "metadata": {},
   "source": [
    "Subsetting the maps:"
   ]
  },
  {
   "cell_type": "code",
   "execution_count": null,
   "metadata": {},
   "outputs": [],
   "source": [
    "# just brazil\n",
    "brazil=countries[countries.COUNTRY=='Brazil']\n",
    "\n",
    "# clipping\n",
    "brazil_cities= gpd.clip(gdf=cities,mask=brazil)\n",
    "brazil_rivers = gpd.clip(gdf=rivers,mask=brazil)\n",
    "\n",
    "# plotting\n",
    "base = brazil.plot(facecolor=\"greenyellow\")\n",
    "brazil_rivers.plot(edgecolor='blue', linewidth=0.5,ax=base)\n",
    "brazil_cities.plot(marker='+', color='red', markersize=15,ax=base)\n"
   ]
  },
  {
   "cell_type": "markdown",
   "metadata": {},
   "source": [
    "## (Re) Projecting "
   ]
  },
  {
   "cell_type": "markdown",
   "metadata": {},
   "source": [
    "As mentioned in class, the CRS is a very important property of the maps. They affect three aspects:\n",
    "\n",
    "* shape\n",
    "* area\n",
    "* distance\n",
    "* direction\n",
    "\n",
    "The most use CRS is 4326, but it is **not projected**:"
   ]
  },
  {
   "cell_type": "code",
   "execution_count": null,
   "metadata": {},
   "outputs": [],
   "source": [
    "# unit is in degrees:\n",
    "brazil.crs.axis_info"
   ]
  },
  {
   "cell_type": "markdown",
   "metadata": {},
   "source": [
    "Some operations will **warn** you on this issue:"
   ]
  },
  {
   "cell_type": "code",
   "execution_count": null,
   "metadata": {},
   "outputs": [],
   "source": [
    "# perimeter\n",
    "brazil.length"
   ]
  },
  {
   "cell_type": "code",
   "execution_count": null,
   "metadata": {},
   "outputs": [],
   "source": [
    "# centroid\n",
    "brazil.centroid"
   ]
  },
  {
   "cell_type": "markdown",
   "metadata": {},
   "source": [
    "A projected CRS will have units in meters or feet (or similar):"
   ]
  },
  {
   "cell_type": "code",
   "execution_count": null,
   "metadata": {},
   "outputs": [],
   "source": [
    "brazil.to_crs(3587).crs.axis_info"
   ]
  },
  {
   "cell_type": "code",
   "execution_count": null,
   "metadata": {},
   "outputs": [],
   "source": [
    "brazil.to_crs(3587).centroid"
   ]
  },
  {
   "cell_type": "code",
   "execution_count": null,
   "metadata": {},
   "outputs": [],
   "source": [
    "# plot this projected version\n",
    "\n",
    "base3587=brazil.to_crs(3587).plot()\n",
    "brazil.to_crs(3587).centroid.plot(color='red',ax=base3587)"
   ]
  },
  {
   "cell_type": "markdown",
   "metadata": {},
   "source": [
    "The crs **3587** is a general option when there is a need to reproject a map. However, for a more accurate option it is better to look for the ones explicitly prepared for a map. You can request a crs per country [here](https://epsg.io/?q=brazil+kind%3APROJCRS):"
   ]
  },
  {
   "cell_type": "code",
   "execution_count": null,
   "metadata": {},
   "outputs": [],
   "source": [
    "# recommended for Brazil (meters)\n",
    "brazil.to_crs(5641).crs.axis_info"
   ]
  },
  {
   "cell_type": "code",
   "execution_count": null,
   "metadata": {},
   "outputs": [],
   "source": [
    "brazil.to_crs(5641).length, brazil.to_crs(5641).centroid"
   ]
  },
  {
   "cell_type": "code",
   "execution_count": null,
   "metadata": {},
   "outputs": [],
   "source": [
    "# replotting:\n",
    "\n",
    "base5641=brazil.to_crs(5641).plot()\n",
    "brazil.to_crs(5641).centroid.plot(color='red',ax=base5641)"
   ]
  },
  {
   "cell_type": "markdown",
   "metadata": {},
   "source": [
    "Not using the right projection will give you a wrong numerical result when needing numerical accuracy; however, you might find situation where the visual output seems right (yet it is wrong):"
   ]
  },
  {
   "cell_type": "code",
   "execution_count": null,
   "metadata": {},
   "outputs": [],
   "source": [
    "from matplotlib import pyplot\n",
    "\n",
    "fig, (ax1, ax2) = pyplot.subplots(ncols=2, sharex=False, sharey=False, figsize=(12,12))\n",
    "\n",
    "brazil.to_crs(5641).plot(ax=ax1)\n",
    "brazil.to_crs(5641).centroid.plot(color='red',ax=ax1)\n",
    "\n",
    "brazil.plot(ax=ax2)\n",
    "brazil.centroid.plot(color='red',ax=ax2)\n"
   ]
  },
  {
   "cell_type": "markdown",
   "metadata": {},
   "source": [
    "Let's keep the projected version for all our maps:"
   ]
  },
  {
   "cell_type": "code",
   "execution_count": null,
   "metadata": {},
   "outputs": [],
   "source": [
    "brazil_5641=brazil.to_crs(5641)\n",
    "cities_5641=cities.to_crs(brazil_5641.crs)\n",
    "rivers_5641=rivers.to_crs(brazil_5641.crs)"
   ]
  },
  {
   "cell_type": "code",
   "execution_count": null,
   "metadata": {},
   "outputs": [],
   "source": [
    "cities_5641=cities_5641[cities_5641.COUNTRY=='Brazil']\n",
    "rivers_5641=gpd.clip(gdf=rivers_5641,mask=brazil_5641)"
   ]
  },
  {
   "cell_type": "code",
   "execution_count": null,
   "metadata": {},
   "outputs": [],
   "source": [
    "# saving \n",
    "import os\n",
    "\n",
    "brazil_5641.to_file(os.path.join(\"maps\",\"brazilMaps_5641.gpkg\"), layer='border', driver=\"GPKG\")\n",
    "cities_5641.to_file(os.path.join(\"maps\",\"brazilMaps_5641.gpkg\"), layer='cities', driver=\"GPKG\")\n",
    "rivers_5641.to_file(os.path.join(\"maps\",\"brazilMaps_5641.gpkg\"), layer='rivers', driver=\"GPKG\")"
   ]
  },
  {
   "cell_type": "markdown",
   "metadata": {},
   "source": [
    "Reprojecting seems a simple process, but you might find some interesting cases. Download the shapefile of Brazil - Subnational Administrative Boundaries from [here](https://data.humdata.org/dataset/cod-ab-bra) and save it in the maps folder (you need to unzip the file)."
   ]
  },
  {
   "cell_type": "code",
   "execution_count": null,
   "metadata": {},
   "outputs": [],
   "source": [
    "brazil_estados=gpd.read_file(os.path.join(\"maps\",\"bra_adm_ibge_2020_shp\",\"bra_admbnda_adm1_ibge_2020.shp\"))\n",
    "brazil_municipios=gpd.read_file(os.path.join(\"maps\",\"bra_adm_ibge_2020_shp\",\"bra_admbnda_adm2_ibge_2020.shp\"))"
   ]
  },
  {
   "cell_type": "markdown",
   "metadata": {},
   "source": [
    "Notice this:"
   ]
  },
  {
   "cell_type": "code",
   "execution_count": null,
   "metadata": {},
   "outputs": [],
   "source": [
    "brazil_estados.crs, brazil_municipios.crs"
   ]
  },
  {
   "cell_type": "markdown",
   "metadata": {},
   "source": [
    "It does not have crs information, however:"
   ]
  },
  {
   "cell_type": "code",
   "execution_count": null,
   "metadata": {},
   "outputs": [],
   "source": [
    "fig, (ax1, ax2) = pyplot.subplots(ncols=2, sharex=False, sharey=False, figsize=(12,12))\n",
    "\n",
    "brazil_estados.plot(ax=ax1, facecolor='lightgrey', edgecolor='black')\n",
    "brazil_municipios.plot(ax=ax2, facecolor='lightgrey', edgecolor='black',linewidth=0.2)\n"
   ]
  },
  {
   "cell_type": "markdown",
   "metadata": {},
   "source": [
    "Since we are using the crs 3587, we may try:"
   ]
  },
  {
   "cell_type": "code",
   "execution_count": null,
   "metadata": {},
   "outputs": [],
   "source": [
    "brazil_estados=brazil_estados.to_crs(3587)\n",
    "brazil_municipios=brazil_municipios.to_crs(3587)"
   ]
  },
  {
   "cell_type": "markdown",
   "metadata": {},
   "source": [
    "Python says _\"Please set a crs on the object first\"_. Let's do it:"
   ]
  },
  {
   "cell_type": "code",
   "execution_count": null,
   "metadata": {},
   "outputs": [],
   "source": [
    "brazil_estados.crs = \"EPSG:4326\"\n",
    "brazil_municipios.crs = \"EPSG:4326\""
   ]
  },
  {
   "cell_type": "markdown",
   "metadata": {},
   "source": [
    "Now, we can reproject:"
   ]
  },
  {
   "cell_type": "code",
   "execution_count": null,
   "metadata": {},
   "outputs": [],
   "source": [
    "brazil_estados=brazil_estados.to_crs(5641)\n",
    "brazil_municipios=brazil_municipios.to_crs(5641)"
   ]
  },
  {
   "cell_type": "markdown",
   "metadata": {},
   "source": [
    "Notice that now you have several polygons:"
   ]
  },
  {
   "cell_type": "code",
   "execution_count": null,
   "metadata": {},
   "outputs": [],
   "source": [
    "brazil_estados.shape,brazil_municipios.shape"
   ]
  },
  {
   "cell_type": "markdown",
   "metadata": {},
   "source": [
    "In this cases, you can consider subsetting **by location**. In addition to _loc_ or _iloc_ (from pandas),  geopandas offers **cx**:"
   ]
  },
  {
   "cell_type": "code",
   "execution_count": null,
   "metadata": {},
   "outputs": [],
   "source": [
    "centroBrazil=brazil_5641.centroid\n",
    "\n",
    "\n",
    "fig, axs = pyplot.subplots(nrows=2,ncols=2,sharex=False, sharey=False,figsize=(8,8))\n",
    "\n",
    "axs[0,0].set_title('Above_Centroid, LeftOf_Centroid',fontsize=5)\n",
    "brazil_municipios.cx[:centroBrazil.x,centroBrazil.y:].plot(ax=axs[0,0]) \n",
    "\n",
    "axs[0,1].set_title('Above_Centroid, RightOf_Centroid',fontsize=5)\n",
    "brazil_municipios.cx[centroBrazil.x:,centroBrazil.y:].plot(ax=axs[0,1]) \n",
    "\n",
    "axs[1,0].set_title('Below_Centroid, LeftOf_Centroid',fontsize=5)\n",
    "brazil_municipios.cx[:centroBrazil.x,:centroBrazil.y].plot(ax=axs[1,0]) \n",
    "\n",
    "axs[1,1].set_title('Below_Centroid, RightOf_Centroid',fontsize=5)\n",
    "brazil_municipios.cx[centroBrazil.x:,:centroBrazil.y].plot(ax=axs[1,1]) "
   ]
  },
  {
   "cell_type": "markdown",
   "metadata": {},
   "source": [
    "We update the file:"
   ]
  },
  {
   "cell_type": "code",
   "execution_count": null,
   "metadata": {},
   "outputs": [],
   "source": [
    "brazil_estados.to_file(os.path.join(\"maps\",\"brazilMaps_5641.gpkg\"), layer='estados', driver=\"GPKG\")\n",
    "brazil_municipios.to_file(os.path.join(\"maps\",\"brazilMaps_5641.gpkg\"), layer='municipios', driver=\"GPKG\")"
   ]
  },
  {
   "cell_type": "markdown",
   "metadata": {},
   "source": [
    "## Creating Spatial data\n",
    "\n",
    "You will get Lines and Polygons as maps for sure, but that may not be the case with points. Let me download a **CSV** file with information on the airports in Brazil from this [website](https://data.humdata.org/dataset/ourairports-bra), I will save it in my **data** folder:"
   ]
  },
  {
   "cell_type": "code",
   "execution_count": null,
   "metadata": {},
   "outputs": [],
   "source": [
    "import pandas as pd \n",
    "infoairports=pd.read_csv(os.path.join(\"data\",\"br-airports.csv\"))\n",
    "\n",
    "# some rows\n",
    "\n",
    "infoairports.iloc[[0,1,2,3,-4,-3,-2,-1]]"
   ]
  },
  {
   "cell_type": "markdown",
   "metadata": {},
   "source": [
    "This need some cleaning:"
   ]
  },
  {
   "cell_type": "code",
   "execution_count": null,
   "metadata": {},
   "outputs": [],
   "source": [
    "# bye first row \n",
    "infoairports.drop(index=0,inplace=True)\n",
    "infoairports.reset_index(drop=True, inplace=True)\n",
    "infoairports.head()"
   ]
  },
  {
   "cell_type": "code",
   "execution_count": null,
   "metadata": {},
   "outputs": [],
   "source": [
    "# keep the  columns needed\n",
    "\n",
    "infoairports.columns.to_list()"
   ]
  },
  {
   "cell_type": "code",
   "execution_count": null,
   "metadata": {},
   "outputs": [],
   "source": [
    "keep=['name','type','latitude_deg', 'longitude_deg','elevation_ft','region_name','municipality']\n",
    "infoairports=infoairports.loc[:,keep]"
   ]
  },
  {
   "cell_type": "code",
   "execution_count": null,
   "metadata": {},
   "outputs": [],
   "source": [
    "infoairports.info()"
   ]
  },
  {
   "cell_type": "markdown",
   "metadata": {},
   "source": [
    "Some formatting:"
   ]
  },
  {
   "cell_type": "code",
   "execution_count": null,
   "metadata": {},
   "outputs": [],
   "source": [
    "numericCols=['latitude_deg', 'longitude_deg','elevation_ft']\n",
    "infoairports[numericCols]=infoairports.loc[:,numericCols].apply(lambda x:pd.to_numeric(x))\n",
    "\n",
    "# now \n",
    "infoairports.info()"
   ]
  },
  {
   "cell_type": "code",
   "execution_count": null,
   "metadata": {},
   "outputs": [],
   "source": [
    "# let's plot\n",
    "\n",
    "base = brazil.plot(color='white', edgecolor='black')\n",
    "\n",
    "infoairports.plot.scatter(x = 'longitude_deg', y = 'latitude_deg',ax=base)"
   ]
  },
  {
   "cell_type": "markdown",
   "metadata": {},
   "source": [
    "Would that be ok? It is supposed to be right. \n"
   ]
  },
  {
   "cell_type": "markdown",
   "metadata": {},
   "source": [
    "Let me turn those coordinates into a map of points:"
   ]
  },
  {
   "cell_type": "code",
   "execution_count": null,
   "metadata": {},
   "outputs": [],
   "source": [
    "airports=gpd.GeoDataFrame(data=infoairports.copy(),\n",
    "                 geometry=gpd.points_from_xy(infoairports.longitude_deg,\n",
    "                                             infoairports.latitude_deg), \n",
    "                 crs=brazil.crs.to_epsg())# the coordinates were in degrees"
   ]
  },
  {
   "cell_type": "code",
   "execution_count": null,
   "metadata": {},
   "outputs": [],
   "source": [
    "# does it look better?\n",
    "\n",
    "# let's plot\n",
    "\n",
    "base = brazil.plot(color='white', edgecolor='black')\n",
    "airports.plot(ax=base)"
   ]
  },
  {
   "cell_type": "code",
   "execution_count": null,
   "metadata": {},
   "outputs": [],
   "source": [
    "#remember:\n",
    "type(airports), type(infoairports)"
   ]
  },
  {
   "cell_type": "markdown",
   "metadata": {},
   "source": [
    "Then this works:"
   ]
  },
  {
   "cell_type": "code",
   "execution_count": null,
   "metadata": {},
   "outputs": [],
   "source": [
    "airports.to_crs(5641).plot()"
   ]
  },
  {
   "cell_type": "code",
   "execution_count": null,
   "metadata": {},
   "outputs": [],
   "source": [
    "# this does not:\n",
    "infoairports.to_crs(5641).plot()"
   ]
  },
  {
   "cell_type": "markdown",
   "metadata": {},
   "source": [
    "Let's keep the projected version:"
   ]
  },
  {
   "cell_type": "code",
   "execution_count": null,
   "metadata": {},
   "outputs": [],
   "source": [
    "airports_5641=airports.to_crs(5641)"
   ]
  },
  {
   "cell_type": "markdown",
   "metadata": {},
   "source": [
    "Remember you have type of airports:"
   ]
  },
  {
   "cell_type": "code",
   "execution_count": null,
   "metadata": {},
   "outputs": [],
   "source": [
    "airports_5641['type'].value_counts() # this will not work: airports.type.value_counts()"
   ]
  },
  {
   "cell_type": "markdown",
   "metadata": {},
   "source": [
    "You can create several maps:"
   ]
  },
  {
   "cell_type": "code",
   "execution_count": null,
   "metadata": {},
   "outputs": [],
   "source": [
    "# safe rename:\n",
    "airports_5641.rename(columns={'type':'kind'},inplace=True)\n",
    "\n",
    "# now subset\n",
    "airport_small=airports_5641[airports_5641.kind=='small_airport']\n",
    "airport_medium=airports_5641[airports_5641.kind=='medium_airport']\n",
    "airport_large=airports_5641[airports_5641.kind=='large_airport']\n",
    "airport_seaplane=airports_5641[airports_5641.kind=='seaplane_base']\n",
    "airport_closed=airports_5641[airports_5641.kind=='closed']\n",
    "heliport=airports_5641[airports_5641.kind=='heliport']"
   ]
  },
  {
   "cell_type": "markdown",
   "metadata": {},
   "source": [
    "That may be useful:"
   ]
  },
  {
   "cell_type": "code",
   "execution_count": null,
   "metadata": {},
   "outputs": [],
   "source": [
    "from folium import LayerControl\n",
    "\n",
    "\n",
    "m = airport_small.explore(color=\"red\",name=\"airport_small\",show=False)\n",
    "m = airport_medium.explore(m=m, color=\"blue\",name=\"airport_medium\",show=False)\n",
    "m = airport_large.explore(m=m, color=\"black\",name=\"airport_large\",show=True)\n",
    "m = airport_seaplane.explore(m=m, color=\"green\",name=\"airport_seaplane\",show=False)\n",
    "m = airport_closed.explore(m=m, color=\"white\",name=\"airport_closed\",show=False)\n",
    "m = heliport.explore(m=m, color=\"orange\",name=\"heliport\",show=False)\n",
    "\n",
    "LayerControl(collapsed=False).add_to(m) #optional\n",
    "\n",
    "m"
   ]
  },
  {
   "cell_type": "code",
   "execution_count": null,
   "metadata": {},
   "outputs": [],
   "source": [
    "airport_small.to_file(os.path.join(\"maps\",\"brazilMaps_5641.gpkg\"), \n",
    "                                   layer='airport_small', driver=\"GPKG\")\n",
    "airport_medium.to_file(os.path.join(\"maps\",\"brazilMaps_5641.gpkg\"), \n",
    "                                    layer='airport_medium', driver=\"GPKG\")\n",
    "airport_large.to_file(os.path.join(\"maps\",\"brazilMaps_5641.gpkg\"),\n",
    "                                   layer='airport_large', driver=\"GPKG\")\n",
    "airport_seaplane.to_file(os.path.join(\"maps\",\"brazilMaps_5641.gpkg\"),\n",
    "                                      layer='airport_seaplane', driver=\"GPKG\")\n",
    "airport_closed.to_file(os.path.join(\"maps\",\"brazilMaps_5641.gpkg\"),\n",
    "                                    layer='airport_closed', driver=\"GPKG\")\n",
    "heliport.to_file(os.path.join(\"maps\",\"brazilMaps_5641.gpkg\"),\n",
    "                              layer='heliport', driver=\"GPKG\")"
   ]
  },
  {
   "cell_type": "markdown",
   "metadata": {},
   "source": [
    "## Validity of geometry\n",
    "\n",
    "Geometries are created in a way that some issues may appear, especially in (multi) polygons.\n",
    "Let's check if our recent maps on states and municipalities are valid:"
   ]
  },
  {
   "cell_type": "code",
   "execution_count": null,
   "metadata": {},
   "outputs": [],
   "source": [
    "# non valid\n",
    "brazil_estados[~brazil_estados.is_valid]"
   ]
  },
  {
   "cell_type": "code",
   "execution_count": null,
   "metadata": {},
   "outputs": [],
   "source": [
    "# see the invalid:\n",
    "brazil_estados[~brazil_estados.is_valid].plot()"
   ]
  },
  {
   "cell_type": "markdown",
   "metadata": {},
   "source": [
    "It is difficul to see what is wrong. Let's get some information:"
   ]
  },
  {
   "cell_type": "code",
   "execution_count": null,
   "metadata": {},
   "outputs": [],
   "source": [
    "# what is wrong?\n",
    "\n",
    "from shapely.validation import explain_validity, make_valid\n",
    "\n",
    "explain_validity(brazil_estados[~brazil_estados.is_valid].geometry)"
   ]
  },
  {
   "cell_type": "markdown",
   "id": "9f285767",
   "metadata": {},
   "source": [
    "We can solve the problem this way:"
   ]
  },
  {
   "cell_type": "code",
   "execution_count": null,
   "id": "5422044f",
   "metadata": {},
   "outputs": [],
   "source": [
    "brazil_estados_valid=brazil_estados.copy()\n",
    "# solving the issue:\n",
    "brazil_estados_valid['geometry'] = [make_valid(row)  if not row.is_valid else row for row in brazil_estados_valid['geometry'] ]"
   ]
  },
  {
   "cell_type": "code",
   "execution_count": null,
   "metadata": {},
   "outputs": [],
   "source": [
    "# any invalid?\n",
    "brazil_estados_valid[~brazil_estados_valid.is_valid]"
   ]
  },
  {
   "cell_type": "code",
   "execution_count": null,
   "metadata": {},
   "outputs": [],
   "source": [
    "brazil_estados_valid.explore()"
   ]
  },
  {
   "cell_type": "markdown",
   "metadata": {},
   "source": [
    "What about the other geodataframe?"
   ]
  },
  {
   "cell_type": "code",
   "execution_count": null,
   "metadata": {},
   "outputs": [],
   "source": [
    "brazil_municipios[~brazil_municipios.is_valid]"
   ]
  },
  {
   "cell_type": "code",
   "execution_count": null,
   "metadata": {},
   "outputs": [],
   "source": [
    "explain_validity(brazil_municipios[~brazil_municipios.is_valid].geometry)"
   ]
  },
  {
   "cell_type": "code",
   "execution_count": null,
   "metadata": {},
   "outputs": [],
   "source": [
    "# varieties?\n",
    "brazil_municipios['validity']=[x.split('[')[0] for x in brazil_municipios.geometry.apply(lambda x: explain_validity(x))]\n",
    "brazil_municipios['validity'].value_counts()"
   ]
  },
  {
   "cell_type": "code",
   "execution_count": null,
   "metadata": {},
   "outputs": [],
   "source": [
    "# solving the issue:\n",
    "brazil_municipios.drop(columns=['validity'],inplace=True)\n",
    "\n",
    "brazil_municipios_valid=brazil_municipios.copy()\n",
    "\n",
    "brazil_municipios_valid['geometry'] = [make_valid(row)  if not row.is_valid else row for row in brazil_municipios_valid['geometry'] ]\n",
    "#any invalid?\n",
    "brazil_municipios_valid[~brazil_municipios_valid.is_valid]"
   ]
  },
  {
   "cell_type": "code",
   "execution_count": null,
   "metadata": {},
   "outputs": [],
   "source": [
    "[x for x in brazil_municipios_valid[\"geometry\"]]"
   ]
  },
  {
   "cell_type": "code",
   "execution_count": null,
   "metadata": {
    "scrolled": true
   },
   "outputs": [],
   "source": [
    "brazil_municipios_valid.explore()"
   ]
  },
  {
   "cell_type": "code",
   "execution_count": null,
   "metadata": {},
   "outputs": [],
   "source": [
    "brazil_municipios.explore()"
   ]
  },
  {
   "cell_type": "markdown",
   "metadata": {},
   "source": [
    "Let's not save these last changes."
   ]
  },
  {
   "cell_type": "markdown",
   "metadata": {},
   "source": [
    "## Exercise\n",
    "\n",
    "1. Do some research and find what could be a better projection for the maps you prepared last time.\n",
    "2. Reproject the map.\n",
    "3. Compute the centroid.\n",
    "3. Find online a csv file with coordinates for the country you are using. Then, turn that csv into a map. Update the geopackage.\n",
    "4. Take one of your maps with several polygons, and check and correct the polygons validity.\n",
    "5. Make submaps, using the centroid as in this lesson.\n",
    "6. Save every map in a geopackage."
   ]
  },
  {
   "cell_type": "code",
   "execution_count": null,
   "metadata": {},
   "outputs": [],
   "source": []
  }
 ],
 "metadata": {
  "anaconda-cloud": {
   "attach-environment": true,
   "summary": "test"
  },
  "hide_input": false,
  "kernelspec": {
   "display_name": "Python 3 (ipykernel)",
   "language": "python",
   "name": "python3"
  },
  "language_info": {
   "codemirror_mode": {
    "name": "ipython",
    "version": 3
   },
   "file_extension": ".py",
   "mimetype": "text/x-python",
   "name": "python",
   "nbconvert_exporter": "python",
   "pygments_lexer": "ipython3",
   "version": "3.11.0"
  },
  "toc-autonumbering": false
 },
 "nbformat": 4,
 "nbformat_minor": 4
}
