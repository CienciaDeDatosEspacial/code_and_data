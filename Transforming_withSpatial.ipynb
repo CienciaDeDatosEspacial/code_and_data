{
 "cells": [
  {
   "cell_type": "markdown",
   "id": "2e39e0eb",
   "metadata": {},
   "source": [
    "<center><img src=\"https://i.imgur.com/zRrFdsf.png\" width=\"700\"></center> \n",
    "\n",
    "\n",
    "<a id='home'></a>\n",
    "_____\n",
    "\n",
    "\n",
    "# Transforming\n",
    "\n",
    "Most of the time you need to transform the data you have prepared. I will show the main mathematical transformations that data goes through, namely, aggregating and re scaling.\n",
    "\n",
    "Let me get a data set familiar to us:"
   ]
  },
  {
   "cell_type": "code",
   "execution_count": 1,
   "id": "da3838ed",
   "metadata": {},
   "outputs": [
    {
     "name": "stdout",
     "output_type": "stream",
     "text": [
      "<class 'pandas.core.frame.DataFrame'>\n",
      "RangeIndex: 172 entries, 0 to 171\n",
      "Data columns (total 12 columns):\n",
      " #   Column             Non-Null Count  Dtype  \n",
      "---  ------             --------------  -----  \n",
      " 0   Country            172 non-null    object \n",
      " 1   Officialstatename  172 non-null    object \n",
      " 2   InternetccTLD      172 non-null    object \n",
      " 3   iso2               171 non-null    object \n",
      " 4   iso3               172 non-null    object \n",
      " 5   fragility_date     172 non-null    int64  \n",
      " 6   fragility          172 non-null    float64\n",
      " 7   co2                172 non-null    float64\n",
      " 8   co2_date           172 non-null    int64  \n",
      " 9   region             172 non-null    object \n",
      " 10  ForestRev_gdp      172 non-null    float64\n",
      " 11  ForestRev_date     172 non-null    int64  \n",
      "dtypes: float64(3), int64(3), object(6)\n",
      "memory usage: 16.3+ KB\n"
     ]
    }
   ],
   "source": [
    "import os, pandas as pd\n",
    "fragcia=pd.read_csv(os.path.join(\"data\",\"FragilityCia_isos.csv\"))\n",
    "fragcia.info()"
   ]
  },
  {
   "cell_type": "markdown",
   "id": "68b85389",
   "metadata": {},
   "source": [
    "## Aggregation\n",
    "\n",
    "Sometimes, we need to reorganize the data by groups. One of those columns is the category that represents the group. In the previous table, region is an attribute of country; but we can turn the table from a table countries to a table of regions:"
   ]
  },
  {
   "cell_type": "code",
   "execution_count": 2,
   "id": "670aeab4",
   "metadata": {},
   "outputs": [
    {
     "data": {
      "text/html": [
       "<div>\n",
       "<style scoped>\n",
       "    .dataframe tbody tr th:only-of-type {\n",
       "        vertical-align: middle;\n",
       "    }\n",
       "\n",
       "    .dataframe tbody tr th {\n",
       "        vertical-align: top;\n",
       "    }\n",
       "\n",
       "    .dataframe thead th {\n",
       "        text-align: right;\n",
       "    }\n",
       "</style>\n",
       "<table border=\"1\" class=\"dataframe\">\n",
       "  <thead>\n",
       "    <tr style=\"text-align: right;\">\n",
       "      <th></th>\n",
       "      <th>fragility</th>\n",
       "      <th>co2</th>\n",
       "      <th>ForestRev_gdp</th>\n",
       "    </tr>\n",
       "    <tr>\n",
       "      <th>region</th>\n",
       "      <th></th>\n",
       "      <th></th>\n",
       "      <th></th>\n",
       "    </tr>\n",
       "  </thead>\n",
       "  <tbody>\n",
       "    <tr>\n",
       "      <th>AFRICA</th>\n",
       "      <td>85.664706</td>\n",
       "      <td>1.670835e+07</td>\n",
       "      <td>3.239804</td>\n",
       "    </tr>\n",
       "    <tr>\n",
       "      <th>AUSTRALIA AND OCEANIA</th>\n",
       "      <td>55.100000</td>\n",
       "      <td>7.679500e+07</td>\n",
       "      <td>3.630000</td>\n",
       "    </tr>\n",
       "    <tr>\n",
       "      <th>CENTRAL AMERICA AND THE CARIBBEAN</th>\n",
       "      <td>62.993750</td>\n",
       "      <td>1.104856e+07</td>\n",
       "      <td>0.359375</td>\n",
       "    </tr>\n",
       "    <tr>\n",
       "      <th>CENTRAL ASIA</th>\n",
       "      <td>72.883333</td>\n",
       "      <td>3.898807e+08</td>\n",
       "      <td>0.236667</td>\n",
       "    </tr>\n",
       "    <tr>\n",
       "      <th>EAST AND SOUTHEAST ASIA</th>\n",
       "      <td>66.006250</td>\n",
       "      <td>9.027721e+08</td>\n",
       "      <td>0.655625</td>\n",
       "    </tr>\n",
       "    <tr>\n",
       "      <th>EUROPE</th>\n",
       "      <td>40.348718</td>\n",
       "      <td>9.866674e+07</td>\n",
       "      <td>0.199231</td>\n",
       "    </tr>\n",
       "    <tr>\n",
       "      <th>MIDDLE EAST</th>\n",
       "      <td>71.756250</td>\n",
       "      <td>1.583754e+08</td>\n",
       "      <td>0.032500</td>\n",
       "    </tr>\n",
       "    <tr>\n",
       "      <th>NORTH AMERICA</th>\n",
       "      <td>42.566667</td>\n",
       "      <td>2.073395e+09</td>\n",
       "      <td>0.073333</td>\n",
       "    </tr>\n",
       "    <tr>\n",
       "      <th>SOUTH AMERICA</th>\n",
       "      <td>61.436364</td>\n",
       "      <td>8.613718e+07</td>\n",
       "      <td>1.064545</td>\n",
       "    </tr>\n",
       "    <tr>\n",
       "      <th>SOUTH ASIA</th>\n",
       "      <td>83.975000</td>\n",
       "      <td>3.309434e+08</td>\n",
       "      <td>0.365000</td>\n",
       "    </tr>\n",
       "  </tbody>\n",
       "</table>\n",
       "</div>"
      ],
      "text/plain": [
       "                                   fragility           co2  ForestRev_gdp\n",
       "region                                                                   \n",
       "AFRICA                             85.664706  1.670835e+07       3.239804\n",
       "AUSTRALIA AND OCEANIA              55.100000  7.679500e+07       3.630000\n",
       "CENTRAL AMERICA AND THE CARIBBEAN  62.993750  1.104856e+07       0.359375\n",
       "CENTRAL ASIA                       72.883333  3.898807e+08       0.236667\n",
       "EAST AND SOUTHEAST ASIA            66.006250  9.027721e+08       0.655625\n",
       "EUROPE                             40.348718  9.866674e+07       0.199231\n",
       "MIDDLE EAST                        71.756250  1.583754e+08       0.032500\n",
       "NORTH AMERICA                      42.566667  2.073395e+09       0.073333\n",
       "SOUTH AMERICA                      61.436364  8.613718e+07       1.064545\n",
       "SOUTH ASIA                         83.975000  3.309434e+08       0.365000"
      ]
     },
     "execution_count": 2,
     "metadata": {},
     "output_type": "execute_result"
    }
   ],
   "source": [
    "# sum of cases by estado\n",
    "fragcia.groupby('region')[['fragility','co2','ForestRev_gdp']].agg('mean')"
   ]
  },
  {
   "cell_type": "code",
   "execution_count": 3,
   "id": "3b031585",
   "metadata": {},
   "outputs": [
    {
     "data": {
      "text/html": [
       "<div>\n",
       "<style scoped>\n",
       "    .dataframe tbody tr th:only-of-type {\n",
       "        vertical-align: middle;\n",
       "    }\n",
       "\n",
       "    .dataframe tbody tr th {\n",
       "        vertical-align: top;\n",
       "    }\n",
       "\n",
       "    .dataframe thead tr th {\n",
       "        text-align: left;\n",
       "    }\n",
       "\n",
       "    .dataframe thead tr:last-of-type th {\n",
       "        text-align: right;\n",
       "    }\n",
       "</style>\n",
       "<table border=\"1\" class=\"dataframe\">\n",
       "  <thead>\n",
       "    <tr>\n",
       "      <th></th>\n",
       "      <th colspan=\"2\" halign=\"left\">fragility</th>\n",
       "      <th colspan=\"2\" halign=\"left\">co2</th>\n",
       "      <th colspan=\"2\" halign=\"left\">ForestRev_gdp</th>\n",
       "    </tr>\n",
       "    <tr>\n",
       "      <th></th>\n",
       "      <th>min</th>\n",
       "      <th>max</th>\n",
       "      <th>min</th>\n",
       "      <th>max</th>\n",
       "      <th>min</th>\n",
       "      <th>max</th>\n",
       "    </tr>\n",
       "    <tr>\n",
       "      <th>region</th>\n",
       "      <th></th>\n",
       "      <th></th>\n",
       "      <th></th>\n",
       "      <th></th>\n",
       "      <th></th>\n",
       "      <th></th>\n",
       "    </tr>\n",
       "  </thead>\n",
       "  <tbody>\n",
       "    <tr>\n",
       "      <th>AFRICA</th>\n",
       "      <td>38.9</td>\n",
       "      <td>112.2</td>\n",
       "      <td>173000.0</td>\n",
       "      <td>2.351370e+08</td>\n",
       "      <td>0.00</td>\n",
       "      <td>13.27</td>\n",
       "    </tr>\n",
       "    <tr>\n",
       "      <th>AUSTRALIA AND OCEANIA</th>\n",
       "      <td>19.7</td>\n",
       "      <td>81.9</td>\n",
       "      <td>177000.0</td>\n",
       "      <td>4.178700e+08</td>\n",
       "      <td>0.02</td>\n",
       "      <td>20.27</td>\n",
       "    </tr>\n",
       "    <tr>\n",
       "      <th>CENTRAL AMERICA AND THE CARIBBEAN</th>\n",
       "      <td>42.0</td>\n",
       "      <td>99.3</td>\n",
       "      <td>316000.0</td>\n",
       "      <td>3.965200e+07</td>\n",
       "      <td>0.00</td>\n",
       "      <td>1.26</td>\n",
       "    </tr>\n",
       "    <tr>\n",
       "      <th>CENTRAL ASIA</th>\n",
       "      <td>61.6</td>\n",
       "      <td>77.7</td>\n",
       "      <td>7643000.0</td>\n",
       "      <td>1.848070e+09</td>\n",
       "      <td>0.00</td>\n",
       "      <td>1.12</td>\n",
       "    </tr>\n",
       "    <tr>\n",
       "      <th>EAST AND SOUTHEAST ASIA</th>\n",
       "      <td>28.1</td>\n",
       "      <td>94.3</td>\n",
       "      <td>538000.0</td>\n",
       "      <td>1.077325e+10</td>\n",
       "      <td>0.00</td>\n",
       "      <td>2.08</td>\n",
       "    </tr>\n",
       "    <tr>\n",
       "      <th>EUROPE</th>\n",
       "      <td>16.9</td>\n",
       "      <td>71.3</td>\n",
       "      <td>2447000.0</td>\n",
       "      <td>7.268810e+08</td>\n",
       "      <td>0.00</td>\n",
       "      <td>1.02</td>\n",
       "    </tr>\n",
       "    <tr>\n",
       "      <th>MIDDLE EAST</th>\n",
       "      <td>40.1</td>\n",
       "      <td>113.5</td>\n",
       "      <td>6354000.0</td>\n",
       "      <td>6.460380e+08</td>\n",
       "      <td>0.00</td>\n",
       "      <td>0.28</td>\n",
       "    </tr>\n",
       "    <tr>\n",
       "      <th>NORTH AMERICA</th>\n",
       "      <td>20.0</td>\n",
       "      <td>69.7</td>\n",
       "      <td>463739000.0</td>\n",
       "      <td>5.144361e+09</td>\n",
       "      <td>0.04</td>\n",
       "      <td>0.10</td>\n",
       "    </tr>\n",
       "    <tr>\n",
       "      <th>SOUTH AMERICA</th>\n",
       "      <td>34.0</td>\n",
       "      <td>75.7</td>\n",
       "      <td>2372000.0</td>\n",
       "      <td>4.566700e+08</td>\n",
       "      <td>0.09</td>\n",
       "      <td>4.56</td>\n",
       "    </tr>\n",
       "    <tr>\n",
       "      <th>SOUTH ASIA</th>\n",
       "      <td>69.8</td>\n",
       "      <td>105.0</td>\n",
       "      <td>934000.0</td>\n",
       "      <td>2.314738e+09</td>\n",
       "      <td>0.00</td>\n",
       "      <td>1.89</td>\n",
       "    </tr>\n",
       "  </tbody>\n",
       "</table>\n",
       "</div>"
      ],
      "text/plain": [
       "                                  fragility                 co2                \\\n",
       "                                        min    max          min           max   \n",
       "region                                                                          \n",
       "AFRICA                                 38.9  112.2     173000.0  2.351370e+08   \n",
       "AUSTRALIA AND OCEANIA                  19.7   81.9     177000.0  4.178700e+08   \n",
       "CENTRAL AMERICA AND THE CARIBBEAN      42.0   99.3     316000.0  3.965200e+07   \n",
       "CENTRAL ASIA                           61.6   77.7    7643000.0  1.848070e+09   \n",
       "EAST AND SOUTHEAST ASIA                28.1   94.3     538000.0  1.077325e+10   \n",
       "EUROPE                                 16.9   71.3    2447000.0  7.268810e+08   \n",
       "MIDDLE EAST                            40.1  113.5    6354000.0  6.460380e+08   \n",
       "NORTH AMERICA                          20.0   69.7  463739000.0  5.144361e+09   \n",
       "SOUTH AMERICA                          34.0   75.7    2372000.0  4.566700e+08   \n",
       "SOUTH ASIA                             69.8  105.0     934000.0  2.314738e+09   \n",
       "\n",
       "                                  ForestRev_gdp         \n",
       "                                            min    max  \n",
       "region                                                  \n",
       "AFRICA                                     0.00  13.27  \n",
       "AUSTRALIA AND OCEANIA                      0.02  20.27  \n",
       "CENTRAL AMERICA AND THE CARIBBEAN          0.00   1.26  \n",
       "CENTRAL ASIA                               0.00   1.12  \n",
       "EAST AND SOUTHEAST ASIA                    0.00   2.08  \n",
       "EUROPE                                     0.00   1.02  \n",
       "MIDDLE EAST                                0.00   0.28  \n",
       "NORTH AMERICA                              0.04   0.10  \n",
       "SOUTH AMERICA                              0.09   4.56  \n",
       "SOUTH ASIA                                 0.00   1.89  "
      ]
     },
     "execution_count": 3,
     "metadata": {},
     "output_type": "execute_result"
    }
   ],
   "source": [
    "# more complex\n",
    "fragciaAGG=fragcia.groupby('region')[['fragility','co2','ForestRev_gdp']].agg(['min','max'],)\n",
    "\n",
    "fragciaAGG"
   ]
  },
  {
   "cell_type": "markdown",
   "id": "0400694a",
   "metadata": {},
   "source": [
    "Notice that we have multi-index in the columns"
   ]
  },
  {
   "cell_type": "code",
   "execution_count": 4,
   "id": "5904f075",
   "metadata": {},
   "outputs": [
    {
     "data": {
      "text/plain": [
       "MultiIndex([(    'fragility', 'min'),\n",
       "            (    'fragility', 'max'),\n",
       "            (          'co2', 'min'),\n",
       "            (          'co2', 'max'),\n",
       "            ('ForestRev_gdp', 'min'),\n",
       "            ('ForestRev_gdp', 'max')],\n",
       "           )"
      ]
     },
     "execution_count": 4,
     "metadata": {},
     "output_type": "execute_result"
    }
   ],
   "source": [
    "fragciaAGG.columns"
   ]
  },
  {
   "cell_type": "markdown",
   "id": "6ed61339",
   "metadata": {},
   "source": [
    "Even though pandas can work well, when exporting files to another application, you may prefer just simple indexes. So, let me show you how to **flat** the indexes:"
   ]
  },
  {
   "cell_type": "code",
   "execution_count": 5,
   "id": "b84c017a",
   "metadata": {},
   "outputs": [
    {
     "data": {
      "text/plain": [
       "Index([    ('fragility', 'min'),     ('fragility', 'max'),\n",
       "                 ('co2', 'min'),           ('co2', 'max'),\n",
       "       ('ForestRev_gdp', 'min'), ('ForestRev_gdp', 'max')],\n",
       "      dtype='object')"
      ]
     },
     "execution_count": 5,
     "metadata": {},
     "output_type": "execute_result"
    }
   ],
   "source": [
    "fragciaAGG.columns.to_flat_index()"
   ]
  },
  {
   "cell_type": "markdown",
   "id": "179c6d4e",
   "metadata": {},
   "source": [
    "Then,"
   ]
  },
  {
   "cell_type": "code",
   "execution_count": 6,
   "id": "58c6c360",
   "metadata": {},
   "outputs": [
    {
     "data": {
      "text/html": [
       "<div>\n",
       "<style scoped>\n",
       "    .dataframe tbody tr th:only-of-type {\n",
       "        vertical-align: middle;\n",
       "    }\n",
       "\n",
       "    .dataframe tbody tr th {\n",
       "        vertical-align: top;\n",
       "    }\n",
       "\n",
       "    .dataframe thead th {\n",
       "        text-align: right;\n",
       "    }\n",
       "</style>\n",
       "<table border=\"1\" class=\"dataframe\">\n",
       "  <thead>\n",
       "    <tr style=\"text-align: right;\">\n",
       "      <th></th>\n",
       "      <th>(fragility, min)</th>\n",
       "      <th>(fragility, max)</th>\n",
       "      <th>(co2, min)</th>\n",
       "      <th>(co2, max)</th>\n",
       "      <th>(ForestRev_gdp, min)</th>\n",
       "      <th>(ForestRev_gdp, max)</th>\n",
       "    </tr>\n",
       "    <tr>\n",
       "      <th>region</th>\n",
       "      <th></th>\n",
       "      <th></th>\n",
       "      <th></th>\n",
       "      <th></th>\n",
       "      <th></th>\n",
       "      <th></th>\n",
       "    </tr>\n",
       "  </thead>\n",
       "  <tbody>\n",
       "    <tr>\n",
       "      <th>AFRICA</th>\n",
       "      <td>38.9</td>\n",
       "      <td>112.2</td>\n",
       "      <td>173000.0</td>\n",
       "      <td>2.351370e+08</td>\n",
       "      <td>0.00</td>\n",
       "      <td>13.27</td>\n",
       "    </tr>\n",
       "    <tr>\n",
       "      <th>AUSTRALIA AND OCEANIA</th>\n",
       "      <td>19.7</td>\n",
       "      <td>81.9</td>\n",
       "      <td>177000.0</td>\n",
       "      <td>4.178700e+08</td>\n",
       "      <td>0.02</td>\n",
       "      <td>20.27</td>\n",
       "    </tr>\n",
       "    <tr>\n",
       "      <th>CENTRAL AMERICA AND THE CARIBBEAN</th>\n",
       "      <td>42.0</td>\n",
       "      <td>99.3</td>\n",
       "      <td>316000.0</td>\n",
       "      <td>3.965200e+07</td>\n",
       "      <td>0.00</td>\n",
       "      <td>1.26</td>\n",
       "    </tr>\n",
       "    <tr>\n",
       "      <th>CENTRAL ASIA</th>\n",
       "      <td>61.6</td>\n",
       "      <td>77.7</td>\n",
       "      <td>7643000.0</td>\n",
       "      <td>1.848070e+09</td>\n",
       "      <td>0.00</td>\n",
       "      <td>1.12</td>\n",
       "    </tr>\n",
       "    <tr>\n",
       "      <th>EAST AND SOUTHEAST ASIA</th>\n",
       "      <td>28.1</td>\n",
       "      <td>94.3</td>\n",
       "      <td>538000.0</td>\n",
       "      <td>1.077325e+10</td>\n",
       "      <td>0.00</td>\n",
       "      <td>2.08</td>\n",
       "    </tr>\n",
       "    <tr>\n",
       "      <th>EUROPE</th>\n",
       "      <td>16.9</td>\n",
       "      <td>71.3</td>\n",
       "      <td>2447000.0</td>\n",
       "      <td>7.268810e+08</td>\n",
       "      <td>0.00</td>\n",
       "      <td>1.02</td>\n",
       "    </tr>\n",
       "    <tr>\n",
       "      <th>MIDDLE EAST</th>\n",
       "      <td>40.1</td>\n",
       "      <td>113.5</td>\n",
       "      <td>6354000.0</td>\n",
       "      <td>6.460380e+08</td>\n",
       "      <td>0.00</td>\n",
       "      <td>0.28</td>\n",
       "    </tr>\n",
       "    <tr>\n",
       "      <th>NORTH AMERICA</th>\n",
       "      <td>20.0</td>\n",
       "      <td>69.7</td>\n",
       "      <td>463739000.0</td>\n",
       "      <td>5.144361e+09</td>\n",
       "      <td>0.04</td>\n",
       "      <td>0.10</td>\n",
       "    </tr>\n",
       "    <tr>\n",
       "      <th>SOUTH AMERICA</th>\n",
       "      <td>34.0</td>\n",
       "      <td>75.7</td>\n",
       "      <td>2372000.0</td>\n",
       "      <td>4.566700e+08</td>\n",
       "      <td>0.09</td>\n",
       "      <td>4.56</td>\n",
       "    </tr>\n",
       "    <tr>\n",
       "      <th>SOUTH ASIA</th>\n",
       "      <td>69.8</td>\n",
       "      <td>105.0</td>\n",
       "      <td>934000.0</td>\n",
       "      <td>2.314738e+09</td>\n",
       "      <td>0.00</td>\n",
       "      <td>1.89</td>\n",
       "    </tr>\n",
       "  </tbody>\n",
       "</table>\n",
       "</div>"
      ],
      "text/plain": [
       "                                   (fragility, min)  (fragility, max)  \\\n",
       "region                                                                  \n",
       "AFRICA                                         38.9             112.2   \n",
       "AUSTRALIA AND OCEANIA                          19.7              81.9   \n",
       "CENTRAL AMERICA AND THE CARIBBEAN              42.0              99.3   \n",
       "CENTRAL ASIA                                   61.6              77.7   \n",
       "EAST AND SOUTHEAST ASIA                        28.1              94.3   \n",
       "EUROPE                                         16.9              71.3   \n",
       "MIDDLE EAST                                    40.1             113.5   \n",
       "NORTH AMERICA                                  20.0              69.7   \n",
       "SOUTH AMERICA                                  34.0              75.7   \n",
       "SOUTH ASIA                                     69.8             105.0   \n",
       "\n",
       "                                    (co2, min)    (co2, max)  \\\n",
       "region                                                         \n",
       "AFRICA                                173000.0  2.351370e+08   \n",
       "AUSTRALIA AND OCEANIA                 177000.0  4.178700e+08   \n",
       "CENTRAL AMERICA AND THE CARIBBEAN     316000.0  3.965200e+07   \n",
       "CENTRAL ASIA                         7643000.0  1.848070e+09   \n",
       "EAST AND SOUTHEAST ASIA               538000.0  1.077325e+10   \n",
       "EUROPE                               2447000.0  7.268810e+08   \n",
       "MIDDLE EAST                          6354000.0  6.460380e+08   \n",
       "NORTH AMERICA                      463739000.0  5.144361e+09   \n",
       "SOUTH AMERICA                        2372000.0  4.566700e+08   \n",
       "SOUTH ASIA                            934000.0  2.314738e+09   \n",
       "\n",
       "                                   (ForestRev_gdp, min)  (ForestRev_gdp, max)  \n",
       "region                                                                         \n",
       "AFRICA                                             0.00                 13.27  \n",
       "AUSTRALIA AND OCEANIA                              0.02                 20.27  \n",
       "CENTRAL AMERICA AND THE CARIBBEAN                  0.00                  1.26  \n",
       "CENTRAL ASIA                                       0.00                  1.12  \n",
       "EAST AND SOUTHEAST ASIA                            0.00                  2.08  \n",
       "EUROPE                                             0.00                  1.02  \n",
       "MIDDLE EAST                                        0.00                  0.28  \n",
       "NORTH AMERICA                                      0.04                  0.10  \n",
       "SOUTH AMERICA                                      0.09                  4.56  \n",
       "SOUTH ASIA                                         0.00                  1.89  "
      ]
     },
     "execution_count": 6,
     "metadata": {},
     "output_type": "execute_result"
    }
   ],
   "source": [
    "fragciaAGG.columns=fragciaAGG.columns.to_flat_index()\n",
    "fragciaAGG"
   ]
  },
  {
   "cell_type": "markdown",
   "id": "7d572145",
   "metadata": {},
   "source": [
    "Now you have tuples as column names!... we solve it like this:"
   ]
  },
  {
   "cell_type": "code",
   "execution_count": 7,
   "id": "f877eba2",
   "metadata": {},
   "outputs": [
    {
     "data": {
      "text/plain": [
       "['fragility_min',\n",
       " 'fragility_max',\n",
       " 'co2_min',\n",
       " 'co2_max',\n",
       " 'ForestRev_gdp_min',\n",
       " 'ForestRev_gdp_max']"
      ]
     },
     "execution_count": 7,
     "metadata": {},
     "output_type": "execute_result"
    }
   ],
   "source": [
    "['_'.join(col) for col in fragciaAGG.columns]"
   ]
  },
  {
   "cell_type": "markdown",
   "id": "a3816a79",
   "metadata": {},
   "source": [
    "So,"
   ]
  },
  {
   "cell_type": "code",
   "execution_count": 8,
   "id": "51c2cf44",
   "metadata": {},
   "outputs": [
    {
     "data": {
      "text/html": [
       "<div>\n",
       "<style scoped>\n",
       "    .dataframe tbody tr th:only-of-type {\n",
       "        vertical-align: middle;\n",
       "    }\n",
       "\n",
       "    .dataframe tbody tr th {\n",
       "        vertical-align: top;\n",
       "    }\n",
       "\n",
       "    .dataframe thead th {\n",
       "        text-align: right;\n",
       "    }\n",
       "</style>\n",
       "<table border=\"1\" class=\"dataframe\">\n",
       "  <thead>\n",
       "    <tr style=\"text-align: right;\">\n",
       "      <th></th>\n",
       "      <th>fragility_min</th>\n",
       "      <th>fragility_max</th>\n",
       "      <th>co2_min</th>\n",
       "      <th>co2_max</th>\n",
       "      <th>ForestRev_gdp_min</th>\n",
       "      <th>ForestRev_gdp_max</th>\n",
       "    </tr>\n",
       "    <tr>\n",
       "      <th>region</th>\n",
       "      <th></th>\n",
       "      <th></th>\n",
       "      <th></th>\n",
       "      <th></th>\n",
       "      <th></th>\n",
       "      <th></th>\n",
       "    </tr>\n",
       "  </thead>\n",
       "  <tbody>\n",
       "    <tr>\n",
       "      <th>AFRICA</th>\n",
       "      <td>38.9</td>\n",
       "      <td>112.2</td>\n",
       "      <td>173000.0</td>\n",
       "      <td>2.351370e+08</td>\n",
       "      <td>0.00</td>\n",
       "      <td>13.27</td>\n",
       "    </tr>\n",
       "    <tr>\n",
       "      <th>AUSTRALIA AND OCEANIA</th>\n",
       "      <td>19.7</td>\n",
       "      <td>81.9</td>\n",
       "      <td>177000.0</td>\n",
       "      <td>4.178700e+08</td>\n",
       "      <td>0.02</td>\n",
       "      <td>20.27</td>\n",
       "    </tr>\n",
       "    <tr>\n",
       "      <th>CENTRAL AMERICA AND THE CARIBBEAN</th>\n",
       "      <td>42.0</td>\n",
       "      <td>99.3</td>\n",
       "      <td>316000.0</td>\n",
       "      <td>3.965200e+07</td>\n",
       "      <td>0.00</td>\n",
       "      <td>1.26</td>\n",
       "    </tr>\n",
       "    <tr>\n",
       "      <th>CENTRAL ASIA</th>\n",
       "      <td>61.6</td>\n",
       "      <td>77.7</td>\n",
       "      <td>7643000.0</td>\n",
       "      <td>1.848070e+09</td>\n",
       "      <td>0.00</td>\n",
       "      <td>1.12</td>\n",
       "    </tr>\n",
       "    <tr>\n",
       "      <th>EAST AND SOUTHEAST ASIA</th>\n",
       "      <td>28.1</td>\n",
       "      <td>94.3</td>\n",
       "      <td>538000.0</td>\n",
       "      <td>1.077325e+10</td>\n",
       "      <td>0.00</td>\n",
       "      <td>2.08</td>\n",
       "    </tr>\n",
       "    <tr>\n",
       "      <th>EUROPE</th>\n",
       "      <td>16.9</td>\n",
       "      <td>71.3</td>\n",
       "      <td>2447000.0</td>\n",
       "      <td>7.268810e+08</td>\n",
       "      <td>0.00</td>\n",
       "      <td>1.02</td>\n",
       "    </tr>\n",
       "    <tr>\n",
       "      <th>MIDDLE EAST</th>\n",
       "      <td>40.1</td>\n",
       "      <td>113.5</td>\n",
       "      <td>6354000.0</td>\n",
       "      <td>6.460380e+08</td>\n",
       "      <td>0.00</td>\n",
       "      <td>0.28</td>\n",
       "    </tr>\n",
       "    <tr>\n",
       "      <th>NORTH AMERICA</th>\n",
       "      <td>20.0</td>\n",
       "      <td>69.7</td>\n",
       "      <td>463739000.0</td>\n",
       "      <td>5.144361e+09</td>\n",
       "      <td>0.04</td>\n",
       "      <td>0.10</td>\n",
       "    </tr>\n",
       "    <tr>\n",
       "      <th>SOUTH AMERICA</th>\n",
       "      <td>34.0</td>\n",
       "      <td>75.7</td>\n",
       "      <td>2372000.0</td>\n",
       "      <td>4.566700e+08</td>\n",
       "      <td>0.09</td>\n",
       "      <td>4.56</td>\n",
       "    </tr>\n",
       "    <tr>\n",
       "      <th>SOUTH ASIA</th>\n",
       "      <td>69.8</td>\n",
       "      <td>105.0</td>\n",
       "      <td>934000.0</td>\n",
       "      <td>2.314738e+09</td>\n",
       "      <td>0.00</td>\n",
       "      <td>1.89</td>\n",
       "    </tr>\n",
       "  </tbody>\n",
       "</table>\n",
       "</div>"
      ],
      "text/plain": [
       "                                   fragility_min  fragility_max      co2_min  \\\n",
       "region                                                                         \n",
       "AFRICA                                      38.9          112.2     173000.0   \n",
       "AUSTRALIA AND OCEANIA                       19.7           81.9     177000.0   \n",
       "CENTRAL AMERICA AND THE CARIBBEAN           42.0           99.3     316000.0   \n",
       "CENTRAL ASIA                                61.6           77.7    7643000.0   \n",
       "EAST AND SOUTHEAST ASIA                     28.1           94.3     538000.0   \n",
       "EUROPE                                      16.9           71.3    2447000.0   \n",
       "MIDDLE EAST                                 40.1          113.5    6354000.0   \n",
       "NORTH AMERICA                               20.0           69.7  463739000.0   \n",
       "SOUTH AMERICA                               34.0           75.7    2372000.0   \n",
       "SOUTH ASIA                                  69.8          105.0     934000.0   \n",
       "\n",
       "                                        co2_max  ForestRev_gdp_min  \\\n",
       "region                                                               \n",
       "AFRICA                             2.351370e+08               0.00   \n",
       "AUSTRALIA AND OCEANIA              4.178700e+08               0.02   \n",
       "CENTRAL AMERICA AND THE CARIBBEAN  3.965200e+07               0.00   \n",
       "CENTRAL ASIA                       1.848070e+09               0.00   \n",
       "EAST AND SOUTHEAST ASIA            1.077325e+10               0.00   \n",
       "EUROPE                             7.268810e+08               0.00   \n",
       "MIDDLE EAST                        6.460380e+08               0.00   \n",
       "NORTH AMERICA                      5.144361e+09               0.04   \n",
       "SOUTH AMERICA                      4.566700e+08               0.09   \n",
       "SOUTH ASIA                         2.314738e+09               0.00   \n",
       "\n",
       "                                   ForestRev_gdp_max  \n",
       "region                                                \n",
       "AFRICA                                         13.27  \n",
       "AUSTRALIA AND OCEANIA                          20.27  \n",
       "CENTRAL AMERICA AND THE CARIBBEAN               1.26  \n",
       "CENTRAL ASIA                                    1.12  \n",
       "EAST AND SOUTHEAST ASIA                         2.08  \n",
       "EUROPE                                          1.02  \n",
       "MIDDLE EAST                                     0.28  \n",
       "NORTH AMERICA                                   0.10  \n",
       "SOUTH AMERICA                                   4.56  \n",
       "SOUTH ASIA                                      1.89  "
      ]
     },
     "execution_count": 8,
     "metadata": {},
     "output_type": "execute_result"
    }
   ],
   "source": [
    "fragciaAGG.columns=['_'.join(col) for col in fragciaAGG.columns]\n",
    "fragciaAGG"
   ]
  },
  {
   "cell_type": "markdown",
   "id": "831686cb",
   "metadata": {},
   "source": [
    "The last step would be to have _region_ as a column, not as the row index:"
   ]
  },
  {
   "cell_type": "code",
   "execution_count": 9,
   "id": "49d2cc6b",
   "metadata": {},
   "outputs": [
    {
     "data": {
      "text/html": [
       "<div>\n",
       "<style scoped>\n",
       "    .dataframe tbody tr th:only-of-type {\n",
       "        vertical-align: middle;\n",
       "    }\n",
       "\n",
       "    .dataframe tbody tr th {\n",
       "        vertical-align: top;\n",
       "    }\n",
       "\n",
       "    .dataframe thead th {\n",
       "        text-align: right;\n",
       "    }\n",
       "</style>\n",
       "<table border=\"1\" class=\"dataframe\">\n",
       "  <thead>\n",
       "    <tr style=\"text-align: right;\">\n",
       "      <th></th>\n",
       "      <th>region</th>\n",
       "      <th>fragility_min</th>\n",
       "      <th>fragility_max</th>\n",
       "      <th>co2_min</th>\n",
       "      <th>co2_max</th>\n",
       "      <th>ForestRev_gdp_min</th>\n",
       "      <th>ForestRev_gdp_max</th>\n",
       "    </tr>\n",
       "  </thead>\n",
       "  <tbody>\n",
       "    <tr>\n",
       "      <th>0</th>\n",
       "      <td>AFRICA</td>\n",
       "      <td>38.9</td>\n",
       "      <td>112.2</td>\n",
       "      <td>173000.0</td>\n",
       "      <td>2.351370e+08</td>\n",
       "      <td>0.00</td>\n",
       "      <td>13.27</td>\n",
       "    </tr>\n",
       "    <tr>\n",
       "      <th>1</th>\n",
       "      <td>AUSTRALIA AND OCEANIA</td>\n",
       "      <td>19.7</td>\n",
       "      <td>81.9</td>\n",
       "      <td>177000.0</td>\n",
       "      <td>4.178700e+08</td>\n",
       "      <td>0.02</td>\n",
       "      <td>20.27</td>\n",
       "    </tr>\n",
       "    <tr>\n",
       "      <th>2</th>\n",
       "      <td>CENTRAL AMERICA AND THE CARIBBEAN</td>\n",
       "      <td>42.0</td>\n",
       "      <td>99.3</td>\n",
       "      <td>316000.0</td>\n",
       "      <td>3.965200e+07</td>\n",
       "      <td>0.00</td>\n",
       "      <td>1.26</td>\n",
       "    </tr>\n",
       "    <tr>\n",
       "      <th>3</th>\n",
       "      <td>CENTRAL ASIA</td>\n",
       "      <td>61.6</td>\n",
       "      <td>77.7</td>\n",
       "      <td>7643000.0</td>\n",
       "      <td>1.848070e+09</td>\n",
       "      <td>0.00</td>\n",
       "      <td>1.12</td>\n",
       "    </tr>\n",
       "    <tr>\n",
       "      <th>4</th>\n",
       "      <td>EAST AND SOUTHEAST ASIA</td>\n",
       "      <td>28.1</td>\n",
       "      <td>94.3</td>\n",
       "      <td>538000.0</td>\n",
       "      <td>1.077325e+10</td>\n",
       "      <td>0.00</td>\n",
       "      <td>2.08</td>\n",
       "    </tr>\n",
       "    <tr>\n",
       "      <th>5</th>\n",
       "      <td>EUROPE</td>\n",
       "      <td>16.9</td>\n",
       "      <td>71.3</td>\n",
       "      <td>2447000.0</td>\n",
       "      <td>7.268810e+08</td>\n",
       "      <td>0.00</td>\n",
       "      <td>1.02</td>\n",
       "    </tr>\n",
       "    <tr>\n",
       "      <th>6</th>\n",
       "      <td>MIDDLE EAST</td>\n",
       "      <td>40.1</td>\n",
       "      <td>113.5</td>\n",
       "      <td>6354000.0</td>\n",
       "      <td>6.460380e+08</td>\n",
       "      <td>0.00</td>\n",
       "      <td>0.28</td>\n",
       "    </tr>\n",
       "    <tr>\n",
       "      <th>7</th>\n",
       "      <td>NORTH AMERICA</td>\n",
       "      <td>20.0</td>\n",
       "      <td>69.7</td>\n",
       "      <td>463739000.0</td>\n",
       "      <td>5.144361e+09</td>\n",
       "      <td>0.04</td>\n",
       "      <td>0.10</td>\n",
       "    </tr>\n",
       "    <tr>\n",
       "      <th>8</th>\n",
       "      <td>SOUTH AMERICA</td>\n",
       "      <td>34.0</td>\n",
       "      <td>75.7</td>\n",
       "      <td>2372000.0</td>\n",
       "      <td>4.566700e+08</td>\n",
       "      <td>0.09</td>\n",
       "      <td>4.56</td>\n",
       "    </tr>\n",
       "    <tr>\n",
       "      <th>9</th>\n",
       "      <td>SOUTH ASIA</td>\n",
       "      <td>69.8</td>\n",
       "      <td>105.0</td>\n",
       "      <td>934000.0</td>\n",
       "      <td>2.314738e+09</td>\n",
       "      <td>0.00</td>\n",
       "      <td>1.89</td>\n",
       "    </tr>\n",
       "  </tbody>\n",
       "</table>\n",
       "</div>"
      ],
      "text/plain": [
       "                              region  fragility_min  fragility_max  \\\n",
       "0                             AFRICA           38.9          112.2   \n",
       "1              AUSTRALIA AND OCEANIA           19.7           81.9   \n",
       "2  CENTRAL AMERICA AND THE CARIBBEAN           42.0           99.3   \n",
       "3                       CENTRAL ASIA           61.6           77.7   \n",
       "4            EAST AND SOUTHEAST ASIA           28.1           94.3   \n",
       "5                             EUROPE           16.9           71.3   \n",
       "6                        MIDDLE EAST           40.1          113.5   \n",
       "7                      NORTH AMERICA           20.0           69.7   \n",
       "8                      SOUTH AMERICA           34.0           75.7   \n",
       "9                         SOUTH ASIA           69.8          105.0   \n",
       "\n",
       "       co2_min       co2_max  ForestRev_gdp_min  ForestRev_gdp_max  \n",
       "0     173000.0  2.351370e+08               0.00              13.27  \n",
       "1     177000.0  4.178700e+08               0.02              20.27  \n",
       "2     316000.0  3.965200e+07               0.00               1.26  \n",
       "3    7643000.0  1.848070e+09               0.00               1.12  \n",
       "4     538000.0  1.077325e+10               0.00               2.08  \n",
       "5    2447000.0  7.268810e+08               0.00               1.02  \n",
       "6    6354000.0  6.460380e+08               0.00               0.28  \n",
       "7  463739000.0  5.144361e+09               0.04               0.10  \n",
       "8    2372000.0  4.566700e+08               0.09               4.56  \n",
       "9     934000.0  2.314738e+09               0.00               1.89  "
      ]
     },
     "execution_count": 9,
     "metadata": {},
     "output_type": "execute_result"
    }
   ],
   "source": [
    "fragciaAGG.reset_index(inplace=True) #you don't drop it!!\n",
    "fragciaAGG"
   ]
  },
  {
   "cell_type": "markdown",
   "id": "7a1e56aa",
   "metadata": {},
   "source": [
    "## Spatial aggregation\n",
    "\n",
    "\n",
    "We can do similar aggregations once the data is in a map. Let me open what we have:"
   ]
  },
  {
   "cell_type": "code",
   "execution_count": 29,
   "id": "822293f5",
   "metadata": {},
   "outputs": [
    {
     "data": {
      "text/plain": [
       "(256, 10)"
      ]
     },
     "execution_count": 29,
     "metadata": {},
     "output_type": "execute_result"
    }
   ],
   "source": [
    "import os, geopandas as gpd\n",
    "mapWorld=gpd.read_file(os.path.join(\"maps\",\"world-administrative-boundaries.geojson\"))\n",
    "mapWorld.shape"
   ]
  },
  {
   "cell_type": "code",
   "execution_count": 20,
   "id": "f8b4ab94",
   "metadata": {},
   "outputs": [
    {
     "data": {
      "text/plain": [
       "<Axes: >"
      ]
     },
     "execution_count": 20,
     "metadata": {},
     "output_type": "execute_result"
    },
    {
     "data": {
      "image/png": "[encoded data removed]",
      "text/plain": [
       "<Figure size 640x480 with 1 Axes>"
      ]
     },
     "metadata": {},
     "output_type": "display_data"
    }
   ],
   "source": [
    "mapWorld.plot(linewidth=0.5, edgecolor='k')"
   ]
  },
  {
   "cell_type": "markdown",
   "id": "bad2f491",
   "metadata": {},
   "source": [
    "We can aggregate geometries by **dissolving**:"
   ]
  },
  {
   "cell_type": "code",
   "execution_count": 21,
   "id": "114042c7",
   "metadata": {},
   "outputs": [
    {
     "data": {
      "text/plain": [
       "<Axes: >"
      ]
     },
     "execution_count": 21,
     "metadata": {},
     "output_type": "execute_result"
    },
    {
     "data": {
      "image/png": "[encoded data removed]",
      "text/plain": [
       "<Figure size 640x480 with 1 Axes>"
      ]
     },
     "metadata": {},
     "output_type": "display_data"
    }
   ],
   "source": [
    "mapWorld.dissolve().plot(linewidth=0.5, edgecolor='k')"
   ]
  },
  {
   "cell_type": "markdown",
   "id": "12077a86-4a43-4c3f-bc41-8c4024754b50",
   "metadata": {},
   "source": [
    "Let's merge:"
   ]
  },
  {
   "cell_type": "code",
   "execution_count": 23,
   "id": "fef644f3",
   "metadata": {},
   "outputs": [
    {
     "data": {
      "text/plain": [
       "Index(['geo_point_2d', 'iso3', 'status', 'color_code', 'name', 'continent',\n",
       "       'region', 'iso_3166_1_alpha_2_codes', 'french_short', 'geometry'],\n",
       "      dtype='object')"
      ]
     },
     "execution_count": 23,
     "metadata": {},
     "output_type": "execute_result"
    }
   ],
   "source": [
    "mapWorld.columns"
   ]
  },
  {
   "cell_type": "code",
   "execution_count": 24,
   "id": "2ceb3e80-b4cc-4f4c-ada7-c0a1d72d980f",
   "metadata": {},
   "outputs": [
    {
     "data": {
      "text/plain": [
       "Index(['Country', 'Officialstatename', 'InternetccTLD', 'iso2', 'iso3',\n",
       "       'fragility_date', 'fragility', 'co2', 'co2_date', 'region',\n",
       "       'ForestRev_gdp', 'ForestRev_date'],\n",
       "      dtype='object')"
      ]
     },
     "execution_count": 24,
     "metadata": {},
     "output_type": "execute_result"
    }
   ],
   "source": [
    "import os, pandas as pd\n",
    "fragcia=pd.read_csv(os.path.join(\"data\",\"FragilityCia_isos.csv\"))\n",
    "fragcia.columns"
   ]
  },
  {
   "cell_type": "markdown",
   "id": "7c73da83",
   "metadata": {},
   "source": [
    "Then:"
   ]
  },
  {
   "cell_type": "code",
   "execution_count": 30,
   "id": "3dcefe1e",
   "metadata": {},
   "outputs": [],
   "source": [
    "mapWorld=mapWorld.merge(fragcia,on='iso3')"
   ]
  },
  {
   "cell_type": "code",
   "execution_count": 34,
   "id": "4bc6047a-a7df-4e72-846f-75a3c76c89f6",
   "metadata": {},
   "outputs": [
    {
     "data": {
      "text/plain": [
       "Index(['geo_point_2d', 'iso3', 'status', 'color_code', 'name', 'continent',\n",
       "       'region_x', 'iso_3166_1_alpha_2_codes', 'french_short', 'geometry',\n",
       "       'Country', 'Officialstatename', 'InternetccTLD', 'iso2',\n",
       "       'fragility_date', 'fragility', 'co2', 'co2_date', 'region_y',\n",
       "       'ForestRev_gdp', 'ForestRev_date'],\n",
       "      dtype='object')"
      ]
     },
     "execution_count": 34,
     "metadata": {},
     "output_type": "execute_result"
    }
   ],
   "source": [
    "mapWorld.columns"
   ]
  },
  {
   "cell_type": "code",
   "execution_count": 44,
   "id": "077ccdb5",
   "metadata": {},
   "outputs": [
    {
     "data": {
      "text/html": [
       "<div>\n",
       "<style scoped>\n",
       "    .dataframe tbody tr th:only-of-type {\n",
       "        vertical-align: middle;\n",
       "    }\n",
       "\n",
       "    .dataframe tbody tr th {\n",
       "        vertical-align: top;\n",
       "    }\n",
       "\n",
       "    .dataframe thead th {\n",
       "        text-align: right;\n",
       "    }\n",
       "</style>\n",
       "<table border=\"1\" class=\"dataframe\">\n",
       "  <thead>\n",
       "    <tr style=\"text-align: right;\">\n",
       "      <th></th>\n",
       "      <th>geometry</th>\n",
       "      <th>(co2, mean)</th>\n",
       "      <th>(co2, &lt;lambda_0&gt;)</th>\n",
       "    </tr>\n",
       "    <tr>\n",
       "      <th>continent</th>\n",
       "      <th></th>\n",
       "      <th></th>\n",
       "      <th></th>\n",
       "    </tr>\n",
       "  </thead>\n",
       "  <tbody>\n",
       "    <tr>\n",
       "      <th>Africa</th>\n",
       "      <td>MULTIPOLYGON (((-3.14861 5.09583, -3.16833 5.1...</td>\n",
       "      <td>1.670835e+07</td>\n",
       "      <td>2.441178</td>\n",
       "    </tr>\n",
       "    <tr>\n",
       "      <th>Americas</th>\n",
       "      <td>MULTIPOLYGON (((-155.53927 19.10347, -155.5511...</td>\n",
       "      <td>2.448157e+08</td>\n",
       "      <td>3.832171</td>\n",
       "    </tr>\n",
       "    <tr>\n",
       "      <th>Asia</th>\n",
       "      <td>MULTIPOLYGON (((73.10124 0.22917, 73.10679 0.2...</td>\n",
       "      <td>4.470812e+08</td>\n",
       "      <td>3.630395</td>\n",
       "    </tr>\n",
       "    <tr>\n",
       "      <th>Europe</th>\n",
       "      <td>MULTIPOLYGON (((-18.14611 27.76944, -18.13223 ...</td>\n",
       "      <td>1.434605e+08</td>\n",
       "      <td>2.182032</td>\n",
       "    </tr>\n",
       "    <tr>\n",
       "      <th>Oceania</th>\n",
       "      <td>MULTIPOLYGON (((-176.35194 -43.79056, -176.361...</td>\n",
       "      <td>6.675157e+07</td>\n",
       "      <td>2.329664</td>\n",
       "    </tr>\n",
       "  </tbody>\n",
       "</table>\n",
       "</div>"
      ],
      "text/plain": [
       "                                                    geometry   (co2, mean)  \\\n",
       "continent                                                                    \n",
       "Africa     MULTIPOLYGON (((-3.14861 5.09583, -3.16833 5.1...  1.670835e+07   \n",
       "Americas   MULTIPOLYGON (((-155.53927 19.10347, -155.5511...  2.448157e+08   \n",
       "Asia       MULTIPOLYGON (((73.10124 0.22917, 73.10679 0.2...  4.470812e+08   \n",
       "Europe     MULTIPOLYGON (((-18.14611 27.76944, -18.13223 ...  1.434605e+08   \n",
       "Oceania    MULTIPOLYGON (((-176.35194 -43.79056, -176.361...  6.675157e+07   \n",
       "\n",
       "           (co2, <lambda_0>)  \n",
       "continent                     \n",
       "Africa              2.441178  \n",
       "Americas            3.832171  \n",
       "Asia                3.630395  \n",
       "Europe              2.182032  \n",
       "Oceania             2.329664  "
      ]
     },
     "execution_count": 44,
     "metadata": {},
     "output_type": "execute_result"
    }
   ],
   "source": [
    "cv=lambda x:x.std()/x.mean() # custom function\n",
    "\n",
    "someCols=['fragility','co2','ForestRev_gdp','continent','geometry']\n",
    "\n",
    "mapAgg=mapWorld.loc[:,someCols].dissolve(by='continent',aggfunc={'co2':['mean',cv]})\n",
    "\n",
    "mapAgg"
   ]
  },
  {
   "cell_type": "code",
   "execution_count": 42,
   "id": "89348a8b",
   "metadata": {},
   "outputs": [
    {
     "data": {
      "text/plain": [
       "Index(['geometry', ('co2', 'mean'), ('co2', '<lambda_0>')], dtype='object')"
      ]
     },
     "execution_count": 42,
     "metadata": {},
     "output_type": "execute_result"
    }
   ],
   "source": [
    "# column names\n",
    "mapAgg.columns"
   ]
  },
  {
   "cell_type": "markdown",
   "id": "25ef8d57",
   "metadata": {},
   "source": [
    "See the map colored by a column:"
   ]
  },
  {
   "cell_type": "code",
   "execution_count": 47,
   "id": "db7e5b9a",
   "metadata": {},
   "outputs": [
    {
     "name": "stderr",
     "output_type": "stream",
     "text": [
      "/Users/JoseManuel/opt/anaconda3/envs/SpatialDS_311_pandas2/lib/python3.11/site-packages/geopandas/plotting.py:732: FutureWarning: is_categorical_dtype is deprecated and will be removed in a future version. Use isinstance(dtype, CategoricalDtype) instead\n",
      "  if pd.api.types.is_categorical_dtype(values.dtype):\n"
     ]
    },
    {
     "data": {
      "text/plain": [
       "<Axes: >"
      ]
     },
     "execution_count": 47,
     "metadata": {},
     "output_type": "execute_result"
    },
    {
     "data": {
      "image/png": "[encoded data removed]",
      "text/plain": [
       "<Figure size 640x480 with 1 Axes>"
      ]
     },
     "metadata": {},
     "output_type": "display_data"
    }
   ],
   "source": [
    "mapAgg.plot(column =('co2', 'mean'), scheme='quantiles', cmap='YlOrRd')"
   ]
  },
  {
   "cell_type": "markdown",
   "id": "d0662d4c",
   "metadata": {},
   "source": [
    "## Re Scaling"
   ]
  },
  {
   "cell_type": "markdown",
   "id": "699edfda",
   "metadata": {},
   "source": [
    "Different columns have different value ranges. That is normal. However, some time, you need to manipulate the actual values so they have a particular scale or range. Let's see statistical summary:"
   ]
  },
  {
   "cell_type": "code",
   "execution_count": null,
   "id": "d4cc79cf",
   "metadata": {},
   "outputs": [],
   "source": [
    "fragcia.describe(include='all')"
   ]
  },
  {
   "cell_type": "markdown",
   "id": "bc3e1c4d",
   "metadata": {},
   "source": [
    "The **describe** will only show numerical stats by default, so you need the parameter _include_ set to *all*. However, for our case, we should just request the range:"
   ]
  },
  {
   "cell_type": "code",
   "execution_count": null,
   "id": "b5855a74",
   "metadata": {},
   "outputs": [],
   "source": [
    "fragcia.describe().loc[['min','max']].T # notice the transposing:"
   ]
  },
  {
   "cell_type": "markdown",
   "id": "cf6d5a63",
   "metadata": {},
   "source": [
    "A boxplot may also be helpful:"
   ]
  },
  {
   "cell_type": "code",
   "execution_count": null,
   "id": "e1559fbc",
   "metadata": {},
   "outputs": [],
   "source": [
    "import matplotlib.pyplot as plt\n",
    "\n",
    "fragcia.plot(kind='box', rot=90);"
   ]
  },
  {
   "cell_type": "code",
   "execution_count": null,
   "id": "414c893f",
   "metadata": {},
   "outputs": [],
   "source": [
    "#alternatively\n",
    "\n",
    "fragcia.plot(kind='box', rot=90)\n",
    "plt.semilogy();"
   ]
  },
  {
   "cell_type": "markdown",
   "id": "fe16991b",
   "metadata": {},
   "source": [
    "As you see above, the ranges are very different (except the years).  Let's do some re scaling.\n",
    "\n",
    "## Min-Max Scaling"
   ]
  },
  {
   "cell_type": "code",
   "execution_count": null,
   "id": "63947e8e",
   "metadata": {},
   "outputs": [],
   "source": [
    "columnsToScale=['fragility','co2','ForestRev_gdp'] \n",
    "\n",
    "from sklearn import preprocessing #installed?\n",
    "\n",
    "# prepare the process\n",
    "mnMx_Scaler = preprocessing.MinMaxScaler(feature_range=(0, 10))# default is 0,1\n",
    "\n",
    "# apply process\n",
    "mnMx_Result = mnMx_Scaler.fit_transform(fragcia[columnsToScale])\n",
    "\n",
    "# result\n",
    "mnMx_Result"
   ]
  },
  {
   "cell_type": "markdown",
   "id": "999a1a62",
   "metadata": {},
   "source": [
    "## Standard Scaling\n",
    "\n",
    "In thi case, we will turn the data unitless. Their mean will be 0 and their standard deviation will be one:"
   ]
  },
  {
   "cell_type": "code",
   "execution_count": null,
   "id": "6b2076df",
   "metadata": {},
   "outputs": [],
   "source": [
    "# prepare the process\n",
    "std_Scaler = preprocessing.StandardScaler()\n",
    "\n",
    "# apply process\n",
    "std_Result = std_Scaler.fit_transform(fragcia[columnsToScale])\n",
    "\n",
    "# result\n",
    "std_Result"
   ]
  },
  {
   "cell_type": "markdown",
   "id": "0df3f1dc",
   "metadata": {},
   "source": [
    "You just got:"
   ]
  },
  {
   "cell_type": "code",
   "execution_count": null,
   "id": "1653d9aa",
   "metadata": {},
   "outputs": [],
   "source": [
    "type(mnMx_Result), type(std_Result)"
   ]
  },
  {
   "cell_type": "markdown",
   "id": "855959be",
   "metadata": {},
   "source": [
    "Let's prepare the new columns:"
   ]
  },
  {
   "cell_type": "code",
   "execution_count": null,
   "id": "619c95a8",
   "metadata": {},
   "outputs": [],
   "source": [
    "newNames_mM=[name+'_mM' for name in columnsToScale]\n",
    "newNames_sd=[name+'_sd' for name in columnsToScale]\n",
    "newNames_mM,newNames_sd"
   ]
  },
  {
   "cell_type": "markdown",
   "id": "433676fd",
   "metadata": {},
   "source": [
    "Let me use that array to replace my values in the pandas _Series_:"
   ]
  },
  {
   "cell_type": "code",
   "execution_count": null,
   "id": "8094b154",
   "metadata": {},
   "outputs": [],
   "source": [
    "mMDF=pd.DataFrame(mnMx_Result,columns=newNames_mM)\n",
    "stDF=pd.DataFrame(std_Result,columns=newNames_sd)"
   ]
  },
  {
   "cell_type": "code",
   "execution_count": null,
   "id": "85773fa2",
   "metadata": {},
   "outputs": [],
   "source": [
    "fragcia=pd.concat([fragcia,mMDF,stDF],axis=1)\n",
    "\n",
    "fragcia.info()"
   ]
  },
  {
   "cell_type": "markdown",
   "id": "ef7c0d24",
   "metadata": {},
   "source": [
    "Now, these are my new data values:"
   ]
  },
  {
   "cell_type": "code",
   "execution_count": null,
   "id": "17997b1c",
   "metadata": {},
   "outputs": [],
   "source": [
    "fragcia[newNames_mM].plot(kind='box', rot=90);"
   ]
  },
  {
   "cell_type": "code",
   "execution_count": null,
   "id": "9a05c39c",
   "metadata": {},
   "outputs": [],
   "source": [
    "fragcia[newNames_sd].plot(kind='box', rot=90);"
   ]
  },
  {
   "cell_type": "markdown",
   "id": "c0498bb4",
   "metadata": {},
   "source": [
    "The data is ready to be exported."
   ]
  },
  {
   "cell_type": "markdown",
   "id": "26c427d1",
   "metadata": {},
   "source": [
    "\n",
    "[Home](#home)\n",
    "\n",
    "\n",
    "______\n",
    "\n",
    "<a id='exporting'></a>\n",
    "\n",
    "\n",
    "# Exporting file\n",
    "\n",
    "The current *fragcia* data frame is clean and formatted. It is time to send it to a format that will keep all our work for future use."
   ]
  },
  {
   "cell_type": "markdown",
   "id": "d37e6d4c",
   "metadata": {},
   "source": [
    "#### For future use in Python:"
   ]
  },
  {
   "cell_type": "code",
   "execution_count": null,
   "id": "dbebde19",
   "metadata": {},
   "outputs": [],
   "source": [
    "fragcia.to_csv(os.path.join(\"data\",\"fragcia.csv\"))"
   ]
  },
  {
   "cell_type": "markdown",
   "id": "c01891b6",
   "metadata": {},
   "source": [
    "#### For future  use in R:"
   ]
  },
  {
   "cell_type": "code",
   "execution_count": null,
   "id": "151e5b4a",
   "metadata": {},
   "outputs": [],
   "source": [
    "#try the following before starting Python:\n",
    "#export LD_LIBRARY_PATH=\"$(python -m rpy2.situation LD_LIBRARY_PATH)\":${LD_LIBRARY_PATH}\n",
    "\n",
    "from rpy2.robjects import pandas2ri\n",
    "pandas2ri.activate()\n",
    "\n",
    "from rpy2.robjects.packages import importr\n",
    "\n",
    "base = importr('base')\n",
    "base.saveRDS(fragcia,file=\"fragcia.RDS\")\n",
    "\n",
    "\n",
    "#In R, you call it with: DF = readRDS(\"fragcia.RDS\")\n",
    "#or, if iyou read from cloud: DF = readRDS(url(\"https://..../fragcia.RDS\")"
   ]
  },
  {
   "cell_type": "code",
   "execution_count": null,
   "id": "89a7d931",
   "metadata": {},
   "outputs": [],
   "source": []
  }
 ],
 "metadata": {
  "kernelspec": {
   "display_name": "Python 3 (ipykernel)",
   "language": "python",
   "name": "python3"
  },
  "language_info": {
   "codemirror_mode": {
    "name": "ipython",
    "version": 3
   },
   "file_extension": ".py",
   "mimetype": "text/x-python",
   "name": "python",
   "nbconvert_exporter": "python",
   "pygments_lexer": "ipython3",
   "version": "3.11.5"
  }
 },
 "nbformat": 4,
 "nbformat_minor": 5
}
