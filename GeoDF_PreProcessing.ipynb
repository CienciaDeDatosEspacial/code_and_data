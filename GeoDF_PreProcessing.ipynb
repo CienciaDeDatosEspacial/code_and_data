{
 "cells": [
  {
   "cell_type": "markdown",
   "id": "f8746832",
   "metadata": {},
   "source": [
    "<center><img src=\"https://i.imgur.com/zRrFdsf.png\" width=\"700\"></center>"
   ]
  },
  {
   "cell_type": "markdown",
   "id": "af76d2a2",
   "metadata": {},
   "source": [
    "## Basic PreProcessing operations in  Geo Dataframes\n",
    "\n",
    "We will review some important formatting processes for geodataframes. As usual, let's do this: \n",
    "\n",
    "1. Create a repository named: geodfprepro.\n",
    "2. Clone that repo to a local folder in your computer.\n",
    "3. In that local folder in your computer, create a folder named **maps** and **data**.\n",
    "4. Put the **geopackage** file that contains the three maps prepared last class into the map folder.\n",
    "5. Commit and push: get the link for the **worldMaps.gpkg** from **geodfprepro** repo in GitHub cloud."
   ]
  },
  {
   "cell_type": "markdown",
   "id": "244a5266",
   "metadata": {},
   "source": [
    "Let's read the file with the help of **geopandas**:"
   ]
  },
  {
   "cell_type": "code",
   "execution_count": null,
   "id": "32c597da",
   "metadata": {},
   "outputs": [],
   "source": [
    "import os\n",
    "os.environ['USE_PYGEOS'] = '0' # only if you have pygeos\n",
    "\n",
    "import geopandas as gpd\n",
    "from  fiona import listlayers\n",
    "\n",
    "#maps\n",
    "worldMaps='https://github.com/CienciaDeDatosEspacial/code_and_data/raw/main/maps/worldMaps.gpkg'\n",
    "\n",
    "#layers in maps\n",
    "listlayers(worldMaps)"
   ]
  },
  {
   "cell_type": "markdown",
   "id": "ad00c172",
   "metadata": {},
   "source": [
    "Retrieving each map (layer):"
   ]
  },
  {
   "cell_type": "code",
   "execution_count": null,
   "id": "79c39157",
   "metadata": {},
   "outputs": [],
   "source": [
    "countries=gpd.read_file(worldMaps,layer='countries')\n",
    "cities=gpd.read_file(worldMaps,layer='cities')\n",
    "rivers=gpd.read_file(worldMaps,layer='rivers')"
   ]
  },
  {
   "cell_type": "markdown",
   "id": "b4ca8fae",
   "metadata": {},
   "source": [
    "Making sure they have the same CRS:"
   ]
  },
  {
   "cell_type": "code",
   "execution_count": null,
   "id": "6896b67b",
   "metadata": {},
   "outputs": [],
   "source": [
    "countries.crs.to_epsg()==cities.crs.to_epsg()==rivers.crs.to_epsg()"
   ]
  },
  {
   "cell_type": "markdown",
   "id": "6e07ca21",
   "metadata": {},
   "source": [
    "Subsetting the maps to keep on country (Brazil):"
   ]
  },
  {
   "cell_type": "code",
   "execution_count": null,
   "id": "01f5aa46",
   "metadata": {},
   "outputs": [],
   "source": [
    "# just brazil\n",
    "brazil=countries[countries.COUNTRY=='Brazil']\n",
    "\n",
    "# clipping\n",
    "brazil_cities= gpd.clip(gdf=cities,mask=brazil)\n",
    "brazil_rivers = gpd.clip(gdf=rivers,mask=brazil)\n",
    "\n",
    "# plotting\n",
    "base = brazil.plot(facecolor=\"greenyellow\")\n",
    "brazil_rivers.plot(edgecolor='blue', linewidth=0.5,ax=base)\n",
    "brazil_cities.plot(marker='+', color='red', markersize=15,ax=base)"
   ]
  },
  {
   "cell_type": "markdown",
   "id": "c2fc940f",
   "metadata": {},
   "source": [
    "Now, let's see some important pre processing operations:\n",
    "\n",
    "1. [(Re) Projecting](#1)\n",
    "    * [Geoseries projections](#1_1)\n",
    "    * [Lack of Projection](#1_2)\n",
    "    \n",
    "2. [Dissolving](#2)\n",
    "3. [Creating Spatial Points](#3)\n",
    "    * [Creating a convex hull](#31)\n",
    "4. [Checking Validity](#4)\n",
    "\n"
   ]
  },
  {
   "cell_type": "markdown",
   "id": "82e85780",
   "metadata": {},
   "source": [
    "<a class=\"anchor\" id=\"1\"></a>\n",
    "\n",
    "## (Re) Projecting  "
   ]
  },
  {
   "cell_type": "markdown",
   "id": "61c49626",
   "metadata": {},
   "source": [
    "As mentioned in class, the CRS is a very important property of the maps. They affect three aspects:\n",
    "\n",
    "* shape\n",
    "* area\n",
    "* scale\n",
    "* direction\n",
    "\n",
    "The most used CRS is 4326, but it is **not projected**:"
   ]
  },
  {
   "cell_type": "code",
   "execution_count": null,
   "id": "91d621e8",
   "metadata": {},
   "outputs": [],
   "source": [
    "# unit is in degrees:\n",
    "brazil.crs.axis_info"
   ]
  },
  {
   "cell_type": "markdown",
   "id": "934bc96a",
   "metadata": {},
   "source": [
    "Some operations will **warn** you on this issue:"
   ]
  },
  {
   "cell_type": "code",
   "execution_count": null,
   "id": "969ef1b1",
   "metadata": {},
   "outputs": [],
   "source": [
    "# centroid\n",
    "brazil.centroid"
   ]
  },
  {
   "cell_type": "markdown",
   "id": "8db60c34",
   "metadata": {},
   "source": [
    "A projected CRS will have units in meters or feet (or similar):"
   ]
  },
  {
   "cell_type": "code",
   "execution_count": null,
   "id": "f1017c99",
   "metadata": {},
   "outputs": [],
   "source": [
    "brazil.to_crs(3587).crs.axis_info"
   ]
  },
  {
   "cell_type": "code",
   "execution_count": null,
   "id": "f93239ef",
   "metadata": {},
   "outputs": [],
   "source": [
    "# operations that require projected CRS will work:\n",
    "brazil.to_crs(3587).centroid"
   ]
  },
  {
   "cell_type": "code",
   "execution_count": null,
   "id": "bbeb0394",
   "metadata": {},
   "outputs": [],
   "source": [
    "# plot this projected version\n",
    "\n",
    "base3587=brazil.to_crs(3587).plot()\n",
    "brazil.to_crs(3587).centroid.plot(color='red',ax=base3587)"
   ]
  },
  {
   "cell_type": "markdown",
   "id": "c7316b3f",
   "metadata": {},
   "source": [
    "We use the crs **3587** as an emergency option to reproject a map. However, for a more accurate option it is better to look for the ones explicitly prepared for a particular locations of the world. You can request a crs per country [here](https://epsg.io/?q=brazil+kind%3APROJCRS):"
   ]
  },
  {
   "cell_type": "code",
   "execution_count": null,
   "id": "58a9cd06",
   "metadata": {},
   "outputs": [],
   "source": [
    "# recommended for Brazil (meters)\n",
    "brazil.to_crs(5641).crs.axis_info"
   ]
  },
  {
   "cell_type": "code",
   "execution_count": null,
   "id": "8ec758c7",
   "metadata": {},
   "outputs": [],
   "source": [
    "# this works\n",
    "brazil.to_crs(5641).centroid"
   ]
  },
  {
   "cell_type": "code",
   "execution_count": null,
   "id": "8e709f8d",
   "metadata": {},
   "outputs": [],
   "source": [
    "# replotting:\n",
    "\n",
    "base5641=brazil.to_crs(5641).plot()\n",
    "brazil.to_crs(5641).centroid.plot(color='red',ax=base5641)"
   ]
  },
  {
   "cell_type": "markdown",
   "id": "3a72c9e0",
   "metadata": {},
   "source": [
    "Not using the right projection will give you a wrong numerical result when needing numerical accuracy; however, you might find situation where the visual output seems right (yet it is wrong):"
   ]
  },
  {
   "cell_type": "code",
   "execution_count": null,
   "id": "0f60a738",
   "metadata": {},
   "outputs": [],
   "source": [
    "from matplotlib import pyplot\n",
    "\n",
    "fig, (ax1, ax2) = pyplot.subplots(ncols=2, sharex=False, sharey=False, figsize=(12,12))\n",
    "\n",
    "ax1.set_title('projected (5641)',fontsize=10)\n",
    "brazil.to_crs(5641).plot(ax=ax1)\n",
    "brazil.to_crs(5641).centroid.plot(color='red',ax=ax1)\n",
    "\n",
    "ax2.set_title('unprojected',fontsize=10)\n",
    "brazil.plot(ax=ax2)\n",
    "brazil.centroid.plot(color='red',ax=ax2)\n"
   ]
  },
  {
   "cell_type": "markdown",
   "id": "5ad5c246",
   "metadata": {},
   "source": [
    "Let's keep the projected version for all our maps:"
   ]
  },
  {
   "cell_type": "code",
   "execution_count": null,
   "id": "67e74e7d",
   "metadata": {},
   "outputs": [],
   "source": [
    "brazil_5641=brazil.to_crs(5641)\n",
    "# just Brazil\n",
    "\n",
    "cities_5641=cities.to_crs(brazil_5641.crs)\n",
    "cities_5641=cities_5641[cities_5641.COUNTRY=='Brazil']\n",
    "\n",
    "rivers_5641=rivers.to_crs(brazil_5641.crs)\n",
    "rivers_5641=gpd.clip(gdf=rivers_5641,mask=brazil_5641)"
   ]
  },
  {
   "cell_type": "markdown",
   "id": "e458e234",
   "metadata": {},
   "source": [
    "We could save these maps on Brazil:"
   ]
  },
  {
   "cell_type": "code",
   "execution_count": null,
   "id": "9e781b76",
   "metadata": {},
   "outputs": [],
   "source": [
    "# saving \n",
    "import os\n",
    "\n",
    "brazil_5641.to_file(os.path.join(\"maps\",\"brazilMaps_5641.gpkg\"), layer='country', driver=\"GPKG\")\n",
    "cities_5641.to_file(os.path.join(\"maps\",\"brazilMaps_5641.gpkg\"), layer='cities', driver=\"GPKG\")\n",
    "rivers_5641.to_file(os.path.join(\"maps\",\"brazilMaps_5641.gpkg\"), layer='rivers', driver=\"GPKG\")"
   ]
  },
  {
   "cell_type": "markdown",
   "id": "06b840e9",
   "metadata": {},
   "source": [
    "### Exercise 1\n",
    "\n",
    "<div class=\"alert-success\">\n",
    "    \n",
    "1. Compute the centroid of your country map.\n",
    "\n",
    "2. If you get a warning in the previous step, detect the current projection. If there is no CRS information at all, STOP. If you get a CRS, continue.\n",
    "\n",
    "3. Look for the right CRS for your map, so that you get a projected map.\n",
    "\n",
    "4. Reset the CRS.\n",
    "\n",
    "5. Plot both the reprojected map and its centroid.\n",
    "    \n",
    "</div>"
   ]
  },
  {
   "cell_type": "markdown",
   "id": "1a244be3",
   "metadata": {},
   "source": [
    "<a class=\"anchor\" id=\"1_1\"></a>\n",
    "### Formating Geoseries projections"
   ]
  },
  {
   "cell_type": "markdown",
   "id": "56f39f71",
   "metadata": {},
   "source": [
    "You know **brazil_5641** is a multipolygon:"
   ]
  },
  {
   "cell_type": "code",
   "execution_count": null,
   "id": "0c0f557c",
   "metadata": {},
   "outputs": [],
   "source": [
    "brazil_5641"
   ]
  },
  {
   "cell_type": "markdown",
   "id": "a1623e72",
   "metadata": {},
   "source": [
    "Sometime, you just need the border (lines):"
   ]
  },
  {
   "cell_type": "code",
   "execution_count": null,
   "id": "39db903a",
   "metadata": {},
   "outputs": [],
   "source": [
    "brazil_5641.boundary"
   ]
  },
  {
   "cell_type": "code",
   "execution_count": null,
   "id": "ef42fd87",
   "metadata": {},
   "outputs": [],
   "source": [
    "# This is just the borderline\n",
    "brazil_5641.boundary.plot()"
   ]
  },
  {
   "cell_type": "markdown",
   "id": "24f53d89",
   "metadata": {},
   "source": [
    "Always check the data type:"
   ]
  },
  {
   "cell_type": "code",
   "execution_count": null,
   "id": "a18b7ce2",
   "metadata": {},
   "outputs": [],
   "source": [
    "# does 'boundary' return a GDF?\n",
    "type(brazil_5641.boundary)"
   ]
  },
  {
   "cell_type": "markdown",
   "id": "5b3845aa",
   "metadata": {},
   "source": [
    "Some operations in geopandas require GDF or GS. If you need a GDF instead of a GS:"
   ]
  },
  {
   "cell_type": "code",
   "execution_count": null,
   "id": "c4899f6e",
   "metadata": {},
   "outputs": [],
   "source": [
    "# converting into GDF\n",
    "brazil_5641.boundary.to_frame()"
   ]
  },
  {
   "cell_type": "markdown",
   "id": "ee31770d",
   "metadata": {},
   "source": [
    "Notice you get a very simple GDF, and you may want to add some info:"
   ]
  },
  {
   "cell_type": "code",
   "execution_count": null,
   "id": "1aa88edb",
   "metadata": {},
   "outputs": [],
   "source": [
    "# conversion\n",
    "brazil_5641DF=brazil_5641.boundary.to_frame() \n",
    "\n",
    "# new column (optional)\n",
    "brazil_5641DF['name']='Brazil' \n",
    "\n",
    "# renaming the geometry column\n",
    "brazil_5641DF.rename(columns={0:'geometry'},inplace=True) \n",
    "\n",
    "#setting the geometry (the name is not enough)\n",
    "brazil_5641DF = brazil_5641DF.set_geometry(\"geometry\")\n",
    "\n",
    "# verifying:\n",
    "brazil_5641DF.crs"
   ]
  },
  {
   "cell_type": "markdown",
   "id": "56253f89",
   "metadata": {},
   "source": [
    "You can add this GDF as a layer:"
   ]
  },
  {
   "cell_type": "code",
   "execution_count": null,
   "id": "18a6f1f7",
   "metadata": {},
   "outputs": [],
   "source": [
    "brazil_5641DF.to_file(os.path.join(\"maps\",\"brazilMaps_5641.gpkg\"), layer='border', driver=\"GPKG\")"
   ]
  },
  {
   "cell_type": "markdown",
   "id": "a1a60dee",
   "metadata": {},
   "source": [
    "### Exercise 2\n",
    "\n",
    "<div class=\"alert-success\"> \n",
    "    \n",
    "1. Select one of **your** GDFs with several polygons.\n",
    "    \n",
    "2. Recover just the boundaries of that GDF.\n",
    "    \n",
    "3. Turn the boundary into a GDF.\n",
    "</div>"
   ]
  },
  {
   "cell_type": "markdown",
   "id": "2c049934",
   "metadata": {},
   "source": [
    "<a class=\"anchor\" id=\"1_2\"></a>\n",
    "\n",
    "### Lacking CRS information"
   ]
  },
  {
   "cell_type": "markdown",
   "id": "ae03899d",
   "metadata": {},
   "source": [
    "Reprojecting seems a simple process, but you might find some interesting cases. Download the shapefile of Brazil - Subnational Administrative Boundaries from [here](https://data.humdata.org/dataset/cod-ab-bra) and save it in the maps folder (you need to unzip the file)."
   ]
  },
  {
   "cell_type": "code",
   "execution_count": null,
   "id": "8f1ffae0",
   "metadata": {},
   "outputs": [],
   "source": [
    "brazil_states=gpd.read_file(os.path.join(\"maps\",\"bra_adm_ibge_2020_shp\",\"bra_admbnda_adm1_ibge_2020.shp\"))\n",
    "brazil_municipalities=gpd.read_file(os.path.join(\"maps\",\"bra_adm_ibge_2020_shp\",\"bra_admbnda_adm2_ibge_2020.shp\"))"
   ]
  },
  {
   "cell_type": "markdown",
   "id": "1fc50b42",
   "metadata": {},
   "source": [
    "Notice this:"
   ]
  },
  {
   "cell_type": "code",
   "execution_count": null,
   "id": "fcf97ff7",
   "metadata": {},
   "outputs": [],
   "source": [
    "brazil_states.crs, brazil_municipalities.crs"
   ]
  },
  {
   "cell_type": "markdown",
   "id": "d5d3fb9f",
   "metadata": {},
   "source": [
    "They do not have crs information, however:"
   ]
  },
  {
   "cell_type": "code",
   "execution_count": null,
   "id": "55f99615",
   "metadata": {},
   "outputs": [],
   "source": [
    "fig, (ax1, ax2) = pyplot.subplots(ncols=2, sharex=False, sharey=False, figsize=(12,12))\n",
    "\n",
    "brazil_states.plot(ax=ax1, facecolor='lightgrey', edgecolor='black')\n",
    "brazil_municipalities.plot(ax=ax2, facecolor='lightgrey', edgecolor='black',linewidth=0.2)\n"
   ]
  },
  {
   "cell_type": "markdown",
   "id": "1b744542",
   "metadata": {},
   "source": [
    "Since we are using the crs 5641 for Brazil:"
   ]
  },
  {
   "cell_type": "code",
   "execution_count": null,
   "id": "931bfad1",
   "metadata": {},
   "outputs": [],
   "source": [
    "brazil_states.to_crs(5641)"
   ]
  },
  {
   "cell_type": "markdown",
   "id": "4c6125eb",
   "metadata": {},
   "source": [
    "Python says _\"Please set a crs on the object first\"_. This would mean to know the actual projection, of the geometry:"
   ]
  },
  {
   "cell_type": "code",
   "execution_count": null,
   "id": "4d1a7698",
   "metadata": {},
   "outputs": [],
   "source": [
    "brazil_states.geometry"
   ]
  },
  {
   "cell_type": "markdown",
   "id": "947b1955",
   "metadata": {},
   "source": [
    "From the plots above, it looks like an unprojected map, then:"
   ]
  },
  {
   "cell_type": "code",
   "execution_count": null,
   "id": "b0cea549",
   "metadata": {},
   "outputs": [],
   "source": [
    "brazil_states.crs = \"EPSG:4326\"\n",
    "brazil_municipalities.crs = \"EPSG:4326\""
   ]
  },
  {
   "cell_type": "markdown",
   "id": "370b9b22",
   "metadata": {},
   "source": [
    "Now, we can reproject:"
   ]
  },
  {
   "cell_type": "code",
   "execution_count": null,
   "id": "b5931b04",
   "metadata": {},
   "outputs": [],
   "source": [
    "brazil_states_5641=brazil_states.to_crs(5641)\n",
    "brazil_municipalities_5641=brazil_municipalities.to_crs(5641)"
   ]
  },
  {
   "cell_type": "markdown",
   "id": "f8cbcbfe",
   "metadata": {},
   "source": [
    "We update the file:"
   ]
  },
  {
   "cell_type": "code",
   "execution_count": null,
   "id": "f2ffcfb4",
   "metadata": {},
   "outputs": [],
   "source": [
    "brazil_states_5641.to_file(os.path.join(\"maps\",\"brazilMaps_5641.gpkg\"), layer='states', driver=\"GPKG\")\n",
    "brazil_municipalities_5641.to_file(os.path.join(\"maps\",\"brazilMaps_5641.gpkg\"), layer='municipalities', driver=\"GPKG\")"
   ]
  },
  {
   "cell_type": "markdown",
   "id": "4bd63172",
   "metadata": {},
   "source": [
    "### Exercise 3\n",
    "\n",
    "<div class=\"alert-success\">\n",
    "\n",
    "1. Check all the CRSs of your GDFs.\n",
    "\n",
    "2. If you find one CRS is missing, fill the CRS with the right projection.\n",
    "</div>"
   ]
  },
  {
   "cell_type": "markdown",
   "id": "f4045360",
   "metadata": {},
   "source": [
    "<a class=\"anchor\" id=\"2\"></a>\n",
    "\n",
    "## Dissolving\n",
    "\n",
    "We have subset the map using clip (subset respect to another map boundaries). You can also subset using _loc_ or _iloc_ (from pandas); let me now subset using   geopandas'  **cx** to do subsetting **by location**:"
   ]
  },
  {
   "cell_type": "code",
   "execution_count": null,
   "id": "b0917b7e",
   "metadata": {},
   "outputs": [],
   "source": [
    "centroBrazil=brazil_5641.centroid\n",
    "\n",
    "\n",
    "fig, axs = pyplot.subplots(nrows=2,ncols=2,sharex=False, sharey=False,figsize=(8,8))\n",
    "\n",
    "axs[0,0].set_title('Above_Centroid, LeftOf_Centroid',fontsize=5)\n",
    "brazil_municipalities_5641.cx[:centroBrazil.x,centroBrazil.y:].plot(ax=axs[0,0]) \n",
    "\n",
    "axs[0,1].set_title('Above_Centroid, RightOf_Centroid',fontsize=5)\n",
    "brazil_municipalities_5641.cx[centroBrazil.x:,centroBrazil.y:].plot(ax=axs[0,1]) \n",
    "\n",
    "axs[1,0].set_title('Below_Centroid, LeftOf_Centroid',fontsize=5)\n",
    "brazil_municipalities_5641.cx[:centroBrazil.x,:centroBrazil.y].plot(ax=axs[1,0]) \n",
    "\n",
    "axs[1,1].set_title('Below_Centroid, RightOf_Centroid',fontsize=5)\n",
    "brazil_municipalities_5641.cx[centroBrazil.x:,:centroBrazil.y].plot(ax=axs[1,1]) "
   ]
  },
  {
   "cell_type": "markdown",
   "id": "8815d605",
   "metadata": {},
   "source": [
    "You can create a polygon with one of these:"
   ]
  },
  {
   "cell_type": "code",
   "execution_count": null,
   "id": "44bccfaf",
   "metadata": {},
   "outputs": [],
   "source": [
    "#instead of:\n",
    "brazil_municipalities_5641.cx[:centroBrazil.x,centroBrazil.y:]"
   ]
  },
  {
   "cell_type": "code",
   "execution_count": null,
   "id": "5067cf48",
   "metadata": {},
   "outputs": [],
   "source": [
    "# you create\n",
    "Brazil_topLeft=brazil_municipalities_5641.cx[:centroBrazil.x,centroBrazil.y:].dissolve()\n",
    "# you get\n",
    "Brazil_topLeft"
   ]
  },
  {
   "cell_type": "markdown",
   "id": "b283dd1f",
   "metadata": {},
   "source": [
    "Aside from the geometry column, the rest in wrong, then:"
   ]
  },
  {
   "cell_type": "code",
   "execution_count": null,
   "id": "ca7f8999",
   "metadata": {},
   "outputs": [],
   "source": [
    "Brazil_topLeft['zone']='NW'\n",
    "Brazil_topLeft=Brazil_topLeft.loc[:,['ADM0_EN','zone','geometry']]   \n",
    "Brazil_topLeft"
   ]
  },
  {
   "cell_type": "code",
   "execution_count": null,
   "id": "466f1f0e",
   "metadata": {},
   "outputs": [],
   "source": [
    "# this is the plot\n",
    "\n",
    "Brazil_topLeft.plot()"
   ]
  },
  {
   "cell_type": "markdown",
   "id": "6f4bc949",
   "metadata": {},
   "source": [
    "Keep in mind that with **CX** you may not get a perfect partition:"
   ]
  },
  {
   "cell_type": "code",
   "execution_count": null,
   "id": "bc669d23",
   "metadata": {},
   "outputs": [],
   "source": [
    "\n",
    "rowsCX=(brazil_municipalities_5641.cx[:centroBrazil.x,centroBrazil.y:].shape[0],\\\n",
    "brazil_municipalities_5641.cx[centroBrazil.x:,centroBrazil.y:].shape[0],\\\n",
    "brazil_municipalities_5641.cx[:centroBrazil.x,:centroBrazil.y].shape[0],\\\n",
    "brazil_municipalities_5641.cx[centroBrazil.x:,:centroBrazil.y].shape[0])\n",
    "sum(rowsCX)"
   ]
  },
  {
   "cell_type": "markdown",
   "id": "57f6903c",
   "metadata": {},
   "source": [
    "So, you have duplicated polygons across the zones:"
   ]
  },
  {
   "cell_type": "code",
   "execution_count": null,
   "id": "c70f189b",
   "metadata": {},
   "outputs": [],
   "source": [
    "sum(rowsCX)-brazil_municipalities_5641.shape[0]"
   ]
  },
  {
   "cell_type": "markdown",
   "id": "0ac51cc2",
   "metadata": {},
   "source": [
    "### Exercise 4\n",
    "\n",
    "\n",
    "<div class=\"alert-success\"> \n",
    "\n",
    "1. Compute the centroid of your country.\n",
    "\n",
    "2. Dissolve all the polygons to the north, and also all the polygons to the south. Plot both results.\n",
    "\n",
    "3. Detect the amount of duplicates after the dissolving process.\n",
    "    \n",
    "</div>"
   ]
  },
  {
   "cell_type": "markdown",
   "id": "98a03337",
   "metadata": {},
   "source": [
    "<a class=\"anchor\" id=\"3\"></a>\n",
    "\n",
    "## Creating Spatial data\n",
    "\n",
    "You will get Lines and Polygons as maps for sure, but that may not be the case with points. Let me download a **CSV** file with information on the airports in Brazil from this [website](https://data.humdata.org/dataset/ourairports-bra), I will save it in my **data** folder:"
   ]
  },
  {
   "cell_type": "code",
   "execution_count": null,
   "id": "e08c2311",
   "metadata": {},
   "outputs": [],
   "source": [
    "import pandas as pd \n",
    "infoairports=pd.read_csv(os.path.join(\"data\",\"br-airports.csv\"))\n",
    "\n",
    "# some rows\n",
    "\n",
    "infoairports.iloc[[0,1,2,3,-4,-3,-2,-1],:] #head and tail"
   ]
  },
  {
   "cell_type": "markdown",
   "id": "00e98ce6",
   "metadata": {},
   "source": [
    "This needs some cleaning:"
   ]
  },
  {
   "cell_type": "code",
   "execution_count": null,
   "id": "0773fe68",
   "metadata": {},
   "outputs": [],
   "source": [
    "# bye first row \n",
    "infoairports.drop(index=0,inplace=True)\n",
    "infoairports.reset_index(drop=True, inplace=True)\n",
    "infoairports.head()"
   ]
  },
  {
   "cell_type": "code",
   "execution_count": null,
   "id": "ff87bef1",
   "metadata": {},
   "outputs": [],
   "source": [
    "# keep the  columns needed\n",
    "\n",
    "infoairports.columns.to_list()"
   ]
  },
  {
   "cell_type": "code",
   "execution_count": null,
   "id": "1946b162",
   "metadata": {},
   "outputs": [],
   "source": [
    "keep=['name','type','latitude_deg', 'longitude_deg','elevation_ft','region_name','municipality']\n",
    "infoairports=infoairports.loc[:,keep]"
   ]
  },
  {
   "cell_type": "code",
   "execution_count": null,
   "id": "d29c888d",
   "metadata": {},
   "outputs": [],
   "source": [
    "infoairports.info()"
   ]
  },
  {
   "cell_type": "markdown",
   "id": "3cc1ef58",
   "metadata": {},
   "source": [
    "Some formatting:"
   ]
  },
  {
   "cell_type": "code",
   "execution_count": null,
   "id": "47c13297",
   "metadata": {},
   "outputs": [],
   "source": [
    "numericCols=['latitude_deg', 'longitude_deg','elevation_ft']\n",
    "infoairports[numericCols]=infoairports.loc[:,numericCols].apply(lambda x:pd.to_numeric(x))\n",
    "\n",
    "# now \n",
    "infoairports.info()"
   ]
  },
  {
   "cell_type": "code",
   "execution_count": null,
   "id": "a03af58c",
   "metadata": {},
   "outputs": [],
   "source": [
    "# let's plot\n",
    "\n",
    "base = brazil.plot(color='white', edgecolor='black') #unprojected\n",
    "\n",
    "infoairports.plot.scatter(x = 'longitude_deg', y = 'latitude_deg',ax=base)"
   ]
  },
  {
   "cell_type": "markdown",
   "id": "f15ef762",
   "metadata": {},
   "source": [
    "Would that be ok? It is supposed to be right. \n"
   ]
  },
  {
   "cell_type": "markdown",
   "id": "03ab7ae5",
   "metadata": {},
   "source": [
    "Let me turn those coordinates into a map of points:"
   ]
  },
  {
   "cell_type": "code",
   "execution_count": null,
   "id": "86461262",
   "metadata": {},
   "outputs": [],
   "source": [
    "airports=gpd.GeoDataFrame(data=infoairports.copy(),\n",
    "                 geometry=gpd.points_from_xy(infoairports.longitude_deg,\n",
    "                                             infoairports.latitude_deg), \n",
    "                 crs=brazil.crs.to_epsg())# the coordinates were in degrees - unprojected"
   ]
  },
  {
   "cell_type": "code",
   "execution_count": null,
   "id": "21650c04",
   "metadata": {},
   "outputs": [],
   "source": [
    "# does it look better?\n",
    "\n",
    "# let's plot\n",
    "\n",
    "base = brazil.plot(color='white', edgecolor='black')\n",
    "airports.plot(ax=base)"
   ]
  },
  {
   "cell_type": "code",
   "execution_count": null,
   "id": "dca4947f",
   "metadata": {},
   "outputs": [],
   "source": [
    "#remember:\n",
    "type(airports), type(infoairports)"
   ]
  },
  {
   "cell_type": "markdown",
   "id": "b77e6afd",
   "metadata": {},
   "source": [
    "Then this works:"
   ]
  },
  {
   "cell_type": "code",
   "execution_count": null,
   "id": "b38821dd",
   "metadata": {},
   "outputs": [],
   "source": [
    "airports.to_crs(5641).plot()"
   ]
  },
  {
   "cell_type": "code",
   "execution_count": null,
   "id": "ed6d87ff",
   "metadata": {},
   "outputs": [],
   "source": [
    "# this does not:\n",
    "infoairports.to_crs(5641).plot()"
   ]
  },
  {
   "cell_type": "markdown",
   "id": "70de6a4a",
   "metadata": {},
   "source": [
    "Let's keep the projected version:"
   ]
  },
  {
   "cell_type": "code",
   "execution_count": null,
   "id": "2c015def",
   "metadata": {},
   "outputs": [],
   "source": [
    "airports_5641=airports.to_crs(5641)"
   ]
  },
  {
   "cell_type": "markdown",
   "id": "f619aee9",
   "metadata": {},
   "source": [
    "Remember you have type of airports:"
   ]
  },
  {
   "cell_type": "code",
   "execution_count": null,
   "id": "01aeff93",
   "metadata": {},
   "outputs": [],
   "source": [
    "airports_5641['type'].value_counts() # this will not work: airports.type.value_counts()"
   ]
  },
  {
   "cell_type": "markdown",
   "id": "257eec98",
   "metadata": {},
   "source": [
    "We may use that in the future. For now, just rename the **type** column to a different one."
   ]
  },
  {
   "cell_type": "code",
   "execution_count": null,
   "id": "fd5abd97",
   "metadata": {},
   "outputs": [],
   "source": [
    "airports_5641.rename(columns={'type':'kind'},inplace=True)"
   ]
  },
  {
   "cell_type": "markdown",
   "id": "dc6d8e5a",
   "metadata": {},
   "source": [
    "That may be useful:"
   ]
  },
  {
   "cell_type": "code",
   "execution_count": null,
   "id": "ae30fb08",
   "metadata": {},
   "outputs": [],
   "source": [
    "from folium import LayerControl\n",
    "\n",
    "\n",
    "m = airports_5641[airports_5641.kind=='small_airport'].explore(color=\"red\",name=\"small\",show=False)\n",
    "m = airports_5641[airports_5641.kind=='medium_airport'].explore(m=m, color=\"blue\",name=\"medium\",show=False)\n",
    "m = airports_5641[airports_5641.kind=='large_airport'].explore(m=m, color=\"black\",name=\"large\",show=True)\n",
    "m = airports_5641[airports_5641.kind=='seaplane_base'].explore(m=m, color=\"green\",name=\"seaplane\",show=False)\n",
    "m = airports_5641[airports_5641.kind=='closed'].explore(m=m, color=\"white\",name=\"closed\",show=False)\n",
    "m = airports_5641[airports_5641.kind=='heliport'].explore(m=m, color=\"orange\",name=\"heliport\",show=False)\n",
    "\n",
    "LayerControl(collapsed=False).add_to(m) #optional\n",
    "\n",
    "m"
   ]
  },
  {
   "cell_type": "markdown",
   "id": "e69ebd09",
   "metadata": {},
   "source": [
    "Now, let's add this map of points:"
   ]
  },
  {
   "cell_type": "code",
   "execution_count": null,
   "id": "0f3fcef8",
   "metadata": {},
   "outputs": [],
   "source": [
    "airports_5641.to_file(os.path.join(\"maps\",\"brazilMaps_5641.gpkg\"),layer='airports', driver=\"GPKG\")"
   ]
  },
  {
   "cell_type": "markdown",
   "id": "e0a0cfb0",
   "metadata": {},
   "source": [
    "\n",
    "### Exercise 5 (extra credit - optional)\n",
    "<div class=\"alert-success\">\n",
    "\n",
    "1. Look for some points in a CSV file about your country.\n",
    "    \n",
    "2. Turn those points into a spatial object.\n",
    "    \n",
    "3. Save the layer.\n",
    "    \n",
    "</div>"
   ]
  },
  {
   "cell_type": "markdown",
   "id": "29bdb1b3",
   "metadata": {},
   "source": [
    "<a class=\"anchor\" id=\"31\"></a>\n",
    "\n",
    "## Creating the convex hull\n",
    "\n",
    "Some time you may have the need to create a polygon that serves as an envelope to a set of points. As en envelope, it should have only convex angles. That envelope is the convex hull:"
   ]
  },
  {
   "cell_type": "code",
   "execution_count": null,
   "id": "10d1d989",
   "metadata": {},
   "outputs": [],
   "source": [
    "# in a polygon\n",
    "Brazil_topLeft"
   ]
  },
  {
   "cell_type": "code",
   "execution_count": null,
   "id": "cbc423fd",
   "metadata": {},
   "outputs": [],
   "source": [
    "Brazil_topLeft.plot()"
   ]
  },
  {
   "cell_type": "code",
   "execution_count": null,
   "id": "ebff8d03",
   "metadata": {},
   "outputs": [],
   "source": [
    "Brazil_topLeft.convex_hull"
   ]
  },
  {
   "cell_type": "code",
   "execution_count": null,
   "id": "026b2289",
   "metadata": {},
   "outputs": [],
   "source": [
    "Brazil_topLeft.convex_hull.plot()"
   ]
  },
  {
   "cell_type": "markdown",
   "id": "d908fc2f",
   "metadata": {},
   "source": [
    "Notice that the convex hull works for each row of the geometry. _Brazil_topLeft_ was one geometry row, so the convex hull was straightforward.\n",
    "\n",
    "This might be different if you have points:"
   ]
  },
  {
   "cell_type": "code",
   "execution_count": null,
   "id": "2649d471",
   "metadata": {},
   "outputs": [],
   "source": [
    "large_airport=airports_5641[airports_5641.kind=='large_airport']\n",
    "# several rows\n",
    "large_airport"
   ]
  },
  {
   "cell_type": "markdown",
   "id": "adc3087d",
   "metadata": {},
   "source": [
    "In this situation, as you want the convex hull of the large airports, you need to combine all the points:"
   ]
  },
  {
   "cell_type": "code",
   "execution_count": null,
   "id": "5929df3a",
   "metadata": {},
   "outputs": [],
   "source": [
    "large_airport.unary_union"
   ]
  },
  {
   "cell_type": "markdown",
   "id": "b6c5575c",
   "metadata": {},
   "source": [
    "This is a **multipoint** geometry:"
   ]
  },
  {
   "cell_type": "code",
   "execution_count": null,
   "id": "92138d17",
   "metadata": {},
   "outputs": [],
   "source": [
    "gpd.GeoSeries(large_airport.unary_union)"
   ]
  },
  {
   "cell_type": "markdown",
   "id": "b7137f7a",
   "metadata": {},
   "source": [
    "Then, you are ready to get the convex hull:"
   ]
  },
  {
   "cell_type": "code",
   "execution_count": null,
   "id": "0480ccb7",
   "metadata": {},
   "outputs": [],
   "source": [
    "large_airport.unary_union.convex_hull"
   ]
  },
  {
   "cell_type": "markdown",
   "id": "111b9f39",
   "metadata": {},
   "source": [
    "Notice the type:"
   ]
  },
  {
   "cell_type": "code",
   "execution_count": null,
   "id": "9fd6819b",
   "metadata": {},
   "outputs": [],
   "source": [
    "type(large_airport.unary_union.convex_hull)"
   ]
  },
  {
   "cell_type": "markdown",
   "id": "a84718a1",
   "metadata": {},
   "source": [
    "This will not work for a geometry:"
   ]
  },
  {
   "cell_type": "code",
   "execution_count": null,
   "id": "8713bad2",
   "metadata": {},
   "outputs": [],
   "source": [
    "large_airport.unary_union.convex_hull.plot()"
   ]
  },
  {
   "cell_type": "code",
   "execution_count": null,
   "id": "2ee59bf1",
   "metadata": {},
   "outputs": [],
   "source": [
    "# but it will for a series\n",
    "gpd.GeoSeries(large_airport.unary_union.convex_hull).plot()"
   ]
  },
  {
   "cell_type": "markdown",
   "id": "46a0e7b3",
   "metadata": {},
   "source": [
    "Let's turn the GS into a GDF:"
   ]
  },
  {
   "cell_type": "code",
   "execution_count": null,
   "id": "93eda10e",
   "metadata": {},
   "outputs": [],
   "source": [
    "# as gdf\n",
    "LargeAirport_hull=gpd.GeoSeries(large_airport.unary_union.convex_hull).to_frame()\n",
    "LargeAirport_hull"
   ]
  },
  {
   "cell_type": "code",
   "execution_count": null,
   "id": "4967ab5c",
   "metadata": {},
   "outputs": [],
   "source": [
    "#next steps\n",
    "LargeAirport_hull.rename(columns={0:'geometry'},inplace=True)\n",
    "LargeAirport_hull['name']='large airports hull' # optional\n",
    "LargeAirport_hull=LargeAirport_hull.set_geometry('geometry')\n",
    "LargeAirport_hull.crs=\"EPSG:5641\"\n",
    "# verifying:\n",
    "LargeAirport_hull.crs"
   ]
  },
  {
   "cell_type": "markdown",
   "id": "c67c1b31",
   "metadata": {},
   "source": [
    "Let's use the GDF in plotting:"
   ]
  },
  {
   "cell_type": "code",
   "execution_count": null,
   "id": "e73b691b",
   "metadata": {},
   "outputs": [],
   "source": [
    "base=brazil_5641.plot(facecolor='yellow')\n",
    "large_airport.plot(ax=base)\n",
    "LargeAirport_hull.plot(ax=base,facecolor='green',\n",
    "                       edgecolor='white',alpha=0.4,\n",
    "                       hatch='X')"
   ]
  },
  {
   "cell_type": "code",
   "execution_count": null,
   "id": "35ffc2a8",
   "metadata": {
    "scrolled": true
   },
   "outputs": [],
   "source": [
    "LargeAirport_hull.explore()"
   ]
  },
  {
   "cell_type": "markdown",
   "id": "b0d78b91",
   "metadata": {},
   "source": [
    "### Exercise 6 \n",
    "\n",
    "<div class=\"alert-success\">\n",
    "\n",
    "1. Select some points from your maps.\n",
    "    \n",
    "2. Create the convex hull for those points.\n",
    "    \n",
    "3. Turn the hull into a GDF.\n",
    "    \n",
    "4. Plot the hull on top of the country.\n",
    "    \n",
    "</div>"
   ]
  },
  {
   "cell_type": "markdown",
   "id": "7caa0e58",
   "metadata": {},
   "source": [
    "<a class=\"anchor\" id=\"4\"></a>\n",
    "\n",
    "## Checking Validity of Geometry\n",
    "\n",
    "Geometries are created in a way that some issues may appear, especially in (multi) polygons.\n",
    "Let's check if our recent maps on states and municipalities are valid:"
   ]
  },
  {
   "cell_type": "code",
   "execution_count": null,
   "id": "3a27c1ca",
   "metadata": {},
   "outputs": [],
   "source": [
    "# non valid\n",
    "brazil_states_5641[~brazil_states_5641.is_valid]"
   ]
  },
  {
   "cell_type": "code",
   "execution_count": null,
   "id": "ee29926a",
   "metadata": {},
   "outputs": [],
   "source": [
    "# see the invalid:\n",
    "brazil_states_5641[~brazil_states_5641.is_valid].plot()"
   ]
  },
  {
   "cell_type": "markdown",
   "id": "735abaa5",
   "metadata": {},
   "source": [
    "It is difficult to see what is wrong. Let's get some information:"
   ]
  },
  {
   "cell_type": "code",
   "execution_count": null,
   "id": "7c6591e0",
   "metadata": {},
   "outputs": [],
   "source": [
    "# what is wrong?\n",
    "\n",
    "from shapely.validation import explain_validity, make_valid\n",
    "\n",
    "explain_validity(brazil_states_5641[~brazil_states_5641.is_valid].geometry)"
   ]
  },
  {
   "cell_type": "markdown",
   "id": "c6434deb",
   "metadata": {},
   "source": [
    "Let's solve the issue:"
   ]
  },
  {
   "cell_type": "code",
   "execution_count": null,
   "id": "5422044f",
   "metadata": {},
   "outputs": [],
   "source": [
    "BrSt5641_valid=brazil_states_5641[~brazil_states_5641.is_valid].copy()\n",
    "\n",
    "# solving the issue:\n",
    "BrSt5641_valid['geometry'] = [make_valid(row)  if not row.is_valid else row for row in BrSt5641_valid['geometry']]\n"
   ]
  },
  {
   "cell_type": "code",
   "execution_count": null,
   "id": "f1a0c230",
   "metadata": {},
   "outputs": [],
   "source": [
    "# any invalid?\n",
    "BrSt5641_valid[~BrSt5641_valid.is_valid]"
   ]
  },
  {
   "cell_type": "markdown",
   "id": "7bb8dfe8",
   "metadata": {},
   "source": [
    "What about the other geodataframe?"
   ]
  },
  {
   "cell_type": "code",
   "execution_count": null,
   "id": "aa01c0fc",
   "metadata": {},
   "outputs": [],
   "source": [
    "brazil_municipalities_5641[~brazil_municipalities_5641.is_valid]"
   ]
  },
  {
   "cell_type": "code",
   "execution_count": null,
   "id": "ac121cb1",
   "metadata": {},
   "outputs": [],
   "source": [
    "explain_validity(brazil_municipalities_5641[~brazil_municipalities_5641.is_valid].geometry)"
   ]
  },
  {
   "cell_type": "code",
   "execution_count": null,
   "id": "6d90a783",
   "metadata": {},
   "outputs": [],
   "source": [
    "# varieties?\n",
    "brazil_municipalities_5641['validity']=[x.split('[')[0] for x in brazil_municipalities_5641.geometry.apply(lambda x: explain_validity(x))]\n",
    "brazil_municipalities_5641['validity'].value_counts()"
   ]
  },
  {
   "cell_type": "code",
   "execution_count": null,
   "id": "d69f261b",
   "metadata": {},
   "outputs": [],
   "source": [
    "# solving the issue:\n",
    "brazil_municipalities_5641.drop(columns=['validity'],inplace=True)\n",
    "\n",
    "BrMun5641_valid=brazil_municipalities_5641.copy()\n",
    "\n",
    "BrMun5641_valid['geometry'] = [make_valid(row)  if not row.is_valid else row for row in BrMun5641_valid['geometry'] ]\n",
    "#any invalid?\n",
    "BrMun5641_valid[~BrMun5641_valid.is_valid]"
   ]
  },
  {
   "cell_type": "markdown",
   "id": "cfa45bcf",
   "metadata": {},
   "source": [
    "The _solution_ we got may help for some advanced techniques, but may also give us some extra trouble. Notice that once geopandas solved the problem, you  have created **collections**:"
   ]
  },
  {
   "cell_type": "code",
   "execution_count": null,
   "id": "bd3b43b7",
   "metadata": {},
   "outputs": [],
   "source": [
    "[x for x in BrMun5641_valid[\"geometry\"]]"
   ]
  },
  {
   "cell_type": "markdown",
   "id": "e82c035f",
   "metadata": {},
   "source": [
    "Let's not save these last changes."
   ]
  },
  {
   "cell_type": "markdown",
   "id": "9316dd59",
   "metadata": {},
   "source": [
    "### Exercise 7 \n",
    "\n",
    "<div class=\"alert-success\">\n",
    "\n",
    "1. Check if all your polygons are valid in every map you have (map of polygons only).\n",
    "    \n",
    "2. If you detect some invalid geometries, detect what the problem is.\n",
    "    \n",
    "3. Correct all cases. Do not save the results.\n",
    "    \n",
    "</div>"
   ]
  },
  {
   "cell_type": "code",
   "execution_count": null,
   "id": "7069f665",
   "metadata": {},
   "outputs": [],
   "source": []
  }
 ],
 "metadata": {
  "anaconda-cloud": {
   "attach-environment": true,
   "summary": "test"
  },
  "hide_input": false,
  "jupytext": {
   "cell_metadata_filter": "-all",
   "notebook_metadata_filter": "-all"
  },
  "kernelspec": {
   "display_name": "Python 3 (ipykernel)",
   "language": "python",
   "name": "python3"
  },
  "language_info": {
   "codemirror_mode": {
    "name": "ipython",
    "version": 3
   },
   "file_extension": ".py",
   "mimetype": "text/x-python",
   "name": "python",
   "nbconvert_exporter": "python",
   "pygments_lexer": "ipython3",
   "version": "3.11.0"
  },
  "toc-autonumbering": false
 },
 "nbformat": 4,
 "nbformat_minor": 5
}
