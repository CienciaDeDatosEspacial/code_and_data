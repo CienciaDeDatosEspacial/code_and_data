{
 "cells": [
  {
   "cell_type": "markdown",
   "metadata": {},
   "source": [
    "<center><img src=\"https://i.imgur.com/zRrFdsf.png\" width=\"700\"></center>"
   ]
  },
  {
   "cell_type": "markdown",
   "metadata": {},
   "source": [
    "# Data Cleaning\n",
    "\n",
    "\n",
    "Having data does not always allow you to produce some analytics right away. There is often a lot of pre processing to be done. \n",
    "\n",
    "This material is about **Cleaning**: making sure each cell has a value that could be used in your coming procedures. There are always some _impurities_ that do not allow the computer to recognize the data correctly, i.e. _commas_ instead of _periods_ and viceversa, the presence of unneeded _blanks_, irrelevant symbols (dollar, euro symbols), or non-standard symbols to represent missing values.\n",
    "\n",
    "I will use two approaches. The first one is the smart use of regular expressions (**regex**), and the second one a **divide and conquer** strategy."
   ]
  },
  {
   "cell_type": "markdown",
   "metadata": {},
   "source": [
    "# REGEX VERSUS DIVIDE AND CONQUER \n",
    "\n",
    "Imagine that you request the age people in an online form. Sometimes you run into answers with issues like these:\n",
    "\n",
    "- \"It is:24\"\n",
    "- \"It is: 44\"\n",
    "- \"It is54\"\n",
    "- \"64 it is\"\n",
    "- \"I am twenty\"\n",
    "- \"The 10th I turn 21\"\n",
    "- \"I am 15 years old\"\n",
    "- \"~20\""
   ]
  },
  {
   "cell_type": "markdown",
   "metadata": {},
   "source": [
    "From the above examples, you are interested in the _age_, nothing else. The first two cases are _relatively_ easy to solve with divide and conquer, as you see a character that helps:  "
   ]
  },
  {
   "cell_type": "code",
   "execution_count": null,
   "metadata": {},
   "outputs": [],
   "source": [
    "case1=\"It is:24\"\n",
    "case2=\"It is: 34\"\n",
    "# try 1\n",
    "case1.split(':')[1]"
   ]
  },
  {
   "cell_type": "code",
   "execution_count": null,
   "metadata": {},
   "outputs": [],
   "source": [
    "#try 2:\n",
    "case2.split(':')[1]"
   ]
  },
  {
   "cell_type": "markdown",
   "metadata": {},
   "source": [
    "Split broke the string using \":\" and produced a _list_.  The number will be the second element. However, in _case2_ you got an extra space. You need to think about a general rule, so maybe this is better:"
   ]
  },
  {
   "cell_type": "code",
   "execution_count": null,
   "metadata": {},
   "outputs": [],
   "source": [
    "case1.split(':')[1].strip()"
   ]
  },
  {
   "cell_type": "code",
   "execution_count": null,
   "metadata": {},
   "outputs": [],
   "source": [
    "case2.split(':')[1].strip()"
   ]
  },
  {
   "cell_type": "markdown",
   "metadata": {},
   "source": [
    "Using _strip()_ gets rid of the spaces around the string.  Notice _strip()_ and _split()_ are functions in **base Python**. Pandas has its **own** functions. \n",
    "\n",
    "You can use the divide and conquer as long as every string you find follows the same pattern. Imagine those values make a column in a data frame:"
   ]
  },
  {
   "cell_type": "code",
   "execution_count": null,
   "metadata": {},
   "outputs": [],
   "source": [
    "import pandas as pd\n",
    "\n",
    "ages=[\"It is:24\",\"It is: 44\",\"It is54\",\n",
    "      \"64 it is\",\"I am twenty\",\"The 10th I turn 21\",\n",
    "      \"I am 15 years old\",\"~20\"]\n",
    "\n",
    "someData=pd.DataFrame({'age':ages})\n",
    "someData"
   ]
  },
  {
   "cell_type": "markdown",
   "metadata": {},
   "source": [
    "Now, let's use Pandas **own** strip and split:"
   ]
  },
  {
   "cell_type": "code",
   "execution_count": null,
   "metadata": {},
   "outputs": [],
   "source": [
    "someData.age.str.split(':')"
   ]
  },
  {
   "cell_type": "markdown",
   "metadata": {},
   "source": [
    "Or alternatively:"
   ]
  },
  {
   "cell_type": "code",
   "execution_count": null,
   "metadata": {},
   "outputs": [],
   "source": [
    "someData.age.str.split(':',expand=True)"
   ]
  },
  {
   "cell_type": "markdown",
   "metadata": {},
   "source": [
    "Notice the use of _expand_. This allows that each element in the list goes to a column. However, as there is **no consistent pattern**, location of the symbol \":\", you do not get a good result. The situation requires the **REGEX** approach. \n",
    "\n",
    "Using regular expressions is a great way to go when there is no pattern to apply the previous strategy; however, it takes time to learn how to build a regular expression that will serve all your especific  needs in a particular situation.\n",
    "\n",
    "In general, you need to **explore** few *regex pattern*s before deciding what to use. I recommend using **contains()** for that:"
   ]
  },
  {
   "cell_type": "code",
   "execution_count": null,
   "metadata": {},
   "outputs": [],
   "source": [
    "# do each cell has a character that is not a number? (\\D)\n",
    "someData.age.str.contains(pat=r'\\D',\n",
    "                          regex=True)"
   ]
  },
  {
   "cell_type": "code",
   "execution_count": null,
   "metadata": {},
   "outputs": [],
   "source": [
    "# do each cell has a number character? (\\d)\n",
    "someData.age.str.contains(pat=r'\\d',regex=True)"
   ]
  },
  {
   "cell_type": "code",
   "execution_count": null,
   "metadata": {},
   "outputs": [],
   "source": [
    "# what is that cell?\n",
    "someData[~someData.age.str.contains(pat=r'\\d',regex=True)]"
   ]
  },
  {
   "cell_type": "code",
   "execution_count": null,
   "metadata": {},
   "outputs": [],
   "source": [
    "# is there a cell where you have \n",
    "# symbols beyond [^ ] alphanumeric (\\w) or spaces (\\s)?  \n",
    "someData.age[someData.age.str.contains(pat=r'[^\\w\\s]',regex=True)]"
   ]
  },
  {
   "cell_type": "code",
   "execution_count": null,
   "metadata": {},
   "outputs": [],
   "source": [
    "# what happens if I erase all non numbers (\\D)?\n",
    "someData.age.str.replace(pat=r'\\D',repl='',regex=True)"
   ]
  },
  {
   "cell_type": "code",
   "execution_count": null,
   "metadata": {},
   "outputs": [],
   "source": [
    "# what happens if I extract consecutive numeric characters (\\d+) ?\n",
    "someData.age.str.extract(pat=r'(\\d+)',expand=True)"
   ]
  },
  {
   "cell_type": "code",
   "execution_count": null,
   "metadata": {},
   "outputs": [],
   "source": [
    "# what happens if I erase all \n",
    "# numbers (\\d+) followed by a texts [[a-z]+] ?\n",
    "someData.age.str.replace(pat=r'\\d+[a-z]+',\n",
    "                         repl='',\n",
    "                         regex=True)"
   ]
  },
  {
   "cell_type": "code",
   "execution_count": null,
   "metadata": {},
   "outputs": [],
   "source": [
    "# so:\n",
    "someData.age.str.replace(pat=r'\\d+[a-z]+',\n",
    "                         repl='',\n",
    "                         regex=True).\\\n",
    "             str.extract(pat=r'(\\d+)',expand=True)"
   ]
  },
  {
   "cell_type": "code",
   "execution_count": null,
   "metadata": {},
   "outputs": [],
   "source": [
    "# using or '|'\n",
    "# ^ beginning of string\n",
    "# $ end of the string\n",
    "someData.age.str.extract(pat=r'(^\\d+|\\d+$|\\s\\d+\\s)',\n",
    "                         expand=True)"
   ]
  },
  {
   "cell_type": "markdown",
   "metadata": {},
   "source": [
    "Let me use both results:"
   ]
  },
  {
   "cell_type": "code",
   "execution_count": null,
   "metadata": {},
   "outputs": [],
   "source": [
    "someData['age1']=someData.age.str.replace(pat=r'\\d+[a-z]+',\n",
    "                                          repl='',\n",
    "                                          regex=True).\\\n",
    "                                str.extract(pat=r'(\\d+)',expand=True)\n",
    "\n",
    "someData['age2']=someData.age.str.extract(pat=r'(^\\d+|\\d+$|\\s\\d+\\s)',\n",
    "                         expand=True)"
   ]
  },
  {
   "cell_type": "code",
   "execution_count": null,
   "metadata": {},
   "outputs": [],
   "source": [
    "someData"
   ]
  },
  {
   "cell_type": "code",
   "execution_count": null,
   "metadata": {},
   "outputs": [],
   "source": [
    "someData.info()"
   ]
  },
  {
   "cell_type": "code",
   "execution_count": null,
   "metadata": {},
   "outputs": [],
   "source": [
    "someData['age1'].to_list()==someData['age2'].to_list()"
   ]
  },
  {
   "cell_type": "code",
   "execution_count": null,
   "metadata": {},
   "outputs": [],
   "source": [
    "someData['age1']==someData['age2']"
   ]
  },
  {
   "cell_type": "code",
   "execution_count": null,
   "metadata": {},
   "outputs": [],
   "source": [
    "set(someData['age1']) & set(someData['age2'])"
   ]
  },
  {
   "cell_type": "code",
   "execution_count": null,
   "metadata": {},
   "outputs": [],
   "source": [
    "set(someData['age1']) ^ set(someData['age2'])"
   ]
  },
  {
   "cell_type": "code",
   "execution_count": null,
   "metadata": {},
   "outputs": [],
   "source": [
    "someData['age1'].to_list()"
   ]
  },
  {
   "cell_type": "code",
   "execution_count": null,
   "metadata": {},
   "outputs": [],
   "source": [
    "someData['age2'].to_list()"
   ]
  },
  {
   "cell_type": "code",
   "execution_count": null,
   "metadata": {},
   "outputs": [],
   "source": [
    "someData['age2'].str.strip().to_list()"
   ]
  },
  {
   "cell_type": "markdown",
   "metadata": {},
   "source": [
    "## Exercise:"
   ]
  },
  {
   "cell_type": "markdown",
   "metadata": {},
   "source": [
    "The CIA has several indicators for world countries:\n",
    "\n",
    "- See [here](https://www.cia.gov/the-world-factbook/references/guide-to-country-comparisons).\n",
    "\n",
    "Review the topics related to cleaning discussed in class, and see what may be need to clean this indicator from the CIA:\n",
    "\n",
    "- [Carbon diocide emissions](https://www.cia.gov/the-world-factbook/field/carbon-dioxide-emissions/country-comparison)."
   ]
  },
  {
   "cell_type": "code",
   "execution_count": 1,
   "metadata": {},
   "outputs": [
    {
     "data": {
      "text/html": [
       "\n",
       "        <iframe\n",
       "            width=\"900\"\n",
       "            height=\"500\"\n",
       "            src=\"https://www.cia.gov/the-world-factbook/field/carbon-dioxide-emissions/country-comparison\"\n",
       "            frameborder=\"0\"\n",
       "            allowfullscreen\n",
       "            \n",
       "        ></iframe>\n",
       "        "
      ],
      "text/plain": [
       "<IPython.lib.display.IFrame at 0x10ccf5710>"
      ]
     },
     "execution_count": 1,
     "metadata": {},
     "output_type": "execute_result"
    }
   ],
   "source": [
    "from IPython.display import IFrame  \n",
    "ciaLink=\"https://www.cia.gov/the-world-factbook/field/carbon-dioxide-emissions/country-comparison\" \n",
    "IFrame(ciaLink, width=900, height=500)"
   ]
  },
  {
   "cell_type": "markdown",
   "metadata": {},
   "source": [
    "You  need to make sure you have installed:\n",
    "\n",
    "* pandas\n",
    "* html5lib\n",
    "* lxml\n",
    "* beautifulsoup4 (or bs4)\n",
    "\n",
    "You can use **pip show** to verify (for instance, _pip show pandas_). If you have all of them, run this code to get the data:"
   ]
  },
  {
   "cell_type": "code",
   "execution_count": 4,
   "metadata": {},
   "outputs": [],
   "source": [
    "# read web table into pandas DF\n",
    "import pandas as pd\n",
    "\n",
    "linkToFile='https://github.com/CienciaDeDatosEspacial/code_and_data/raw/0a313b2bccbf19b5612c2f59ff5798510c6a74d0/data/carbonEmi_downloaded.csv'\n",
    "carbon=pd.read_csv(linkToFile)"
   ]
  },
  {
   "cell_type": "code",
   "execution_count": 5,
   "metadata": {},
   "outputs": [
    {
     "data": {
      "text/html": [
       "<div>\n",
       "<style scoped>\n",
       "    .dataframe tbody tr th:only-of-type {\n",
       "        vertical-align: middle;\n",
       "    }\n",
       "\n",
       "    .dataframe tbody tr th {\n",
       "        vertical-align: top;\n",
       "    }\n",
       "\n",
       "    .dataframe thead th {\n",
       "        text-align: right;\n",
       "    }\n",
       "</style>\n",
       "<table border=\"1\" class=\"dataframe\">\n",
       "  <thead>\n",
       "    <tr style=\"text-align: right;\">\n",
       "      <th></th>\n",
       "      <th>name</th>\n",
       "      <th>slug</th>\n",
       "      <th>value</th>\n",
       "      <th>date_of_information</th>\n",
       "      <th>ranking</th>\n",
       "      <th>region</th>\n",
       "    </tr>\n",
       "  </thead>\n",
       "  <tbody>\n",
       "    <tr>\n",
       "      <th>0</th>\n",
       "      <td>China</td>\n",
       "      <td>china</td>\n",
       "      <td>10,773,248,000.0</td>\n",
       "      <td>2019 est.</td>\n",
       "      <td>1</td>\n",
       "      <td>East and Southeast Asia</td>\n",
       "    </tr>\n",
       "    <tr>\n",
       "      <th>1</th>\n",
       "      <td>United States</td>\n",
       "      <td>united-states</td>\n",
       "      <td>5,144,361,000.0</td>\n",
       "      <td>2019 est.</td>\n",
       "      <td>2</td>\n",
       "      <td>North America</td>\n",
       "    </tr>\n",
       "    <tr>\n",
       "      <th>2</th>\n",
       "      <td>India</td>\n",
       "      <td>india</td>\n",
       "      <td>2,314,738,000.0</td>\n",
       "      <td>2019 est.</td>\n",
       "      <td>3</td>\n",
       "      <td>South Asia</td>\n",
       "    </tr>\n",
       "    <tr>\n",
       "      <th>3</th>\n",
       "      <td>Russia</td>\n",
       "      <td>russia</td>\n",
       "      <td>1,848,070,000.0</td>\n",
       "      <td>2019 est.</td>\n",
       "      <td>4</td>\n",
       "      <td>Central Asia</td>\n",
       "    </tr>\n",
       "    <tr>\n",
       "      <th>4</th>\n",
       "      <td>Japan</td>\n",
       "      <td>japan</td>\n",
       "      <td>1,103,234,000.0</td>\n",
       "      <td>2019 est.</td>\n",
       "      <td>5</td>\n",
       "      <td>East and Southeast Asia</td>\n",
       "    </tr>\n",
       "    <tr>\n",
       "      <th>...</th>\n",
       "      <td>...</td>\n",
       "      <td>...</td>\n",
       "      <td>...</td>\n",
       "      <td>...</td>\n",
       "      <td>...</td>\n",
       "      <td>...</td>\n",
       "    </tr>\n",
       "    <tr>\n",
       "      <th>213</th>\n",
       "      <td>Antarctica</td>\n",
       "      <td>antarctica</td>\n",
       "      <td>28,000.0</td>\n",
       "      <td>2019 est.</td>\n",
       "      <td>214</td>\n",
       "      <td>Antarctica</td>\n",
       "    </tr>\n",
       "    <tr>\n",
       "      <th>214</th>\n",
       "      <td>Saint Helena, Ascension, and Tristan da Cunha</td>\n",
       "      <td>saint-helena-ascension-and-tristan-da-cunha</td>\n",
       "      <td>13,000.0</td>\n",
       "      <td>2019 est.</td>\n",
       "      <td>215</td>\n",
       "      <td>Africa</td>\n",
       "    </tr>\n",
       "    <tr>\n",
       "      <th>215</th>\n",
       "      <td>Niue</td>\n",
       "      <td>niue</td>\n",
       "      <td>8,000.0</td>\n",
       "      <td>2019 est.</td>\n",
       "      <td>216</td>\n",
       "      <td>Australia and Oceania</td>\n",
       "    </tr>\n",
       "    <tr>\n",
       "      <th>216</th>\n",
       "      <td>Northern Mariana Islands</td>\n",
       "      <td>northern-mariana-islands</td>\n",
       "      <td>0.0</td>\n",
       "      <td>2019 est.</td>\n",
       "      <td>217</td>\n",
       "      <td>Australia and Oceania</td>\n",
       "    </tr>\n",
       "    <tr>\n",
       "      <th>217</th>\n",
       "      <td>Tuvalu</td>\n",
       "      <td>tuvalu</td>\n",
       "      <td>0.0</td>\n",
       "      <td>2019 est.</td>\n",
       "      <td>218</td>\n",
       "      <td>Australia and Oceania</td>\n",
       "    </tr>\n",
       "  </tbody>\n",
       "</table>\n",
       "<p>218 rows × 6 columns</p>\n",
       "</div>"
      ],
      "text/plain": [
       "                                              name  \\\n",
       "0                                            China   \n",
       "1                                    United States   \n",
       "2                                            India   \n",
       "3                                           Russia   \n",
       "4                                            Japan   \n",
       "..                                             ...   \n",
       "213                                     Antarctica   \n",
       "214  Saint Helena, Ascension, and Tristan da Cunha   \n",
       "215                                           Niue   \n",
       "216                       Northern Mariana Islands   \n",
       "217                                         Tuvalu   \n",
       "\n",
       "                                            slug             value  \\\n",
       "0                                          china  10,773,248,000.0   \n",
       "1                                  united-states   5,144,361,000.0   \n",
       "2                                          india   2,314,738,000.0   \n",
       "3                                         russia   1,848,070,000.0   \n",
       "4                                          japan   1,103,234,000.0   \n",
       "..                                           ...               ...   \n",
       "213                                   antarctica          28,000.0   \n",
       "214  saint-helena-ascension-and-tristan-da-cunha          13,000.0   \n",
       "215                                         niue           8,000.0   \n",
       "216                     northern-mariana-islands               0.0   \n",
       "217                                       tuvalu               0.0   \n",
       "\n",
       "    date_of_information  ranking                   region  \n",
       "0             2019 est.        1  East and Southeast Asia  \n",
       "1             2019 est.        2            North America  \n",
       "2             2019 est.        3               South Asia  \n",
       "3             2019 est.        4             Central Asia  \n",
       "4             2019 est.        5  East and Southeast Asia  \n",
       "..                  ...      ...                      ...  \n",
       "213           2019 est.      214               Antarctica  \n",
       "214           2019 est.      215                   Africa  \n",
       "215           2019 est.      216    Australia and Oceania  \n",
       "216           2019 est.      217    Australia and Oceania  \n",
       "217           2019 est.      218    Australia and Oceania  \n",
       "\n",
       "[218 rows x 6 columns]"
      ]
     },
     "execution_count": 5,
     "metadata": {},
     "output_type": "execute_result"
    }
   ],
   "source": [
    "# here it is:\n",
    "carbon"
   ]
  },
  {
   "cell_type": "code",
   "execution_count": 7,
   "metadata": {},
   "outputs": [
    {
     "name": "stdout",
     "output_type": "stream",
     "text": [
      "<class 'pandas.core.frame.DataFrame'>\n",
      "RangeIndex: 218 entries, 0 to 217\n",
      "Data columns (total 6 columns):\n",
      " #   Column               Non-Null Count  Dtype \n",
      "---  ------               --------------  ----- \n",
      " 0   name                 218 non-null    object\n",
      " 1   slug                 218 non-null    object\n",
      " 2   value                218 non-null    object\n",
      " 3   date_of_information  218 non-null    object\n",
      " 4   ranking              218 non-null    int64 \n",
      " 5   region               218 non-null    object\n",
      "dtypes: int64(1), object(5)\n",
      "memory usage: 10.3+ KB\n"
     ]
    }
   ],
   "source": [
    "# also\n",
    "carbon.info()"
   ]
  },
  {
   "cell_type": "markdown",
   "metadata": {},
   "source": [
    "Complete the tasks requested:\n",
    "\n",
    "1. Keep the columns _name_, _value_, *date_of_information* and _region_.\n",
    "    * Tip: use [drop](https://pandas.pydata.org/docs/reference/api/pandas.DataFrame.drop.html), [loc](https://pandas.pydata.org/docs/reference/api/pandas.DataFrame.loc.html), and [iloc](https://pandas.pydata.org/docs/reference/api/pandas.DataFrame.iloc.html) for the same purpose (three ways to accomplish the task).\n",
    "2. Change the column name \"date_of_information\" to \"carbon_date\".\n",
    "    * Tip: Use [rename](https://pandas.pydata.org/docs/reference/api/pandas.DataFrame.rename.html).\n",
    "3. Make sure the cells with text does not have neither trailing nor leading spaces.\n",
    "    * Tip: use [strip](https://pandas.pydata.org/docs/reference/api/pandas.Series.str.strip.html).\n",
    "4. Get rid of the commas in the numeric values.\n",
    "    * Tip: use [replace](https://pandas.pydata.org/docs/reference/api/pandas.Series.replace.html).\n",
    "5. Keep only the year value in the column \"carbon_date\".\n",
    "    * Tip: use [extract](https://pandas.pydata.org/docs/reference/api/pandas.Series.str.extract.html).\n",
    "\n",
    "When all tasks are done, create a folder **data** inside the current folder and save the cleaned file like this:\n"
   ]
  },
  {
   "cell_type": "code",
   "execution_count": null,
   "metadata": {},
   "outputs": [],
   "source": [
    "#carbonCleaned.to_csv(\"carbonCleaned.csv\")"
   ]
  }
 ],
 "metadata": {
  "anaconda-cloud": {
   "attach-environment": true,
   "summary": "test"
  },
  "hide_input": false,
  "kernelspec": {
   "display_name": "Python 3 (ipykernel)",
   "language": "python",
   "name": "python3"
  },
  "language_info": {
   "codemirror_mode": {
    "name": "ipython",
    "version": 3
   },
   "file_extension": ".py",
   "mimetype": "text/x-python",
   "name": "python",
   "nbconvert_exporter": "python",
   "pygments_lexer": "ipython3",
   "version": "3.11.0"
  },
  "toc-autonumbering": false
 },
 "nbformat": 4,
 "nbformat_minor": 4
}
