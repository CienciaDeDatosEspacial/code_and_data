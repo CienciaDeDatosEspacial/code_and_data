{
 "cells": [
  {
   "cell_type": "markdown",
   "id": "5123f8d2",
   "metadata": {},
   "source": [
    "<center><img src=\"https://i.imgur.com/zRrFdsf.png\" width=\"700\"></center> \n",
    "\n",
    "_____\n"
   ]
  },
  {
   "cell_type": "markdown",
   "id": "2faf91d0",
   "metadata": {},
   "source": [
    "# Creating Functions"
   ]
  },
  {
   "cell_type": "code",
   "execution_count": 31,
   "id": "25cf5430",
   "metadata": {},
   "outputs": [
    {
     "name": "stdout",
     "output_type": "stream",
     "text": [
      "The rpy2.ipython extension is already loaded. To reload it, use:\n",
      "  %reload_ext rpy2.ipython\n"
     ]
    }
   ],
   "source": [
    "# for some cells to run R\n",
    "%load_ext rpy2.ipython "
   ]
  },
  {
   "cell_type": "markdown",
   "id": "f2b875f9",
   "metadata": {},
   "source": [
    "Functions in **Python** are created with **def**:"
   ]
  },
  {
   "cell_type": "code",
   "execution_count": 65,
   "id": "c1890be3",
   "metadata": {},
   "outputs": [],
   "source": [
    "# function name: 'commaToNumP1'\n",
    "\n",
    "def byCommaP1(some_String): # function input: 'xString'\n",
    "    import re              # locally calling a library (unavailable outside)\n",
    "    some_String_changed=re.sub(\",\",\"\",some_String) # substituting part of the string\n",
    "    someNumber=float(some_String_changed)          # converting previous result into a number type\n",
    "    return someNumber            # function output"
   ]
  },
  {
   "cell_type": "code",
   "execution_count": 66,
   "id": "d9343306",
   "metadata": {},
   "outputs": [
    {
     "data": {
      "text/plain": [
       "1200.0"
      ]
     },
     "execution_count": 66,
     "metadata": {},
     "output_type": "execute_result"
    }
   ],
   "source": [
    "# use function name, and input a string\n",
    "byCommaP1(\"1,200\")"
   ]
  },
  {
   "cell_type": "markdown",
   "id": "0e67d85b",
   "metadata": {},
   "source": [
    "When functions are very simple, you may use the **lambda style**:"
   ]
  },
  {
   "cell_type": "code",
   "execution_count": 67,
   "id": "97f95e82",
   "metadata": {},
   "outputs": [
    {
     "data": {
      "text/plain": [
       "1250.9"
      ]
     },
     "execution_count": 67,
     "metadata": {},
     "output_type": "execute_result"
    }
   ],
   "source": [
    "import re\n",
    "\n",
    "byCommaP2=lambda some_String:float(re.sub(\",\",\"\",some_String))\n",
    "\n",
    "byCommaP2('1,250.9')"
   ]
  },
  {
   "cell_type": "markdown",
   "id": "8dbfe993",
   "metadata": {},
   "source": [
    "Functions in **R** are created with **function**:"
   ]
  },
  {
   "cell_type": "code",
   "execution_count": 68,
   "id": "dbb66438",
   "metadata": {},
   "outputs": [],
   "source": [
    "%%R\n",
    "byCommaR=function(some_String){\n",
    "some_String_changed=gsub(\",\",\"\",some_String)\n",
    "someNumber=as.numeric(some_String_changed)\n",
    "return (someNumber)\n",
    "}"
   ]
  },
  {
   "cell_type": "code",
   "execution_count": 69,
   "id": "fdb812dc",
   "metadata": {},
   "outputs": [
    {
     "name": "stdout",
     "output_type": "stream",
     "text": [
      "[1] 2400\n"
     ]
    }
   ],
   "source": [
    "%%R\n",
    "byCommaR('2,400')"
   ]
  },
  {
   "cell_type": "markdown",
   "id": "439119e6",
   "metadata": {},
   "source": [
    "# Applying Functions to data simple structures\n",
    "\n",
    "Most of the time, you need that the function be applied to several values. Let's use the previously defined **byCommaP2** function:"
   ]
  },
  {
   "cell_type": "code",
   "execution_count": 70,
   "id": "4af69ee5",
   "metadata": {},
   "outputs": [
    {
     "ename": "TypeError",
     "evalue": "expected string or bytes-like object, got 'list'",
     "output_type": "error",
     "traceback": [
      "\u001b[0;31m---------------------------------------------------------------------------\u001b[0m",
      "\u001b[0;31mTypeError\u001b[0m                                 Traceback (most recent call last)",
      "Cell \u001b[0;32mIn[70], line 3\u001b[0m\n\u001b[1;32m      1\u001b[0m \u001b[38;5;66;03m# convert values in a list\u001b[39;00m\n\u001b[1;32m      2\u001b[0m valuesInList\u001b[38;5;241m=\u001b[39m[\u001b[38;5;124m'\u001b[39m\u001b[38;5;124m1\u001b[39m\u001b[38;5;124m'\u001b[39m,\u001b[38;5;124m'\u001b[39m\u001b[38;5;124m2\u001b[39m\u001b[38;5;124m'\u001b[39m,\u001b[38;5;124m'\u001b[39m\u001b[38;5;124m3\u001b[39m\u001b[38;5;124m'\u001b[39m,\u001b[38;5;124m'\u001b[39m\u001b[38;5;124m5,500\u001b[39m\u001b[38;5;124m'\u001b[39m]\n\u001b[0;32m----> 3\u001b[0m \u001b[43mcommaToDotP2\u001b[49m\u001b[43m(\u001b[49m\u001b[43mvaluesInList\u001b[49m\u001b[43m)\u001b[49m\n",
      "Cell \u001b[0;32mIn[67], line 3\u001b[0m, in \u001b[0;36m<lambda>\u001b[0;34m(some_String)\u001b[0m\n\u001b[1;32m      1\u001b[0m \u001b[38;5;28;01mimport\u001b[39;00m \u001b[38;5;21;01mre\u001b[39;00m\n\u001b[0;32m----> 3\u001b[0m commaToDotP2\u001b[38;5;241m=\u001b[39m\u001b[38;5;28;01mlambda\u001b[39;00m some_String:\u001b[38;5;28mfloat\u001b[39m(\u001b[43mre\u001b[49m\u001b[38;5;241;43m.\u001b[39;49m\u001b[43msub\u001b[49m\u001b[43m(\u001b[49m\u001b[38;5;124;43m\"\u001b[39;49m\u001b[38;5;124;43m,\u001b[39;49m\u001b[38;5;124;43m\"\u001b[39;49m\u001b[43m,\u001b[49m\u001b[38;5;124;43m\"\u001b[39;49m\u001b[38;5;124;43m\"\u001b[39;49m\u001b[43m,\u001b[49m\u001b[43msome_String\u001b[49m\u001b[43m)\u001b[49m)\n\u001b[1;32m      5\u001b[0m commaToDotP2(\u001b[38;5;124m'\u001b[39m\u001b[38;5;124m1,250.9\u001b[39m\u001b[38;5;124m'\u001b[39m)\n",
      "File \u001b[0;32m~/opt/anaconda3/envs/Spatial_DS_3_11/lib/python3.11/re/__init__.py:185\u001b[0m, in \u001b[0;36msub\u001b[0;34m(pattern, repl, string, count, flags)\u001b[0m\n\u001b[1;32m    178\u001b[0m \u001b[38;5;28;01mdef\u001b[39;00m \u001b[38;5;21msub\u001b[39m(pattern, repl, string, count\u001b[38;5;241m=\u001b[39m\u001b[38;5;241m0\u001b[39m, flags\u001b[38;5;241m=\u001b[39m\u001b[38;5;241m0\u001b[39m):\n\u001b[1;32m    179\u001b[0m \u001b[38;5;250m    \u001b[39m\u001b[38;5;124;03m\"\"\"Return the string obtained by replacing the leftmost\u001b[39;00m\n\u001b[1;32m    180\u001b[0m \u001b[38;5;124;03m    non-overlapping occurrences of the pattern in string by the\u001b[39;00m\n\u001b[1;32m    181\u001b[0m \u001b[38;5;124;03m    replacement repl.  repl can be either a string or a callable;\u001b[39;00m\n\u001b[1;32m    182\u001b[0m \u001b[38;5;124;03m    if a string, backslash escapes in it are processed.  If it is\u001b[39;00m\n\u001b[1;32m    183\u001b[0m \u001b[38;5;124;03m    a callable, it's passed the Match object and must return\u001b[39;00m\n\u001b[1;32m    184\u001b[0m \u001b[38;5;124;03m    a replacement string to be used.\"\"\"\u001b[39;00m\n\u001b[0;32m--> 185\u001b[0m     \u001b[38;5;28;01mreturn\u001b[39;00m \u001b[43m_compile\u001b[49m\u001b[43m(\u001b[49m\u001b[43mpattern\u001b[49m\u001b[43m,\u001b[49m\u001b[43m \u001b[49m\u001b[43mflags\u001b[49m\u001b[43m)\u001b[49m\u001b[38;5;241;43m.\u001b[39;49m\u001b[43msub\u001b[49m\u001b[43m(\u001b[49m\u001b[43mrepl\u001b[49m\u001b[43m,\u001b[49m\u001b[43m \u001b[49m\u001b[43mstring\u001b[49m\u001b[43m,\u001b[49m\u001b[43m \u001b[49m\u001b[43mcount\u001b[49m\u001b[43m)\u001b[49m\n",
      "\u001b[0;31mTypeError\u001b[0m: expected string or bytes-like object, got 'list'"
     ]
    }
   ],
   "source": [
    "# convert values in a list\n",
    "valuesInList=['1','2','3','5,500']\n",
    "byCommaP2(valuesInList)"
   ]
  },
  {
   "cell_type": "code",
   "execution_count": 71,
   "id": "ea62c1a1",
   "metadata": {},
   "outputs": [
    {
     "data": {
      "text/plain": [
       "[1.0, 2.0, 3.0, 5500.0]"
      ]
     },
     "execution_count": 71,
     "metadata": {},
     "output_type": "execute_result"
    }
   ],
   "source": [
    "# traverse the list\n",
    "[byCommaP2(x) for x in valuesInList]"
   ]
  },
  {
   "cell_type": "code",
   "execution_count": 72,
   "id": "25caafa9",
   "metadata": {},
   "outputs": [
    {
     "data": {
      "text/plain": [
       "[1.0, 2.0, 3.0, 5500.0]"
      ]
     },
     "execution_count": 72,
     "metadata": {},
     "output_type": "execute_result"
    }
   ],
   "source": [
    "# apply function to list\n",
    "list(map(byCommaP2,valuesInList))"
   ]
  },
  {
   "cell_type": "markdown",
   "id": "803916e5",
   "metadata": {},
   "source": [
    "It is very similar in R: "
   ]
  },
  {
   "cell_type": "code",
   "execution_count": 73,
   "id": "4ceb0a3c",
   "metadata": {},
   "outputs": [],
   "source": [
    "%%R\n",
    "valuesInList=list('1','2','3','5,500')"
   ]
  },
  {
   "cell_type": "markdown",
   "id": "298a3fa3",
   "metadata": {},
   "source": [
    "Notice that R applies the function to a data structure with no error nor warning:"
   ]
  },
  {
   "cell_type": "code",
   "execution_count": 74,
   "id": "538123db",
   "metadata": {},
   "outputs": [
    {
     "name": "stdout",
     "output_type": "stream",
     "text": [
      "[1]    1    2    3 5500\n"
     ]
    }
   ],
   "source": [
    "%%R\n",
    "byCommaR(valuesInList)"
   ]
  },
  {
   "cell_type": "markdown",
   "id": "fc80e7e4",
   "metadata": {},
   "source": [
    "# Applying Functions to Data Frames\n"
   ]
  },
  {
   "cell_type": "code",
   "execution_count": 99,
   "id": "267d6181",
   "metadata": {},
   "outputs": [
    {
     "data": {
      "text/html": [
       "<div>\n",
       "<style scoped>\n",
       "    .dataframe tbody tr th:only-of-type {\n",
       "        vertical-align: middle;\n",
       "    }\n",
       "\n",
       "    .dataframe tbody tr th {\n",
       "        vertical-align: top;\n",
       "    }\n",
       "\n",
       "    .dataframe thead th {\n",
       "        text-align: right;\n",
       "    }\n",
       "</style>\n",
       "<table border=\"1\" class=\"dataframe\">\n",
       "  <thead>\n",
       "    <tr style=\"text-align: right;\">\n",
       "      <th></th>\n",
       "      <th>code</th>\n",
       "      <th>measure1</th>\n",
       "      <th>measure2</th>\n",
       "    </tr>\n",
       "  </thead>\n",
       "  <tbody>\n",
       "    <tr>\n",
       "      <th>0</th>\n",
       "      <td>a1</td>\n",
       "      <td>12,1</td>\n",
       "      <td>28,31</td>\n",
       "    </tr>\n",
       "    <tr>\n",
       "      <th>1</th>\n",
       "      <td>a2</td>\n",
       "      <td>13,3</td>\n",
       "      <td>31,12</td>\n",
       "    </tr>\n",
       "    <tr>\n",
       "      <th>2</th>\n",
       "      <td>a3</td>\n",
       "      <td>11,1</td>\n",
       "      <td>25,97</td>\n",
       "    </tr>\n",
       "    <tr>\n",
       "      <th>3</th>\n",
       "      <td>a4</td>\n",
       "      <td>10,5</td>\n",
       "      <td>24,57</td>\n",
       "    </tr>\n",
       "    <tr>\n",
       "      <th>4</th>\n",
       "      <td>a5</td>\n",
       "      <td>15,66</td>\n",
       "      <td>36,64</td>\n",
       "    </tr>\n",
       "    <tr>\n",
       "      <th>5</th>\n",
       "      <td>a6</td>\n",
       "      <td>13,2</td>\n",
       "      <td>30,89</td>\n",
       "    </tr>\n",
       "    <tr>\n",
       "      <th>6</th>\n",
       "      <td>a7</td>\n",
       "      <td>12,2</td>\n",
       "      <td>28,55</td>\n",
       "    </tr>\n",
       "    <tr>\n",
       "      <th>7</th>\n",
       "      <td>a8</td>\n",
       "      <td>13,01</td>\n",
       "      <td>30,44</td>\n",
       "    </tr>\n",
       "    <tr>\n",
       "      <th>8</th>\n",
       "      <td>a9</td>\n",
       "      <td>13,44</td>\n",
       "      <td>31,45</td>\n",
       "    </tr>\n",
       "    <tr>\n",
       "      <th>9</th>\n",
       "      <td>a10</td>\n",
       "      <td>14,65</td>\n",
       "      <td>34,28</td>\n",
       "    </tr>\n",
       "    <tr>\n",
       "      <th>10</th>\n",
       "      <td>a11</td>\n",
       "      <td>15,5</td>\n",
       "      <td>36,27</td>\n",
       "    </tr>\n",
       "    <tr>\n",
       "      <th>11</th>\n",
       "      <td>a12</td>\n",
       "      <td>10,3</td>\n",
       "      <td>24,1</td>\n",
       "    </tr>\n",
       "    <tr>\n",
       "      <th>12</th>\n",
       "      <td>a13</td>\n",
       "      <td>10,44</td>\n",
       "      <td>24,43</td>\n",
       "    </tr>\n",
       "    <tr>\n",
       "      <th>13</th>\n",
       "      <td>a14</td>\n",
       "      <td>11,4</td>\n",
       "      <td>26,68</td>\n",
       "    </tr>\n",
       "  </tbody>\n",
       "</table>\n",
       "</div>"
      ],
      "text/plain": [
       "   code measure1 measure2\n",
       "0    a1     12,1    28,31\n",
       "1    a2     13,3    31,12\n",
       "2    a3     11,1    25,97\n",
       "3    a4     10,5    24,57\n",
       "4    a5    15,66    36,64\n",
       "5    a6     13,2    30,89\n",
       "6    a7     12,2    28,55\n",
       "7    a8    13,01    30,44\n",
       "8    a9    13,44    31,45\n",
       "9   a10    14,65    34,28\n",
       "10  a11     15,5    36,27\n",
       "11  a12     10,3     24,1\n",
       "12  a13    10,44    24,43\n",
       "13  a14     11,4    26,68"
      ]
     },
     "execution_count": 99,
     "metadata": {},
     "output_type": "execute_result"
    }
   ],
   "source": [
    "import pandas as pd\n",
    "\n",
    "linkGH=\"https://github.com/CienciaDeDatosEspacial/code_and_data/raw/main/data/dataFrame_example.csv\"\n",
    "testDataP=pd.read_csv(linkGH)\n",
    "testDataP"
   ]
  },
  {
   "cell_type": "code",
   "execution_count": 76,
   "id": "99da5359",
   "metadata": {},
   "outputs": [
    {
     "name": "stdout",
     "output_type": "stream",
     "text": [
      "<class 'pandas.core.frame.DataFrame'>\n",
      "RangeIndex: 14 entries, 0 to 13\n",
      "Data columns (total 3 columns):\n",
      " #   Column    Non-Null Count  Dtype \n",
      "---  ------    --------------  ----- \n",
      " 0   code      14 non-null     object\n",
      " 1   measure1  14 non-null     object\n",
      " 2   measure2  14 non-null     object\n",
      "dtypes: object(3)\n",
      "memory usage: 464.0+ bytes\n"
     ]
    }
   ],
   "source": [
    "testDataP.info()"
   ]
  },
  {
   "cell_type": "markdown",
   "id": "bea09265",
   "metadata": {},
   "source": [
    "Here, we need something different:"
   ]
  },
  {
   "cell_type": "code",
   "execution_count": 101,
   "id": "dfbcf479",
   "metadata": {},
   "outputs": [],
   "source": [
    "commaToDot=lambda some_String:float(re.sub(\",\",\".\",some_String))"
   ]
  },
  {
   "cell_type": "code",
   "execution_count": 102,
   "id": "c3463f08",
   "metadata": {},
   "outputs": [
    {
     "ename": "TypeError",
     "evalue": "expected string or bytes-like object, got 'Series'",
     "output_type": "error",
     "traceback": [
      "\u001b[0;31m---------------------------------------------------------------------------\u001b[0m",
      "\u001b[0;31mTypeError\u001b[0m                                 Traceback (most recent call last)",
      "Cell \u001b[0;32mIn[102], line 3\u001b[0m\n\u001b[1;32m      1\u001b[0m \u001b[38;5;66;03m#would this work?\u001b[39;00m\n\u001b[0;32m----> 3\u001b[0m \u001b[43mcommaToDot\u001b[49m\u001b[43m(\u001b[49m\u001b[43mtestDataP\u001b[49m\u001b[38;5;241;43m.\u001b[39;49m\u001b[43mmeasure1\u001b[49m\u001b[43m)\u001b[49m\n",
      "Cell \u001b[0;32mIn[101], line 1\u001b[0m, in \u001b[0;36m<lambda>\u001b[0;34m(some_String)\u001b[0m\n\u001b[0;32m----> 1\u001b[0m commaToDot\u001b[38;5;241m=\u001b[39m\u001b[38;5;28;01mlambda\u001b[39;00m some_String:\u001b[38;5;28mfloat\u001b[39m(\u001b[43mre\u001b[49m\u001b[38;5;241;43m.\u001b[39;49m\u001b[43msub\u001b[49m\u001b[43m(\u001b[49m\u001b[38;5;124;43m\"\u001b[39;49m\u001b[38;5;124;43m,\u001b[39;49m\u001b[38;5;124;43m\"\u001b[39;49m\u001b[43m,\u001b[49m\u001b[38;5;124;43m\"\u001b[39;49m\u001b[38;5;124;43m.\u001b[39;49m\u001b[38;5;124;43m\"\u001b[39;49m\u001b[43m,\u001b[49m\u001b[43msome_String\u001b[49m\u001b[43m)\u001b[49m)\n",
      "File \u001b[0;32m~/opt/anaconda3/envs/Spatial_DS_3_11/lib/python3.11/re/__init__.py:185\u001b[0m, in \u001b[0;36msub\u001b[0;34m(pattern, repl, string, count, flags)\u001b[0m\n\u001b[1;32m    178\u001b[0m \u001b[38;5;28;01mdef\u001b[39;00m \u001b[38;5;21msub\u001b[39m(pattern, repl, string, count\u001b[38;5;241m=\u001b[39m\u001b[38;5;241m0\u001b[39m, flags\u001b[38;5;241m=\u001b[39m\u001b[38;5;241m0\u001b[39m):\n\u001b[1;32m    179\u001b[0m \u001b[38;5;250m    \u001b[39m\u001b[38;5;124;03m\"\"\"Return the string obtained by replacing the leftmost\u001b[39;00m\n\u001b[1;32m    180\u001b[0m \u001b[38;5;124;03m    non-overlapping occurrences of the pattern in string by the\u001b[39;00m\n\u001b[1;32m    181\u001b[0m \u001b[38;5;124;03m    replacement repl.  repl can be either a string or a callable;\u001b[39;00m\n\u001b[1;32m    182\u001b[0m \u001b[38;5;124;03m    if a string, backslash escapes in it are processed.  If it is\u001b[39;00m\n\u001b[1;32m    183\u001b[0m \u001b[38;5;124;03m    a callable, it's passed the Match object and must return\u001b[39;00m\n\u001b[1;32m    184\u001b[0m \u001b[38;5;124;03m    a replacement string to be used.\"\"\"\u001b[39;00m\n\u001b[0;32m--> 185\u001b[0m     \u001b[38;5;28;01mreturn\u001b[39;00m \u001b[43m_compile\u001b[49m\u001b[43m(\u001b[49m\u001b[43mpattern\u001b[49m\u001b[43m,\u001b[49m\u001b[43m \u001b[49m\u001b[43mflags\u001b[49m\u001b[43m)\u001b[49m\u001b[38;5;241;43m.\u001b[39;49m\u001b[43msub\u001b[49m\u001b[43m(\u001b[49m\u001b[43mrepl\u001b[49m\u001b[43m,\u001b[49m\u001b[43m \u001b[49m\u001b[43mstring\u001b[49m\u001b[43m,\u001b[49m\u001b[43m \u001b[49m\u001b[43mcount\u001b[49m\u001b[43m)\u001b[49m\n",
      "\u001b[0;31mTypeError\u001b[0m: expected string or bytes-like object, got 'Series'"
     ]
    }
   ],
   "source": [
    "#would this work?\n",
    "\n",
    "commaToDot(testDataP.measure1)"
   ]
  },
  {
   "cell_type": "markdown",
   "id": "9d6e0f50",
   "metadata": {},
   "source": [
    "Let's apply the function to one column:"
   ]
  },
  {
   "cell_type": "code",
   "execution_count": 103,
   "id": "61b320ce",
   "metadata": {},
   "outputs": [
    {
     "data": {
      "text/plain": [
       "0     12.10\n",
       "1     13.30\n",
       "2     11.10\n",
       "3     10.50\n",
       "4     15.66\n",
       "5     13.20\n",
       "6     12.20\n",
       "7     13.01\n",
       "8     13.44\n",
       "9     14.65\n",
       "10    15.50\n",
       "11    10.30\n",
       "12    10.44\n",
       "13    11.40\n",
       "Name: measure1, dtype: float64"
      ]
     },
     "execution_count": 103,
     "metadata": {},
     "output_type": "execute_result"
    }
   ],
   "source": [
    "testDataP.measure1.apply(commaToDot) # 'apply' belongs to 'pandas'"
   ]
  },
  {
   "cell_type": "markdown",
   "id": "136bda31",
   "metadata": {},
   "source": [
    "Now, apply it to two columns:"
   ]
  },
  {
   "cell_type": "code",
   "execution_count": 104,
   "id": "eea2e9cb",
   "metadata": {},
   "outputs": [
    {
     "ename": "TypeError",
     "evalue": "expected string or bytes-like object, got 'Series'",
     "output_type": "error",
     "traceback": [
      "\u001b[0;31m---------------------------------------------------------------------------\u001b[0m",
      "\u001b[0;31mTypeError\u001b[0m                                 Traceback (most recent call last)",
      "Cell \u001b[0;32mIn[104], line 1\u001b[0m\n\u001b[0;32m----> 1\u001b[0m \u001b[43mtestDataP\u001b[49m\u001b[38;5;241;43m.\u001b[39;49m\u001b[43mloc\u001b[49m\u001b[43m[\u001b[49m\u001b[43m:\u001b[49m\u001b[43m,\u001b[49m\u001b[43m[\u001b[49m\u001b[38;5;124;43m'\u001b[39;49m\u001b[38;5;124;43mmeasure1\u001b[39;49m\u001b[38;5;124;43m'\u001b[39;49m\u001b[43m,\u001b[49m\u001b[38;5;124;43m'\u001b[39;49m\u001b[38;5;124;43mmeasure2\u001b[39;49m\u001b[38;5;124;43m'\u001b[39;49m\u001b[43m]\u001b[49m\u001b[43m]\u001b[49m\u001b[38;5;241;43m.\u001b[39;49m\u001b[43mapply\u001b[49m\u001b[43m(\u001b[49m\u001b[43mcommaToDot\u001b[49m\u001b[43m)\u001b[49m\n",
      "File \u001b[0;32m~/opt/anaconda3/envs/Spatial_DS_3_11/lib/python3.11/site-packages/pandas/core/frame.py:9568\u001b[0m, in \u001b[0;36mDataFrame.apply\u001b[0;34m(self, func, axis, raw, result_type, args, **kwargs)\u001b[0m\n\u001b[1;32m   9557\u001b[0m \u001b[38;5;28;01mfrom\u001b[39;00m \u001b[38;5;21;01mpandas\u001b[39;00m\u001b[38;5;21;01m.\u001b[39;00m\u001b[38;5;21;01mcore\u001b[39;00m\u001b[38;5;21;01m.\u001b[39;00m\u001b[38;5;21;01mapply\u001b[39;00m \u001b[38;5;28;01mimport\u001b[39;00m frame_apply\n\u001b[1;32m   9559\u001b[0m op \u001b[38;5;241m=\u001b[39m frame_apply(\n\u001b[1;32m   9560\u001b[0m     \u001b[38;5;28mself\u001b[39m,\n\u001b[1;32m   9561\u001b[0m     func\u001b[38;5;241m=\u001b[39mfunc,\n\u001b[0;32m   (...)\u001b[0m\n\u001b[1;32m   9566\u001b[0m     kwargs\u001b[38;5;241m=\u001b[39mkwargs,\n\u001b[1;32m   9567\u001b[0m )\n\u001b[0;32m-> 9568\u001b[0m \u001b[38;5;28;01mreturn\u001b[39;00m \u001b[43mop\u001b[49m\u001b[38;5;241;43m.\u001b[39;49m\u001b[43mapply\u001b[49m\u001b[43m(\u001b[49m\u001b[43m)\u001b[49m\u001b[38;5;241m.\u001b[39m__finalize__(\u001b[38;5;28mself\u001b[39m, method\u001b[38;5;241m=\u001b[39m\u001b[38;5;124m\"\u001b[39m\u001b[38;5;124mapply\u001b[39m\u001b[38;5;124m\"\u001b[39m)\n",
      "File \u001b[0;32m~/opt/anaconda3/envs/Spatial_DS_3_11/lib/python3.11/site-packages/pandas/core/apply.py:764\u001b[0m, in \u001b[0;36mFrameApply.apply\u001b[0;34m(self)\u001b[0m\n\u001b[1;32m    761\u001b[0m \u001b[38;5;28;01melif\u001b[39;00m \u001b[38;5;28mself\u001b[39m\u001b[38;5;241m.\u001b[39mraw:\n\u001b[1;32m    762\u001b[0m     \u001b[38;5;28;01mreturn\u001b[39;00m \u001b[38;5;28mself\u001b[39m\u001b[38;5;241m.\u001b[39mapply_raw()\n\u001b[0;32m--> 764\u001b[0m \u001b[38;5;28;01mreturn\u001b[39;00m \u001b[38;5;28;43mself\u001b[39;49m\u001b[38;5;241;43m.\u001b[39;49m\u001b[43mapply_standard\u001b[49m\u001b[43m(\u001b[49m\u001b[43m)\u001b[49m\n",
      "File \u001b[0;32m~/opt/anaconda3/envs/Spatial_DS_3_11/lib/python3.11/site-packages/pandas/core/apply.py:891\u001b[0m, in \u001b[0;36mFrameApply.apply_standard\u001b[0;34m(self)\u001b[0m\n\u001b[1;32m    890\u001b[0m \u001b[38;5;28;01mdef\u001b[39;00m \u001b[38;5;21mapply_standard\u001b[39m(\u001b[38;5;28mself\u001b[39m):\n\u001b[0;32m--> 891\u001b[0m     results, res_index \u001b[38;5;241m=\u001b[39m \u001b[38;5;28;43mself\u001b[39;49m\u001b[38;5;241;43m.\u001b[39;49m\u001b[43mapply_series_generator\u001b[49m\u001b[43m(\u001b[49m\u001b[43m)\u001b[49m\n\u001b[1;32m    893\u001b[0m     \u001b[38;5;66;03m# wrap results\u001b[39;00m\n\u001b[1;32m    894\u001b[0m     \u001b[38;5;28;01mreturn\u001b[39;00m \u001b[38;5;28mself\u001b[39m\u001b[38;5;241m.\u001b[39mwrap_results(results, res_index)\n",
      "File \u001b[0;32m~/opt/anaconda3/envs/Spatial_DS_3_11/lib/python3.11/site-packages/pandas/core/apply.py:907\u001b[0m, in \u001b[0;36mFrameApply.apply_series_generator\u001b[0;34m(self)\u001b[0m\n\u001b[1;32m    904\u001b[0m \u001b[38;5;28;01mwith\u001b[39;00m option_context(\u001b[38;5;124m\"\u001b[39m\u001b[38;5;124mmode.chained_assignment\u001b[39m\u001b[38;5;124m\"\u001b[39m, \u001b[38;5;28;01mNone\u001b[39;00m):\n\u001b[1;32m    905\u001b[0m     \u001b[38;5;28;01mfor\u001b[39;00m i, v \u001b[38;5;129;01min\u001b[39;00m \u001b[38;5;28menumerate\u001b[39m(series_gen):\n\u001b[1;32m    906\u001b[0m         \u001b[38;5;66;03m# ignore SettingWithCopy here in case the user mutates\u001b[39;00m\n\u001b[0;32m--> 907\u001b[0m         results[i] \u001b[38;5;241m=\u001b[39m \u001b[38;5;28;43mself\u001b[39;49m\u001b[38;5;241;43m.\u001b[39;49m\u001b[43mf\u001b[49m\u001b[43m(\u001b[49m\u001b[43mv\u001b[49m\u001b[43m)\u001b[49m\n\u001b[1;32m    908\u001b[0m         \u001b[38;5;28;01mif\u001b[39;00m \u001b[38;5;28misinstance\u001b[39m(results[i], ABCSeries):\n\u001b[1;32m    909\u001b[0m             \u001b[38;5;66;03m# If we have a view on v, we need to make a copy because\u001b[39;00m\n\u001b[1;32m    910\u001b[0m             \u001b[38;5;66;03m#  series_generator will swap out the underlying data\u001b[39;00m\n\u001b[1;32m    911\u001b[0m             results[i] \u001b[38;5;241m=\u001b[39m results[i]\u001b[38;5;241m.\u001b[39mcopy(deep\u001b[38;5;241m=\u001b[39m\u001b[38;5;28;01mFalse\u001b[39;00m)\n",
      "Cell \u001b[0;32mIn[101], line 1\u001b[0m, in \u001b[0;36m<lambda>\u001b[0;34m(some_String)\u001b[0m\n\u001b[0;32m----> 1\u001b[0m commaToDot\u001b[38;5;241m=\u001b[39m\u001b[38;5;28;01mlambda\u001b[39;00m some_String:\u001b[38;5;28mfloat\u001b[39m(\u001b[43mre\u001b[49m\u001b[38;5;241;43m.\u001b[39;49m\u001b[43msub\u001b[49m\u001b[43m(\u001b[49m\u001b[38;5;124;43m\"\u001b[39;49m\u001b[38;5;124;43m,\u001b[39;49m\u001b[38;5;124;43m\"\u001b[39;49m\u001b[43m,\u001b[49m\u001b[38;5;124;43m\"\u001b[39;49m\u001b[38;5;124;43m.\u001b[39;49m\u001b[38;5;124;43m\"\u001b[39;49m\u001b[43m,\u001b[49m\u001b[43msome_String\u001b[49m\u001b[43m)\u001b[49m)\n",
      "File \u001b[0;32m~/opt/anaconda3/envs/Spatial_DS_3_11/lib/python3.11/re/__init__.py:185\u001b[0m, in \u001b[0;36msub\u001b[0;34m(pattern, repl, string, count, flags)\u001b[0m\n\u001b[1;32m    178\u001b[0m \u001b[38;5;28;01mdef\u001b[39;00m \u001b[38;5;21msub\u001b[39m(pattern, repl, string, count\u001b[38;5;241m=\u001b[39m\u001b[38;5;241m0\u001b[39m, flags\u001b[38;5;241m=\u001b[39m\u001b[38;5;241m0\u001b[39m):\n\u001b[1;32m    179\u001b[0m \u001b[38;5;250m    \u001b[39m\u001b[38;5;124;03m\"\"\"Return the string obtained by replacing the leftmost\u001b[39;00m\n\u001b[1;32m    180\u001b[0m \u001b[38;5;124;03m    non-overlapping occurrences of the pattern in string by the\u001b[39;00m\n\u001b[1;32m    181\u001b[0m \u001b[38;5;124;03m    replacement repl.  repl can be either a string or a callable;\u001b[39;00m\n\u001b[1;32m    182\u001b[0m \u001b[38;5;124;03m    if a string, backslash escapes in it are processed.  If it is\u001b[39;00m\n\u001b[1;32m    183\u001b[0m \u001b[38;5;124;03m    a callable, it's passed the Match object and must return\u001b[39;00m\n\u001b[1;32m    184\u001b[0m \u001b[38;5;124;03m    a replacement string to be used.\"\"\"\u001b[39;00m\n\u001b[0;32m--> 185\u001b[0m     \u001b[38;5;28;01mreturn\u001b[39;00m \u001b[43m_compile\u001b[49m\u001b[43m(\u001b[49m\u001b[43mpattern\u001b[49m\u001b[43m,\u001b[49m\u001b[43m \u001b[49m\u001b[43mflags\u001b[49m\u001b[43m)\u001b[49m\u001b[38;5;241;43m.\u001b[39;49m\u001b[43msub\u001b[49m\u001b[43m(\u001b[49m\u001b[43mrepl\u001b[49m\u001b[43m,\u001b[49m\u001b[43m \u001b[49m\u001b[43mstring\u001b[49m\u001b[43m,\u001b[49m\u001b[43m \u001b[49m\u001b[43mcount\u001b[49m\u001b[43m)\u001b[49m\n",
      "\u001b[0;31mTypeError\u001b[0m: expected string or bytes-like object, got 'Series'"
     ]
    }
   ],
   "source": [
    "testDataP.loc[:,['measure1','measure2']].apply(commaToDot)"
   ]
  },
  {
   "cell_type": "markdown",
   "id": "61ed058a",
   "metadata": {},
   "source": [
    "When teh function makes changes cell by cell, you will need **applymap**:"
   ]
  },
  {
   "cell_type": "code",
   "execution_count": 105,
   "id": "4e1570f8",
   "metadata": {},
   "outputs": [
    {
     "data": {
      "text/html": [
       "<div>\n",
       "<style scoped>\n",
       "    .dataframe tbody tr th:only-of-type {\n",
       "        vertical-align: middle;\n",
       "    }\n",
       "\n",
       "    .dataframe tbody tr th {\n",
       "        vertical-align: top;\n",
       "    }\n",
       "\n",
       "    .dataframe thead th {\n",
       "        text-align: right;\n",
       "    }\n",
       "</style>\n",
       "<table border=\"1\" class=\"dataframe\">\n",
       "  <thead>\n",
       "    <tr style=\"text-align: right;\">\n",
       "      <th></th>\n",
       "      <th>measure1</th>\n",
       "      <th>measure2</th>\n",
       "    </tr>\n",
       "  </thead>\n",
       "  <tbody>\n",
       "    <tr>\n",
       "      <th>0</th>\n",
       "      <td>12.10</td>\n",
       "      <td>28.31</td>\n",
       "    </tr>\n",
       "    <tr>\n",
       "      <th>1</th>\n",
       "      <td>13.30</td>\n",
       "      <td>31.12</td>\n",
       "    </tr>\n",
       "    <tr>\n",
       "      <th>2</th>\n",
       "      <td>11.10</td>\n",
       "      <td>25.97</td>\n",
       "    </tr>\n",
       "    <tr>\n",
       "      <th>3</th>\n",
       "      <td>10.50</td>\n",
       "      <td>24.57</td>\n",
       "    </tr>\n",
       "    <tr>\n",
       "      <th>4</th>\n",
       "      <td>15.66</td>\n",
       "      <td>36.64</td>\n",
       "    </tr>\n",
       "    <tr>\n",
       "      <th>5</th>\n",
       "      <td>13.20</td>\n",
       "      <td>30.89</td>\n",
       "    </tr>\n",
       "    <tr>\n",
       "      <th>6</th>\n",
       "      <td>12.20</td>\n",
       "      <td>28.55</td>\n",
       "    </tr>\n",
       "    <tr>\n",
       "      <th>7</th>\n",
       "      <td>13.01</td>\n",
       "      <td>30.44</td>\n",
       "    </tr>\n",
       "    <tr>\n",
       "      <th>8</th>\n",
       "      <td>13.44</td>\n",
       "      <td>31.45</td>\n",
       "    </tr>\n",
       "    <tr>\n",
       "      <th>9</th>\n",
       "      <td>14.65</td>\n",
       "      <td>34.28</td>\n",
       "    </tr>\n",
       "    <tr>\n",
       "      <th>10</th>\n",
       "      <td>15.50</td>\n",
       "      <td>36.27</td>\n",
       "    </tr>\n",
       "    <tr>\n",
       "      <th>11</th>\n",
       "      <td>10.30</td>\n",
       "      <td>24.10</td>\n",
       "    </tr>\n",
       "    <tr>\n",
       "      <th>12</th>\n",
       "      <td>10.44</td>\n",
       "      <td>24.43</td>\n",
       "    </tr>\n",
       "    <tr>\n",
       "      <th>13</th>\n",
       "      <td>11.40</td>\n",
       "      <td>26.68</td>\n",
       "    </tr>\n",
       "  </tbody>\n",
       "</table>\n",
       "</div>"
      ],
      "text/plain": [
       "    measure1  measure2\n",
       "0      12.10     28.31\n",
       "1      13.30     31.12\n",
       "2      11.10     25.97\n",
       "3      10.50     24.57\n",
       "4      15.66     36.64\n",
       "5      13.20     30.89\n",
       "6      12.20     28.55\n",
       "7      13.01     30.44\n",
       "8      13.44     31.45\n",
       "9      14.65     34.28\n",
       "10     15.50     36.27\n",
       "11     10.30     24.10\n",
       "12     10.44     24.43\n",
       "13     11.40     26.68"
      ]
     },
     "execution_count": 105,
     "metadata": {},
     "output_type": "execute_result"
    }
   ],
   "source": [
    "testDataP.loc[:,['measure1','measure2']].applymap(commaToDot)"
   ]
  },
  {
   "cell_type": "code",
   "execution_count": 106,
   "id": "19b3e21c",
   "metadata": {},
   "outputs": [
    {
     "data": {
      "text/html": [
       "<div>\n",
       "<style scoped>\n",
       "    .dataframe tbody tr th:only-of-type {\n",
       "        vertical-align: middle;\n",
       "    }\n",
       "\n",
       "    .dataframe tbody tr th {\n",
       "        vertical-align: top;\n",
       "    }\n",
       "\n",
       "    .dataframe thead th {\n",
       "        text-align: right;\n",
       "    }\n",
       "</style>\n",
       "<table border=\"1\" class=\"dataframe\">\n",
       "  <thead>\n",
       "    <tr style=\"text-align: right;\">\n",
       "      <th></th>\n",
       "      <th>code</th>\n",
       "      <th>measure1</th>\n",
       "      <th>measure2</th>\n",
       "    </tr>\n",
       "  </thead>\n",
       "  <tbody>\n",
       "    <tr>\n",
       "      <th>0</th>\n",
       "      <td>a1</td>\n",
       "      <td>12,1</td>\n",
       "      <td>28,31</td>\n",
       "    </tr>\n",
       "    <tr>\n",
       "      <th>1</th>\n",
       "      <td>a2</td>\n",
       "      <td>13,3</td>\n",
       "      <td>31,12</td>\n",
       "    </tr>\n",
       "    <tr>\n",
       "      <th>2</th>\n",
       "      <td>a3</td>\n",
       "      <td>11,1</td>\n",
       "      <td>25,97</td>\n",
       "    </tr>\n",
       "    <tr>\n",
       "      <th>3</th>\n",
       "      <td>a4</td>\n",
       "      <td>10,5</td>\n",
       "      <td>24,57</td>\n",
       "    </tr>\n",
       "    <tr>\n",
       "      <th>4</th>\n",
       "      <td>a5</td>\n",
       "      <td>15,66</td>\n",
       "      <td>36,64</td>\n",
       "    </tr>\n",
       "    <tr>\n",
       "      <th>5</th>\n",
       "      <td>a6</td>\n",
       "      <td>13,2</td>\n",
       "      <td>30,89</td>\n",
       "    </tr>\n",
       "    <tr>\n",
       "      <th>6</th>\n",
       "      <td>a7</td>\n",
       "      <td>12,2</td>\n",
       "      <td>28,55</td>\n",
       "    </tr>\n",
       "    <tr>\n",
       "      <th>7</th>\n",
       "      <td>a8</td>\n",
       "      <td>13,01</td>\n",
       "      <td>30,44</td>\n",
       "    </tr>\n",
       "    <tr>\n",
       "      <th>8</th>\n",
       "      <td>a9</td>\n",
       "      <td>13,44</td>\n",
       "      <td>31,45</td>\n",
       "    </tr>\n",
       "    <tr>\n",
       "      <th>9</th>\n",
       "      <td>a10</td>\n",
       "      <td>14,65</td>\n",
       "      <td>34,28</td>\n",
       "    </tr>\n",
       "    <tr>\n",
       "      <th>10</th>\n",
       "      <td>a11</td>\n",
       "      <td>15,5</td>\n",
       "      <td>36,27</td>\n",
       "    </tr>\n",
       "    <tr>\n",
       "      <th>11</th>\n",
       "      <td>a12</td>\n",
       "      <td>10,3</td>\n",
       "      <td>24,1</td>\n",
       "    </tr>\n",
       "    <tr>\n",
       "      <th>12</th>\n",
       "      <td>a13</td>\n",
       "      <td>10,44</td>\n",
       "      <td>24,43</td>\n",
       "    </tr>\n",
       "    <tr>\n",
       "      <th>13</th>\n",
       "      <td>a14</td>\n",
       "      <td>11,4</td>\n",
       "      <td>26,68</td>\n",
       "    </tr>\n",
       "  </tbody>\n",
       "</table>\n",
       "</div>"
      ],
      "text/plain": [
       "   code measure1 measure2\n",
       "0    a1     12,1    28,31\n",
       "1    a2     13,3    31,12\n",
       "2    a3     11,1    25,97\n",
       "3    a4     10,5    24,57\n",
       "4    a5    15,66    36,64\n",
       "5    a6     13,2    30,89\n",
       "6    a7     12,2    28,55\n",
       "7    a8    13,01    30,44\n",
       "8    a9    13,44    31,45\n",
       "9   a10    14,65    34,28\n",
       "10  a11     15,5    36,27\n",
       "11  a12     10,3     24,1\n",
       "12  a13    10,44    24,43\n",
       "13  a14     11,4    26,68"
      ]
     },
     "execution_count": 106,
     "metadata": {},
     "output_type": "execute_result"
    }
   ],
   "source": [
    "# notice no changes yet:\n",
    "testDataP"
   ]
  },
  {
   "cell_type": "code",
   "execution_count": 107,
   "id": "9477b0ce",
   "metadata": {},
   "outputs": [
    {
     "data": {
      "text/html": [
       "<div>\n",
       "<style scoped>\n",
       "    .dataframe tbody tr th:only-of-type {\n",
       "        vertical-align: middle;\n",
       "    }\n",
       "\n",
       "    .dataframe tbody tr th {\n",
       "        vertical-align: top;\n",
       "    }\n",
       "\n",
       "    .dataframe thead th {\n",
       "        text-align: right;\n",
       "    }\n",
       "</style>\n",
       "<table border=\"1\" class=\"dataframe\">\n",
       "  <thead>\n",
       "    <tr style=\"text-align: right;\">\n",
       "      <th></th>\n",
       "      <th>code</th>\n",
       "      <th>measure1</th>\n",
       "      <th>measure2</th>\n",
       "    </tr>\n",
       "  </thead>\n",
       "  <tbody>\n",
       "    <tr>\n",
       "      <th>0</th>\n",
       "      <td>a1</td>\n",
       "      <td>12.1</td>\n",
       "      <td>28.31</td>\n",
       "    </tr>\n",
       "    <tr>\n",
       "      <th>1</th>\n",
       "      <td>a2</td>\n",
       "      <td>13.3</td>\n",
       "      <td>31.12</td>\n",
       "    </tr>\n",
       "    <tr>\n",
       "      <th>2</th>\n",
       "      <td>a3</td>\n",
       "      <td>11.1</td>\n",
       "      <td>25.97</td>\n",
       "    </tr>\n",
       "    <tr>\n",
       "      <th>3</th>\n",
       "      <td>a4</td>\n",
       "      <td>10.5</td>\n",
       "      <td>24.57</td>\n",
       "    </tr>\n",
       "    <tr>\n",
       "      <th>4</th>\n",
       "      <td>a5</td>\n",
       "      <td>15.66</td>\n",
       "      <td>36.64</td>\n",
       "    </tr>\n",
       "    <tr>\n",
       "      <th>5</th>\n",
       "      <td>a6</td>\n",
       "      <td>13.2</td>\n",
       "      <td>30.89</td>\n",
       "    </tr>\n",
       "    <tr>\n",
       "      <th>6</th>\n",
       "      <td>a7</td>\n",
       "      <td>12.2</td>\n",
       "      <td>28.55</td>\n",
       "    </tr>\n",
       "    <tr>\n",
       "      <th>7</th>\n",
       "      <td>a8</td>\n",
       "      <td>13.01</td>\n",
       "      <td>30.44</td>\n",
       "    </tr>\n",
       "    <tr>\n",
       "      <th>8</th>\n",
       "      <td>a9</td>\n",
       "      <td>13.44</td>\n",
       "      <td>31.45</td>\n",
       "    </tr>\n",
       "    <tr>\n",
       "      <th>9</th>\n",
       "      <td>a10</td>\n",
       "      <td>14.65</td>\n",
       "      <td>34.28</td>\n",
       "    </tr>\n",
       "    <tr>\n",
       "      <th>10</th>\n",
       "      <td>a11</td>\n",
       "      <td>15.5</td>\n",
       "      <td>36.27</td>\n",
       "    </tr>\n",
       "    <tr>\n",
       "      <th>11</th>\n",
       "      <td>a12</td>\n",
       "      <td>10.3</td>\n",
       "      <td>24.1</td>\n",
       "    </tr>\n",
       "    <tr>\n",
       "      <th>12</th>\n",
       "      <td>a13</td>\n",
       "      <td>10.44</td>\n",
       "      <td>24.43</td>\n",
       "    </tr>\n",
       "    <tr>\n",
       "      <th>13</th>\n",
       "      <td>a14</td>\n",
       "      <td>11.4</td>\n",
       "      <td>26.68</td>\n",
       "    </tr>\n",
       "  </tbody>\n",
       "</table>\n",
       "</div>"
      ],
      "text/plain": [
       "   code measure1 measure2\n",
       "0    a1     12.1    28.31\n",
       "1    a2     13.3    31.12\n",
       "2    a3     11.1    25.97\n",
       "3    a4     10.5    24.57\n",
       "4    a5    15.66    36.64\n",
       "5    a6     13.2    30.89\n",
       "6    a7     12.2    28.55\n",
       "7    a8    13.01    30.44\n",
       "8    a9    13.44    31.45\n",
       "9   a10    14.65    34.28\n",
       "10  a11     15.5    36.27\n",
       "11  a12     10.3     24.1\n",
       "12  a13    10.44    24.43\n",
       "13  a14     11.4    26.68"
      ]
     },
     "execution_count": 107,
     "metadata": {},
     "output_type": "execute_result"
    }
   ],
   "source": [
    "# now:\n",
    "testDataP.loc[:,['measure1','measure2']]=testDataP.loc[:,['measure1','measure2']].applymap(commaToDot)\n",
    "testDataP"
   ]
  },
  {
   "cell_type": "markdown",
   "id": "a706635e",
   "metadata": {},
   "source": [
    "It would be similar in R:"
   ]
  },
  {
   "cell_type": "code",
   "execution_count": 115,
   "id": "175e1a23",
   "metadata": {},
   "outputs": [
    {
     "name": "stdout",
     "output_type": "stream",
     "text": [
      "   code measure1 measure2\n",
      "1    a1     12,1    28,31\n",
      "2    a2     13,3    31,12\n",
      "3    a3     11,1    25,97\n",
      "4    a4     10,5    24,57\n",
      "5    a5    15,66    36,64\n",
      "6    a6     13,2    30,89\n",
      "7    a7     12,2    28,55\n",
      "8    a8    13,01    30,44\n",
      "9    a9    13,44    31,45\n",
      "10  a10    14,65    34,28\n",
      "11  a11     15,5    36,27\n",
      "12  a12     10,3     24,1\n",
      "13  a13    10,44    24,43\n",
      "14  a14     11,4    26,68\n"
     ]
    }
   ],
   "source": [
    "%%R\n",
    "linkGH=\"https://github.com/CienciaDeDatosEspacial/code_and_data/raw/main/data/dataFrame_example.csv\"\n",
    "testDataR=read.csv(linkGH)\n",
    "testDataR"
   ]
  },
  {
   "cell_type": "code",
   "execution_count": 109,
   "id": "891dc05a",
   "metadata": {},
   "outputs": [
    {
     "name": "stdout",
     "output_type": "stream",
     "text": [
      "'data.frame':\t14 obs. of  3 variables:\n",
      " $ code    : chr  \"a1\" \"a2\" \"a3\" \"a4\" ...\n",
      " $ measure1: chr  \"12,1\" \"13,3\" \"11,1\" \"10,5\" ...\n",
      " $ measure2: chr  \"28,31\" \"31,12\" \"25,97\" \"24,57\" ...\n"
     ]
    }
   ],
   "source": [
    "%%R\n",
    "str(testDataR)"
   ]
  },
  {
   "cell_type": "code",
   "execution_count": 110,
   "id": "d462eee6",
   "metadata": {},
   "outputs": [],
   "source": [
    "%%R\n",
    "commaToDot=function(some_String){\n",
    "some_String_changed=gsub(\",\",\".\",some_String)\n",
    "someNumber=as.numeric(some_String_changed)\n",
    "return (someNumber)\n",
    "}"
   ]
  },
  {
   "cell_type": "code",
   "execution_count": 111,
   "id": "d36fb9b4",
   "metadata": {},
   "outputs": [
    {
     "name": "stdout",
     "output_type": "stream",
     "text": [
      " [1] 12.10 13.30 11.10 10.50 15.66 13.20 12.20 13.01 13.44 14.65 15.50 10.30\n",
      "[13] 10.44 11.40\n"
     ]
    }
   ],
   "source": [
    "%%R\n",
    "commaToDot(testDataR$measure1)"
   ]
  },
  {
   "cell_type": "markdown",
   "id": "f8682529",
   "metadata": {},
   "source": [
    "This will not work:"
   ]
  },
  {
   "cell_type": "code",
   "execution_count": 112,
   "id": "aafabb1b",
   "metadata": {},
   "outputs": [
    {
     "name": "stdout",
     "output_type": "stream",
     "text": [
      "[1] NA NA\n"
     ]
    }
   ],
   "source": [
    "%%R\n",
    "commaToDot(testDataR[,c('measure1','measure2')])"
   ]
  },
  {
   "cell_type": "markdown",
   "id": "86d8b0df",
   "metadata": {},
   "source": [
    "You may need **lapply**:"
   ]
  },
  {
   "cell_type": "code",
   "execution_count": 113,
   "id": "0743bddc",
   "metadata": {},
   "outputs": [
    {
     "name": "stdout",
     "output_type": "stream",
     "text": [
      "$measure1\n",
      " [1] 12.10 13.30 11.10 10.50 15.66 13.20 12.20 13.01 13.44 14.65 15.50 10.30\n",
      "[13] 10.44 11.40\n",
      "\n",
      "$measure2\n",
      " [1] 28.31 31.12 25.97 24.57 36.64 30.89 28.55 30.44 31.45 34.28 36.27 24.10\n",
      "[13] 24.43 26.68\n",
      "\n"
     ]
    }
   ],
   "source": [
    "%%R\n",
    "\n",
    "lapply(testDataR[,c('measure1','measure2')],commaToDot)"
   ]
  },
  {
   "cell_type": "code",
   "execution_count": 116,
   "id": "9ec73e05",
   "metadata": {},
   "outputs": [
    {
     "name": "stdout",
     "output_type": "stream",
     "text": [
      "   code measure1 measure2\n",
      "1    a1     12,1    28,31\n",
      "2    a2     13,3    31,12\n",
      "3    a3     11,1    25,97\n",
      "4    a4     10,5    24,57\n",
      "5    a5    15,66    36,64\n",
      "6    a6     13,2    30,89\n",
      "7    a7     12,2    28,55\n",
      "8    a8    13,01    30,44\n",
      "9    a9    13,44    31,45\n",
      "10  a10    14,65    34,28\n",
      "11  a11     15,5    36,27\n",
      "12  a12     10,3     24,1\n",
      "13  a13    10,44    24,43\n",
      "14  a14     11,4    26,68\n"
     ]
    }
   ],
   "source": [
    "%%R\n",
    "# no changes\n",
    "testDataR"
   ]
  },
  {
   "cell_type": "code",
   "execution_count": null,
   "id": "453aab7d",
   "metadata": {},
   "outputs": [],
   "source": []
  }
 ],
 "metadata": {
  "kernelspec": {
   "display_name": "Python 3 (ipykernel)",
   "language": "python",
   "name": "python3"
  },
  "language_info": {
   "codemirror_mode": {
    "name": "ipython",
    "version": 3
   },
   "file_extension": ".py",
   "mimetype": "text/x-python",
   "name": "python",
   "nbconvert_exporter": "python",
   "pygments_lexer": "ipython3",
   "version": "3.11.0"
  }
 },
 "nbformat": 4,
 "nbformat_minor": 5
}
