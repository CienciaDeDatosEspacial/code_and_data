{
 "cells": [
  {
   "cell_type": "markdown",
   "id": "402943b1",
   "metadata": {},
   "source": [
    "# Formatting Data (geometry)\n",
    "\n",
    "\n",
    "Working with maps requires that we pay close attention to the operations we can do with the geometries the map presents.\n",
    "\n",
    "Let's see this geojson file (vector) using **[geopandas](https://geopandas.org/en/stable/getting_started/install.html)**:"
   ]
  },
  {
   "cell_type": "code",
   "execution_count": null,
   "id": "e722d663",
   "metadata": {},
   "outputs": [],
   "source": [
    "import geopandas as gpd\n",
    "\n",
    "theMapFile=\"https://github.com/CienciaDeDatosEspacial/mapFiles/raw/main/MapSeattle.geojson\"\n",
    "\n",
    "seattleMap=gpd.read_file(theMapFile)"
   ]
  },
  {
   "cell_type": "code",
   "execution_count": null,
   "id": "1b354c08",
   "metadata": {},
   "outputs": [],
   "source": [
    "# verify type\n",
    "type(seattleMap)"
   ]
  },
  {
   "cell_type": "code",
   "execution_count": null,
   "id": "6039f8d2",
   "metadata": {},
   "outputs": [],
   "source": [
    "# looks like a data frame:\n",
    "seattleMap.head()"
   ]
  },
  {
   "cell_type": "markdown",
   "id": "4d3f1438",
   "metadata": {},
   "source": [
    "This kind of data structure has a column named geometry."
   ]
  },
  {
   "cell_type": "code",
   "execution_count": null,
   "id": "404d4103",
   "metadata": {
    "scrolled": true
   },
   "outputs": [],
   "source": [
    "# visual representation\n",
    "seattleMap.plot();"
   ]
  },
  {
   "cell_type": "markdown",
   "id": "32b8d0c9",
   "metadata": {},
   "source": [
    "Once you have a map, your main concern should be detect the information on its coordinate system:"
   ]
  },
  {
   "cell_type": "code",
   "execution_count": null,
   "id": "de718dfc",
   "metadata": {},
   "outputs": [],
   "source": [
    "seattleMap.crs.to_epsg()"
   ]
  },
  {
   "cell_type": "code",
   "execution_count": null,
   "id": "9c941760",
   "metadata": {},
   "outputs": [],
   "source": [
    "# more detailed\n",
    "seattleMap.crs"
   ]
  },
  {
   "cell_type": "markdown",
   "id": "ff5e5a11",
   "metadata": {},
   "source": [
    "It is always good to know the bounding box:"
   ]
  },
  {
   "cell_type": "code",
   "execution_count": null,
   "id": "f50e6585",
   "metadata": {},
   "outputs": [],
   "source": [
    "seattleMap.total_bounds"
   ]
  },
  {
   "cell_type": "markdown",
   "id": "2bea9006",
   "metadata": {},
   "source": [
    "Let me save the current map  as a _geopackage_:"
   ]
  },
  {
   "cell_type": "code",
   "execution_count": null,
   "id": "5e5b2974",
   "metadata": {},
   "outputs": [],
   "source": [
    "import os\n",
    "\n",
    "seattleMap.to_file(os.path.join(\"maps\",\"seattle.gpkg\"), layer='tracts', driver=\"GPKG\")"
   ]
  },
  {
   "cell_type": "markdown",
   "id": "faf524a8",
   "metadata": {},
   "source": [
    "Remember some operations can not work properly with the current projection (geodetic - in degrees):"
   ]
  },
  {
   "cell_type": "code",
   "execution_count": null,
   "id": "f53ea3ea",
   "metadata": {},
   "outputs": [],
   "source": [
    "# perimeter:\n",
    "seattleMap.length"
   ]
  },
  {
   "cell_type": "markdown",
   "id": "f75911a0",
   "metadata": {},
   "source": [
    "Let's use a planar projection (reproject the map):"
   ]
  },
  {
   "cell_type": "code",
   "execution_count": null,
   "id": "b49bb64f",
   "metadata": {},
   "outputs": [],
   "source": [
    "seattleMap.to_crs(3857).crs"
   ]
  },
  {
   "cell_type": "markdown",
   "id": "c07530a5",
   "metadata": {},
   "source": [
    "Then:"
   ]
  },
  {
   "cell_type": "code",
   "execution_count": null,
   "id": "77ef59f7",
   "metadata": {},
   "outputs": [],
   "source": [
    "seattleMap.to_crs(3857).length"
   ]
  },
  {
   "cell_type": "code",
   "execution_count": null,
   "id": "cf0594dd",
   "metadata": {},
   "outputs": [],
   "source": [
    "seattleMap.to_crs(3857).plot()"
   ]
  },
  {
   "cell_type": "markdown",
   "id": "514876c8",
   "metadata": {},
   "source": [
    "Let me bring back a pandas data frame:"
   ]
  },
  {
   "cell_type": "code",
   "execution_count": null,
   "id": "75f3c948",
   "metadata": {},
   "outputs": [],
   "source": [
    "import pandas as pd\n",
    "\n",
    "fileLink='https://github.com/CienciaDeDatosEspacial/code_and_data/raw/main/data/calls911.pkl'\n",
    "\n",
    "calls911=pd.read_pickle(fileLink)\n",
    "\n",
    "calls911.head()"
   ]
  },
  {
   "cell_type": "code",
   "execution_count": null,
   "id": "35845e5c",
   "metadata": {},
   "outputs": [],
   "source": [
    "type(calls911)"
   ]
  },
  {
   "cell_type": "markdown",
   "id": "d2853c21",
   "metadata": {},
   "source": [
    "You may need to plot these points (events) on top of the our map. As the [documentation informs](https://dev.socrata.com/docs/datatypes/point.html#,), the lat/lon is already in WGS84. Let me keep the non-missing rows:"
   ]
  },
  {
   "cell_type": "code",
   "execution_count": null,
   "id": "4aa699c3",
   "metadata": {},
   "outputs": [],
   "source": [
    "calls911=calls911[~calls911['report_location'].isna()]"
   ]
  },
  {
   "cell_type": "code",
   "execution_count": null,
   "id": "4cc593e1",
   "metadata": {},
   "outputs": [],
   "source": [
    "#check format\n",
    "calls911.info()"
   ]
  },
  {
   "cell_type": "markdown",
   "id": "b29d73c0",
   "metadata": {},
   "source": [
    "Let's plot the coordinates:"
   ]
  },
  {
   "cell_type": "code",
   "execution_count": null,
   "id": "892223f1",
   "metadata": {},
   "outputs": [],
   "source": [
    "calls911.plot.scatter(x = 'longitude', y = 'latitude')"
   ]
  },
  {
   "cell_type": "markdown",
   "id": "edcfba29",
   "metadata": {},
   "source": [
    "This scatter plot does not seem right, but it will look better when combined with a base map:"
   ]
  },
  {
   "cell_type": "code",
   "execution_count": null,
   "id": "cd3e2ca9",
   "metadata": {},
   "outputs": [],
   "source": [
    "base = seattleMap.plot(color='white', edgecolor='black')\n",
    "\n",
    "calls911.plot.scatter(x = 'longitude', y = 'latitude',ax=base)"
   ]
  },
  {
   "cell_type": "markdown",
   "id": "102621e6",
   "metadata": {},
   "source": [
    "However, changing the coordinate system will not give a good result: "
   ]
  },
  {
   "cell_type": "code",
   "execution_count": null,
   "id": "b359494d",
   "metadata": {},
   "outputs": [],
   "source": [
    "base = seattleMap.to_crs(3857).plot(color='white', edgecolor='black')\n",
    "\n",
    "calls911.plot.scatter(x = 'longitude', y = 'latitude',ax=base)"
   ]
  },
  {
   "cell_type": "markdown",
   "id": "1008a3d2",
   "metadata": {},
   "source": [
    "Since **calls911** is not a geodataframe, we can not reproject the data:"
   ]
  },
  {
   "cell_type": "code",
   "execution_count": null,
   "id": "0c72cf17",
   "metadata": {},
   "outputs": [],
   "source": [
    "# base = seattleMapBorder.to_crs(3857).plot(color='white', edgecolor='black')\n",
    "\n",
    "# calls911.to_crs(3857).plot.scatter(x = 'longitude', y = 'latitude',ax=base)"
   ]
  },
  {
   "cell_type": "markdown",
   "id": "93767e7b",
   "metadata": {},
   "source": [
    "The solution is to format the **calls911** intoa geodataframe:"
   ]
  },
  {
   "cell_type": "code",
   "execution_count": null,
   "id": "bf36e2c7",
   "metadata": {},
   "outputs": [],
   "source": [
    "# step one: create the geometry column:\n",
    "\n",
    "from shapely.geometry import Point\n",
    "\n",
    "calls911['report_location']=gpd.GeoSeries([Point(point['coordinates']) for point in calls911['report_location']],\n",
    "                                   crs=str(seattleMap.crs.to_epsg()))"
   ]
  },
  {
   "cell_type": "code",
   "execution_count": null,
   "id": "9126d112",
   "metadata": {},
   "outputs": [],
   "source": [
    "# step two: create the geodataframe\n",
    "calls911_gdf = gpd.GeoDataFrame(calls911, #pandas dataframe\n",
    "                               geometry='report_location') # the previous step\n",
    "\n",
    "# see\n",
    "\n",
    "calls911_gdf.head()"
   ]
  },
  {
   "cell_type": "code",
   "execution_count": null,
   "id": "ea459d45",
   "metadata": {},
   "outputs": [],
   "source": [
    "# see\n",
    "calls911_gdf.info()"
   ]
  },
  {
   "cell_type": "markdown",
   "id": "d68b1893",
   "metadata": {},
   "source": [
    "Let's plot both:"
   ]
  },
  {
   "cell_type": "code",
   "execution_count": null,
   "id": "817a2198",
   "metadata": {},
   "outputs": [],
   "source": [
    "base = seattleMap.plot(color='white', edgecolor='black')\n",
    "\n",
    "calls911_gdf.plot(ax=base)"
   ]
  },
  {
   "cell_type": "markdown",
   "id": "bff4e944",
   "metadata": {},
   "source": [
    "The previous result confirms they have the same coordinate system:"
   ]
  },
  {
   "cell_type": "code",
   "execution_count": null,
   "id": "b683bda8",
   "metadata": {},
   "outputs": [],
   "source": [
    "calls911_gdf.crs"
   ]
  },
  {
   "cell_type": "markdown",
   "id": "c8d080b9",
   "metadata": {},
   "source": [
    "You can reproject both:"
   ]
  },
  {
   "cell_type": "code",
   "execution_count": null,
   "id": "25056b14",
   "metadata": {},
   "outputs": [],
   "source": [
    "base = seattleMap.to_crs(3857).plot(color='white', edgecolor='black')\n",
    "\n",
    "calls911_gdf.to_crs(3857).plot(ax=base)"
   ]
  },
  {
   "cell_type": "markdown",
   "id": "4a4b4812",
   "metadata": {},
   "source": [
    "You can use the lon/lat information instead:"
   ]
  },
  {
   "cell_type": "code",
   "execution_count": null,
   "id": "52829e1f",
   "metadata": {},
   "outputs": [],
   "source": [
    "pointsAsGeometry=gpd.points_from_xy(calls911.longitude,\n",
    "                                    calls911.latitude,crs=\"4326\")\n",
    "\n",
    "calls911_gdf2= gpd.GeoDataFrame(calls911.drop(columns='report_location'),\n",
    "                                geometry=pointsAsGeometry)\n",
    "\n",
    "# check:\n",
    "\n",
    "calls911_gdf2.crs"
   ]
  },
  {
   "cell_type": "markdown",
   "id": "d6bcec7e",
   "metadata": {},
   "source": [
    "Let's redo the previous _failed_ plot:"
   ]
  },
  {
   "cell_type": "code",
   "execution_count": null,
   "id": "7202e215",
   "metadata": {},
   "outputs": [],
   "source": [
    "base = seattleMap.to_crs(3857).plot(color='white', edgecolor='black')\n",
    "\n",
    "calls911_gdf2.to_crs(3857).plot(ax=base)"
   ]
  },
  {
   "cell_type": "markdown",
   "id": "883b0a79",
   "metadata": {},
   "source": [
    "What if some points are outside the map?\n",
    "\n",
    "It might mean a 911 call was done outside the city limits. If you wished to subset the events to the **bounding box**, you can clip:"
   ]
  },
  {
   "cell_type": "code",
   "execution_count": null,
   "id": "f23fe817",
   "metadata": {},
   "outputs": [],
   "source": [
    "calls911_gdf_clipped = gpd.clip(gdf=calls911_gdf,\n",
    "                               mask=seattleMap)\n",
    "\n",
    "###\n",
    "\n",
    "base = seattleMap.plot(color='white', edgecolor='black')\n",
    "\n",
    "calls911_gdf_clipped.plot(ax=base,\n",
    "                         color='red',\n",
    "                         markersize=0.5)"
   ]
  },
  {
   "cell_type": "markdown",
   "id": "a7dc92e1",
   "metadata": {},
   "source": [
    "We could save this spatial points in our Seattle package, but there is one problem: you can not save **datetime** data type "
   ]
  },
  {
   "cell_type": "code",
   "execution_count": null,
   "id": "93b54133",
   "metadata": {},
   "outputs": [],
   "source": [
    "calls911_gdf.datetime[0]"
   ]
  },
  {
   "cell_type": "code",
   "execution_count": null,
   "id": "b02326b4",
   "metadata": {},
   "outputs": [],
   "source": [
    "calls911_gdf.date[0]"
   ]
  },
  {
   "cell_type": "markdown",
   "id": "72da6746",
   "metadata": {},
   "source": [
    "We can format those values back to strings:"
   ]
  },
  {
   "cell_type": "code",
   "execution_count": null,
   "id": "b8787159",
   "metadata": {},
   "outputs": [],
   "source": [
    "calls911_gdf[['datetime','date']]=calls911_gdf[['datetime','date']].apply(lambda x:x.astype(str))"
   ]
  },
  {
   "cell_type": "code",
   "execution_count": null,
   "id": "14828f4f",
   "metadata": {},
   "outputs": [],
   "source": [
    "# check\n",
    "calls911_gdf.info()"
   ]
  },
  {
   "cell_type": "markdown",
   "id": "492a0215",
   "metadata": {},
   "source": [
    "Let's create a new geopackage file:"
   ]
  },
  {
   "cell_type": "code",
   "execution_count": null,
   "id": "5fa2aaab",
   "metadata": {},
   "outputs": [],
   "source": [
    "whereGeo=os.path.join(\"maps\",\"seattlePolyPoints.gpkg\")\n",
    "calls911_gdf.to_file(whereGeo, layer='calls', driver=\"GPKG\")"
   ]
  },
  {
   "cell_type": "markdown",
   "id": "4551e2f5",
   "metadata": {},
   "source": [
    "Let me retrieve this map from its location in GitHub:"
   ]
  },
  {
   "cell_type": "code",
   "execution_count": null,
   "id": "d65066ef",
   "metadata": {},
   "outputs": [],
   "source": [
    "# layers in the gpkg\n",
    "import fiona\n",
    "\n",
    "fileGPKG='https://github.com/CienciaDeDatosEspacial/code_and_data/raw/main/maps/seattle.gpkg'\n",
    "\n",
    "#verify the layers present:\n",
    "fiona.listlayers(fileGPKG)\n"
   ]
  },
  {
   "cell_type": "code",
   "execution_count": null,
   "id": "d9ba361c",
   "metadata": {},
   "outputs": [],
   "source": [
    "gpd.read_file(linkGeoSeattle, layer='calls').plot()"
   ]
  },
  {
   "cell_type": "markdown",
   "id": "c9f4dd04",
   "metadata": {},
   "source": [
    "Exercise:\n",
    "\n",
    "Replicate this material. Get a polygons map of any country/city in the world, and also a points map of the same place. Use this [guide](https://geopandas.org/en/stable/docs/user_guide/io.html) to know how to open and use the files you find."
   ]
  }
 ],
 "metadata": {
  "kernelspec": {
   "display_name": "Python 3 (ipykernel)",
   "language": "python",
   "name": "python3"
  },
  "language_info": {
   "codemirror_mode": {
    "name": "ipython",
    "version": 3
   },
   "file_extension": ".py",
   "mimetype": "text/x-python",
   "name": "python",
   "nbconvert_exporter": "python",
   "pygments_lexer": "ipython3",
   "version": "3.11.0"
  }
 },
 "nbformat": 4,
 "nbformat_minor": 5
}
